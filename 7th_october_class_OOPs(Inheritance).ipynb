{
  "nbformat": 4,
  "nbformat_minor": 0,
  "metadata": {
    "colab": {
      "provenance": [],
      "authorship_tag": "ABX9TyP/Uh4sylng8g1nuHXTfefU",
      "include_colab_link": true
    },
    "kernelspec": {
      "name": "python3",
      "display_name": "Python 3"
    },
    "language_info": {
      "name": "python"
    }
  },
  "cells": [
    {
      "cell_type": "markdown",
      "metadata": {
        "id": "view-in-github",
        "colab_type": "text"
      },
      "source": [
        "<a href=\"https://colab.research.google.com/github/Navya-0/full_stack_data_science/blob/main/7th_october_class_OOPs(Inheritance).ipynb\" target=\"_parent\"><img src=\"https://colab.research.google.com/assets/colab-badge.svg\" alt=\"Open In Colab\"/></a>"
      ]
    },
    {
      "cell_type": "code",
      "execution_count": 3,
      "metadata": {
        "id": "efZmwbl8Ta29"
      },
      "outputs": [],
      "source": [
        "class a:\n",
        "\n",
        "  def test(self):\n",
        "    print(\"this test method is a part of class a\")"
      ]
    },
    {
      "cell_type": "code",
      "source": [
        "obj= a()\n",
        "obj.test()"
      ],
      "metadata": {
        "colab": {
          "base_uri": "https://localhost:8080/"
        },
        "id": "XUyy0SY7TcvF",
        "outputId": "a82f4aa7-c933-4caf-9081-04eed2973d01"
      },
      "execution_count": 4,
      "outputs": [
        {
          "output_type": "stream",
          "name": "stdout",
          "text": [
            "this test method is a part of class a\n"
          ]
        }
      ]
    },
    {
      "cell_type": "code",
      "source": [
        "class b(a): # rewrite same piece of code of class a, inheritance comes into play\n",
        "  def test1b(self):\n",
        "    print(\"this is b\")\n"
      ],
      "metadata": {
        "id": "McD2hkLmTcyS"
      },
      "execution_count": 6,
      "outputs": []
    },
    {
      "cell_type": "code",
      "source": [
        "obj_b=b()"
      ],
      "metadata": {
        "id": "4lqXRUs5Tc0-"
      },
      "execution_count": 7,
      "outputs": []
    },
    {
      "cell_type": "code",
      "source": [
        "obj_b.test()"
      ],
      "metadata": {
        "colab": {
          "base_uri": "https://localhost:8080/"
        },
        "id": "e72kW3-HTc5J",
        "outputId": "4ed7bce1-3e68-40d7-c27d-093ccd948c28"
      },
      "execution_count": 8,
      "outputs": [
        {
          "output_type": "stream",
          "name": "stdout",
          "text": [
            "this test method is a part of class a\n"
          ]
        }
      ]
    },
    {
      "cell_type": "code",
      "source": [
        "obj_b.test1b()"
      ],
      "metadata": {
        "colab": {
          "base_uri": "https://localhost:8080/"
        },
        "id": "ABAsRzOFTc7c",
        "outputId": "96e49a52-88a5-4ee4-bd0e-e11489c48519"
      },
      "execution_count": 9,
      "outputs": [
        {
          "output_type": "stream",
          "name": "stdout",
          "text": [
            "this is b\n"
          ]
        }
      ]
    },
    {
      "cell_type": "code",
      "source": [
        "class lecture:\n",
        "  def topic(self):\n",
        "    print(\"todays class is about inheritance\")\n",
        "\n",
        "  def timing(self):\n",
        "    print(\"todays class is at 9 am\")\n",
        "\n",
        "  def end_time(self):\n",
        "    print(\"we'll end a bit early today\")\n",
        ""
      ],
      "metadata": {
        "id": "JLlrp6tWUsf5"
      },
      "execution_count": 10,
      "outputs": []
    },
    {
      "cell_type": "code",
      "source": [
        "class student(lecture):\n",
        "\n",
        "  def student_details(self):\n",
        "    print(\"this class gives students details\")"
      ],
      "metadata": {
        "id": "7v7Qb3E6U-s8"
      },
      "execution_count": 12,
      "outputs": []
    },
    {
      "cell_type": "code",
      "source": [
        "navya= student()"
      ],
      "metadata": {
        "id": "k8pJa3sVU-wg"
      },
      "execution_count": 13,
      "outputs": []
    },
    {
      "cell_type": "code",
      "source": [
        "navya.topic()"
      ],
      "metadata": {
        "colab": {
          "base_uri": "https://localhost:8080/"
        },
        "id": "rNdmDLO5U-zk",
        "outputId": "cfdadcae-2a94-45d0-c9f9-a5abd854e897"
      },
      "execution_count": 14,
      "outputs": [
        {
          "output_type": "stream",
          "name": "stdout",
          "text": [
            "todays class is about inheritance\n"
          ]
        }
      ]
    },
    {
      "cell_type": "code",
      "source": [
        "kavya= student()\n",
        "kavya.end_time()"
      ],
      "metadata": {
        "colab": {
          "base_uri": "https://localhost:8080/"
        },
        "id": "fggVJNPiWRLl",
        "outputId": "1c3a91a8-98ae-4a6e-9d0d-39498838aaea"
      },
      "execution_count": 15,
      "outputs": [
        {
          "output_type": "stream",
          "name": "stdout",
          "text": [
            "we'll end a bit early today\n"
          ]
        }
      ]
    },
    {
      "cell_type": "code",
      "source": [
        "class teacher(student): # we want to have the methods of both student and lecture class, so we inherit student class whic is alreday inherited byfrom lecture class\n",
        "  def details(self):\n",
        "    print(\"gives details about the teacher\")"
      ],
      "metadata": {
        "id": "9OOLjlm1WaGy"
      },
      "execution_count": 16,
      "outputs": []
    },
    {
      "cell_type": "code",
      "source": [
        "tr= teacher()\n",
        "tr.timing()"
      ],
      "metadata": {
        "colab": {
          "base_uri": "https://localhost:8080/"
        },
        "id": "JxFlwr9bXzYR",
        "outputId": "a5bb4208-6589-4d5b-eee8-9f6dee9d7b10"
      },
      "execution_count": 17,
      "outputs": [
        {
          "output_type": "stream",
          "name": "stdout",
          "text": [
            "todays class is at 9 am\n"
          ]
        }
      ]
    },
    {
      "cell_type": "code",
      "source": [
        "class lecture:\n",
        "  def topic(self):\n",
        "    print(\"todays class is about inheritance\")\n",
        "\n",
        "  def timing(self):\n",
        "    print(\"todays class is at 9 am\")\n",
        "\n",
        "  def end_time(self):\n",
        "    print(\"we'll end a bit early today\")\n",
        ""
      ],
      "metadata": {
        "id": "giKq--teX3tV"
      },
      "execution_count": 27,
      "outputs": []
    },
    {
      "cell_type": "code",
      "source": [
        "class student(lecture):\n",
        "\n",
        "  def student_details(self):\n",
        "    print(\"this class gives students details\")\n",
        "\n",
        "  def timing(self):\n",
        "    print(\"this is timing of student class\")"
      ],
      "metadata": {
        "id": "OGh5IfChY7e_"
      },
      "execution_count": 28,
      "outputs": []
    },
    {
      "cell_type": "code",
      "source": [
        "class teacher(student,lecture): # we want to have the methods of both student and lecture class, so we inherit student class whic is alreday inherited byfrom lecture class\n",
        "  def details(self):\n",
        "    print(\"gives details about the teacher\")"
      ],
      "metadata": {
        "id": "lRbByrJUY7hh"
      },
      "execution_count": 29,
      "outputs": []
    },
    {
      "cell_type": "code",
      "source": [
        "krish= teacher()"
      ],
      "metadata": {
        "id": "nVJpSSyvY7k4"
      },
      "execution_count": 30,
      "outputs": []
    },
    {
      "cell_type": "code",
      "source": [
        "krish.timing()"
      ],
      "metadata": {
        "colab": {
          "base_uri": "https://localhost:8080/"
        },
        "id": "SS-VJgRIZM5G",
        "outputId": "a7338210-f5b3-4015-a16b-a8e58f50ffd4"
      },
      "execution_count": 31,
      "outputs": [
        {
          "output_type": "stream",
          "name": "stdout",
          "text": [
            "this is timing of student class\n"
          ]
        }
      ]
    },
    {
      "cell_type": "code",
      "source": [
        "krish.topic()"
      ],
      "metadata": {
        "colab": {
          "base_uri": "https://localhost:8080/"
        },
        "id": "cfLpIgGgZQxU",
        "outputId": "dd0f23c8-17d8-4f65-9156-4e8090635bc7"
      },
      "execution_count": 23,
      "outputs": [
        {
          "output_type": "stream",
          "name": "stdout",
          "text": [
            "todays class is about inheritance\n"
          ]
        }
      ]
    },
    {
      "cell_type": "code",
      "source": [
        "class lecture:# concept of ordering\n",
        "  def topic(self):\n",
        "    print(\"todays class is about inheritance\")\n",
        "\n",
        "  def timing(self):\n",
        "    print(\"todays class is at 9 am\")\n",
        "\n",
        "  def end_time(self):\n",
        "    print(\"we'll end a bit early today\")\n",
        "\n",
        "class student:\n",
        "\n",
        "  def student_details(self):\n",
        "    print(\"this class gives students details\")\n",
        "\n",
        "  def timing(self):\n",
        "    print(\"this is timing of student class\")\n",
        "\n",
        "class teacher(student,lecture): # we want to have the methods of both student and lecture class, so we inherit student class whic is alreday inherited byfrom lecture class\n",
        "  def details(self):\n",
        "    print(\"gives details about the teacher\")\n",
        "\n",
        "obj_tr=teacher()\n",
        "obj_tr.timing()"
      ],
      "metadata": {
        "colab": {
          "base_uri": "https://localhost:8080/"
        },
        "id": "j_oksKMeZUPn",
        "outputId": "e4e345cc-9024-4dfe-9aa3-f23280247803"
      },
      "execution_count": 32,
      "outputs": [
        {
          "output_type": "stream",
          "name": "stdout",
          "text": [
            "this is timing of student class\n"
          ]
        }
      ]
    },
    {
      "cell_type": "code",
      "source": [
        "class lecture:# concept of ordering\n",
        "  def topic(self):\n",
        "    print(\"todays class is about inheritance\")\n",
        "\n",
        "  def timing(self):\n",
        "    print(\"todays class is at 9 am\")\n",
        "\n",
        "  def end_time(self):\n",
        "    print(\"we'll end a bit early today\")\n",
        "\n",
        "class student:\n",
        "\n",
        "  def student_details(self):\n",
        "    print(\"this class gives students details\")\n",
        "\n",
        "  def timing(self):\n",
        "    print(\"this is timing of student class\")\n",
        "\n",
        "class teacher(lecture,student): # we want to have the methods of both student and lecture class, so we inherit student class whic is alreday inherited byfrom lecture class\n",
        "  def details(self):\n",
        "    print(\"gives details about the teacher\")\n",
        "\n",
        "obj_tr=teacher()\n",
        "obj_tr.timing()"
      ],
      "metadata": {
        "colab": {
          "base_uri": "https://localhost:8080/"
        },
        "id": "FMsm1puscYXz",
        "outputId": "8bc9a664-9e0b-4001-a7b3-cc287263bb65"
      },
      "execution_count": 33,
      "outputs": [
        {
          "output_type": "stream",
          "name": "stdout",
          "text": [
            "todays class is at 9 am\n"
          ]
        }
      ]
    }
  ]
}