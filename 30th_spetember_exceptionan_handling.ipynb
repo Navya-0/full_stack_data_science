{
  "nbformat": 4,
  "nbformat_minor": 0,
  "metadata": {
    "colab": {
      "provenance": [],
      "authorship_tag": "ABX9TyM4o4TzbY83wGpH3t3vUI6A",
      "include_colab_link": true
    },
    "kernelspec": {
      "name": "python3",
      "display_name": "Python 3"
    },
    "language_info": {
      "name": "python"
    }
  },
  "cells": [
    {
      "cell_type": "markdown",
      "metadata": {
        "id": "view-in-github",
        "colab_type": "text"
      },
      "source": [
        "<a href=\"https://colab.research.google.com/github/Navya-0/full_stack_data_science/blob/main/30th_spetember_exceptionan_handling.ipynb\" target=\"_parent\"><img src=\"https://colab.research.google.com/assets/colab-badge.svg\" alt=\"Open In Colab\"/></a>"
      ]
    },
    {
      "cell_type": "code",
      "execution_count": null,
      "metadata": {
        "id": "O7VqS2bwRykH"
      },
      "outputs": [],
      "source": [
        "a=10\n",
        "b=0"
      ]
    },
    {
      "cell_type": "code",
      "source": [
        "a*b"
      ],
      "metadata": {
        "colab": {
          "base_uri": "https://localhost:8080/"
        },
        "id": "Oh3ME-TxUd9G",
        "outputId": "37230933-09a7-4f3a-9fe8-78e2055f6d2d"
      },
      "execution_count": null,
      "outputs": [
        {
          "output_type": "execute_result",
          "data": {
            "text/plain": [
              "0"
            ]
          },
          "metadata": {},
          "execution_count": 2
        }
      ]
    },
    {
      "cell_type": "code",
      "source": [
        "a//b\n",
        "print(\"print something\")"
      ],
      "metadata": {
        "colab": {
          "base_uri": "https://localhost:8080/",
          "height": 193
        },
        "id": "ipVVKGPPUeAD",
        "outputId": "2df4a0e2-67f8-4c4a-918f-2b70206cdbc0"
      },
      "execution_count": null,
      "outputs": [
        {
          "output_type": "error",
          "ename": "ZeroDivisionError",
          "evalue": "ignored",
          "traceback": [
            "\u001b[0;31m---------------------------------------------------------------------------\u001b[0m",
            "\u001b[0;31mZeroDivisionError\u001b[0m                         Traceback (most recent call last)",
            "\u001b[0;32m<ipython-input-3-aa913c81fceb>\u001b[0m in \u001b[0;36m<cell line: 1>\u001b[0;34m()\u001b[0m\n\u001b[0;32m----> 1\u001b[0;31m \u001b[0ma\u001b[0m\u001b[0;34m//\u001b[0m\u001b[0mb\u001b[0m\u001b[0;34m\u001b[0m\u001b[0;34m\u001b[0m\u001b[0m\n\u001b[0m\u001b[1;32m      2\u001b[0m \u001b[0mprint\u001b[0m\u001b[0;34m(\u001b[0m\u001b[0;34m\"print something\"\u001b[0m\u001b[0;34m)\u001b[0m\u001b[0;34m\u001b[0m\u001b[0;34m\u001b[0m\u001b[0m\n",
            "\u001b[0;31mZeroDivisionError\u001b[0m: integer division or modulo by zero"
          ]
        }
      ]
    },
    {
      "cell_type": "code",
      "source": [
        "try:\n",
        "  a=int(input(\"enter a number \"))\n",
        "  b=int(input(\"enter a number \"))\n",
        "  c=a/b\n",
        "  print(c)\n",
        "except:\n",
        "  pass"
      ],
      "metadata": {
        "id": "4d3L-0ywUeC5"
      },
      "execution_count": null,
      "outputs": []
    },
    {
      "cell_type": "code",
      "source": [
        "l1=[]\n",
        "def even_parser(l):\n",
        "  for i in l:\n",
        "    if i%2==0:\n",
        "      l1.append(i)\n",
        "  return(l1)\n"
      ],
      "metadata": {
        "id": "8GhJCYV0UeGL"
      },
      "execution_count": null,
      "outputs": []
    },
    {
      "cell_type": "code",
      "source": [
        "def even_parser1(l):\n",
        "  try:\n",
        "    for i in l:\n",
        "      if i%2==0:\n",
        "        l1.append(i)\n",
        "    return(l1)\n",
        "  except:\n",
        "    pass\n",
        "  return l1"
      ],
      "metadata": {
        "id": "ZiJsRsgNUeKI"
      },
      "execution_count": null,
      "outputs": []
    },
    {
      "cell_type": "code",
      "source": [
        "even_parser(5)"
      ],
      "metadata": {
        "id": "SJjUZSPFUeMZ"
      },
      "execution_count": null,
      "outputs": []
    },
    {
      "cell_type": "code",
      "source": [
        "even_parser1([4,5,6,7,8,9,0])"
      ],
      "metadata": {
        "id": "lfteavBxUeOv"
      },
      "execution_count": null,
      "outputs": []
    },
    {
      "cell_type": "code",
      "source": [
        "def even_parser1(l):\n",
        "  try:\n",
        "    for i in l:\n",
        "      if i%2==0:\n",
        "        l1.append(i)\n",
        "    return(l1)\n",
        "  except Exception as e:\n",
        "    print(e)\n",
        "  return l1"
      ],
      "metadata": {
        "id": "vra7ExbdUeSR"
      },
      "execution_count": null,
      "outputs": []
    },
    {
      "cell_type": "code",
      "source": [
        "even_parser1(8)"
      ],
      "metadata": {
        "id": "Yh5ltogacfGr"
      },
      "execution_count": null,
      "outputs": []
    },
    {
      "cell_type": "code",
      "source": [
        "try:\n",
        "  a=int(input())\n",
        "  b=int(input())\n",
        "  c=a/b\n",
        "except Exception as e:\n",
        "  print(e)\n"
      ],
      "metadata": {
        "id": "mOlJXNMEcfJv"
      },
      "execution_count": null,
      "outputs": []
    },
    {
      "cell_type": "code",
      "source": [
        "try:\n",
        "  a=int(input())\n",
        "  b=int(input())\n",
        "  c=a/b\n",
        "except TypeError as t:\n",
        "  print(t)\n",
        "except ZeroDivisionError as z:\n",
        "  print(z)\n",
        "except ValueError as v:\n",
        "  print(v)\n",
        "\n"
      ],
      "metadata": {
        "id": "qIZgauX8cfNQ"
      },
      "execution_count": null,
      "outputs": []
    },
    {
      "cell_type": "code",
      "source": [
        "try:\n",
        "  x=5/0\n",
        "except ZeroDivisionError as z:\n",
        "  print(z)\n",
        "  try:\n",
        "    y=int(\"navya\")\n",
        "  except ValueError as v:\n",
        "    print(v)"
      ],
      "metadata": {
        "id": "y6-aNAeecfPs"
      },
      "execution_count": null,
      "outputs": []
    },
    {
      "cell_type": "code",
      "source": [
        "try:\n",
        "  x=5/0\n",
        "except ZeroDivisionError as z:\n",
        "  print(z)\n",
        "else:\n",
        "  print(\"this will execute itself once try will execute without an error\")"
      ],
      "metadata": {
        "id": "66k76kYscfVE"
      },
      "execution_count": null,
      "outputs": []
    },
    {
      "cell_type": "code",
      "source": [
        "try:\n",
        "  x=5/0\n",
        "except ZeroDivisionError as z:\n",
        "  print(z)\n",
        "else:\n",
        "  print(\"this will execute itself once try will execute without an error\")\n",
        "finally:\n",
        "  print(\"will always exceute\")\n"
      ],
      "metadata": {
        "id": "0LmCPuETcfWK"
      },
      "execution_count": null,
      "outputs": []
    },
    {
      "cell_type": "code",
      "source": [
        "try:\n",
        "  x=5/1\n",
        "except ZeroDivisionError as z:\n",
        "  print(z)\n",
        "else:\n",
        "  print(\"this will execute itself once try will execute without an error\")\n",
        "finally:\n",
        "  print(\"will always exceute\")\n"
      ],
      "metadata": {
        "id": "ORCAMXhOcfZW"
      },
      "execution_count": null,
      "outputs": []
    },
    {
      "cell_type": "code",
      "source": [
        "d={\"name\":\"navya\",\"mobile_no\":123456,\"email\":\"navya@gamil.com\"}\n",
        "d[\"course\"]"
      ],
      "metadata": {
        "id": "DiLH6wjKcfeA"
      },
      "execution_count": null,
      "outputs": []
    },
    {
      "cell_type": "code",
      "source": [
        "try:\n",
        "  d={\"name\":\"navya\",\"mobile_no\":123456,\"email\":\"navya@gamil.com\"}\n",
        "  d[\"course\"]\n",
        "except Exception as e: # we can print our custom exception\n",
        "  print(\"this key is not available\")\n"
      ],
      "metadata": {
        "id": "0wpB3IHjcfe1"
      },
      "execution_count": null,
      "outputs": []
    },
    {
      "cell_type": "code",
      "source": [
        "l=[4,5,6,7,8,9,10]\n",
        "l[10]"
      ],
      "metadata": {
        "id": "7ZKzPln8cfjZ"
      },
      "execution_count": null,
      "outputs": []
    },
    {
      "cell_type": "code",
      "source": [
        "try:\n",
        "  l=[4,5,6,7,8,9,10]\n",
        "  l[10]\n",
        "except:\n",
        "  print(\"index not available\")"
      ],
      "metadata": {
        "id": "xWgwb0dOMGhb"
      },
      "execution_count": null,
      "outputs": []
    },
    {
      "cell_type": "code",
      "source": [
        "a=\"navya\"\n",
        "int(a) # gives an error as we converting a alpha string if it was a numeric string it wouldve converted\n"
      ],
      "metadata": {
        "id": "D_StE47XMReX"
      },
      "execution_count": null,
      "outputs": []
    },
    {
      "cell_type": "code",
      "source": [
        "try:\n",
        "  a=\"navya\"\n",
        "  int(a)\n",
        "except Exception as e:\n",
        "  print(\"this datatype cannot be converted to string\",e)"
      ],
      "metadata": {
        "id": "n6ef6k1hMl0n"
      },
      "execution_count": null,
      "outputs": []
    },
    {
      "cell_type": "code",
      "source": [
        "file_nm= \"/content/new folder/test.txt\"\n",
        "f = open(file_nm)\n",
        "f.read()"
      ],
      "metadata": {
        "id": "v0nVjctNMynt"
      },
      "execution_count": null,
      "outputs": []
    },
    {
      "cell_type": "code",
      "source": [
        "ls-l # file inside current directory"
      ],
      "metadata": {
        "id": "1Lxad78Zm3HK"
      },
      "execution_count": null,
      "outputs": []
    },
    {
      "cell_type": "code",
      "source": [
        "pwd # present workin directory"
      ],
      "metadata": {
        "id": "HTDZXybkwWPR"
      },
      "execution_count": null,
      "outputs": []
    },
    {
      "cell_type": "code",
      "source": [
        "try:\n",
        "  n= int(input(\"enter a number \"))\n",
        "  div= 342/n\n",
        "  print(div)\n",
        "except ValueError:\n",
        "  print(\"invalid input\")\n",
        "except ZeroDivisionError:\n",
        "  print(\"zero divison is not allowed\")"
      ],
      "metadata": {
        "id": "M1L4slScm3Fh"
      },
      "execution_count": null,
      "outputs": []
    },
    {
      "cell_type": "code",
      "source": [
        "try:\n",
        "  n= int(input(\"enter a number \"))\n",
        "  div= 342/n\n",
        "  print(div)\n",
        "except (ValueError,ZeroDivisionError):\n",
        "  print(\"invalid input or division by zero\")\n"
      ],
      "metadata": {
        "id": "4Da-EXmSm3BB"
      },
      "execution_count": null,
      "outputs": []
    },
    {
      "cell_type": "code",
      "source": [
        "try:\n",
        "  n= int(input(\"enter a number \"))\n",
        "  div= 342/n\n",
        "  print(div)\n",
        "except (ValueError,ZeroDivisionError):\n",
        "  print(\"invalid input or division by zero\")\n"
      ],
      "metadata": {
        "id": "MWcy0lWum29n"
      },
      "execution_count": null,
      "outputs": []
    },
    {
      "cell_type": "code",
      "source": [
        "try:\n",
        "  try:\n",
        "    n=int(input(\"enter a number \"))\n",
        "    div=342/n\n",
        "    print(div)\n",
        "  except ZeroDivisionError:\n",
        "    print(\"zero division not allowed\")\n",
        "except ValueError:\n",
        "  print(\"value error\")\n"
      ],
      "metadata": {
        "id": "jxsMaS_p1EJP"
      },
      "execution_count": null,
      "outputs": []
    },
    {
      "cell_type": "code",
      "source": [
        "try:\n",
        "  file_nm=open(\"/content/new folder/test.txt\")\n",
        "  print(file_nm.read())\n",
        "except:\n",
        "  print(\"there is an error\")\n",
        "finally:\n",
        "  file_nm.close()"
      ],
      "metadata": {
        "id": "462LJjz91EL-"
      },
      "execution_count": null,
      "outputs": []
    },
    {
      "cell_type": "code",
      "source": [
        "try:\n",
        "  file_nm=open(\"/content/new folder/test.txt\")\n",
        "  file_nm.write(\"guydefqydhoiBUDIH\")\n",
        "except:\n",
        "  print(\"there is an error\")\n",
        "finally:\n",
        "  file_nm.close()\n",
        "  print(\"file closed\")"
      ],
      "metadata": {
        "id": "YrDAjtsH1EPs"
      },
      "execution_count": null,
      "outputs": []
    },
    {
      "cell_type": "code",
      "source": [
        "try:\n",
        "  file_nm=open(\"/content/new folder/test.txt\")\n",
        "  data=file_nm.read()\n",
        "except:\n",
        "  print(\"there is an error\")\n",
        "else:\n",
        "  print(data)\n",
        "finally:\n",
        "  file_nm.close()"
      ],
      "metadata": {
        "id": "6s3qHoh21ESO"
      },
      "execution_count": null,
      "outputs": []
    },
    {
      "cell_type": "code",
      "source": [
        "try:\n",
        "  file_nm=open(\"/content/new folder/test.txt\")\n",
        "  data=file_nm.write(\"wdbuegyudwdib\")\n",
        "except:\n",
        "  print(\"there is an error\")\n",
        "else:\n",
        "  print(data)\n",
        "finally:\n",
        "  print(data)\n",
        "  file_nm.close()"
      ],
      "metadata": {
        "id": "4cnopRtl1EXw"
      },
      "execution_count": null,
      "outputs": []
    },
    {
      "cell_type": "code",
      "source": [
        "try:\n",
        "  file_nm=open(\"/content/new folder/test.txt\")\n",
        "  data=file_nm.write(\"wdbuegyudwdib\")\n",
        "except:\n",
        "  print(\"there is an error\")\n",
        "else:\n",
        "  print(data)\n",
        "finally:\n",
        "  try:\n",
        "    print(data)\n",
        "  except:\n",
        "    pass\n",
        "  file_nm.close()"
      ],
      "metadata": {
        "id": "BObmPwjc1EYz"
      },
      "execution_count": null,
      "outputs": []
    },
    {
      "cell_type": "code",
      "source": [
        "a=int(input(\"enter height of the wall \")) # as per business case case height cannot be negavtive\n"
      ],
      "metadata": {
        "id": "eGV3OY4G1Eau"
      },
      "execution_count": null,
      "outputs": []
    },
    {
      "cell_type": "code",
      "source": [
        "# raise an exception for the negative number therefore create a custom exception\n",
        "try:\n",
        "  a=int(input(\"enter height \"))\n",
        "  if a<0:\n",
        "    raise ValueError(\"entered height is negative \")\n",
        "except ValueError as v: # this is where  my custom exception is displayed\n",
        "  print(v)"
      ],
      "metadata": {
        "id": "q1ydua4K1Ehn"
      },
      "execution_count": null,
      "outputs": []
    },
    {
      "cell_type": "code",
      "source": [
        "# create a custom exception for a person being less than 18 yeqars old\n",
        "try:\n",
        "  age=int(input(\"enter age \"))\n",
        "  if age<0:\n",
        "    raise ValueError(\"age is negative\")\n",
        "  elif age<18:\n",
        "     raise ValueError(\"age is less than 18\")\n",
        "  else:\n",
        "    print(\"valid user\")\n",
        "except Exception as v:\n",
        "  print(v)\n",
        "# you cannot overwrite a predefined error like if in placre of value error we write Zero divison error it will give an error but we can mention superclass that is exception to raise a error\n"
      ],
      "metadata": {
        "id": "CZ3tcMow8nnF"
      },
      "execution_count": null,
      "outputs": []
    },
    {
      "cell_type": "markdown",
      "source": [
        "loggin\n"
      ],
      "metadata": {
        "id": "Fl-ShFYD-oil"
      }
    },
    {
      "cell_type": "code",
      "source": [
        "import logging as log\n",
        "log.basicConfig(filename='filenm.log',level=log.INFO)"
      ],
      "metadata": {
        "id": "t5_kxyDZ9Yeu"
      },
      "execution_count": null,
      "outputs": []
    },
    {
      "cell_type": "code",
      "source": [
        "log.info(\"store a message\")"
      ],
      "metadata": {
        "id": "W6IlUvBt-bCZ"
      },
      "execution_count": null,
      "outputs": []
    },
    {
      "cell_type": "code",
      "source": [
        "log.warning(\"this is a warning\")"
      ],
      "metadata": {
        "id": "E766q7ei-bFS"
      },
      "execution_count": null,
      "outputs": []
    },
    {
      "cell_type": "code",
      "source": [
        "log.error(\"this is an error\")"
      ],
      "metadata": {
        "id": "7yr63xY9DE_Q"
      },
      "execution_count": null,
      "outputs": []
    },
    {
      "cell_type": "code",
      "source": [
        "log.critical(\"this is a critical\")"
      ],
      "metadata": {
        "id": "HnnlUp3k-bK9"
      },
      "execution_count": null,
      "outputs": []
    },
    {
      "cell_type": "code",
      "source": [
        "# create a custom exception for a person being less than 18 yeqars old\n",
        "import logging as log\n",
        "log.basicConfig(filename=\"trytest.log\", level=log.DEBUG, format='%(asctime)s')\n",
        "try:\n",
        "  log.info('this is a start of program')\n",
        "  log.info('asking user to enter age')\n",
        "  age=int(input(\"enter age \"))\n",
        "  log.info('checking if its a negative condition')\n",
        "  if age<0:\n",
        "    raise ValueError(\"age is negative\")\n",
        "  elif age<18:\n",
        "    log.info('to check if its an underage user')\n",
        "    raise ValueError(\"age is less than 18\")\n",
        "  else:\n",
        "    print(\"valid user\")\n",
        "except Exception as v:\n",
        "  log.error(\"has entered an invalid input\")\n",
        "  print(v)\n",
        "# you cannot overwrite a predefined error like if in placre of value error we write Zero divison error it will give an error but we can mention superclass that is exception to raise a error\n"
      ],
      "metadata": {
        "colab": {
          "base_uri": "https://localhost:8080/"
        },
        "id": "TBCvOD9CGhT2",
        "outputId": "3ea60323-f604-4748-8afe-07767726de7a"
      },
      "execution_count": null,
      "outputs": [
        {
          "output_type": "stream",
          "name": "stdout",
          "text": [
            "enter age 18\n",
            "valid user\n"
          ]
        }
      ]
    },
    {
      "cell_type": "code",
      "source": [
        "pwd"
      ],
      "metadata": {
        "id": "il4OhkMcGhXl",
        "colab": {
          "base_uri": "https://localhost:8080/",
          "height": 35
        },
        "outputId": "02238dc9-8187-45a2-f791-d7375bbc0a69"
      },
      "execution_count": 13,
      "outputs": [
        {
          "output_type": "execute_result",
          "data": {
            "text/plain": [
              "'/content'"
            ],
            "application/vnd.google.colaboratory.intrinsic+json": {
              "type": "string"
            }
          },
          "metadata": {},
          "execution_count": 13
        }
      ]
    }
  ]
}