{
  "nbformat": 4,
  "nbformat_minor": 0,
  "metadata": {
    "colab": {
      "provenance": [],
      "authorship_tag": "ABX9TyPNsyaOdluMSwu/Ub6HgjGl",
      "include_colab_link": true
    },
    "kernelspec": {
      "name": "python3",
      "display_name": "Python 3"
    },
    "language_info": {
      "name": "python"
    }
  },
  "cells": [
    {
      "cell_type": "markdown",
      "metadata": {
        "id": "view-in-github",
        "colab_type": "text"
      },
      "source": [
        "<a href=\"https://colab.research.google.com/github/Navya-0/full_stack_data_science/blob/main/19th_August_Python_Basics.ipynb\" target=\"_parent\"><img src=\"https://colab.research.google.com/assets/colab-badge.svg\" alt=\"Open In Colab\"/></a>"
      ]
    },
    {
      "cell_type": "code",
      "execution_count": 1,
      "metadata": {
        "id": "09DBkiXoIh_m"
      },
      "outputs": [],
      "source": [
        "'''1. Declare two variables, `x` and `y`, and assign them integer values. Swap the\n",
        "values of these variables without using any temporary variable.'''\n",
        "a=10\n",
        "b=20\n",
        "a=a+b\n",
        "b=a-b\n",
        "a=a-b"
      ]
    },
    {
      "cell_type": "code",
      "source": [
        "a"
      ],
      "metadata": {
        "colab": {
          "base_uri": "https://localhost:8080/"
        },
        "id": "cG4ivkyJOTTN",
        "outputId": "820c73b2-a714-421a-81a7-84925830f19f"
      },
      "execution_count": 3,
      "outputs": [
        {
          "output_type": "execute_result",
          "data": {
            "text/plain": [
              "20"
            ]
          },
          "metadata": {},
          "execution_count": 3
        }
      ]
    },
    {
      "cell_type": "code",
      "source": [
        "b"
      ],
      "metadata": {
        "colab": {
          "base_uri": "https://localhost:8080/"
        },
        "id": "_ndRJn6FOTWj",
        "outputId": "dab69cb6-ed50-46a7-ebfd-b1a5685bba88"
      },
      "execution_count": 4,
      "outputs": [
        {
          "output_type": "execute_result",
          "data": {
            "text/plain": [
              "10"
            ]
          },
          "metadata": {},
          "execution_count": 4
        }
      ]
    },
    {
      "cell_type": "code",
      "source": [
        "'''Create a program that calculates the area of a rectangle. Take the length and\n",
        "width as inputs from the user and store them in variables. Calculate and\n",
        "display the area.'''\n",
        "l=int(input())\n",
        "b=int(input())\n",
        "a=l*b\n",
        "print(\"area of rectangle is \",a)"
      ],
      "metadata": {
        "colab": {
          "base_uri": "https://localhost:8080/"
        },
        "id": "htUQ55njOTZQ",
        "outputId": "d5577c77-3962-4fef-d9a2-1a89c053184a"
      },
      "execution_count": 5,
      "outputs": [
        {
          "output_type": "stream",
          "name": "stdout",
          "text": [
            "20\n",
            "7\n",
            "area of rectangle is  140\n"
          ]
        }
      ]
    },
    {
      "cell_type": "code",
      "source": [
        "'''Write a Python program that converts temperatures from Celsius to\n",
        "Fahrenheit. Take the temperature in Celsius as input, store it in a variable,\n",
        "convert it to Fahrenheit, and display the result.'''\n",
        "c=int(input(\"enter temp in celsius \"))\n",
        "f=(c*(9/5)+32)\n",
        "print(\"farenheit equivalent is\",f)"
      ],
      "metadata": {
        "colab": {
          "base_uri": "https://localhost:8080/"
        },
        "id": "Ny_rbEdEOTca",
        "outputId": "e499dde3-4b9f-4396-b399-57f4a0cd1a73"
      },
      "execution_count": 9,
      "outputs": [
        {
          "output_type": "stream",
          "name": "stdout",
          "text": [
            "enter temp in celsius 67\n",
            "farenheit equivalent is 152.60000000000002\n"
          ]
        }
      ]
    },
    {
      "cell_type": "markdown",
      "source": [
        "TOPIC: String Based Questions"
      ],
      "metadata": {
        "id": "dD2hdqN9Qg9D"
      }
    },
    {
      "cell_type": "code",
      "source": [
        "'''1. Write a Python program that takes a string as input and prints the length of\n",
        "the string. '''\n",
        "st=input(\"enter a sentence \")\n",
        "print(\"length of the sentence is\", len(st))"
      ],
      "metadata": {
        "colab": {
          "base_uri": "https://localhost:8080/"
        },
        "id": "0DWiJz1IOTf2",
        "outputId": "65012b57-e3c2-427e-e2b7-511d479c7bbf"
      },
      "execution_count": 10,
      "outputs": [
        {
          "output_type": "stream",
          "name": "stdout",
          "text": [
            "enter a sentencehello im navya\n",
            "length of the sentence is 14\n"
          ]
        }
      ]
    },
    {
      "cell_type": "code",
      "source": [
        "''' Create a program that takes a sentence from the user and counts the number\n",
        "of vowels (a, e, i, o, u) in the string.'''\n",
        "st=input(\"enter a sentence \")\n",
        "v=[\"a\",\"e\",\"i\",\"o\",\"u\"]\n",
        "c=0\n",
        "for i in st:\n",
        "  if i in v:\n",
        "    c+=1\n",
        "print(\"count of vowels in the sentence is\",c)\n"
      ],
      "metadata": {
        "colab": {
          "base_uri": "https://localhost:8080/"
        },
        "id": "PVpao1SHOTik",
        "outputId": "aed5bee4-c01f-442e-8295-25082f085022"
      },
      "execution_count": 11,
      "outputs": [
        {
          "output_type": "stream",
          "name": "stdout",
          "text": [
            "enter a sentencehi im navya\n",
            "count of vowels in the sentence is 4\n"
          ]
        }
      ]
    },
    {
      "cell_type": "code",
      "source": [
        "''' Given a string, reverse the order of characters using string slicing and print\n",
        "the reversed string.'''\n",
        "st=input(\"enter a string \")\n",
        "rst=st[::-1]\n",
        "print(\"reverse of original string is\", rst)"
      ],
      "metadata": {
        "colab": {
          "base_uri": "https://localhost:8080/"
        },
        "id": "cCxZN5wIOTmJ",
        "outputId": "a544f8f0-cbe2-4a4f-d042-02896c7b97d2"
      },
      "execution_count": 12,
      "outputs": [
        {
          "output_type": "stream",
          "name": "stdout",
          "text": [
            "enter a string the quick brown fox jumped over the lazy dog\n",
            "reverse of original string is god yzal eht revo depmuj xof nworb kciuq eht\n"
          ]
        }
      ]
    },
    {
      "cell_type": "code",
      "source": [
        "'''Write a program that takes a string as input and checks if it is a palindrome\n",
        "(reads the same forwards and backwards). '''\n",
        "st=input(\"enter a string \")\n",
        "rst=st[::-1]\n",
        "if(st==rst):\n",
        "  print(\"string is palindrome\")\n",
        "else:\n",
        "  print(\"string is not palindrome\")"
      ],
      "metadata": {
        "colab": {
          "base_uri": "https://localhost:8080/"
        },
        "id": "F72keppBRtGy",
        "outputId": "a6bf5909-e782-465e-9320-3ad8d44c54c6"
      },
      "execution_count": 14,
      "outputs": [
        {
          "output_type": "stream",
          "name": "stdout",
          "text": [
            "enter a string abc\n",
            "string is not palindrome\n"
          ]
        }
      ]
    },
    {
      "cell_type": "code",
      "source": [
        "'''Create a program that takes a string as input and removes all the spaces from\n",
        "it. Print the modified string without spaces.'''\n",
        "st=input(\"enter a sentence \")\n",
        "st1=\"\"\n",
        "for i in st:\n",
        "  if i!= \" \":\n",
        "    st1=st1+i\n",
        "print(\"new modified sentence is\",st1 )"
      ],
      "metadata": {
        "colab": {
          "base_uri": "https://localhost:8080/"
        },
        "id": "n6t2jo7TSUT-",
        "outputId": "c3411fe6-fbc6-4571-ea69-5da50a597d3d"
      },
      "execution_count": 15,
      "outputs": [
        {
          "output_type": "stream",
          "name": "stdout",
          "text": [
            "enter a sentencehello im navya\n",
            "new modified sentence is helloimnavya\n"
          ]
        }
      ]
    }
  ]
}