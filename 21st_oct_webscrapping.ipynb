{
  "nbformat": 4,
  "nbformat_minor": 0,
  "metadata": {
    "colab": {
      "provenance": [],
      "authorship_tag": "ABX9TyM+HmUSe54gXIdHbzUEPJfT",
      "include_colab_link": true
    },
    "kernelspec": {
      "name": "python3",
      "display_name": "Python 3"
    },
    "language_info": {
      "name": "python"
    }
  },
  "cells": [
    {
      "cell_type": "markdown",
      "metadata": {
        "id": "view-in-github",
        "colab_type": "text"
      },
      "source": [
        "<a href=\"https://colab.research.google.com/github/Navya-0/full_stack_data_science/blob/main/21st_oct_webscrapping.ipynb\" target=\"_parent\"><img src=\"https://colab.research.google.com/assets/colab-badge.svg\" alt=\"Open In Colab\"/></a>"
      ]
    },
    {
      "cell_type": "code",
      "execution_count": 1,
      "metadata": {
        "id": "v_Jd6IqnBtj_"
      },
      "outputs": [],
      "source": [
        "import requests\n",
        "from bs4 import BeautifulSoup\n",
        "from urllib.request import urlopen as uReq\n",
        "import os"
      ]
    },
    {
      "cell_type": "code",
      "source": [
        "save_dir =\"images/\"\n",
        "if not os.path.exists(save_dir):\n",
        "  os.makedirs(save_dir) # creates a directory to keep all the images im trying to get\n",
        ""
      ],
      "metadata": {
        "id": "BUez1nlUDcaC"
      },
      "execution_count": 2,
      "outputs": []
    },
    {
      "cell_type": "code",
      "source": [
        "query= \"sudhanshu kumar ineuron\"\n",
        "response = requests.get(f\"https://www.google.com/search?q={query}&sca_esv=575400399&hl=en&tbm=isch&sxsrf=AM9HkKn2XKnkWRYr3VOmqySIhL7nRqmNwQ%3A1697872200630&source=hp&biw=709&bih=650&ei=SHkzZf3LI8-OoASBqotQ&iflsig=AO6bgOgAAAAAZTOHWGdHpF_cPnxi_HGuzLmuVUo0Fssx&ved=0ahUKEwj9j4_ryoaCAxVPB4gKHQHVAgoQ4dUDCAc&uact=5&oq=sudhanshu+kumar+ineuron&gs_lp=EgNpbWciF3N1ZGhhbnNodSBrdW1hciBpbmV1cm9uMgUQABiABDIHEAAYGBiABDIHEAAYGBiABDIHEAAYGBiABDIHEAAYGBiABDIHEAAYGBiABEi8SlDiB1i1SHADeACQAQCYAcQFoAHMSKoBDTAuNC40LjQuNy40LjG4AQPIAQD4AQGKAgtnd3Mtd2l6LWltZ6gCCsICBxAjGOoCGCfCAgQQIxgnwgILEAAYgAQYsQMYgwHCAggQABiABBixA8ICCBAAGLEDGIMBwgIEEAAYA8ICBhAAGAUYHsICBBAAGB4&sclient=img\")"
      ],
      "metadata": {
        "id": "cCI1SksbEDcY"
      },
      "execution_count": 3,
      "outputs": []
    },
    {
      "cell_type": "code",
      "source": [
        "response"
      ],
      "metadata": {
        "colab": {
          "base_uri": "https://localhost:8080/"
        },
        "id": "s-H0XWPSExNI",
        "outputId": "a700c134-81d8-467c-a121-835b5ce67ecf"
      },
      "execution_count": 4,
      "outputs": [
        {
          "output_type": "execute_result",
          "data": {
            "text/plain": [
              "<Response [200]>"
            ]
          },
          "metadata": {},
          "execution_count": 4
        }
      ]
    },
    {
      "cell_type": "markdown",
      "source": [
        "# it means whatever content is avaialable on the page it will get those for me\n",
        "''' this is providing me with the links of all the images present in the page\n",
        "if we are able to get the URL of all the images in the page well be able to download the image\n",
        "\n",
        "inside the <img> tab well see the link of the image''\n"
      ],
      "metadata": {
        "id": "V2DJ9QOKJfrw"
      }
    },
    {
      "cell_type": "code",
      "source": [
        "soup=BeautifulSoup(response.content,\"html.parser\")"
      ],
      "metadata": {
        "id": "JeSD5fBiFDPR"
      },
      "execution_count": 5,
      "outputs": []
    },
    {
      "cell_type": "code",
      "source": [
        "images_tags=soup.find_all(\"img\")"
      ],
      "metadata": {
        "id": "eM4HkKZxGICP"
      },
      "execution_count": 6,
      "outputs": []
    },
    {
      "cell_type": "code",
      "source": [
        "len(soup)"
      ],
      "metadata": {
        "colab": {
          "base_uri": "https://localhost:8080/"
        },
        "id": "vRhifvJmHkvy",
        "outputId": "6729a779-e07e-49d0-c38e-6d0c8ed60227"
      },
      "execution_count": 7,
      "outputs": [
        {
          "output_type": "execute_result",
          "data": {
            "text/plain": [
              "2"
            ]
          },
          "metadata": {},
          "execution_count": 7
        }
      ]
    },
    {
      "cell_type": "code",
      "source": [
        "del images_tags[0]"
      ],
      "metadata": {
        "id": "UstS1aIWH8UK"
      },
      "execution_count": 8,
      "outputs": []
    },
    {
      "cell_type": "code",
      "source": [
        "for i in images_tags:\n",
        "  images_url=i[\"src\"]\n",
        "  image_data=requests.get(images_url).content\n",
        "  with open(os.path.join(save_dir,f\"{query}_{images_tags.index(i)}.jpg\"),\"wb\") as f:\n",
        "    f.write(image_data)"
      ],
      "metadata": {
        "id": "SrcYR9-RIFD1"
      },
      "execution_count": 10,
      "outputs": []
    }
  ]
}