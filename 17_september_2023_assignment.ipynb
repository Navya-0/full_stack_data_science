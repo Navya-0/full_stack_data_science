{
  "nbformat": 4,
  "nbformat_minor": 0,
  "metadata": {
    "colab": {
      "provenance": [],
      "authorship_tag": "ABX9TyOLM/Ea/9NE74fRoZl0q3zJ",
      "include_colab_link": true
    },
    "kernelspec": {
      "name": "python3",
      "display_name": "Python 3"
    },
    "language_info": {
      "name": "python"
    }
  },
  "cells": [
    {
      "cell_type": "markdown",
      "metadata": {
        "id": "view-in-github",
        "colab_type": "text"
      },
      "source": [
        "<a href=\"https://colab.research.google.com/github/Navya-0/full_stack_data_science/blob/main/17_september_2023_assignment.ipynb\" target=\"_parent\"><img src=\"https://colab.research.google.com/assets/colab-badge.svg\" alt=\"Open In Colab\"/></a>"
      ]
    },
    {
      "cell_type": "code",
      "execution_count": null,
      "metadata": {
        "colab": {
          "base_uri": "https://localhost:8080/"
        },
        "id": "HyMj3Hh407rq",
        "outputId": "d7f63650-63d0-4cd1-eab8-4e119ecf2131"
      },
      "outputs": [
        {
          "output_type": "stream",
          "name": "stdout",
          "text": [
            "1\n",
            "2\n",
            "3\n",
            "4\n",
            "5\n",
            "6\n",
            "7\n",
            "8\n",
            "9\n",
            "10\n"
          ]
        }
      ],
      "source": [
        "#1. Write a Python program to print the numbers from 1 to 10 using a `for` loop.\n",
        "for i in range(1,11):\n",
        "  print(i)\n"
      ]
    },
    {
      "cell_type": "code",
      "source": [
        "#Create a program that calculates the sum of all numbers in a list using a `for` loop.\n",
        "l=[67,89,12,34,90]\n",
        "s=0\n",
        "for i in l:\n",
        "  s=s+i\n",
        "print(s)\n"
      ],
      "metadata": {
        "colab": {
          "base_uri": "https://localhost:8080/"
        },
        "id": "4g2fGx9d08YE",
        "outputId": "7b784ba6-667a-4efd-da90-61b6ed5fec05"
      },
      "execution_count": null,
      "outputs": [
        {
          "output_type": "stream",
          "name": "stdout",
          "text": [
            "292\n"
          ]
        }
      ]
    },
    {
      "cell_type": "code",
      "source": [
        "# 3. Write a program to print the characters of a string in reverse order using a `for` loop.\n",
        "st=input(\"enter a string \")\n",
        "st1=\"\"\n",
        "for i in st:\n",
        "  st1=i+st1\n",
        "print(st1)\n"
      ],
      "metadata": {
        "colab": {
          "base_uri": "https://localhost:8080/"
        },
        "id": "dAr6-KzI08bs",
        "outputId": "64edfe79-0b87-4a6e-fe49-8276bd76ea35"
      },
      "execution_count": null,
      "outputs": [
        {
          "output_type": "stream",
          "name": "stdout",
          "text": [
            "enter a string hi im navya\n",
            "ayvan mi ih\n"
          ]
        }
      ]
    },
    {
      "cell_type": "code",
      "source": [
        "# 4. Develop a program that finds the factorial of a given number using a `for` loop.\n",
        "n=int(input(\"enter a number \"))\n",
        "f=1\n",
        "for i in range(1,n+1):\n",
        "  f=f*i\n",
        "print(f)"
      ],
      "metadata": {
        "colab": {
          "base_uri": "https://localhost:8080/"
        },
        "id": "x5r_8zfM08f5",
        "outputId": "4cd1c356-791f-485d-86a9-f60a6c9a6b07"
      },
      "execution_count": null,
      "outputs": [
        {
          "output_type": "stream",
          "name": "stdout",
          "text": [
            "enter a number 89\n",
            "16507955160908461081216919262453619309839666236496541854913520707833171034378509739399912570787600662729080382999756800000000000000000000\n"
          ]
        }
      ]
    },
    {
      "cell_type": "code",
      "source": [
        "# 5. Create a program to print the multiplication table of a given number using a `for` loop.\n",
        "n=int(input(\"enter a number \"))\n",
        "for i in range(0,13):\n",
        "  print(f\"{i} * {n} =\",i*n)"
      ],
      "metadata": {
        "colab": {
          "base_uri": "https://localhost:8080/"
        },
        "id": "6sa4gQjv08j9",
        "outputId": "ab1365a2-5df3-4982-f858-ea38c36254d3"
      },
      "execution_count": null,
      "outputs": [
        {
          "output_type": "stream",
          "name": "stdout",
          "text": [
            "enter a number 19\n",
            "0 * 19 = 0\n",
            "1 * 19 = 19\n",
            "2 * 19 = 38\n",
            "3 * 19 = 57\n",
            "4 * 19 = 76\n",
            "5 * 19 = 95\n",
            "6 * 19 = 114\n",
            "7 * 19 = 133\n",
            "8 * 19 = 152\n",
            "9 * 19 = 171\n",
            "10 * 19 = 190\n",
            "11 * 19 = 209\n",
            "12 * 19 = 228\n"
          ]
        }
      ]
    },
    {
      "cell_type": "code",
      "source": [
        "# 6. Write a program that counts the number of even and odd numbers in a list using a `for` loop.\n",
        "l=[13,451,80,42,67,56,89]\n",
        "c_o=0\n",
        "c_e=0\n",
        "for i in l:\n",
        "  if(i%2==0):\n",
        "    c_e+=1\n",
        "  else:\n",
        "    c_o+=1\n",
        "print(\"number of even number is =\",c_e)\n",
        "print(\"number of odd number is =\",c_o)\n",
        "\n"
      ],
      "metadata": {
        "colab": {
          "base_uri": "https://localhost:8080/"
        },
        "id": "4wx2dpC608ms",
        "outputId": "959954d2-68e0-4c3b-bce4-47a0e965e422"
      },
      "execution_count": null,
      "outputs": [
        {
          "output_type": "stream",
          "name": "stdout",
          "text": [
            "number of even number is = 3\n",
            "number of odd number is = 4\n"
          ]
        }
      ]
    },
    {
      "cell_type": "code",
      "source": [
        "# 7. Develop a program that prints the squares of numbers from 1 to 5 using a `for` loop.\n",
        "for i in range(1,6):\n",
        "  print(f\" square of {i} is =\",i*i)"
      ],
      "metadata": {
        "colab": {
          "base_uri": "https://localhost:8080/"
        },
        "id": "S7RyLHEm08tW",
        "outputId": "5e977f18-9c1b-4313-cc5b-88dc1a10cf99"
      },
      "execution_count": null,
      "outputs": [
        {
          "output_type": "stream",
          "name": "stdout",
          "text": [
            " square of 1 is = 1\n",
            " square of 2 is = 4\n",
            " square of 3 is = 9\n",
            " square of 4 is = 16\n",
            " square of 5 is = 25\n"
          ]
        }
      ]
    },
    {
      "cell_type": "code",
      "source": [
        "# 8. Create a program to find the length of a string without using the `len()` function.\n",
        "l=[78,\"navya\",\"hello\",True,56.789,8]\n",
        "length=0\n",
        "for i in l:\n",
        "  length+=1\n",
        "print(\"length of a list is =\", length)"
      ],
      "metadata": {
        "colab": {
          "base_uri": "https://localhost:8080/"
        },
        "id": "6oGrI7DI08wu",
        "outputId": "60af4802-a328-4498-e2c9-681a853572e0"
      },
      "execution_count": null,
      "outputs": [
        {
          "output_type": "stream",
          "name": "stdout",
          "text": [
            "length of a list is = 6\n"
          ]
        }
      ]
    },
    {
      "cell_type": "code",
      "source": [
        "# 9. Write a program that calculates the average of a list of numbers using a `for` loop.\n",
        "l=[9,0,78.9,67,32,1.43]\n",
        "s=0\n",
        "ln=len(l)\n",
        "for i in l:\n",
        "  s+=i\n",
        "print(\"average of the values in a list is =\",s/ln)\n"
      ],
      "metadata": {
        "colab": {
          "base_uri": "https://localhost:8080/"
        },
        "id": "_aLRAsec54Nw",
        "outputId": "14542d33-809b-4f2d-96e5-90a4617d523d"
      },
      "execution_count": null,
      "outputs": [
        {
          "output_type": "stream",
          "name": "stdout",
          "text": [
            "average of the values in a list is = 31.388333333333335\n"
          ]
        }
      ]
    },
    {
      "cell_type": "code",
      "source": [
        "# 10. Develop a program that prints the first `n` Fibonacci numbers using a `for` loop.\n",
        "a=0\n",
        "b=1\n",
        "c=0\n",
        "n=int(input(\"enter a number \"))\n",
        "print(a,b,end=\" \")\n",
        "for i in range(1,n+1):\n",
        "  c=a+b\n",
        "  a,b=b,c\n",
        "  print(c,end=\" \")"
      ],
      "metadata": {
        "colab": {
          "base_uri": "https://localhost:8080/"
        },
        "id": "Rzzk8C_h6Ya6",
        "outputId": "078b4581-9193-4d91-ca04-4a219800af54"
      },
      "execution_count": null,
      "outputs": [
        {
          "output_type": "stream",
          "name": "stdout",
          "text": [
            "enter a number 12\n",
            "0 1 1 2 3 5 8 13 21 34 55 89 144 233 "
          ]
        }
      ]
    },
    {
      "cell_type": "markdown",
      "source": [
        "intermediate level\n"
      ],
      "metadata": {
        "id": "ANyvOOrS8cmd"
      }
    },
    {
      "cell_type": "code",
      "source": [
        "# 11. Write a program to check if a given list contains any duplicates using a `for` loop.\n",
        "l=[23,43,56,23,71,34,90,71,1,0,12,34,7]\n",
        "dup=[] # to store the value who's duplicate exist so that if its encountered in the list more than once it will skip that value for its duplicate checking\n",
        "for i in l:\n",
        "  if(i not in dup and l.count(i)>1):\n",
        "    dup.append(i)\n",
        "    print(f\"duplicate of {i} exists in the list\")\n",
        "print(\"duplicate value list\",dup)"
      ],
      "metadata": {
        "colab": {
          "base_uri": "https://localhost:8080/"
        },
        "id": "l-vAHU_d8Gqr",
        "outputId": "45bd5cea-d67e-47aa-a503-fc0ff7e1e8d6"
      },
      "execution_count": null,
      "outputs": [
        {
          "output_type": "stream",
          "name": "stdout",
          "text": [
            "duplicate of 23 exists in the list\n",
            "duplicate of 71 exists in the list\n",
            "duplicate of 34 exists in the list\n",
            "duplicate value list [23, 71, 34]\n"
          ]
        }
      ]
    },
    {
      "cell_type": "code",
      "source": [
        "# 12. Create a program that prints the prime numbers in a given range using a `for` loop.\n",
        "a=int(input(\"enter a number \"))\n",
        "b=int(input(\"enter a number \"))\n",
        "if(a<b):\n",
        "  while(a<=b):\n",
        "    c=0\n",
        "    if(a==1):\n",
        "      a+=1\n",
        "    for j in range(2,a):\n",
        "      if a%j==0:\n",
        "        c+=1\n",
        "        break\n",
        "    if c==0:\n",
        "      print(f\"{a} is a prime number\")\n",
        "    a+=1\n",
        "else:\n",
        "  while(b<=a):\n",
        "    c=0\n",
        "    if(b==1):\n",
        "      b+=1\n",
        "    for j in range(2,b):\n",
        "      if b%j==0:\n",
        "        c+=1\n",
        "        break\n",
        "    if c==0:\n",
        "      print(f\"{b} is a prime number\")\n",
        "    b+=1\n",
        "\n"
      ],
      "metadata": {
        "colab": {
          "base_uri": "https://localhost:8080/"
        },
        "id": "MDxrcHA3rGzm",
        "outputId": "c756d720-64ae-4f15-85f2-cf1beaa2c9a4"
      },
      "execution_count": null,
      "outputs": [
        {
          "output_type": "stream",
          "name": "stdout",
          "text": [
            "enter a number 10\n",
            "enter a number 25\n",
            "11 is a prime number\n",
            "13 is a prime number\n",
            "17 is a prime number\n",
            "19 is a prime number\n",
            "23 is a prime number\n"
          ]
        }
      ]
    },
    {
      "cell_type": "code",
      "source": [
        "# 13. Develop a program that counts the number of vowels in a string using a `for` loop.\n",
        "st=input(\"enter a stringv\")\n",
        "v=0\n",
        "vow=[\"a\",\"e\",\"i\",\"o\",\"u\"]\n",
        "for i in st:\n",
        "  if i in vow:\n",
        "    v+=1\n",
        "print(\"number of vowels is\",v)"
      ],
      "metadata": {
        "colab": {
          "base_uri": "https://localhost:8080/"
        },
        "id": "JTHzBlCkrMGu",
        "outputId": "0a90a13f-cb77-48a8-e853-472fec9956b2"
      },
      "execution_count": null,
      "outputs": [
        {
          "output_type": "stream",
          "name": "stdout",
          "text": [
            "enter a stringi am navya j nair\n",
            "number of vowels is 6\n"
          ]
        }
      ]
    },
    {
      "cell_type": "code",
      "source": [
        "# 14. Write a program to find the maximum element in a 2D list using a nested `for` loop.\n",
        "l=[[1,2,3],[10,2,5],[4,5,1],[19,100,23]]\n",
        "m=0\n",
        "for i in l:\n",
        "  if m<max(i):\n",
        "    m=max(i)\n",
        "print(\"maximum element in the list is\",m)"
      ],
      "metadata": {
        "colab": {
          "base_uri": "https://localhost:8080/"
        },
        "id": "bnFyTTS3rMJ_",
        "outputId": "c5600f88-322a-44bf-bb61-85a65b7bb06d"
      },
      "execution_count": null,
      "outputs": [
        {
          "output_type": "stream",
          "name": "stdout",
          "text": [
            "maximum element in the list is 100\n"
          ]
        }
      ]
    },
    {
      "cell_type": "code",
      "source": [
        "# 14. Write a program to find the maximum element in a 2D list using a nested `for` loop.\n",
        "l=[[1,2,3],[100,2,5],[4,5,1],[19,10,23]]\n",
        "m=0\n",
        "for i in l:\n",
        "  for j in i:\n",
        "    if m<j:\n",
        "      m=j\n",
        "print(\"max element in the 2d list is\",m)"
      ],
      "metadata": {
        "colab": {
          "base_uri": "https://localhost:8080/"
        },
        "id": "OSOEPpW_rMNR",
        "outputId": "edd9bf25-22c0-4a25-c72f-ee27be297282"
      },
      "execution_count": null,
      "outputs": [
        {
          "output_type": "stream",
          "name": "stdout",
          "text": [
            "max element in the 2d list is 100\n"
          ]
        }
      ]
    },
    {
      "cell_type": "code",
      "source": [
        "# 15. Create a program that removes all occurrences of a specific element from a list using a `for` loop.\n",
        "l=[1,2,43,54,1,7,89,1,10,34,2]\n",
        "n=int(input(\"enter element to be removed \"))\n",
        "nl=[]\n",
        "for i in l:\n",
        "  if i!=n:\n",
        "    nl.append(i)\n",
        "print(\"new list is\",nl)"
      ],
      "metadata": {
        "colab": {
          "base_uri": "https://localhost:8080/"
        },
        "id": "HgbKrlPHrMQr",
        "outputId": "f777f97e-383c-49ae-fd9c-138c092fa6fc"
      },
      "execution_count": null,
      "outputs": [
        {
          "output_type": "stream",
          "name": "stdout",
          "text": [
            "enter element to be removed 23\n",
            "new list is [1, 2, 43, 54, 1, 7, 89, 1, 10, 34, 2]\n"
          ]
        }
      ]
    },
    {
      "cell_type": "code",
      "source": [
        "# 16. Develop a program that generates a multiplication table for numbers from 1 to 5 using a nested `for` loop.\n",
        "for i in range(1,6):\n",
        "  print(f\"table of {i}\")\n",
        "  for j in range(0,13):\n",
        "    print(f\"{i} * {j} =\",i*j)\n",
        "  print()\n"
      ],
      "metadata": {
        "colab": {
          "base_uri": "https://localhost:8080/"
        },
        "id": "-pISr7zPrMZY",
        "outputId": "9fce9841-877e-42f3-c994-70e38e9d1a93"
      },
      "execution_count": null,
      "outputs": [
        {
          "output_type": "stream",
          "name": "stdout",
          "text": [
            "table of 1\n",
            "1 * 0 = 0\n",
            "1 * 1 = 1\n",
            "1 * 2 = 2\n",
            "1 * 3 = 3\n",
            "1 * 4 = 4\n",
            "1 * 5 = 5\n",
            "1 * 6 = 6\n",
            "1 * 7 = 7\n",
            "1 * 8 = 8\n",
            "1 * 9 = 9\n",
            "1 * 10 = 10\n",
            "1 * 11 = 11\n",
            "1 * 12 = 12\n",
            "\n",
            "table of 2\n",
            "2 * 0 = 0\n",
            "2 * 1 = 2\n",
            "2 * 2 = 4\n",
            "2 * 3 = 6\n",
            "2 * 4 = 8\n",
            "2 * 5 = 10\n",
            "2 * 6 = 12\n",
            "2 * 7 = 14\n",
            "2 * 8 = 16\n",
            "2 * 9 = 18\n",
            "2 * 10 = 20\n",
            "2 * 11 = 22\n",
            "2 * 12 = 24\n",
            "\n",
            "table of 3\n",
            "3 * 0 = 0\n",
            "3 * 1 = 3\n",
            "3 * 2 = 6\n",
            "3 * 3 = 9\n",
            "3 * 4 = 12\n",
            "3 * 5 = 15\n",
            "3 * 6 = 18\n",
            "3 * 7 = 21\n",
            "3 * 8 = 24\n",
            "3 * 9 = 27\n",
            "3 * 10 = 30\n",
            "3 * 11 = 33\n",
            "3 * 12 = 36\n",
            "\n",
            "table of 4\n",
            "4 * 0 = 0\n",
            "4 * 1 = 4\n",
            "4 * 2 = 8\n",
            "4 * 3 = 12\n",
            "4 * 4 = 16\n",
            "4 * 5 = 20\n",
            "4 * 6 = 24\n",
            "4 * 7 = 28\n",
            "4 * 8 = 32\n",
            "4 * 9 = 36\n",
            "4 * 10 = 40\n",
            "4 * 11 = 44\n",
            "4 * 12 = 48\n",
            "\n",
            "table of 5\n",
            "5 * 0 = 0\n",
            "5 * 1 = 5\n",
            "5 * 2 = 10\n",
            "5 * 3 = 15\n",
            "5 * 4 = 20\n",
            "5 * 5 = 25\n",
            "5 * 6 = 30\n",
            "5 * 7 = 35\n",
            "5 * 8 = 40\n",
            "5 * 9 = 45\n",
            "5 * 10 = 50\n",
            "5 * 11 = 55\n",
            "5 * 12 = 60\n",
            "\n"
          ]
        }
      ]
    },
    {
      "cell_type": "code",
      "source": [
        "# 17. Write a program that converts a list of Fahrenheit temperatures to Celsius using a `for` loop.\n",
        "l=[56,76,89,102,65,95]\n",
        "c=0\n",
        "for i in l:\n",
        "  c=(i - 32)*(5/9)\n",
        "  print(f\"celsius equivalent of {i} is\",c)"
      ],
      "metadata": {
        "colab": {
          "base_uri": "https://localhost:8080/"
        },
        "id": "B7I6-BJGzYsc",
        "outputId": "c10c657f-3228-4c42-e8f0-63dc93943d5f"
      },
      "execution_count": null,
      "outputs": [
        {
          "output_type": "stream",
          "name": "stdout",
          "text": [
            "celsius equivalent of 56 is 13.333333333333334\n",
            "celsius equivalent of 76 is 24.444444444444446\n",
            "celsius equivalent of 89 is 31.666666666666668\n",
            "celsius equivalent of 102 is 38.88888888888889\n",
            "celsius equivalent of 65 is 18.333333333333336\n",
            "celsius equivalent of 95 is 35.0\n"
          ]
        }
      ]
    },
    {
      "cell_type": "code",
      "source": [
        "# 18. Create a program to print the common elements from two lists using a `for` loop.\n",
        "l1=[1,58,97,46,9,11,32]\n",
        "l2=[9,87,54,26,64,11,89,97]\n",
        "for i in l1:\n",
        "  if i in l2:\n",
        "    print(f\"{i} is the common element in the two list\")"
      ],
      "metadata": {
        "colab": {
          "base_uri": "https://localhost:8080/"
        },
        "id": "a_R9qfnbzYuu",
        "outputId": "cbb0512e-fd8d-446b-b40f-d25a07b4fc32"
      },
      "execution_count": null,
      "outputs": [
        {
          "output_type": "stream",
          "name": "stdout",
          "text": [
            "97 is the common element in the two list\n",
            "9 is the common element in the two list\n",
            "11 is the common element in the two list\n"
          ]
        }
      ]
    },
    {
      "cell_type": "code",
      "source": [
        "# 19. Develop a program that prints the pattern of right-angled triangles using a `for` loop. Use ‘*’ to draw the pattern\n",
        "n=int(input(\"enter number of elements\"))\n",
        "for i in range(1,n+1):\n",
        "  print()\n",
        "  for j in range(0,i):\n",
        "    print(\"*\", end=\" \")"
      ],
      "metadata": {
        "colab": {
          "base_uri": "https://localhost:8080/"
        },
        "id": "QUgbkaM1zYyP",
        "outputId": "1a23ba5e-c26f-4eb9-ea70-387895342598"
      },
      "execution_count": null,
      "outputs": [
        {
          "output_type": "stream",
          "name": "stdout",
          "text": [
            "enter number of elements5\n",
            "\n",
            "* \n",
            "* * \n",
            "* * * \n",
            "* * * * \n",
            "* * * * * "
          ]
        }
      ]
    },
    {
      "cell_type": "code",
      "source": [
        "# 20. Write a program to find the greatest common divisor (GCD) of two numbers using a `for` loop.\n",
        "a=int(input(\"enter a number \"))\n",
        "b=int(input(\"enter a number \"))\n",
        "mi=min(a,b)\n",
        "mx=0\n",
        "for i in range(1,mi+1):\n",
        "  if a%i==0 and b%i==0:\n",
        "    if mx<i:\n",
        "      mx=i\n",
        "print(f\"gcd of {a} and {b} is\",mx)"
      ],
      "metadata": {
        "colab": {
          "base_uri": "https://localhost:8080/"
        },
        "id": "2uNYsPV5HMp9",
        "outputId": "47119c5f-25b0-450c-d8df-7f42193ed3fa"
      },
      "execution_count": null,
      "outputs": [
        {
          "output_type": "stream",
          "name": "stdout",
          "text": [
            "enter a number 12\n",
            "enter a number 24\n",
            "gcd of 12 and 24 is 12\n"
          ]
        }
      ]
    },
    {
      "cell_type": "code",
      "source": [
        "# 21. Write a Python program that checks if a given year is a leap year using a for loop\n",
        "year=int(input(\"enter a year \"))\n",
        "if (year%100 == 0 and year%4==0)or year%400==0:\n",
        "  print(f\"{year} is a leap year\")\n",
        "else:\n",
        "  print(\"not a leap year\")\n"
      ],
      "metadata": {
        "colab": {
          "base_uri": "https://localhost:8080/"
        },
        "id": "JDQSTO6fCeqV",
        "outputId": "75dca547-ef9c-4403-e5f1-242d29fd8c4d"
      },
      "execution_count": null,
      "outputs": [
        {
          "output_type": "stream",
          "name": "stdout",
          "text": [
            "enter a year 2000\n",
            "2000 is a leap year\n"
          ]
        }
      ]
    },
    {
      "cell_type": "code",
      "source": [
        "\n",
        "# 22. Create a Python program that calculates the square root of a number using a for loop.\n",
        "n=int(input((\"enter a number \")))\n",
        "for i in range(n):\n",
        "  if(i*i==n):\n",
        "    break\n",
        "if(i*i==n):\n",
        "  print(f\"square root of {n} is {i} \")\n",
        "else:\n",
        "  print(\"square root of the number doesnt exist\")\n",
        "\n"
      ],
      "metadata": {
        "colab": {
          "base_uri": "https://localhost:8080/"
        },
        "id": "O424Yh4XCevZ",
        "outputId": "b7aea343-7ac0-4a7d-f473-e4356981c753"
      },
      "execution_count": null,
      "outputs": [
        {
          "output_type": "stream",
          "name": "stdout",
          "text": [
            "enter a number 9\n",
            "square root of 9 is 3 \n"
          ]
        }
      ]
    },
    {
      "cell_type": "code",
      "source": [
        "## 23. Write a Python program to find the LCM (Least Common Multiple) of two numbers using a for loop.\n",
        "a=int(input(\"enter a number \"))\n",
        "b=int(input(\"enter a number \"))\n",
        "mi=min(a,b)\n",
        "mx=0\n",
        "for i in range(1,mi+1):\n",
        "  if a%i==0 and b%i==0:\n",
        "    if mx<i:\n",
        "      mx=i\n",
        "lcm=(a*b)//mx\n",
        "print(f\"lcm of {a} and {b} is\",lcm)"
      ],
      "metadata": {
        "colab": {
          "base_uri": "https://localhost:8080/"
        },
        "id": "_K4dZynBCexy",
        "outputId": "557120b5-bc1f-474a-d18c-e4044c752de5"
      },
      "execution_count": null,
      "outputs": [
        {
          "output_type": "stream",
          "name": "stdout",
          "text": [
            "enter a number 4\n",
            "enter a number 8\n",
            "lcm of 4 and 8 is 8\n"
          ]
        }
      ]
    },
    {
      "cell_type": "markdown",
      "source": [
        "if-else"
      ],
      "metadata": {
        "id": "L6tnPkr1OpsK"
      }
    },
    {
      "cell_type": "code",
      "source": [
        "# 1. Write a Python program to check if a number is positive, negative, or zero using an if-else statement.\n",
        "n=int(input(\"enter a number \"))\n",
        "if(n>0):\n",
        "  print(\"number is positive\")\n",
        "elif(n<0):\n",
        "  print(\"number is negative\")\n",
        "else:\n",
        "  print(\"number is zero\")"
      ],
      "metadata": {
        "colab": {
          "base_uri": "https://localhost:8080/"
        },
        "id": "9x3qjVjXCe1W",
        "outputId": "3b177e2d-d427-4f26-bae7-b338e4e44ae2"
      },
      "execution_count": null,
      "outputs": [
        {
          "output_type": "stream",
          "name": "stdout",
          "text": [
            "enter a number 7\n",
            "number is positive\n"
          ]
        }
      ]
    },
    {
      "cell_type": "code",
      "source": [
        "# 2. Create a Python program that checks if a given number is even or odd using an if-else statement.\n",
        "n=int(input(\"enter a number \"))\n",
        "if n%2==0:\n",
        "  print(f\"{n} is an even number\")\n",
        "else:\n",
        "  print(f\"{n} is an odd number\")\n"
      ],
      "metadata": {
        "colab": {
          "base_uri": "https://localhost:8080/"
        },
        "id": "ZzyoxllaCe4T",
        "outputId": "ee3cedf3-6465-47c3-9560-4ee731d5c899"
      },
      "execution_count": null,
      "outputs": [
        {
          "output_type": "stream",
          "name": "stdout",
          "text": [
            "enter a number 6\n",
            "6 is an even number\n"
          ]
        }
      ]
    },
    {
      "cell_type": "code",
      "source": [
        "# 3. How can you use nested if-else statements in Python, and provide an example?\n",
        "''' we can use nested if-else in python by using an if and else within an if condition.\n",
        "eg: write a code to check if a number is even and if its multiple of 5'''\n",
        "n=int(input(\"enter a number \"))\n",
        "if(n%2==0):\n",
        "  if(n%5==0):\n",
        "    print(\"number is even and if its multiple of 5\")\n",
        "  else:\n",
        "    print(\"number is even but its not a multiple of 5\")\n",
        "else:\n",
        "  print(\"number is not even\")\n"
      ],
      "metadata": {
        "colab": {
          "base_uri": "https://localhost:8080/"
        },
        "id": "BP8V1jPEULIb",
        "outputId": "68c8f1ac-618c-4b84-ef9c-c4a2f900c092"
      },
      "execution_count": null,
      "outputs": [
        {
          "output_type": "stream",
          "name": "stdout",
          "text": [
            "enter a number 24\n",
            "number is even but its not a multiple of 5\n"
          ]
        }
      ]
    },
    {
      "cell_type": "code",
      "source": [
        "# 4. Write a Python program to determine the largest of three numbers using if-else.\n",
        "a=int(input(\"enter a number \"))\n",
        "b=int(input(\"enter a number \"))\n",
        "c=int(input(\"enter a number \"))\n",
        "if a>b and a>c:\n",
        "  print(f\"{a} is the greatest number of the three\")\n",
        "elif b>c:\n",
        "  print(f\"{b} is the greatest number of the three\")\n",
        "else:\n",
        "  print(f\"{c} is the greatest number of the three\")"
      ],
      "metadata": {
        "colab": {
          "base_uri": "https://localhost:8080/"
        },
        "id": "VxaYRdvBV32T",
        "outputId": "9291af40-68b2-4121-b52f-e3ae41b11453"
      },
      "execution_count": null,
      "outputs": [
        {
          "output_type": "stream",
          "name": "stdout",
          "text": [
            "enter a number 4\n",
            "enter a number 9\n",
            "enter a number 7\n",
            "9 is the greatest number of the three\n"
          ]
        }
      ]
    },
    {
      "cell_type": "code",
      "source": [
        "# 5. Write a Python program that calculates the absolute value of a number using if-else.\n",
        "n=int(input(\"enter a number \"))\n",
        "if(n<0):\n",
        "  st=str(n)\n",
        "  print(st[1:])\n",
        "else:\n",
        "  print(n)\n"
      ],
      "metadata": {
        "colab": {
          "base_uri": "https://localhost:8080/"
        },
        "id": "ICIUI_RZX7C1",
        "outputId": "40e37e0b-094e-479f-eb30-68cd866ad31d"
      },
      "execution_count": null,
      "outputs": [
        {
          "output_type": "stream",
          "name": "stdout",
          "text": [
            "enter a number 10\n",
            "10\n"
          ]
        }
      ]
    },
    {
      "cell_type": "code",
      "source": [
        "# 6. Create a Python program that checks if a given character is a vowel or consonant using if-else.\n",
        "ch=input(\"enter a character \")\n",
        "vow=[\"a\",\"e\",\"i\",\"o\",\"u\"]\n",
        "if ch in vow:\n",
        "  print(f\"{ch} is a vowel\")\n",
        "else:\n",
        "  print(f\"{ch} is a consonant\")"
      ],
      "metadata": {
        "colab": {
          "base_uri": "https://localhost:8080/"
        },
        "id": "keuXdPnF69aN",
        "outputId": "df1856f9-90ca-4aa5-a181-2d2a1cbfc799"
      },
      "execution_count": null,
      "outputs": [
        {
          "output_type": "stream",
          "name": "stdout",
          "text": [
            "enter a character i\n",
            "i is a vowel\n"
          ]
        }
      ]
    },
    {
      "cell_type": "code",
      "source": [
        "# 7. Write a Python program to determine if a user is eligible to vote based on their age using if-else.\n",
        "age=int(input(\"enter user age \"))\n",
        "if age>=18:\n",
        "  print(\"user is eligible to vote\")\n",
        "else:\n",
        "  print(\"user is not eligible to vote\")"
      ],
      "metadata": {
        "colab": {
          "base_uri": "https://localhost:8080/"
        },
        "id": "L9GeebRV69d6",
        "outputId": "a4f47b50-fbc4-4861-a334-005ddd7390ee"
      },
      "execution_count": null,
      "outputs": [
        {
          "output_type": "stream",
          "name": "stdout",
          "text": [
            "enter user age 18\n",
            "user is eligible to vote\n"
          ]
        }
      ]
    },
    {
      "cell_type": "code",
      "source": [
        "# 8. Create a Python program that calculates the discount amount based on the purchase amount using if-else.\n",
        "amt=float(input(\"enter the amount \"))\n",
        "dst=float(input(\"enter the discount \"))\n",
        "if(dst==15):\n",
        "  amt=amt*(15/100)\n",
        "elif(dst==20):\n",
        "  amt=amt*(20/100)\n",
        "else:\n",
        "  print(\"no discount\")\n",
        "print(\"discount amount\",amt)"
      ],
      "metadata": {
        "colab": {
          "base_uri": "https://localhost:8080/"
        },
        "id": "l7GoHwC08s5Q",
        "outputId": "6674ba81-f165-4fba-85d1-98c16178316b"
      },
      "execution_count": null,
      "outputs": [
        {
          "output_type": "stream",
          "name": "stdout",
          "text": [
            "enter the amount 600\n",
            "enter the discount 15\n",
            "discount amount 90.0\n"
          ]
        }
      ]
    },
    {
      "cell_type": "code",
      "source": [
        "# 9. Write a Python program to check if a number is within a specified range using if-else.\n",
        "n=int(input(\"enter a number \"))\n",
        "if 10<=n<=100:\n",
        "  print('number is within the range')\n",
        "else:\n",
        "  print(\"number not in the range\")"
      ],
      "metadata": {
        "colab": {
          "base_uri": "https://localhost:8080/"
        },
        "id": "o0l5cdgM8s8m",
        "outputId": "d1982c91-9686-432e-ff33-26c6c36ca606"
      },
      "execution_count": null,
      "outputs": [
        {
          "output_type": "stream",
          "name": "stdout",
          "text": [
            "enter a number 67\n",
            "number is within the range\n"
          ]
        }
      ]
    },
    {
      "cell_type": "code",
      "source": [
        "# 10. Create a Python program that determines the grade of a student based on their score using if-else.\n",
        "marks=float(input(\"enter the marks of the student \"))\n",
        "if 85 <=marks<=100:\n",
        "  print(\"grade of the student is\",\"A\")\n",
        "elif 75<=marks<85:\n",
        "  print(\"grade of the student is\",\"B\")\n",
        "elif 65<=marks<75:\n",
        "  print(\"grade of the student is\",\"C\")\n",
        "elif 55<=marks<65:\n",
        "  print(\"grade of the student is\",\"D\")\n",
        "elif 45<=marks<55:\n",
        "  print(\"grade of the student is\",\"E\")\n",
        "else:\n",
        "  print(\"grade of the student is\",\"F\")\n"
      ],
      "metadata": {
        "colab": {
          "base_uri": "https://localhost:8080/"
        },
        "id": "gOf0hn998tDN",
        "outputId": "38d83e20-ce30-4b51-e293-36a957387a21"
      },
      "execution_count": null,
      "outputs": [
        {
          "output_type": "stream",
          "name": "stdout",
          "text": [
            "enter the marks of the student 12\n",
            "grade of the student is F\n"
          ]
        }
      ]
    },
    {
      "cell_type": "code",
      "source": [
        "# 11. Write a Python program to check if a string is empty or not using if-else.\n",
        "st=input(\"enter a sentence \")\n",
        "if st==\"\":\n",
        "  print(\"string is empty\")\n",
        "else:\n",
        "  print(\"string is not empty\")"
      ],
      "metadata": {
        "colab": {
          "base_uri": "https://localhost:8080/"
        },
        "id": "uC9M-JsICbX4",
        "outputId": "43734e50-c2c0-4e3e-b0bc-803b9002c1a6"
      },
      "execution_count": null,
      "outputs": [
        {
          "output_type": "stream",
          "name": "stdout",
          "text": [
            "enter a sentence \n",
            "string is empty\n"
          ]
        }
      ]
    },
    {
      "cell_type": "code",
      "source": [
        "# 12. Create a Python program that identifies the type of a triangle (e.g., equilateral, isosceles, or scalene) based on input values using if-else.\n",
        "l=input(\"enter angles of a triangle\").split()\n",
        "if l.count(\"60\")==3:\n",
        "  print(\"its an equilateral triangle\")\n",
        "elif(l.count(l[0])==2 or l.count(l[1])==2 or l.count(l[2]==2)):\n",
        "  print(\"its an isosceles triangle\")\n",
        "else:\n",
        "  print(\"its a scalene triangle\")"
      ],
      "metadata": {
        "id": "AWAGaBsCC0Gl",
        "colab": {
          "base_uri": "https://localhost:8080/"
        },
        "outputId": "3c24ea60-1f4f-4186-d483-31cbb36958ba"
      },
      "execution_count": 2,
      "outputs": [
        {
          "output_type": "stream",
          "name": "stdout",
          "text": [
            "enter angles of a triangle60 60 60\n",
            "its an equilateral triangle\n"
          ]
        }
      ]
    },
    {
      "cell_type": "code",
      "source": [
        "# 13. Write a Python program to determine the day of the week based on a user-provided number using if-else.\n",
        "n=int(input(\"enter a number \"))\n",
        "if n==1:\n",
        "  print(\"Sunday\")\n",
        "elif n==2:\n",
        "  print(\"Monday\")\n",
        "elif n==3:\n",
        "  print(\"Tuesday\")\n",
        "elif n==4:\n",
        "  print(\"Wednesday\")\n",
        "elif n==5:\n",
        "  print(\"Thursday\")\n",
        "elif n==6:\n",
        "  print(\"Friday\")\n",
        "elif n==7:\n",
        "  print(\"Saturday\")\n",
        "else:\n",
        "  print(\"please enter a valid number\")"
      ],
      "metadata": {
        "colab": {
          "base_uri": "https://localhost:8080/"
        },
        "id": "WIx-xC814X_a",
        "outputId": "1b175315-94fa-445b-e900-314ef8f8106a"
      },
      "execution_count": 1,
      "outputs": [
        {
          "output_type": "stream",
          "name": "stdout",
          "text": [
            "enter a number 6\n",
            "Friday\n"
          ]
        }
      ]
    },
    {
      "cell_type": "code",
      "source": [
        "# 14. Create a Python program that checks if a given year is a leap year using both if-else and a function.\n",
        "year=int(input(\"enter a year \"))\n",
        "if (year%100 == 0 and year%4==0)or year%400==0:\n",
        "  print(f\"{year} is a leap year\")\n",
        "else:\n",
        "  print(\"not a leap year\")\n"
      ],
      "metadata": {
        "id": "sNfVZiIg4kga"
      },
      "execution_count": null,
      "outputs": []
    },
    {
      "cell_type": "code",
      "source": [
        "# 15. How do you use the \"assert\" statement in Python to add debugging checks within if-else blocks?\n",
        "'''\n",
        "Assertions are mainly for debugging. They’ll help you ensure that you don’t introduce new bugs while adding features and fixing other bugs in your code.\n",
        "However, they can have other interesting use cases within your development process. These use cases include documenting and testing your code.\n",
        "\n",
        "An assert statement consists of the assert keyword, the expression or condition to test, and an optional message. The condition is supposed to always be true. If the assertion condition is true, then nothing happens, and your program continues its normal execution.\n",
        "On the other hand, if the condition becomes false, then assert halts the program by raising an AssertionError.'''"
      ],
      "metadata": {
        "id": "NixZS9XV7n5n"
      },
      "execution_count": null,
      "outputs": []
    },
    {
      "cell_type": "code",
      "source": [
        "# 16. Create a Python program that determines the eligibility of a person for a senior citizen discount based on age using if-else\n",
        "age=int(input(\"enter a number \"))\n",
        "dst=0\n",
        "if age>59:\n",
        "  print(\"they will get a discount\")\n",
        "else:\n",
        "  print(\"they are not eligible \")\n"
      ],
      "metadata": {
        "id": "SMHwxxKH7n8E"
      },
      "execution_count": null,
      "outputs": []
    },
    {
      "cell_type": "markdown",
      "source": [
        "Map"
      ],
      "metadata": {
        "id": "PFa7CIFc3U5Z"
      }
    },
    {
      "cell_type": "code",
      "source": [
        "''' Explain the purpose of the `map()` function in Python and\n",
        " provide an example of how it can be used to apply a function to each element of an iterable.\n",
        "\n",
        " map is used to apply a function to every value of an iterable object\n",
        " syntax: list(map(func,iterable))\n",
        " eg:\n",
        " x=list(map(lambda a:a*2,[67,89,96,0,12]))\n",
        "\n",
        " '''\n"
      ],
      "metadata": {
        "id": "5qx0QCjr3UkE"
      },
      "execution_count": null,
      "outputs": []
    },
    {
      "cell_type": "code",
      "source": [
        "# Write a Python program that uses the `map()` function to square each element of a list of numbers.\n",
        "l=[3,45,6,23,21,0]\n",
        "x=list(map(lambda a:a**2,l))\n",
        "print(x)"
      ],
      "metadata": {
        "colab": {
          "base_uri": "https://localhost:8080/"
        },
        "id": "-v4-03sr7oAC",
        "outputId": "be474077-2a95-43f9-e675-711ec32e8a6c"
      },
      "execution_count": null,
      "outputs": [
        {
          "output_type": "stream",
          "name": "stdout",
          "text": [
            "n\n",
            "a\n",
            "v\n",
            "y\n",
            "a\n",
            " \n",
            "t\n",
            "h\n",
            "e\n",
            " \n",
            "g\n",
            "r\n",
            "e\n",
            "a\n",
            "t\n"
          ]
        }
      ]
    },
    {
      "cell_type": "code",
      "source": [
        "# 3. How does the `map()` function differ from a list comprehension in Python, and when would you choose one over the other?\n",
        "''' map is used to map a function on every element of an iterable object\n",
        "meanwhile list comprehension is used to make a new list from the elements of a previous after some operation is performed on those elements '''"
      ],
      "metadata": {
        "id": "DQJ9iRdw7011",
        "colab": {
          "base_uri": "https://localhost:8080/",
          "height": 52
        },
        "outputId": "d8459c2b-1c23-41c3-e52d-374bda9e156d"
      },
      "execution_count": null,
      "outputs": [
        {
          "output_type": "execute_result",
          "data": {
            "text/plain": [
              "' map is used to map a function on every element of an iterable object\\nmeanwhile list comprehension is used to make a new list from the elements of a previous after some operation is performed on those elements '"
            ],
            "application/vnd.google.colaboratory.intrinsic+json": {
              "type": "string"
            }
          },
          "metadata": {},
          "execution_count": 1
        }
      ]
    },
    {
      "cell_type": "code",
      "source": [
        "# 4. Create a Python program that uses the `map()` function to convert a list of names to uppercase.\n",
        "l=[\"navya\",\"cat\",\"bob\",\"weep\"]\n",
        "x=list(map(lambda a: a.upper(),l))\n",
        "print(x)"
      ],
      "metadata": {
        "colab": {
          "base_uri": "https://localhost:8080/"
        },
        "id": "m-Is8ERt9Yak",
        "outputId": "d6fe2158-eca5-49dd-88eb-d56cfd4c0147"
      },
      "execution_count": null,
      "outputs": [
        {
          "output_type": "stream",
          "name": "stdout",
          "text": [
            "['NAVYA', 'CAT', 'BOB', 'WEEP']\n"
          ]
        }
      ]
    },
    {
      "cell_type": "code",
      "source": [
        "# 5. Write a Python program that uses the `map()` function to calculate the length of each word in a list of strings.\n",
        "l=[\"navya\",\"cat\",\"bob\",\"weep\"]\n",
        "x=list(map(lambda a:len(a),l))\n",
        "print(x)"
      ],
      "metadata": {
        "colab": {
          "base_uri": "https://localhost:8080/"
        },
        "id": "NEZY1onF9-m9",
        "outputId": "13e1c6fd-64af-467d-bb87-40315613c1e7"
      },
      "execution_count": null,
      "outputs": [
        {
          "output_type": "stream",
          "name": "stdout",
          "text": [
            "[5, 3, 3, 4]\n"
          ]
        }
      ]
    },
    {
      "cell_type": "code",
      "source": [
        "# 6. How can you use the `map()` function to apply a custom function to elements of multiple lists simultaneously in Python?\n",
        "listA=['1', '2' , '3']\n",
        "listB=['apple','cats','water']\n",
        "list(map(lambda x, y: x+ ' ' +y, listA, listB))"
      ],
      "metadata": {
        "id": "NF8gaRYs-RdU"
      },
      "execution_count": null,
      "outputs": []
    },
    {
      "cell_type": "code",
      "source": [
        "# 7. Create a Python program that uses `map()` to convert a list of temperatures from Celsius to Fahrenheit.\n",
        "l=[78,90,56,34]\n",
        "x=list(map(lambda a:(a* 9/5) + 32),l)\n",
        "x"
      ],
      "metadata": {
        "id": "6B5Y1yEsE9XQ"
      },
      "execution_count": null,
      "outputs": []
    },
    {
      "cell_type": "code",
      "source": [
        "# 8. Write a Python program that uses the `map()` function to round each element of a list of floating-point numbers to the nearest integer.\n",
        "l=[90.9,87,23,67.5,0]\n",
        "x=list(map(lambda a:abs(a),l))\n",
        "x"
      ],
      "metadata": {
        "id": "ryioRYoYGGxk"
      },
      "execution_count": null,
      "outputs": []
    },
    {
      "cell_type": "markdown",
      "source": [
        "Reduce"
      ],
      "metadata": {
        "id": "UGZLJWrRfT14"
      }
    },
    {
      "cell_type": "code",
      "source": [
        "# 1. What is the `reduce()` function in Python, and what module should you import to use it? Provide an example of its basic usage.\n",
        "''' reduce() is used to get a single value from an iterable object, we use the functools library to import the reduce module\n",
        "syntax:\n",
        "x=reduce(function,iterable object)\n",
        "eg:\n",
        "x=reduce(lambda a,b:min(a,b),[1,78,5,32,4,10])'''\n",
        "from functools import reduce"
      ],
      "metadata": {
        "id": "lfV5UFAtfOvI"
      },
      "execution_count": null,
      "outputs": []
    },
    {
      "cell_type": "code",
      "source": [
        "# 2. Write a Python program that uses the `reduce()` function to find the product of all elements in a list.\n",
        "x=reduce(lambda a,b:a*b,[1,67,85,45,89])\n",
        "x"
      ],
      "metadata": {
        "id": "A_JUo4u7fiPr"
      },
      "execution_count": null,
      "outputs": []
    },
    {
      "cell_type": "code",
      "source": [
        "# 3. Create a Python program that uses `reduce()` to find the maximum element in a list of numbers.\n",
        "x=reduce(lambda a,b:max(a,b),[1,78,5,32,4,10])\n",
        "x"
      ],
      "metadata": {
        "id": "nAz3YnUjfiCs"
      },
      "execution_count": null,
      "outputs": []
    },
    {
      "cell_type": "code",
      "source": [
        "# 4. How can you use the `reduce()` function to concatenate a list of strings into a single string?\n",
        "x= reduce(lambda a,b:a+b,[\"navya\",\"is\",\"great\"])\n",
        "x"
      ],
      "metadata": {
        "id": "TYrv6QPJic9I"
      },
      "execution_count": null,
      "outputs": []
    },
    {
      "cell_type": "code",
      "source": [
        "# 5. Write a Python program that calculates the factorial of a number using the `reduce()` function.\n",
        "n=int(input(\"enter a number \"))\n",
        "x= reduce(lambda a,b:a*b,[i for i in range(1,n+1)])\n",
        "print(x)"
      ],
      "metadata": {
        "colab": {
          "base_uri": "https://localhost:8080/"
        },
        "id": "t37BSADFjGtp",
        "outputId": "28b4fd8d-d6e8-4251-9be3-203573d7e6dd"
      },
      "execution_count": null,
      "outputs": [
        {
          "output_type": "stream",
          "name": "stdout",
          "text": [
            "enter a number 5\n",
            "120\n"
          ]
        }
      ]
    },
    {
      "cell_type": "code",
      "source": [
        "# 6. Create a Python program that uses `reduce()` to find the GCD (Greatest Common Divisor) of a list of numbers.\n",
        "def gcd(a,b):\n",
        "  mi=min(a,b)\n",
        "  mx=0\n",
        "  for i in range(1,mi+1):\n",
        "    if a%i==0 and b%i==0:\n",
        "      mx=i\n",
        "  return mx\n",
        "x=reduce(gcd(a,b),[23,56,43,78])\n",
        "x\n",
        "\n"
      ],
      "metadata": {
        "id": "J322W7f1j93D"
      },
      "execution_count": null,
      "outputs": []
    },
    {
      "cell_type": "code",
      "source": [
        "# 7. Write a Python program that uses the `reduce()` function to find the sum of the digits of a given number.\n",
        "n=int(input(\"enter a number \"))\n",
        "l=list(str(n))\n",
        "l=[int(i) for i in l]\n",
        "x= reduce(lambda a,b:a+b,l)\n",
        "x"
      ],
      "metadata": {
        "colab": {
          "base_uri": "https://localhost:8080/"
        },
        "id": "B6wwpBS-ldIJ",
        "outputId": "43f66980-766f-4e19-b77e-897a7df37bda"
      },
      "execution_count": null,
      "outputs": [
        {
          "name": "stdout",
          "output_type": "stream",
          "text": [
            "enter a number 9876\n"
          ]
        },
        {
          "output_type": "execute_result",
          "data": {
            "text/plain": [
              "30"
            ]
          },
          "metadata": {},
          "execution_count": 6
        }
      ]
    },
    {
      "cell_type": "markdown",
      "source": [
        "Filter"
      ],
      "metadata": {
        "id": "bSkZFKAdrt23"
      }
    },
    {
      "cell_type": "code",
      "source": [
        "# 1. Explain the purpose of the `filter()` function in Python and provide an example of how it can be used to filter elements from an iterable.\n",
        "''' filter() is used to filter ount the values of an iterable object based on some condition specified'''"
      ],
      "metadata": {
        "id": "9Vv5qyRrrE3C"
      },
      "execution_count": null,
      "outputs": []
    },
    {
      "cell_type": "code",
      "source": [
        "# 2. Write a Python program that uses the `filter()` function to select even numbers from a list of integers.\n",
        "l=[97,6,53,41,26,7,10]\n",
        "x=list(filter(lambda a:a%2,l))\n",
        "x"
      ],
      "metadata": {
        "id": "1BX8puc-sobO"
      },
      "execution_count": null,
      "outputs": []
    },
    {
      "cell_type": "code",
      "source": [
        "\n",
        "# 3. Create a Python program that uses the `filter()` function to select names that start with a specific letter from a list of strings.\n",
        "l=[\"iop\",\"ajk\",\"rty\",\"atm\",\"ewq\",\"bao\",\"apple\"]\n",
        "ch=input(\"enter a charater \")\n",
        "x=list(filter(lambda a:a.startswith(ch),l))\n",
        "x"
      ],
      "metadata": {
        "colab": {
          "base_uri": "https://localhost:8080/"
        },
        "id": "29MXcB1osoee",
        "outputId": "628898bd-31d9-4342-b4ab-8916f00f828a"
      },
      "execution_count": null,
      "outputs": [
        {
          "name": "stdout",
          "output_type": "stream",
          "text": [
            "enter a charater r\n"
          ]
        },
        {
          "output_type": "execute_result",
          "data": {
            "text/plain": [
              "['rty']"
            ]
          },
          "metadata": {},
          "execution_count": 11
        }
      ]
    },
    {
      "cell_type": "code",
      "source": [
        "# 4. Write a Python program that uses the `filter()` function to select prime numbers from a list of integers.\n",
        "l=[2,67,89,4,53,26,40,15]\n",
        "def pri(n):\n",
        "  if n==2:\n",
        "    return True\n",
        "  c=0\n",
        "  for i in range(2,n):\n",
        "    if n%i==0:\n",
        "      c+=1\n",
        "      break\n",
        "  if c==0:\n",
        "    return True\n",
        "\n",
        "x=list(filter(pri,l))\n",
        "x"
      ],
      "metadata": {
        "colab": {
          "base_uri": "https://localhost:8080/"
        },
        "id": "bMPWaNY7sohw",
        "outputId": "667e5c1f-e009-4668-c682-329cddd70ab1"
      },
      "execution_count": null,
      "outputs": [
        {
          "output_type": "execute_result",
          "data": {
            "text/plain": [
              "[2, 67, 89, 53]"
            ]
          },
          "metadata": {},
          "execution_count": 5
        }
      ]
    },
    {
      "cell_type": "code",
      "source": [
        "# 5. How can you use the `filter()` function to remove None values from a list in Python?\n",
        "l=[6,True,None,\"p\",89,None,[],\"top\"]\n",
        "x=list(filter(lambda a:a,l))\n",
        "x"
      ],
      "metadata": {
        "id": "pFyGHc1csolM",
        "colab": {
          "base_uri": "https://localhost:8080/"
        },
        "outputId": "5c119251-323f-4675-ece3-1d07c709d294"
      },
      "execution_count": null,
      "outputs": [
        {
          "output_type": "execute_result",
          "data": {
            "text/plain": [
              "[6, True, 'p', 89, 'top']"
            ]
          },
          "metadata": {},
          "execution_count": 7
        }
      ]
    },
    {
      "cell_type": "code",
      "source": [
        "# 6.Create a Python program that uses `filter()` to select words longer than a certain length from a list of strings.\n",
        "st=[\"navya\",\"is\",\"here\",\"coding \",\"is\",\"great\"]\n",
        "n=4\n",
        "x=list(filter(lambda a: len(a)>n,st))\n",
        "x"
      ],
      "metadata": {
        "colab": {
          "base_uri": "https://localhost:8080/"
        },
        "id": "6rXsTXjlFDqR",
        "outputId": "2a2f8f55-8d78-4a4c-b905-937d2382628d"
      },
      "execution_count": null,
      "outputs": [
        {
          "output_type": "execute_result",
          "data": {
            "text/plain": [
              "['navya', 'coding ', 'great']"
            ]
          },
          "metadata": {},
          "execution_count": 8
        }
      ]
    },
    {
      "cell_type": "code",
      "source": [
        "#7 Write a Python program that uses the `filter()` function to select elements greater than a specified threshold from a list of values.\n",
        "l=[12,8,90,17,34,83,101,3,52,48]\n",
        "n=50\n",
        "x=list(filter(lambda a: a>n,l))\n",
        "x"
      ],
      "metadata": {
        "colab": {
          "base_uri": "https://localhost:8080/"
        },
        "id": "K_HFFK_2GYmm",
        "outputId": "87fcfd91-b1b1-414f-cc2b-d4e89bb12119"
      },
      "execution_count": null,
      "outputs": [
        {
          "output_type": "execute_result",
          "data": {
            "text/plain": [
              "[90, 83, 101, 52]"
            ]
          },
          "metadata": {},
          "execution_count": 10
        }
      ]
    },
    {
      "cell_type": "markdown",
      "source": [
        "Recursion"
      ],
      "metadata": {
        "id": "CUNbMUFjVeQv"
      }
    },
    {
      "cell_type": "code",
      "source": [
        "# 1.Explain the concept of recursion in Python. How does it differ from iteration?\n",
        "''' recursion is the process by which a function calls itself, its just like a loop but it follows a divide and conccur approach.\n",
        "In recursion we have a base condition which when met indicates that its the end of the recursive call.\n",
        "\n",
        "Iteration is performing a certain set of code again and again until a paticular condition is false.\n",
        "\n",
        "the difference between iteration and recursion is iteration ends when condition is false and recursion is when condition is true,\n",
        "also recursion requires extra space that is stack to store all the calls and then execute each call one by one.\n",
        "while for loop doesnt require any extra storage space.\n",
        "\n",
        "\n",
        "'''"
      ],
      "metadata": {
        "colab": {
          "base_uri": "https://localhost:8080/",
          "height": 139
        },
        "id": "DFIYad5nGx4j",
        "outputId": "58d39e51-0c14-4cb8-b3cd-2dd9af1c289c"
      },
      "execution_count": null,
      "outputs": [
        {
          "output_type": "execute_result",
          "data": {
            "text/plain": [
              "' recursion is the process by which a function calls itself, its just like a loop but it follows a divide and conccur approach.\\nIn recursion we have a base condition which when met indicates that its the end of the recursive call. \\n\\nIteration is performing a certain set of code again and again until a paticular condition is false.\\n\\nthe difference between iteration and recursion is iteration ends when condition is false and recursion is when condition is true,\\nalso recursion requires extra space that is stack to store all the calls and then \\n\\n\\n'"
            ],
            "application/vnd.google.colaboratory.intrinsic+json": {
              "type": "string"
            }
          },
          "metadata": {},
          "execution_count": 1
        }
      ]
    },
    {
      "cell_type": "code",
      "source": [
        "# 2.Write a Python program to calculate the factorial of a number using recursion.\n",
        "\n",
        "def fact(n):\n",
        "\n",
        "  if n==0:\n",
        "    return 1\n",
        "\n",
        "  else:\n",
        "    return n*fact(n-1)\n",
        "\n",
        "fact(10)"
      ],
      "metadata": {
        "id": "u9FpDRH6bfmb"
      },
      "execution_count": null,
      "outputs": []
    },
    {
      "cell_type": "code",
      "source": [
        "# 3.Create a recursive Python function to find the nth Fibonacci number.\n",
        "\n",
        "def fib(n):\n",
        "\n",
        "  if n<=1:\n",
        "    return 1\n",
        "\n",
        "  else:\n",
        "    return fib(n-1)+fib(n-2)\n",
        "\n",
        "fib(9)"
      ],
      "metadata": {
        "id": "nsw499-vcO5t"
      },
      "execution_count": null,
      "outputs": []
    },
    {
      "cell_type": "code",
      "source": [
        "# 4.Write a recursive Python function to calculate the sum of all elements in a list.\n",
        "\n",
        "def sum(l):\n",
        "  if(len(l)==0):\n",
        "    return 0\n",
        "  else:\n",
        "    return l[0]+sum(l[1:])\n",
        "\n",
        "sum([9,8,23,4])"
      ],
      "metadata": {
        "colab": {
          "base_uri": "https://localhost:8080/"
        },
        "id": "FRdGjjy8crmk",
        "outputId": "19378a38-e081-4fc8-f74f-411659096c58"
      },
      "execution_count": null,
      "outputs": [
        {
          "output_type": "execute_result",
          "data": {
            "text/plain": [
              "44"
            ]
          },
          "metadata": {},
          "execution_count": 2
        }
      ]
    },
    {
      "cell_type": "code",
      "source": [
        "# 5.How can you prevent a recursive function from running indefinitely, causing a stack overflow error\n",
        "'''  we can prevent a recursive call from running indefinitely is by giving a base condition that when on being true stops the recursive call,\n",
        "thereby preventing stackoverflow'''"
      ],
      "metadata": {
        "colab": {
          "base_uri": "https://localhost:8080/"
        },
        "id": "A82KMRdzcrpi",
        "outputId": "2cb9ecfa-6031-4250-c14b-1dc84bb9a93a"
      },
      "execution_count": null,
      "outputs": [
        {
          "output_type": "execute_result",
          "data": {
            "text/plain": [
              "0"
            ]
          },
          "metadata": {},
          "execution_count": 4
        }
      ]
    },
    {
      "cell_type": "code",
      "source": [
        "# 6.Create a recursive Python function to find the greatest common divisor (GCD) of two numbers using the Euclidean algorithm.\n",
        "\n",
        "def gcd(a,b):\n",
        "\n",
        "  if b==0:\n",
        "    return a\n",
        "\n",
        "  else:\n",
        "    return gcd(b,a%b)\n",
        "\n",
        "gcd(5,10)"
      ],
      "metadata": {
        "colab": {
          "base_uri": "https://localhost:8080/"
        },
        "id": "VbGWRxtwcrtl",
        "outputId": "a9dfe869-a2c1-47ce-bc81-7b6831f1c9de"
      },
      "execution_count": null,
      "outputs": [
        {
          "output_type": "execute_result",
          "data": {
            "text/plain": [
              "5"
            ]
          },
          "metadata": {},
          "execution_count": 6
        }
      ]
    },
    {
      "cell_type": "code",
      "source": [
        "# 7.Write a recursive Python function to reverse a string\n",
        "\n",
        "def reverse(st):\n",
        "  if(len(st)==0):\n",
        "    return \"\"\n",
        "\n",
        "  else:\n",
        "    return st[-1] + reverse(st[:len(st)-1])\n",
        "\n",
        "reverse(\"navya\")"
      ],
      "metadata": {
        "colab": {
          "base_uri": "https://localhost:8080/",
          "height": 35
        },
        "id": "_Bdpoo13crxt",
        "outputId": "77e3fd12-ec27-44c6-8e6a-5634d947de2f"
      },
      "execution_count": null,
      "outputs": [
        {
          "output_type": "execute_result",
          "data": {
            "text/plain": [
              "'ayvan'"
            ],
            "application/vnd.google.colaboratory.intrinsic+json": {
              "type": "string"
            }
          },
          "metadata": {},
          "execution_count": 7
        }
      ]
    },
    {
      "cell_type": "code",
      "source": [
        "# 8.Create a recursive Python function to calculate the power of a number (x^n).\n",
        "\n",
        "def x_n(x,n):\n",
        "  if n==0:\n",
        "    return 1\n",
        "\n",
        "  else:\n",
        "    return x* x_n(x,n-1)\n",
        "\n",
        "x_n(10,5)\n"
      ],
      "metadata": {
        "colab": {
          "base_uri": "https://localhost:8080/"
        },
        "id": "XHxQvltZcrzw",
        "outputId": "6e936abf-31e1-40b1-da57-3fd926aa4884"
      },
      "execution_count": null,
      "outputs": [
        {
          "output_type": "execute_result",
          "data": {
            "text/plain": [
              "100000"
            ]
          },
          "metadata": {},
          "execution_count": 9
        }
      ]
    },
    {
      "cell_type": "code",
      "source": [
        "# 9.Write a recursive Python function to find all permutations of a given string\n",
        "\n",
        "def permutation(st,ch=\"\"):\n",
        "\n",
        "  if len(st)==0:\n",
        "    print(ch)\n",
        "\n",
        "  else:\n",
        "    for i in range(len(st)):\n",
        "      nch=ch+st[i]\n",
        "      nst=st[0:i]+st[i+1:]\n",
        "\n",
        "      permutation(nst,nch)\n",
        "\n",
        "permutation(\"931\")"
      ],
      "metadata": {
        "colab": {
          "base_uri": "https://localhost:8080/"
        },
        "id": "hFJFTi4xcr3c",
        "outputId": "c4701276-4442-4e11-af3a-2b209d7e2315"
      },
      "execution_count": null,
      "outputs": [
        {
          "output_type": "stream",
          "name": "stdout",
          "text": [
            "931\n",
            "913\n",
            "391\n",
            "319\n",
            "193\n",
            "139\n"
          ]
        }
      ]
    },
    {
      "cell_type": "code",
      "source": [
        "#10.Write a recursive Python function to check if a string is a palindrome\n",
        "\n",
        "def palindrome(st):\n",
        "  x=st\n",
        "  def reverse(st):\n",
        "    if(len(st)==0):\n",
        "      return \"\"\n",
        "    else:\n",
        "      return st[-1]+reverse(st[:len(st)-1])\n",
        "\n",
        "  if x==reverse(x):\n",
        "    print(\"string is palindrome\")\n",
        "\n",
        "  else:\n",
        "    print(\"string isnt palindrome\")\n",
        "\n",
        "palindrome(\"popp\")"
      ],
      "metadata": {
        "colab": {
          "base_uri": "https://localhost:8080/"
        },
        "id": "JtGRmR-qcr6c",
        "outputId": "e65d0ef1-17de-43b8-f250-52352b364085"
      },
      "execution_count": null,
      "outputs": [
        {
          "output_type": "stream",
          "name": "stdout",
          "text": [
            "string isnt palindrome\n"
          ]
        }
      ]
    },
    {
      "cell_type": "code",
      "source": [
        "# 11.Create a recursive Python function to generate all possible combinations of a list of element.\n",
        "def generate_combinations_recursive(nums):\n",
        "    result = []\n",
        "    if not nums:\n",
        "        return [[]]\n",
        "    for i in generate_combinations_recursive(nums[1:]):\n",
        "        result.append(i)\n",
        "        result.append([nums[0]] + i)\n",
        "    return result\n",
        "test_list = [55, 46, 47, 89, 76]\n",
        "print(generate_combinations_recursive(test_list))\n"
      ],
      "metadata": {
        "id": "I4cYMT4Wcr8w"
      },
      "execution_count": null,
      "outputs": []
    },
    {
      "cell_type": "markdown",
      "source": [
        "Basics of functions"
      ],
      "metadata": {
        "id": "PdJHxwKwhn0u"
      }
    },
    {
      "cell_type": "code",
      "source": [
        "#1. .What is a function in Python, and why is it used?\n",
        "''' function is a piece of code which can be called and used anywhere at anytime.\n",
        "It allows code reusability and provides modularity  '''"
      ],
      "metadata": {
        "id": "PWZlsKgycr__"
      },
      "execution_count": null,
      "outputs": []
    },
    {
      "cell_type": "code",
      "source": [
        "# 2.How do you define a function in Python? Provide an example\n",
        "''' we use the keyword def to define a function in python\n",
        "syntax:\n",
        "def func_name (parameters)\n",
        "eg:'''\n",
        "def print_list(l):\n",
        "  for i in l:\n",
        "    print(i)\n",
        "\n",
        "print_list([1,2,3,4])\n"
      ],
      "metadata": {
        "id": "T-cj1joyht5E"
      },
      "execution_count": null,
      "outputs": []
    },
    {
      "cell_type": "code",
      "source": [
        "# 3.Explain the difference between a function definition and a function call\n",
        " ''' function defination is the area where we write the code/working of a function,\n",
        "  whereas function call is the process by which the previously defined function is provoked'''"
      ],
      "metadata": {
        "id": "e0vV-6Liht8I"
      },
      "execution_count": null,
      "outputs": []
    },
    {
      "cell_type": "code",
      "source": [
        "# 4. .Write a Python program that defines a function to calculate the sum of two numbers and then calls the function\n",
        "def sum(a,b):\n",
        "  return a+b\n",
        "\n",
        "sum(5,6)"
      ],
      "metadata": {
        "id": "KoXHP6q2huAt"
      },
      "execution_count": null,
      "outputs": []
    },
    {
      "cell_type": "code",
      "source": [
        "# 5.What is a function signature, and what information does it typically include?\n",
        "'''A function signature typically informs us about the types of parameters that a function can accept as arguments and the type of data or result it returns.'''"
      ],
      "metadata": {
        "id": "C_4DsnvnhuEm"
      },
      "execution_count": null,
      "outputs": []
    },
    {
      "cell_type": "code",
      "source": [
        "# 6.Create a Python function that takes two arguments and returns their product.\n",
        "\n",
        "def product(a,b):\n",
        "  return a*b\n",
        "\n",
        "product(3,4)"
      ],
      "metadata": {
        "id": "omBkICtehuHS"
      },
      "execution_count": null,
      "outputs": []
    },
    {
      "cell_type": "markdown",
      "source": [
        "Function Parameters and Arguments"
      ],
      "metadata": {
        "id": "i3A50J4TjtYR"
      }
    },
    {
      "cell_type": "code",
      "source": [
        "#1.Explain the concepts of formal parameters and actual arguments in Python functions.\n",
        "''' formal parameters are the variable mentioned in the function defination\n",
        "syntax:\n",
        "def func(a,b): #here a and b are formal parameters\n",
        "\n",
        "actual parameters are the values that are passed to the function defination through function call]\n",
        "  syntax:\n",
        "  func(8,9) # here 8,9 are the actual parameters '''"
      ],
      "metadata": {
        "id": "SWVY-QOIXjbZ"
      },
      "execution_count": null,
      "outputs": []
    },
    {
      "cell_type": "code",
      "source": [
        "#2..Write a Python program that defines a function with default argument values.3.How do you use keyword arguments in Python function calls? Provide an example.4.Create a Python function that accepts a variable number of arguments and calculates their sum.5.What is the purpose of the `*args` and `**kwargs` syntax in function parameter lists?Return Values and Scoping:1.Describe the role of the `return` statement in Python functions and provide examples.2.Explain the concept of variable scope in Python, including local and global variables.3.Write a Python program that demonstrates the use of global variables within functions.4.Create a Python function that calculates the factorial of a number and returns it.5.How can you access variables defined outside a function from within the function?Lambda Functions and Higher-Order Functions:1.What are lambda functions in Python, and when are they typically used?2.Write a Python program that uses lambda functions to sort a list of tuples based on the second element.3.Explain the concept of higher-order functions in Python, and provide an example.4.Create a Python function that takes a list of numbers and a function as arguments, applying the function to each element in the list.Built-in Functions:1.Describe the role of built-in functions like `len()`, `max()`, and `min()` in Python.2.Write a Python program that uses the `map()` function to apply a function to each element of a list.3.How does the `filter()` function work in Python, and when would you use it?4.Create a Python program that uses the `reduce()` function to find the product of all elements in a list.Function Documentation and Best Practices:\n",
        "def add(b,a=9):\n",
        "  print(a+b)\n",
        "add(8)"
      ],
      "metadata": {
        "colab": {
          "base_uri": "https://localhost:8080/"
        },
        "id": "oHvQSbnaXjgd",
        "outputId": "b364a94e-b9f7-4f3f-974f-ec5ada6c292f"
      },
      "execution_count": null,
      "outputs": [
        {
          "output_type": "stream",
          "name": "stdout",
          "text": [
            "17\n"
          ]
        }
      ]
    },
    {
      "cell_type": "code",
      "source": [
        "# 3.How do you use keyword arguments in Python function calls? Provide an example.\n",
        "''' we use keyword arguments in function call by sending key value pairs'''\n",
        "def keyword(**kargs):\n",
        "  for i in kargs:\n",
        "    print(i,kargs[i])\n",
        "\n",
        "keyword(a1=\"a\",a2=\"b\",a3=\"c\")\n"
      ],
      "metadata": {
        "colab": {
          "base_uri": "https://localhost:8080/"
        },
        "id": "L45EDQLBXjln",
        "outputId": "ab1754ac-912b-4320-a0b2-badbf88f7cad"
      },
      "execution_count": null,
      "outputs": [
        {
          "output_type": "stream",
          "name": "stdout",
          "text": [
            "a1 a\n",
            "a2 b\n",
            "a3 c\n"
          ]
        }
      ]
    },
    {
      "cell_type": "code",
      "source": [
        "#4.Create a Python function that accepts a variable number of arguments and calculates their sum.\n",
        "def sum(*args):\n",
        "  s=0\n",
        "  for i in args:\n",
        "    s+=i\n",
        "  print(s)\n",
        "\n",
        "sum(1,2,3,45,60)\n"
      ],
      "metadata": {
        "colab": {
          "base_uri": "https://localhost:8080/"
        },
        "id": "1fOgIj0wXjp8",
        "outputId": "96430a5e-4475-4035-8fa8-da4d17af0be5"
      },
      "execution_count": null,
      "outputs": [
        {
          "output_type": "stream",
          "name": "stdout",
          "text": [
            "111\n"
          ]
        }
      ]
    },
    {
      "cell_type": "code",
      "source": [
        "#5.What is the purpose of the `*args` and `**kwargs` syntax in function parameter lists?\n",
        "''' *args is used to send multiple values to a function at one time without having to declare multiple parameters, *args is used when we dont know how many values are being passed to a function.\n",
        "**kwargs is used to assing key value pairs to afunction it returns dictionary.\n",
        "synatx:\n",
        "*args\n",
        "def list1(*args):\n",
        "  for i in args:\n",
        "    print(i)\n",
        "\n",
        "list1(1,3,87,90)\n",
        "\n",
        "\n",
        "**kwargs\n",
        "def dict1(**kwargs):\n",
        "  for key,value in kwargs.items():\n",
        "    print(key,value)\n",
        "\n",
        "dict1(\"1\"=\"one\",\"2\"=\"one\",\"3\"=\"one\")\n",
        "  '''\n"
      ],
      "metadata": {
        "id": "E762r3m3ZBPE"
      },
      "execution_count": null,
      "outputs": []
    },
    {
      "cell_type": "markdown",
      "source": [
        "Return Values and Scoping"
      ],
      "metadata": {
        "id": "DU2rs9QXodoF"
      }
    },
    {
      "cell_type": "code",
      "source": [
        "#1.Describe the role of the `return` statement in Python functions and provide examples.\n",
        "'''\n",
        "a return statement is used to end the execution of the function call and returns the result\n",
        "The statements after the return statements are not executed. If the return statement is without any expression,\n",
        "then the special value None is returned.\n",
        "\n",
        "def sm(n):\n",
        "  s=0\n",
        "  for i in range(n):\n",
        "    s+=i\n",
        "  return s\n",
        "'''\n",
        "\n"
      ],
      "metadata": {
        "id": "qRdu1XprKQEY"
      },
      "execution_count": null,
      "outputs": []
    },
    {
      "cell_type": "code",
      "source": [
        "#2.Explain the concept of variable scope in Python, including local and global variables.\n",
        "''' scope of variable is when we define how a variable is accesbile to all the functions outside and inside a class\n",
        "if its declared inside a function then its only accessible inside that function\n",
        "when its declared outside a function then its a global variable and can be accessed anywhere in the code\n",
        "we use global keyword to access them inside a function.\n",
        " '''\n",
        "\n",
        "\n"
      ],
      "metadata": {
        "id": "9vOAOC06KQV0"
      },
      "execution_count": null,
      "outputs": []
    },
    {
      "cell_type": "code",
      "source": [
        "#3.Write a Python program that demonstrates the use of global variables within functions\n",
        "\n",
        "x=5\n",
        "def count():\n",
        "  global x\n",
        "  for i in range(1,6):\n",
        "    x+=1\n",
        "    print(x)\n",
        "\n",
        "count()"
      ],
      "metadata": {
        "colab": {
          "base_uri": "https://localhost:8080/"
        },
        "id": "FEgw3-3sKsfk",
        "outputId": "3f496748-7d3a-47ff-8e96-d6b8a1fe06e7"
      },
      "execution_count": null,
      "outputs": [
        {
          "output_type": "stream",
          "name": "stdout",
          "text": [
            "6\n",
            "7\n",
            "8\n",
            "9\n",
            "10\n"
          ]
        }
      ]
    },
    {
      "cell_type": "code",
      "source": [
        "#4.Create a Python function that calculates the factorial of a number and returns it.\n",
        "def fact(n):\n",
        "\n",
        "  if n==0:\n",
        "    return 1\n",
        "  else:\n",
        "    return n*fact(n-1)\n",
        "\n",
        "fact(5)"
      ],
      "metadata": {
        "colab": {
          "base_uri": "https://localhost:8080/"
        },
        "id": "VUNMGLpXKsoa",
        "outputId": "4d4aa916-8d67-4376-d7a5-45d76249e98f"
      },
      "execution_count": null,
      "outputs": [
        {
          "output_type": "execute_result",
          "data": {
            "text/plain": [
              "120"
            ]
          },
          "metadata": {},
          "execution_count": 9
        }
      ]
    },
    {
      "cell_type": "code",
      "source": [
        "#5.How can you access variables defined outside a function from within the function?\n",
        "''' we can access varaibles are defined outside a function by using global keyword'''\n",
        "\n"
      ],
      "metadata": {
        "id": "nLPyB_1kKtRh"
      },
      "execution_count": null,
      "outputs": []
    },
    {
      "cell_type": "markdown",
      "source": [
        "Lambda Functions and Higher-Order Functions"
      ],
      "metadata": {
        "id": "57teReAYoNhc"
      }
    },
    {
      "cell_type": "code",
      "source": [
        "#1.What are lambda functions in Python, and when are they typically used?\n",
        "\"\"\" lambda function is also known as anonymous function, basically a function without a name\n",
        "lambda function is used when there is just one line of code in the function body\n",
        "we use lambda keyword, the lambda function can tale multiple arguments but will have only one expression  \"\"\""
      ],
      "metadata": {
        "id": "5EAKOz2-K4yk"
      },
      "execution_count": null,
      "outputs": []
    },
    {
      "cell_type": "code",
      "source": [
        "#2.Write a Python program that uses lambda functions to sort a list of tuples based on the second element.\n",
        "l=[(1,2),(9,8),(0,10),(3,1)]\n",
        "l1 = sorted(l, key=lambda x: x[1])\n",
        "l1"
      ],
      "metadata": {
        "id": "8aMPM0oJK863"
      },
      "execution_count": null,
      "outputs": []
    },
    {
      "cell_type": "code",
      "source": [
        "#3.Explain the concept of higher-order functions in Python, ad provide an example.\n",
        "''' hihgh order function are those functions that either take function as a parameter or return functio as a value\n",
        " '''\n",
        "def write(func):\n",
        "  print(func(\"hello world how are you\"))\n",
        "\n",
        "def wr(st):\n",
        "  return st+\", you just gave an example of higher order function\"\n",
        "\n",
        "write(wr)\n",
        "\n",
        "\" higher order functions are also used for creating decorators\""
      ],
      "metadata": {
        "colab": {
          "base_uri": "https://localhost:8080/"
        },
        "id": "YdsJZQShK9AN",
        "outputId": "a096c22d-2f2d-46d8-a764-8a051763c7d0"
      },
      "execution_count": null,
      "outputs": [
        {
          "output_type": "stream",
          "name": "stdout",
          "text": [
            "hello world how are you you just gave an example of higher order function\n"
          ]
        }
      ]
    },
    {
      "cell_type": "code",
      "source": [
        "#4.Create a Python function that takes a list of numbers and a function as arguments, applying the function to each element in the list\n",
        "def sqr(i):\n",
        "  return i*i\n",
        "\n",
        "def deco(l,func):\n",
        "  for i in l:\n",
        "    print(func(i))\n",
        "\n",
        "deco([1,2,3,4],sqr)\n"
      ],
      "metadata": {
        "colab": {
          "base_uri": "https://localhost:8080/"
        },
        "id": "wbjBIoXfK9E4",
        "outputId": "b857adff-a7d2-4ae9-fee9-1b72f83b6427"
      },
      "execution_count": null,
      "outputs": [
        {
          "output_type": "stream",
          "name": "stdout",
          "text": [
            "1\n",
            "4\n",
            "9\n",
            "16\n"
          ]
        }
      ]
    },
    {
      "cell_type": "markdown",
      "source": [
        ".Built-in Functions:"
      ],
      "metadata": {
        "id": "gIdL9T88xDuZ"
      }
    },
    {
      "cell_type": "code",
      "source": [
        "#1.Describe the role of built-in functions like `len()`, `max()`, and `min()` in Python.\n",
        "\"\"\" len() is a built in function used to find the length of a given sequence like string, list etc\n",
        "min() is a built in function used to find the minimum  value of all the elemnts present in a list or tuple etc\n",
        "max()is a built in function used to find the maximum value of all the elemnts present in a list or tuple etc\"\"\""
      ],
      "metadata": {
        "id": "Td8w-GLKK9Jp"
      },
      "execution_count": null,
      "outputs": []
    },
    {
      "cell_type": "code",
      "source": [
        "#2.Write a Python program that uses the `map()` function to apply a function to each element of a list.\n",
        "def sqr(i):\n",
        "  return i*i\n",
        "x=list(map(sqr,[1,2,3,4]))\n",
        "x"
      ],
      "metadata": {
        "colab": {
          "base_uri": "https://localhost:8080/"
        },
        "id": "Vd6HmbD6K9NR",
        "outputId": "35f40f45-83ec-410f-bf87-d30135bcc8ca"
      },
      "execution_count": null,
      "outputs": [
        {
          "output_type": "execute_result",
          "data": {
            "text/plain": [
              "[1, 4, 9, 16]"
            ]
          },
          "metadata": {},
          "execution_count": 14
        }
      ]
    },
    {
      "cell_type": "code",
      "source": [
        "#3.How does the `filter()` function work in Python, and when would you use it?\n",
        "\"\"\" filter() function is used to filter out values from a list or tuples based on certain condition, its similar to the map() function\n",
        "but the only difference is map() returns all the values of the list whereas the filter()\n",
        "returns only the specific values in the list based on the condition\"\"\"\n",
        "x=list(filter(lambda a: a in \"aeiou\", [\"a\",\"b\",\"c\",\"d\",\"e\"])) # this function is used to filter all the vowels\n",
        "x\n"
      ],
      "metadata": {
        "colab": {
          "base_uri": "https://localhost:8080/"
        },
        "id": "YhnRdUS5K9Q0",
        "outputId": "a79d3cd2-7bef-4d48-daf9-82fb11e455ff"
      },
      "execution_count": null,
      "outputs": [
        {
          "output_type": "execute_result",
          "data": {
            "text/plain": [
              "['a', 'e']"
            ]
          },
          "metadata": {},
          "execution_count": 15
        }
      ]
    },
    {
      "cell_type": "code",
      "source": [
        "#4.Create a Python program that uses the `reduce()` function to find the product of all elements in a list.\n",
        "from functools import reduce\n",
        "x= reduce(lambda a,b: a*b ,[1,23,45,10])\n",
        "x"
      ],
      "metadata": {
        "colab": {
          "base_uri": "https://localhost:8080/"
        },
        "id": "wG2lUMOmK9U9",
        "outputId": "efef42bb-8483-469b-f4c2-ca5e0b2574eb"
      },
      "execution_count": null,
      "outputs": [
        {
          "output_type": "execute_result",
          "data": {
            "text/plain": [
              "10350"
            ]
          },
          "metadata": {},
          "execution_count": 20
        }
      ]
    },
    {
      "cell_type": "markdown",
      "source": [
        "Function Documentation and Best Practices:\n"
      ],
      "metadata": {
        "id": "7UrxL6Kn2LUC"
      }
    },
    {
      "cell_type": "code",
      "source": [
        "#1.Explain the purpose of docstrings in Python functions and how to write them.\n",
        "'''Python documentation strings (or docstrings) provide a convenient way of associating documentation with Python modules,\n",
        " functions, classes, and methods. It’s specified in source code that is used, like a comment, to document a specific segment of code. Unlike conventional source code comments, the docstring should describe what the function does, not how.\n",
        "\n",
        "Declaring Docstrings: The docstrings are declared using ”’triple single quotes”’ or “”” triple double quotes “”” just below the class,\n",
        "method, or function declaration. All functions should have a docstring.'''\n",
        "\n"
      ],
      "metadata": {
        "id": "kn9rILAyK9Zb"
      },
      "execution_count": null,
      "outputs": []
    },
    {
      "cell_type": "code",
      "source": [
        "#2.Describe some best practices for naming functions and variables in Python, including naming conventions and guidelines.\n",
        "'''  variable names in Python can be any length and can consist of uppercase and lowercase letters (A-Z, a-z), digits (0-9), and the underscore character (_).\n",
        "An additional restriction is that, although a variable name can contain digits, the first character of a variable name can’t be a digit.\n",
        "variable name is case sensitive'''\n",
        "\n"
      ],
      "metadata": {
        "id": "QDUNZjSZK9ff"
      },
      "execution_count": null,
      "outputs": []
    }
  ]
}