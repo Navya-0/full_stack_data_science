{
  "nbformat": 4,
  "nbformat_minor": 0,
  "metadata": {
    "colab": {
      "provenance": [],
      "authorship_tag": "ABX9TyMMTXe6My072v59X8bJjkQC",
      "include_colab_link": true
    },
    "kernelspec": {
      "name": "python3",
      "display_name": "Python 3"
    },
    "language_info": {
      "name": "python"
    }
  },
  "cells": [
    {
      "cell_type": "markdown",
      "metadata": {
        "id": "view-in-github",
        "colab_type": "text"
      },
      "source": [
        "<a href=\"https://colab.research.google.com/github/Navya-0/full_stack_data_science/blob/main/control_fllow_assignment.ipynb\" target=\"_parent\"><img src=\"https://colab.research.google.com/assets/colab-badge.svg\" alt=\"Open In Colab\"/></a>"
      ]
    },
    {
      "cell_type": "markdown",
      "source": [
        "Basic If-Else Statements:\n"
      ],
      "metadata": {
        "id": "utquu06MxrIc"
      }
    },
    {
      "cell_type": "code",
      "execution_count": null,
      "metadata": {
        "colab": {
          "base_uri": "https://localhost:8080/"
        },
        "id": "E8QJ-5n3q7pB",
        "outputId": "76c5910a-49c2-4a22-eb37-a5e205903db6"
      },
      "outputs": [
        {
          "output_type": "stream",
          "name": "stdout",
          "text": [
            "enter a number 1\n",
            "number is positive\n"
          ]
        }
      ],
      "source": [
        "#1. Write a Python program to check if a given number is positive or negative.\n",
        "n=int(input(\"enter a number \"))\n",
        "if n>0:\n",
        "  print(\"number is positive\")\n",
        "else:\n",
        "  print(\"number is negative\")"
      ]
    },
    {
      "cell_type": "code",
      "source": [
        "#2. Create a program that determines if a person is eligible to vote based on their age.\n",
        "age = int(input(\"enter age of user \"))\n",
        "if age>=18:\n",
        "  print(\"user is eligible to vote\")\n",
        "else:\n",
        "  print(\"user is not eligible to vote\")"
      ],
      "metadata": {
        "colab": {
          "base_uri": "https://localhost:8080/"
        },
        "id": "EbZnULkJra06",
        "outputId": "ec2564f1-7aa2-4fc7-8c35-df3670395630"
      },
      "execution_count": null,
      "outputs": [
        {
          "output_type": "stream",
          "name": "stdout",
          "text": [
            "enter age of user 6\n",
            "user is not eligible to vote\n"
          ]
        }
      ]
    },
    {
      "cell_type": "code",
      "source": [
        "#3. Develop a program to find the maximum of two numbers using if-else statements.\n",
        "a=int(input(\"enter a number \"))\n",
        "b=int(input(\"enter a number \"))\n",
        "\n",
        "if a>b:\n",
        "  print(f'{a} is greater than {b}')\n",
        "else:\n",
        "  print(f'{b} is greater than {a}')"
      ],
      "metadata": {
        "colab": {
          "base_uri": "https://localhost:8080/"
        },
        "id": "SNBhzKQora4I",
        "outputId": "7741717a-3e71-4bf8-bcac-4423b593538c"
      },
      "execution_count": null,
      "outputs": [
        {
          "output_type": "stream",
          "name": "stdout",
          "text": [
            "enter a number 23\n",
            "enter a number 89\n",
            "89 is greater than 23\n"
          ]
        }
      ]
    },
    {
      "cell_type": "code",
      "source": [
        "#4. Write a Python script to classify a given year as a leap year or not.\n",
        "yr= int(input(\"enter a year \"))\n",
        "if yr%4==0 and yr%100==0 or yr%400==0:\n",
        "  print(f\"{yr} is a leap year\")\n",
        "else:\n",
        "  print(f\"{yr} is not a leap year\")"
      ],
      "metadata": {
        "colab": {
          "base_uri": "https://localhost:8080/"
        },
        "id": "6_a_FufDra7q",
        "outputId": "3d8dfafd-8a7a-4b1d-8e67-f50b44c6e5e7"
      },
      "execution_count": null,
      "outputs": [
        {
          "output_type": "stream",
          "name": "stdout",
          "text": [
            "enter a year 1972\n",
            "1972 is not a leap year\n"
          ]
        }
      ]
    },
    {
      "cell_type": "code",
      "source": [
        "#5. Create a program that checks whether a character is a vowel or a consonant.\n",
        "ch=input(\"enter a character \")\n",
        "v=\"aeiouAEIOU\"\n",
        "if ch in v:\n",
        "  print(f'{ch} is a vowel')\n",
        "else:\n",
        "  print(f'{ch} is not a vowel')"
      ],
      "metadata": {
        "colab": {
          "base_uri": "https://localhost:8080/"
        },
        "id": "Q4zuVVKRrbD-",
        "outputId": "67f91c56-0c1b-4664-d223-ec477c4a4f77"
      },
      "execution_count": null,
      "outputs": [
        {
          "output_type": "stream",
          "name": "stdout",
          "text": [
            "enter a character u\n",
            "u is a vowel\n"
          ]
        }
      ]
    },
    {
      "cell_type": "code",
      "source": [
        "#6. Implement a program to determine whether a given number is even or odd.\n",
        "n=int(input(\"enter a number \"))\n",
        "if n%2==0:\n",
        "  print(f\"{n} is an even number\")\n",
        "else:\n",
        "  print(f\"{n} is not an even number\")"
      ],
      "metadata": {
        "colab": {
          "base_uri": "https://localhost:8080/"
        },
        "id": "R9MUvtAQrbFB",
        "outputId": "e9a848bd-116f-48a4-f420-928a0d28515e"
      },
      "execution_count": null,
      "outputs": [
        {
          "output_type": "stream",
          "name": "stdout",
          "text": [
            "enter a number 78\n",
            "78 is an even number\n"
          ]
        }
      ]
    },
    {
      "cell_type": "code",
      "source": [
        "#7. Write a Python function to calculate the absolute value of a number without using the `abs()` function.\n",
        "n=int(input(\"enter a number \"))\n",
        "if n>0:\n",
        "  print(f\"absolute value of {n} is {n}\")\n",
        "else:\n",
        "  st=str(n)\n",
        "  print(f\"absolute value of {n} is {st[1:]}\")"
      ],
      "metadata": {
        "colab": {
          "base_uri": "https://localhost:8080/"
        },
        "id": "lqRmPHJyrbGE",
        "outputId": "abfaf656-fdb2-47b2-e42b-a858d4aaec77"
      },
      "execution_count": null,
      "outputs": [
        {
          "output_type": "stream",
          "name": "stdout",
          "text": [
            "enter a number -90\n",
            "absolute value of -90 is 90\n"
          ]
        }
      ]
    },
    {
      "cell_type": "code",
      "source": [
        "# 8. Develop a program that determines the largest of three given numbers using if-else statements.\n",
        "a,b,c= input(\"enter 3 values \").split()\n",
        "a=int(a)\n",
        "b=int(b)\n",
        "c=int(c)\n",
        "if a>b and a>c:\n",
        "  print(f'{a} is the largest number ')\n",
        "elif b>c:\n",
        "  print(f'{b} is the largest number ')\n",
        "else:\n",
        "  print(f'{c} is the largest number ')"
      ],
      "metadata": {
        "colab": {
          "base_uri": "https://localhost:8080/"
        },
        "id": "bFdNomdkrbIc",
        "outputId": "a68b5574-ea57-4d4e-ecba-3903e198ac5a"
      },
      "execution_count": null,
      "outputs": [
        {
          "output_type": "stream",
          "name": "stdout",
          "text": [
            "enter 3 values 4 8 2\n",
            "8 is the largest number \n"
          ]
        }
      ]
    },
    {
      "cell_type": "code",
      "source": [
        "#9. Create a program that checks if a given string is a palindrome.\n",
        "st=input(\"enter a string \")\n",
        "if st==st[::-1]:\n",
        "  print(f'{st} is a palindrome')\n",
        "else:\n",
        "  print(f'{st} is not a palindrome')"
      ],
      "metadata": {
        "colab": {
          "base_uri": "https://localhost:8080/"
        },
        "id": "PA02f50KwLfu",
        "outputId": "d5a24436-9fae-4b06-f661-5de72fc04aab"
      },
      "execution_count": null,
      "outputs": [
        {
          "output_type": "stream",
          "name": "stdout",
          "text": [
            "enter a string tom\n",
            "tom is not a palindrome\n"
          ]
        }
      ]
    },
    {
      "cell_type": "code",
      "source": [
        "#10. Write a Python program to calculate the grade based on a student's score.\n",
        "sc=int(input(\"enter a number \"))\n",
        "if sc>80:\n",
        "  print(\"grade is A\")\n",
        "elif sc>70 and sc<80:\n",
        "  print(\"grade is B\")\n",
        "elif sc>60 and sc<70:\n",
        "  print(\"grade is C\")\n",
        "elif sc>50 and sc <60:\n",
        "  print(\"grade is D\")\n",
        "elif sc>40 and sc<50:\n",
        "  print(\"grade is E\")\n",
        "else:\n",
        "  print(\"grade is F\")"
      ],
      "metadata": {
        "colab": {
          "base_uri": "https://localhost:8080/"
        },
        "id": "u9w6hc_EwcrZ",
        "outputId": "2969477f-97ce-4a09-c1fc-cb2903d44f03"
      },
      "execution_count": null,
      "outputs": [
        {
          "output_type": "stream",
          "name": "stdout",
          "text": [
            "enter a number 56\n",
            "grade is D\n"
          ]
        }
      ]
    },
    {
      "cell_type": "markdown",
      "source": [
        "Nested If-Else Statements:"
      ],
      "metadata": {
        "id": "Wi_7bHdijEwb"
      }
    },
    {
      "cell_type": "code",
      "source": [
        "#11. Write a program to find the largest among three numbers using nested if-else statements.\n",
        "a=int(input(\"enter a number\"))\n",
        "b=int(input(\"enter a number\"))\n",
        "c=int(input(\"enter a number\"))\n",
        "if a>b and a>c:\n",
        "  print(f\"{a} is the greatest number of the three\")\n",
        "elif b>c:\n",
        "  print(f\"{b} is the greatest number of the three\")\n",
        "else:\n",
        "  print(f\"{c} is the greatest number of the three\")"
      ],
      "metadata": {
        "colab": {
          "base_uri": "https://localhost:8080/"
        },
        "id": "_eylGKZQJn0x",
        "outputId": "0e6ef4b5-b018-48ea-8e02-ef20d8599df6"
      },
      "execution_count": null,
      "outputs": [
        {
          "output_type": "stream",
          "name": "stdout",
          "text": [
            "enter a number6\n",
            "enter a number78\n",
            "enter a number0\n",
            "78 is the greatest number of the three\n"
          ]
        }
      ]
    },
    {
      "cell_type": "code",
      "source": [
        "# 12. Create a Python program that identifies the type of a triangle (e.g., equilateral, isosceles, or scalene) based on input values using if-else.\n",
        "l=input(\"enter angles of a triangle \").split()\n",
        "if l.count(\"60\")==3:\n",
        "  print(\"its an equilateral triangle\")\n",
        "elif(l.count(l[0])==2 or l.count(l[1])==2 or l.count(l[2]==2)):\n",
        "  print(\"its an isosceles triangle\")\n",
        "else:\n",
        "  print(\"its a scalene triangle\")"
      ],
      "metadata": {
        "colab": {
          "base_uri": "https://localhost:8080/"
        },
        "id": "-49Mu68j59W-",
        "outputId": "7a19cfff-b2ad-404d-b9cf-297b715699b4"
      },
      "execution_count": null,
      "outputs": [
        {
          "output_type": "stream",
          "name": "stdout",
          "text": [
            "enter angles of a triangle34 56 78\n",
            "its a scalene triangle\n"
          ]
        }
      ]
    },
    {
      "cell_type": "code",
      "source": [
        "#13. Develop a program that checks if a year is a leap year and also if it is a century year.\n",
        "year=int(input(\"enter a year \"))\n",
        "if (year%100 == 0 and year%4==0)or year%400==0:\n",
        "  print(f\"{year} is a leap year\")\n",
        "else:\n",
        "  print(\"not a leap year\")\n"
      ],
      "metadata": {
        "colab": {
          "base_uri": "https://localhost:8080/"
        },
        "id": "99J8l0Iq59kg",
        "outputId": "f5de0e3e-d7b1-4e11-f277-702d3674be1c"
      },
      "execution_count": null,
      "outputs": [
        {
          "output_type": "stream",
          "name": "stdout",
          "text": [
            "enter a year 1890\n",
            "not a leap year\n"
          ]
        }
      ]
    },
    {
      "cell_type": "code",
      "source": [
        "#14. Write a Python script to determine if a number is positive, negative, or zero.\n",
        "n=int(input(\"enter a number \"))\n",
        "if n>0:\n",
        "  print(\"number is positive\")\n",
        "elif n<0:\n",
        "  print(\"number is negative\")\n",
        "else:\n",
        "  print(\"number is zero\")"
      ],
      "metadata": {
        "colab": {
          "base_uri": "https://localhost:8080/"
        },
        "id": "lc6GCXM359yY",
        "outputId": "331b1f1a-12b2-4bce-866b-05699effaff7"
      },
      "execution_count": null,
      "outputs": [
        {
          "output_type": "stream",
          "name": "stdout",
          "text": [
            "enter a number 0\n",
            "number is zero\n"
          ]
        }
      ]
    },
    {
      "cell_type": "code",
      "source": [
        "#15. Create a program to check if a person is a teenager (between 13 and 19 years old).\n",
        "age = int(input(\"enter age of user \"))\n",
        "if age>=13 and age<=19 :\n",
        "  print(\"person is a teenager\")\n",
        "else:\n",
        "  print(\"person is not a teenager\")"
      ],
      "metadata": {
        "colab": {
          "base_uri": "https://localhost:8080/"
        },
        "id": "dTXanOI_5-Gn",
        "outputId": "8acf671d-5080-4d6b-ea99-c772aee85fba"
      },
      "execution_count": null,
      "outputs": [
        {
          "output_type": "stream",
          "name": "stdout",
          "text": [
            "enter age of user 19\n",
            "person is a teenager\n"
          ]
        }
      ]
    },
    {
      "cell_type": "code",
      "source": [
        "#16. Develop a program that determines the type of angle based on its measure (acute, obtuse, or right).\n",
        "angle=int(input(\"enter an angle \"))\n",
        "if angle<90:\n",
        "  print(\"its an acute angle\")\n",
        "elif angle>90:\n",
        "  print(\"its an obtuse angle\")\n",
        "else:\n",
        "  print(\"its a right angle\")"
      ],
      "metadata": {
        "colab": {
          "base_uri": "https://localhost:8080/"
        },
        "id": "VprpLdsA5-V6",
        "outputId": "3942b467-dafc-45dc-aac9-6ad45438e65c"
      },
      "execution_count": null,
      "outputs": [
        {
          "output_type": "stream",
          "name": "stdout",
          "text": [
            "enter an angle 45\n",
            "its an acute angle\n"
          ]
        }
      ]
    },
    {
      "cell_type": "code",
      "source": [
        "#17. Write a Python program to calculate the roots of a quadratic equation.\n",
        "\n",
        "a = int(input('Enter a number'))\n",
        "b = int(input('Enter a number'))\n",
        "c = int(input('Enter a number'))\n",
        "d = b * b - (4 * a * c )\n",
        "sqrt_val = d**(0.5)\n",
        "\n",
        "if d > 0:\n",
        "  print(\" real and different roots \")\n",
        "  print((-b + sqrt_val) / (2 * a))\n",
        "  print((-b - sqrt_val) / (2 * a))\n",
        "\n",
        "elif d == 0:\n",
        "  print(\" real and same roots\")\n",
        "  print(-b / (2 * a))\n",
        "\n",
        "else:\n",
        "  print(\"Complex Roots\")\n",
        "  print(- b / (2 * a), \" + i\", sqrt_val)\n",
        "  print(- b / (2 * a), \" - i\", sqrt_val)"
      ],
      "metadata": {
        "colab": {
          "base_uri": "https://localhost:8080/"
        },
        "id": "qcVT9aQE5-kE",
        "outputId": "290a959d-8658-4304-d0ce-81ea23b56a54"
      },
      "execution_count": null,
      "outputs": [
        {
          "output_type": "stream",
          "name": "stdout",
          "text": [
            "Enter a number23\n",
            "Enter a number12\n",
            "Enter a number45\n",
            "Complex Roots\n",
            "-0.2608695652173913  + i (3.8707363936067716e-15+63.21392251711643j)\n",
            "-0.2608695652173913  - i (3.8707363936067716e-15+63.21392251711643j)\n"
          ]
        }
      ]
    },
    {
      "cell_type": "code",
      "source": [
        "#18. Implement a program to determine the day of the week based on a user-provided number (1 for Monday, 2 for Tuesday, etc.).\n",
        "n= int(input(\"enter a number \"))\n",
        "if n==1:\n",
        "  print(\"Sunday\")\n",
        "elif n==2:\n",
        "  print(\"Monday\")\n",
        "elif n==3:\n",
        "  print(\"Tuesday\")\n",
        "elif n==4:\n",
        "  print(\"Wednesday\")\n",
        "elif n==5:\n",
        "  print(\"Thursday\")\n",
        "elif n==6:\n",
        "  print(\"Friday\")\n",
        "elif n==7:\n",
        "  print(\"Saturday\")\n",
        "else:\n",
        "  print(\"wrong number\")\n"
      ],
      "metadata": {
        "colab": {
          "base_uri": "https://localhost:8080/"
        },
        "id": "E6d5q56o5-xz",
        "outputId": "06d48756-d998-404c-fbd5-82a2c5f716a6"
      },
      "execution_count": null,
      "outputs": [
        {
          "output_type": "stream",
          "name": "stdout",
          "text": [
            "enter a number 6\n",
            "Friday\n"
          ]
        }
      ]
    },
    {
      "cell_type": "code",
      "source": [
        "#19. Create a program that determines if a year is a leap year and also if it is evenly divisible by 400.\n",
        "year=int(input(\"enter a year \"))\n",
        "if (year%100 == 0 and year%4==0)or year%400==0:\n",
        "  print(f\"{year} is a leap year\")\n",
        "else:\n",
        "  print(\"not a leap year\")"
      ],
      "metadata": {
        "colab": {
          "base_uri": "https://localhost:8080/"
        },
        "id": "NelX2nBg6X2X",
        "outputId": "c854d14d-cab8-4a12-e5c9-c849a7f89376"
      },
      "execution_count": null,
      "outputs": [
        {
          "output_type": "stream",
          "name": "stdout",
          "text": [
            "enter a year 1940\n",
            "not a leap year\n"
          ]
        }
      ]
    },
    {
      "cell_type": "code",
      "source": [
        "#20. Develop a program that checks if a given number is prime or not using nested\n",
        "n=int(input(\"enter a number \"))\n",
        "if n==1 or n==0:\n",
        "  print(\"its not a prime number\")\n",
        "elif n==2:\n",
        "  print(\"its a prime number \")\n",
        "else:\n",
        "  c=0\n",
        "  for i in range(2,n):\n",
        "    if n%i==0:\n",
        "      c+=1\n",
        "      print(\"its not a prime number\")\n",
        "      break\n",
        "  if c==0:\n",
        "    print(\"its a prime number\")\n"
      ],
      "metadata": {
        "colab": {
          "base_uri": "https://localhost:8080/"
        },
        "id": "0qu_hNNI6X5w",
        "outputId": "dfcc740f-bbdb-489e-e399-69417685a5a2"
      },
      "execution_count": null,
      "outputs": [
        {
          "output_type": "stream",
          "name": "stdout",
          "text": [
            "enter a number 89\n",
            "its a prime number\n"
          ]
        }
      ]
    },
    {
      "cell_type": "code",
      "source": [
        "q={\"What country has the highest life expectancy?\": \"Hong Kong\",\n",
        "\"Where would you be if you were standing on the Spanish Steps?\": \"Rome\",\n",
        "\"Which language has the more native speakers: English or Spanish?\":\"Spanish\",\n",
        "\"What is the most common surname in the United States?\": \"Smith\",\n",
        "\"What disease commonly spread on pirate ships?\": \"Scurvy\"}\n",
        "sc=0\n",
        "for que,ans in q.items():\n",
        "  print(\"your question is \",que)\n",
        "  a=input(\"enter your answer \")\n",
        "  if a==ans.lower():\n",
        "    print(\"correct answer\")\n",
        "    sc=sc+1\n",
        "  else:\n",
        "    print(\"wrong answer\")\n",
        "    sc=sc-1\n",
        "print(\"your score for the quiz is\",sc)"
      ],
      "metadata": {
        "id": "PuqmCjwW6YIw"
      },
      "execution_count": null,
      "outputs": []
    },
    {
      "cell_type": "markdown",
      "source": [
        "Elif Statements:"
      ],
      "metadata": {
        "id": "a-4GTSaohNxU"
      }
    },
    {
      "cell_type": "code",
      "source": [
        "#21. Write a Python program to assign grades based on different ranges of scores using elif statements.\n",
        "sc=int(input(\"enter a number \"))\n",
        "if sc>80:\n",
        "  print(\"grade is A\")\n",
        "elif sc>70 and sc<80:\n",
        "  print(\"grade is B\")\n",
        "elif sc>60 and sc<70:\n",
        "  print(\"grade is C\")\n",
        "elif sc>50 and sc <60:\n",
        "  print(\"grade is D\")\n",
        "elif sc>40 and sc<50:\n",
        "  print(\"grade is E\")\n",
        "else:\n",
        "  print(\"grade is F\")"
      ],
      "metadata": {
        "colab": {
          "base_uri": "https://localhost:8080/"
        },
        "id": "DDnabs5KRZ_S",
        "outputId": "99cb3369-8be3-4da1-a4cf-b8da7822e460"
      },
      "execution_count": null,
      "outputs": [
        {
          "output_type": "stream",
          "name": "stdout",
          "text": [
            "enter a number 56\n",
            "grade is D\n"
          ]
        }
      ]
    },
    {
      "cell_type": "code",
      "source": [
        "#22. Implement a program to determine the type of a triangle based on its angles.\n",
        "a=int(input(\"enter a number \"))\n",
        "b=int(input(\"enter a number \"))\n",
        "c=int(input(\"enter a number \"))\n",
        "if a==b and b==c:\n",
        "  print(\"equilateral triangle\")\n",
        "elif a==b or b==c or c==a:\n",
        "  print(\"issoceless triangle\")\n",
        "else:\n",
        "  print(\"scalene triangle\")"
      ],
      "metadata": {
        "colab": {
          "base_uri": "https://localhost:8080/"
        },
        "id": "dEoFRx136yh-",
        "outputId": "ecb4389c-c90c-4cc7-9458-50c1e2a21fb7"
      },
      "execution_count": null,
      "outputs": [
        {
          "output_type": "stream",
          "name": "stdout",
          "text": [
            "enter a number 23\n",
            "enter a number 60\n",
            "enter a number 68\n",
            "scalene triangle\n"
          ]
        }
      ]
    },
    {
      "cell_type": "code",
      "source": [
        "#23. Develop a program to categorize a given person's BMI into underweight, normal, overweight, or obese usingelif statements.\n",
        "bmi=float(input(\"enter bmi \"))\n",
        "if bmi<=18.5:\n",
        "  print(\"underweight\")\n",
        "elif bmi>18.5 and bmi<=24.9:\n",
        "  print(\"normal\")\n",
        "elif bmi>25.0 and bmi<=29.9:\n",
        "  print(\"overweight\")\n",
        "else:\n",
        "  print(\"obese\")"
      ],
      "metadata": {
        "colab": {
          "base_uri": "https://localhost:8080/"
        },
        "id": "HERi2yGl6yJN",
        "outputId": "67be0b03-0622-4c47-f0eb-c21c53d1f819"
      },
      "execution_count": null,
      "outputs": [
        {
          "output_type": "stream",
          "name": "stdout",
          "text": [
            "enter bmi 22.9\n",
            "normal\n"
          ]
        }
      ]
    },
    {
      "cell_type": "code",
      "source": [
        "#24. Create a program that determines whether a given number is positive, negative, or zero using elif statements.\n",
        "n=int(input(\"enter a number \"))\n",
        "if n>0:\n",
        "  print(\"number is positive\")\n",
        "elif n<0:\n",
        "  print(\"number is negative\")\n",
        "else:\n",
        "  print(\"number is zero\")\n"
      ],
      "metadata": {
        "colab": {
          "base_uri": "https://localhost:8080/"
        },
        "id": "Joo7PoBR6x4g",
        "outputId": "1e7ece38-707a-4a90-8ed4-81e1c15e9201"
      },
      "execution_count": null,
      "outputs": [
        {
          "output_type": "stream",
          "name": "stdout",
          "text": [
            "enter a number 89\n",
            "number is positive\n"
          ]
        }
      ]
    },
    {
      "cell_type": "code",
      "source": [
        "#25. Write a Python script to determine the type of a character (uppercase, lowercase, or special) using elif statements.\n",
        "'''ch=input(\"enter a character \")\n",
        "if ch.isalpha():\n",
        "  if ch.isupper():\n",
        "    print(f\"{ch} is in uppercase\")\n",
        "  else:\n",
        "    print(f\"{ch} is in lowercase\")\n",
        "else:\n",
        "  print(f'{ch} is a special character')'''\n",
        "\n",
        "ch=input(\"enter a character \")\n",
        "if ch.isupper():\n",
        "  print(f\"{ch} is in uppercase\")\n",
        "elif ch.islower():\n",
        "    print(f\"{ch} is in lowercase\")\n",
        "else:\n",
        "  print(f'{ch} is a special character')"
      ],
      "metadata": {
        "colab": {
          "base_uri": "https://localhost:8080/"
        },
        "id": "4E_hkPSKt4e5",
        "outputId": "7b3676ac-8b46-4a07-f5c8-2a1b6d7b7321"
      },
      "execution_count": null,
      "outputs": [
        {
          "output_type": "stream",
          "name": "stdout",
          "text": [
            "enter a character *\n",
            "* is a special character\n"
          ]
        }
      ]
    },
    {
      "cell_type": "code",
      "source": [
        " #26. Implement a program to calculate the discounted price based on different purchase amounts using elif statements.\n",
        "amt=int(input(\"enter amount \"))\n",
        "if amt>500 and amt<1000:\n",
        "  d=amt*(90/100)\n",
        "  print(\"discounter price after 10% discount\",d)\n",
        "elif amt>1000 and amt<1500:\n",
        "  d=amt*(85/100)\n",
        "  print(\"discounter price after 15% discount\",d)\n",
        "elif amt>1500 and amt<2000:\n",
        "  d=amt*(80/100)\n",
        "  print(\"discounter price after 20% discount\",d)\n",
        "else:\n",
        "  d=amt*(70/100)\n",
        "  print(\"discounter price after 30% discount\",d)"
      ],
      "metadata": {
        "colab": {
          "base_uri": "https://localhost:8080/"
        },
        "id": "yiKuYo7V4YGY",
        "outputId": "54d54753-be9e-4979-9b4b-dbdd29b53755"
      },
      "execution_count": null,
      "outputs": [
        {
          "output_type": "stream",
          "name": "stdout",
          "text": [
            "enter amount 50000\n",
            "discounter price after 30% discount 35000.0\n"
          ]
        }
      ]
    },
    {
      "cell_type": "code",
      "source": [
        "#27. Develop a program to calculate the electricity bill based on different consumption slabs using elif statements.\n",
        "units=int(input(\"enter units \"))\n",
        "if units<=100:\n",
        "  chrg=units*10\n",
        "  print(\"total bill is\",chrg)\n",
        "elif units>100 and units<=200:\n",
        "  chrg=(100*10)+(units-100)*15\n",
        "  print(\"total bill is\",chrg)\n",
        "else:\n",
        "  chrg=(100*10)+(100*15)+(units-200)*50\n",
        "  print(\"total bill is\",chrg)"
      ],
      "metadata": {
        "colab": {
          "base_uri": "https://localhost:8080/"
        },
        "id": "WgVegNw47EqQ",
        "outputId": "af6e6ec8-f15d-44e9-dc9d-fc714e202a9e"
      },
      "execution_count": null,
      "outputs": [
        {
          "output_type": "stream",
          "name": "stdout",
          "text": [
            "enter units 340\n",
            "total bill is 9500\n"
          ]
        }
      ]
    },
    {
      "cell_type": "code",
      "source": [
        "#28. Create a program to determine the type of quadrilateral based on its angles and sides using elif\n",
        "s=input().split()\n",
        "a=input().split()\n",
        "if 4==s.count(s[0]) and (a[0]==a[2]) and (a[1]==a[3]):\n",
        "  print(\"its a rhombus\")\n",
        "elif 4==s.count(s[0])  and 4==a.count(a[0]):\n",
        "  print(\"its a square\")\n",
        "elif 4==a.count(a[0]) and (s[0]==s[2]) and (s[1]==s[3]):\n",
        "  print(\"its a rectangle\")\n",
        "else:\n",
        "  print(\"its a parallelogram\")"
      ],
      "metadata": {
        "colab": {
          "base_uri": "https://localhost:8080/"
        },
        "id": "caz_HF5N7Ed-",
        "outputId": "78b6afe7-137b-4ccf-dcd0-02c4deca1070"
      },
      "execution_count": null,
      "outputs": [
        {
          "output_type": "stream",
          "name": "stdout",
          "text": [
            "34 90 23 12\n",
            "90 60 45 45\n",
            "its a parallelogram\n"
          ]
        }
      ]
    },
    {
      "cell_type": "code",
      "source": [
        "#29. Write a Python script to determine the season based on a user-provided month using elif statements.\n",
        "mnt=input(\"enter a month \")\n",
        "if mnt in ['march', 'april', 'may']:\n",
        "  print(\"summer\")\n",
        "elif mnt in ['june','july','august', 'september'] :\n",
        "  print(\"monsoon\")\n",
        "elif mnt in ['october','november'] :\n",
        "  print(\"autumn\")\n",
        "else:\n",
        "  print(\"winter\")"
      ],
      "metadata": {
        "colab": {
          "base_uri": "https://localhost:8080/"
        },
        "id": "2c0gqMiQ7TG2",
        "outputId": "2debad04-89f9-4706-e865-79a5ee21118f"
      },
      "execution_count": null,
      "outputs": [
        {
          "output_type": "stream",
          "name": "stdout",
          "text": [
            "enter a month june\n",
            "monsoon\n"
          ]
        }
      ]
    },
    {
      "cell_type": "code",
      "source": [
        "#30. Implement a program to determine the type of a year (leap or common) and month (30 or 31 days) usingelif statements.\n",
        "year=int(input(\"enter a year \"))\n",
        "if (year%100 == 0 and year%4==0)or year%400==0:\n",
        "  print(f\"{year} is a leap year\")\n",
        "else:\n",
        "  print(\"not a leap year\")"
      ],
      "metadata": {
        "colab": {
          "base_uri": "https://localhost:8080/"
        },
        "id": "76vxyb7i7S5C",
        "outputId": "cec45972-3131-4b85-a8bf-b6c39e3e6039"
      },
      "execution_count": null,
      "outputs": [
        {
          "output_type": "stream",
          "name": "stdout",
          "text": [
            "enter a year 2004\n",
            "not a leap year\n"
          ]
        }
      ]
    },
    {
      "cell_type": "markdown",
      "source": [
        "Basic Level:"
      ],
      "metadata": {
        "id": "7i1zHmTtsxUA"
      }
    },
    {
      "cell_type": "code",
      "source": [
        "#1. Write a Python program that checks if a given number is positive, negative, or zero.\n",
        "n=int(input(\"enter a number \"))\n",
        "if(n>0):\n",
        "  print(\"number is positive\")\n",
        "elif(n<0):\n",
        "  print(\"number is negative\")\n",
        "else:\n",
        "  print(\"number is zero\")"
      ],
      "metadata": {
        "colab": {
          "base_uri": "https://localhost:8080/"
        },
        "id": "DhWym_S2sute",
        "outputId": "0a23c20c-7a06-4e18-931c-6beaa04cd08d"
      },
      "execution_count": null,
      "outputs": [
        {
          "output_type": "stream",
          "name": "stdout",
          "text": [
            "enter a number 67\n",
            "number is positive\n"
          ]
        }
      ]
    },
    {
      "cell_type": "code",
      "source": [
        "#2. Create a program to determine if a person is eligible to vote based on their age.\n",
        "age = int(input(\"enter age of user \"))\n",
        "if age>=18:\n",
        "  print(\"user is eligible to vote\")\n",
        "else:\n",
        "  print(\"user is not eligible to vote\")"
      ],
      "metadata": {
        "colab": {
          "base_uri": "https://localhost:8080/"
        },
        "id": "iggkIzzysubg",
        "outputId": "51280923-ad06-403a-f649-7ddcb713feac"
      },
      "execution_count": null,
      "outputs": [
        {
          "output_type": "stream",
          "name": "stdout",
          "text": [
            "enter age of user 23\n",
            "user is eligible to vote\n"
          ]
        }
      ]
    },
    {
      "cell_type": "code",
      "source": [
        "#3. Write a program to find the maximum of two given numbers using conditional statements.\n",
        "a=int(input(\"enter a number \"))\n",
        "b=int(input(\"enter a number \"))\n",
        "\n",
        "if a>b:\n",
        "  print(a,\"is the larger number of the two\")\n",
        "else:\n",
        "  print(b,\"is the larger number of the two\")"
      ],
      "metadata": {
        "colab": {
          "base_uri": "https://localhost:8080/"
        },
        "id": "akyRsPtgsuNM",
        "outputId": "51550418-79ec-4f67-de03-0bfa6a54d975"
      },
      "execution_count": null,
      "outputs": [
        {
          "output_type": "stream",
          "name": "stdout",
          "text": [
            "enter a number 78\n",
            "enter a number 0\n",
            "78 is the larger number of the two\n"
          ]
        }
      ]
    },
    {
      "cell_type": "code",
      "source": [
        "#4. Develop a program that calculates the grade of a student based on their exam score.\n",
        "sc=int(input(\"enter a number \"))\n",
        "if sc>80:\n",
        "  print(\"grade is A\")\n",
        "elif sc>70 and sc<80:\n",
        "  print(\"grade is B\")\n",
        "elif sc>60 and sc<70:\n",
        "  print(\"grade is C\")\n",
        "elif sc>50 and sc <60:\n",
        "  print(\"grade is D\")\n",
        "elif sc>40 and sc<50:\n",
        "  print(\"grade is E\")\n",
        "else:\n",
        "  print(\"grade is F\")"
      ],
      "metadata": {
        "colab": {
          "base_uri": "https://localhost:8080/"
        },
        "id": "DgE6jmX6st-z",
        "outputId": "9f9ab538-efa8-4167-e9d9-ba44273de3fd"
      },
      "execution_count": null,
      "outputs": [
        {
          "output_type": "stream",
          "name": "stdout",
          "text": [
            "enter a number 65\n",
            "grade is C\n"
          ]
        }
      ]
    },
    {
      "cell_type": "code",
      "source": [
        "#5. Create a program that checks if a year is a leap year or not.\n",
        "year=int(input(\"enter a year \"))\n",
        "if (year%100 == 0 and year%4==0)or year%400==0:\n",
        "  print(f\"{year} is a leap year\")\n",
        "else:\n",
        "  print(\"not a leap year\")"
      ],
      "metadata": {
        "colab": {
          "base_uri": "https://localhost:8080/"
        },
        "id": "46q8TD85stvk",
        "outputId": "ff46214b-7cd1-4cf6-b60c-b901b8e2f56f"
      },
      "execution_count": null,
      "outputs": [
        {
          "output_type": "stream",
          "name": "stdout",
          "text": [
            "enter a year 1900\n",
            "1900 is a leap year\n"
          ]
        }
      ]
    },
    {
      "cell_type": "code",
      "source": [
        "#6. Write a program to classify a triangle based on its sides' lengths.\n",
        "a=int(input(\"enter a number \"))\n",
        "b=int(input(\"enter a number \"))\n",
        "c=int(input(\"enter a number \"))\n",
        "if a==b and b==c:\n",
        "  print(\"issoceless triangle\")\n",
        "elif a==b and b==c and c==a:\n",
        "  print(\"equilateral triangle\")\n",
        "else:\n",
        "  print(\"scalene triangle\")"
      ],
      "metadata": {
        "colab": {
          "base_uri": "https://localhost:8080/"
        },
        "id": "Mfa8jNGbstiQ",
        "outputId": "d89dba6a-34f2-4405-e793-44363a8f6ee3"
      },
      "execution_count": null,
      "outputs": [
        {
          "output_type": "stream",
          "name": "stdout",
          "text": [
            "enter a number 56\n",
            "enter a number 29\n",
            "enter a number 90\n",
            "scalene triangle\n"
          ]
        }
      ]
    },
    {
      "cell_type": "code",
      "source": [
        "#7. Build a program that determines the largest of three given numbers.\n",
        "a=int(input(\"enter a number\"))\n",
        "b=int(input(\"enter a number\"))\n",
        "c=int(input(\"enter a number\"))\n",
        "if a>b and a>c:\n",
        "  print(f\"{a} is the greatest number of the three\")\n",
        "elif b>c:\n",
        "  print(f\"{b} is the greatest number of the three\")\n",
        "else:\n",
        "  print(f\"{c} is the greatest number of the three\")"
      ],
      "metadata": {
        "colab": {
          "base_uri": "https://localhost:8080/"
        },
        "id": "fSY10ncostRv",
        "outputId": "b2727a2e-b4b8-4a15-c570-8510897f33fe"
      },
      "execution_count": null,
      "outputs": [
        {
          "output_type": "stream",
          "name": "stdout",
          "text": [
            "enter a number23\n",
            "enter a number45\n",
            "enter a number67\n",
            "67 is the greatest number of the three\n"
          ]
        }
      ]
    },
    {
      "cell_type": "code",
      "source": [
        "#8. Develop a program that checks whether a character is a vowel or a consonant.\n",
        "ch=input(\"enter a character \")\n",
        "v=\"aeiouAEIOU\"\n",
        "if ch in v:\n",
        "  print(f'{ch} is a vowel')\n",
        "else:\n",
        "  print(f'{ch} is a constant')"
      ],
      "metadata": {
        "colab": {
          "base_uri": "https://localhost:8080/"
        },
        "id": "LSnw_6a3ss87",
        "outputId": "7cca8850-00b8-46e8-8f5d-62e85583789f"
      },
      "execution_count": null,
      "outputs": [
        {
          "output_type": "stream",
          "name": "stdout",
          "text": [
            "enter a character p\n",
            "p is a constant\n"
          ]
        }
      ]
    },
    {
      "cell_type": "code",
      "source": [
        "#9. Create a program to calculate the total cost of a shopping cart based on discounts.\n",
        "cost=int(input(\"enter initial cost amount \"))\n",
        "if cost>500 and cost<1000:\n",
        "  d=cost*(90/100)\n",
        "  print(\"discounter price after 10% discount\",d)\n",
        "elif cost>1000 and cost<1500:\n",
        "  d=cost*(85/100)\n",
        "  print(\"discounter price after 15% discount\",d)\n",
        "elif cost>1500 and cost<2000:\n",
        "  d=cost*(80/100)\n",
        "  print(\"discounter price after 20% discount\",d)\n",
        "else:\n",
        "  d=cost*(70/100)\n",
        "  print(\"discounter price after 30% discount\",d)"
      ],
      "metadata": {
        "colab": {
          "base_uri": "https://localhost:8080/"
        },
        "id": "CVuYf6QsssrC",
        "outputId": "7f9e76ac-ca99-4255-ec59-52e6044a2509"
      },
      "execution_count": null,
      "outputs": [
        {
          "output_type": "stream",
          "name": "stdout",
          "text": [
            "enter initial cost amount 900\n",
            "discounter price after 10% discount 810.0\n"
          ]
        }
      ]
    },
    {
      "cell_type": "code",
      "source": [
        "#10. Write a program that checks if a given number is even or odd.\n",
        "n=int(input(\"enter a number \"))\n",
        "if n%2==0:\n",
        "  print(\"number is even\")\n",
        "else:\n",
        "  print(\"number is odd\")"
      ],
      "metadata": {
        "colab": {
          "base_uri": "https://localhost:8080/"
        },
        "id": "P84gAkz2ssfa",
        "outputId": "c94d5bef-e817-4010-f8d9-b29878c999de"
      },
      "execution_count": null,
      "outputs": [
        {
          "output_type": "stream",
          "name": "stdout",
          "text": [
            "enter a number 75\n",
            "number is odd\n"
          ]
        }
      ]
    },
    {
      "cell_type": "markdown",
      "source": [
        "Intermediate Level:"
      ],
      "metadata": {
        "id": "nbR5KPq2uAfp"
      }
    },
    {
      "cell_type": "code",
      "source": [
        "# 11. Write a program that calculates the roots of a quadratic equation .\n",
        "a = int(input('Enter a number'))\n",
        "b = int(input('Enter a number'))\n",
        "c = int(input('Enter a number'))\n",
        "d = b * b - (4 * a * c )\n",
        "sqrt_val = d**(0.5)\n",
        "\n",
        "if d > 0:\n",
        "  print(\" real and different roots \")\n",
        "  print((-b + sqrt_val) / (2 * a))\n",
        "  print((-b - sqrt_val) / (2 * a))\n",
        "\n",
        "elif d == 0:\n",
        "  print(\" real and same roots\")\n",
        "  print(-b / (2 * a))\n",
        "\n",
        "else:\n",
        "  print(\"Complex Roots\")\n",
        "  print(- b / (2 * a), \" + i\", sqrt_val)\n",
        "  print(- b / (2 * a), \" - i\", sqrt_val)"
      ],
      "metadata": {
        "colab": {
          "base_uri": "https://localhost:8080/"
        },
        "id": "dSnxgIqrucIN",
        "outputId": "378b4676-9ca3-4c8d-b5b9-86b4d189c810"
      },
      "execution_count": null,
      "outputs": [
        {
          "output_type": "stream",
          "name": "stdout",
          "text": [
            "Enter a number23\n",
            "Enter a number67\n",
            "Enter a number89\n",
            "Complex Roots\n",
            "-1.4565217391304348  + i (3.724114470604459e-15+60.81940479813988j)\n",
            "-1.4565217391304348  - i (3.724114470604459e-15+60.81940479813988j)\n"
          ]
        }
      ]
    },
    {
      "cell_type": "code",
      "source": [
        "# 12. Create a program that determines the day of the week based on the day number (1-7).\n",
        "n= int(input(\"enter a number \"))\n",
        "if n==1:\n",
        "  print(\"Sunday\")\n",
        "elif n==2:\n",
        "  print(\"Monday\")\n",
        "elif n==3:\n",
        "  print(\"Tuesday\")\n",
        "elif n==4:\n",
        "  print(\"Wednesday\")\n",
        "elif n==5:\n",
        "  print(\"Thursday\")\n",
        "elif n==6:\n",
        "  print(\"Friday\")\n",
        "elif n==7:\n",
        "  print(\"Saturday\")\n",
        "else:\n",
        "  print(\"wrong choice\")"
      ],
      "metadata": {
        "colab": {
          "base_uri": "https://localhost:8080/"
        },
        "id": "TMMD09iKub59",
        "outputId": "34919c2a-8578-4d82-ee9f-8d1c316aca2d"
      },
      "execution_count": null,
      "outputs": [
        {
          "output_type": "stream",
          "name": "stdout",
          "text": [
            "enter a number 1\n",
            "Sunday\n"
          ]
        }
      ]
    },
    {
      "cell_type": "code",
      "source": [
        "# 13. Develop a program that calculates the factorial of a given number using recursion.\n",
        "def fact(n):\n",
        "\n",
        "  if n==0:\n",
        "    return 1\n",
        "  else:\n",
        "    return n*fact(n-1)\n",
        "\n",
        "print(fact(5))"
      ],
      "metadata": {
        "colab": {
          "base_uri": "https://localhost:8080/"
        },
        "id": "B-xmSW5nubyH",
        "outputId": "60ee460e-3fe5-472e-e6bc-9ba915aa936e"
      },
      "execution_count": null,
      "outputs": [
        {
          "output_type": "stream",
          "name": "stdout",
          "text": [
            "120\n"
          ]
        }
      ]
    },
    {
      "cell_type": "code",
      "source": [
        "# 14. Write a program to find the largest among three numbers without using the `max()` function.\n",
        "a=int(input(\"enter a number\"))\n",
        "b=int(input(\"enter a number\"))\n",
        "c=int(input(\"enter a number\"))\n",
        "if a>b and a>c:\n",
        "  print(f\"{a} is the greatest number of the three\")\n",
        "elif b>c:\n",
        "  print(f\"{b} is the greatest number of the three\")\n",
        "else:\n",
        "  print(f\"{c} is the greatest number of the three\")"
      ],
      "metadata": {
        "colab": {
          "base_uri": "https://localhost:8080/"
        },
        "id": "H_quGyz8uasN",
        "outputId": "6ab6d49f-06c0-41d7-ccd4-3a8fe0f8c690"
      },
      "execution_count": null,
      "outputs": [
        {
          "output_type": "stream",
          "name": "stdout",
          "text": [
            "enter a number67\n",
            "enter a number90\n",
            "enter a number33\n",
            "90 is the greatest number of the three\n"
          ]
        }
      ]
    },
    {
      "cell_type": "code",
      "source": [
        "# 15. Create a program that simulates a basic ATM transaction menu.\n",
        "bln=10000\n",
        "amt=int(input(\"enter an amount\"))\n",
        "choice=input(\"enter withdraw or deposit \")\n",
        "if choice==\"withdraw\":\n",
        "  bln=bln-amt\n",
        "  print(f\"successful witdrawl of amount {amt} \\n current balance is {bln}\")\n",
        "elif choice==\"deposit\":\n",
        "  bln=bln+amt\n",
        "  print(f\"successful deposit of amount {amt} \\n current balance is {bln}\")\n",
        "else:\n",
        "  print(\"invalid choice\")"
      ],
      "metadata": {
        "colab": {
          "base_uri": "https://localhost:8080/"
        },
        "id": "264uN_VGuaot",
        "outputId": "f6556e3e-e7c5-45c8-fe5a-126dceebe110"
      },
      "execution_count": null,
      "outputs": [
        {
          "output_type": "stream",
          "name": "stdout",
          "text": [
            "enter an amount500\n",
            "enter withdraw or deposit withdraw\n",
            "successful witdrawl of amount 500 \n",
            " current balance is 9500\n"
          ]
        }
      ]
    },
    {
      "cell_type": "code",
      "source": [
        "#16. Build a program that checks if a given string is a palindrome or not.\n",
        "st=input(\"enter a string \")\n",
        "if st==st[::-1]:\n",
        "  print(f'{st} is a palindrome')\n",
        "else:\n",
        "  print(f'{st} is not a palindrome')"
      ],
      "metadata": {
        "colab": {
          "base_uri": "https://localhost:8080/"
        },
        "id": "W3mLbjZ4uYyT",
        "outputId": "506029ae-5e20-4d41-bc3b-e0bab97bce43"
      },
      "execution_count": null,
      "outputs": [
        {
          "output_type": "stream",
          "name": "stdout",
          "text": [
            "enter a string mom\n",
            "mom is a palindrome\n"
          ]
        }
      ]
    },
    {
      "cell_type": "code",
      "source": [
        "#17. Write a program that calculates the average of a list of numbers, excluding the smallest and largest values.\n",
        "l=[10,3,5,67,81,25]\n",
        "mx=max(l)\n",
        "mi=min(l)\n",
        "s=0\n",
        "c=0\n",
        "for i in l:\n",
        "  if i!=mx and i!=mi:\n",
        "    s=s+i\n",
        "    c+=1\n",
        "avg=s/c\n",
        "print(\"avg is\",avg)"
      ],
      "metadata": {
        "colab": {
          "base_uri": "https://localhost:8080/"
        },
        "id": "UsMdlFiCuYu2",
        "outputId": "1b43bb1e-e291-4224-efc8-019469fa91de"
      },
      "execution_count": null,
      "outputs": [
        {
          "output_type": "stream",
          "name": "stdout",
          "text": [
            "avg is 26.75\n"
          ]
        }
      ]
    },
    {
      "cell_type": "code",
      "source": [
        "#18. Develop a program that converts a given temperature from Celsius to Fahrenheit.\n",
        "ch=input(\"enter a character \")\n",
        "v=\"aeiouAEIOU\"\n",
        "if ch in v:\n",
        "  print(f'{ch} is a vowel')\n",
        "else:\n",
        "  print(f'{ch} is a constant')"
      ],
      "metadata": {
        "colab": {
          "base_uri": "https://localhost:8080/"
        },
        "id": "TNxtVDYOuYly",
        "outputId": "46447865-f0b5-4981-8de0-fe0356c46b87"
      },
      "execution_count": null,
      "outputs": [
        {
          "output_type": "stream",
          "name": "stdout",
          "text": [
            "enter a character t\n",
            "t is a constant\n"
          ]
        }
      ]
    },
    {
      "cell_type": "code",
      "source": [
        "#19. Create a program that simulates a basic calculator for addition, subtraction, multiplication, and division.\n",
        "a=int(input(\"enter a number \"))\n",
        "b=int(input(\"enter a number \"))\n",
        "op=input(\"enter a operator \")\n",
        "if op==\"+\":\n",
        "  print(a+b)\n",
        "elif op==\"-\":\n",
        "  print(a-b)\n",
        "if op==\"*\":\n",
        "  print(a*b)\n",
        "if op==\"//\":\n",
        "  print(a//b)\n",
        "else:\n",
        "  print(\"invalid operator \")"
      ],
      "metadata": {
        "colab": {
          "base_uri": "https://localhost:8080/"
        },
        "id": "KZOvUJaYvNZw",
        "outputId": "ab3c9231-0573-451c-9700-ef4b06853f58"
      },
      "execution_count": null,
      "outputs": [
        {
          "output_type": "stream",
          "name": "stdout",
          "text": [
            "enter a number 12\n",
            "enter a number 67\n",
            "enter a operator //\n",
            "0\n"
          ]
        }
      ]
    },
    {
      "cell_type": "code",
      "source": [
        "#20. Write a program that determines the roots of a cubic equation using the Cardano formula.\n",
        "import math\n",
        "\n",
        "def solve_cubic(a, b, c, d):\n",
        "    p = (3 * a * c - b**2) / (3 * a**2)\n",
        "    q = (2 * b**3 - 9 * a * b * c + 27 * a**2 * d) / (27 * a**3)\n",
        "    discriminant = q**2 / 4 + p**3 / 27\n",
        "\n",
        "    if discriminant > 0:\n",
        "        u = (-q / 2 + math.sqrt(discriminant))**(1/3)\n",
        "        v = (-q / 2 - math.sqrt(discriminant))**(1/3)\n",
        "        real_root = u + v - b / (3 * a)\n",
        "        return [real_root]\n",
        "    elif discriminant == 0:\n",
        "        if q >= 0:\n",
        "            root = -2 * q**(1/3) - b / (3 * a)\n",
        "            return [root, root]\n",
        "        else:\n",
        "            root = 2 * (-q)**(1/3) - b / (3 * a)\n",
        "            return [root, root]\n",
        "    else:\n",
        "        phi = math.acos(-q / (2 * math.sqrt(-p**3 / 27)))\n",
        "        root1 = 2 * math.sqrt(-p / 3) * math.cos(phi / 3) - b / (3 * a)\n",
        "        root2 = 2 * math.sqrt(-p / 3) * math.cos((phi + 2 * math.pi) / 3) - b / (3 * a)\n",
        "        root3 = 2 * math.sqrt(-p / 3) * math.cos((phi + 4 * math.pi) / 3) - b / (3 * a)\n",
        "        return [root1, root2, root3]\n",
        "\n",
        "\n",
        "a = float(input(\"Enter the coefficient of x^3: \"))\n",
        "b = float(input(\"Enter the coefficient of x^2: \"))\n",
        "c = float(input(\"Enter the coefficient of x: \"))\n",
        "d = float(input(\"Enter the constant term: \"))\n",
        "\n",
        "roots = solve_cubic(a, b, c, d)\n",
        "\n",
        "print(\"Roots of the cubic equation:\")\n",
        "for i, root in enumerate(roots):\n",
        "    print(f\"Root {i + 1}: {root}\")\n"
      ],
      "metadata": {
        "colab": {
          "base_uri": "https://localhost:8080/"
        },
        "id": "0YYUcwh0R343",
        "outputId": "c6231d3f-3144-4f77-8647-8ef8e82d157a"
      },
      "execution_count": null,
      "outputs": [
        {
          "output_type": "stream",
          "name": "stdout",
          "text": [
            "Enter the coefficient of x^3: 3\n",
            "Enter the coefficient of x^2: 12\n",
            "Enter the coefficient of x: 9\n",
            "Enter the constant term: 1\n",
            "Roots of the cubic equation:\n",
            "Root 1: -0.134379312321111\n",
            "Root 2: -3.053174246755502\n",
            "Root 3: -0.812446440923387\n"
          ]
        }
      ]
    },
    {
      "cell_type": "markdown",
      "source": [
        "Advanced Level:"
      ],
      "metadata": {
        "id": "D5lb-CQZaGzV"
      }
    },
    {
      "cell_type": "code",
      "source": [
        "#21. Create a program that calculates the income tax based on the user's income and tax brackets.\n",
        "inc=int(input(\"enter income of user\"))\n",
        "tax=0\n",
        "if inc<300000:\n",
        "  print(\"no income tax reduction\")\n",
        "elif inc>=300000 and inc<600000:\n",
        "  tax=0.05*inc\n",
        "  print(\"income tax\",tax)\n",
        "elif inc<300000:\n",
        "  tax=0.10*inc +15000\n",
        "  print(\"income tax\",tax)\n",
        "elif inc<300000:\n",
        "  tax=0.15*inc +45000\n",
        "  print(\"income tax\",tax)\n",
        "elif inc<300000:\n",
        "  tax=0.20*inc +90000\n",
        "  print(\"income tax\",tax)\n",
        "else:\n",
        "  tax=0.30*inc +150000\n",
        "  print(\"income tax\",tax)\n"
      ],
      "metadata": {
        "colab": {
          "base_uri": "https://localhost:8080/"
        },
        "id": "jYxJfbCaR9pL",
        "outputId": "bb59ccab-b3db-444c-a4cb-ead876ee4bdf"
      },
      "execution_count": null,
      "outputs": [
        {
          "output_type": "stream",
          "name": "stdout",
          "text": [
            "enter income of user100000\n",
            "no income tax reduction\n"
          ]
        }
      ]
    },
    {
      "cell_type": "code",
      "source": [
        "#22. Write a program that simulates a rock-paper-scissors game against the computer.\n",
        "import random\n",
        "u_ch= input(\"enter rock, paper, scissors \")\n",
        "m_ch=random.choice([\"rock\",\"paper\",\"scissors\"])\n",
        "\n",
        "if u_ch==m_ch:\n",
        "  print(\"its a tie\")\n",
        "elif u_ch==\"rock\" and m_ch==\"scissors\":\n",
        "  print(\"you win\")\n",
        "elif u_ch==\"paper\" and m_ch==\"rock\":\n",
        "  print(\"you win\")\n",
        "elif u_ch==\"scissors\" and m_ch==\"paper\":\n",
        "  print(\"you win\")\n",
        "else:\n",
        "  print(\"the machine wins\")"
      ],
      "metadata": {
        "colab": {
          "base_uri": "https://localhost:8080/"
        },
        "id": "CdR0ox1kw-Oo",
        "outputId": "430d5d8b-29ac-43e9-e8a4-335dffc22dfb"
      },
      "execution_count": null,
      "outputs": [
        {
          "output_type": "stream",
          "name": "stdout",
          "text": [
            "enter rock, paper, scissors rock\n",
            "the machine wins\n"
          ]
        }
      ]
    },
    {
      "cell_type": "code",
      "source": [
        "#23. Develop a program that generates a random password based on user preferences (length, complexity).\n",
        "import random\n",
        "complexity=input(\"enter the level of complexity: easy, medium , hard \")\n",
        "l=int(input(\"enter length \"))\n",
        "psw=\"\"\n",
        "if complexity==\"easy\":\n",
        "  for i in range(l):\n",
        "    x=random.choice(\"abcdefghijklmnopqrstuvwxyzABCDEFGHIJKLMNOPQRSTUVWXYZ123456789@#$%*_\")\n",
        "    psw=psw+x\n",
        "  print(\"password generated\",psw)\n",
        "elif complexity==\"medium\":\n",
        "  for i in range(l):\n",
        "    x=random.choice(\"abcdefghijklmnopqrstuvwxyzABCDEFGHIJKLMNOPQRSTUVWXYZ123456789@#$%*_\")\n",
        "    psw=psw+x\n",
        "  for i in range(4):\n",
        "    x=random.choice(\"123456789@#$%*_\")\n",
        "    psw=psw+x\n",
        "  print(\"password generated\",psw)\n",
        "elif complexity==\"hard\":\n",
        "  for i in range(l):\n",
        "    x=random.choice(\"abcdefghijklmnopqrstuvwxyzABCDEFGHIJKLMNOPQRSTUVWXYZ123456789@#$%*_\")\n",
        "    psw=psw+x\n",
        "  for i in range(8):\n",
        "    x=random.choice(\"123456789@#$%*_\")\n",
        "    psw=psw+x\n",
        "  print(\"password generated\",psw)\n",
        "else:\n",
        "  print(\"invalid choice\")"
      ],
      "metadata": {
        "colab": {
          "base_uri": "https://localhost:8080/"
        },
        "id": "3jq_Uj4Dw-bn",
        "outputId": "7fd97d64-5344-49ca-b54a-9e0fb5498216"
      },
      "execution_count": null,
      "outputs": [
        {
          "output_type": "stream",
          "name": "stdout",
          "text": [
            "enter the level of complexity: easy, medium , hard medium\n",
            "enter length 12\n",
            "password generated *X_y%ZdDFzQp%8_3\n"
          ]
        }
      ]
    },
    {
      "cell_type": "code",
      "source": [
        "#24. Create a program that implements a simple text-based adventure game with branching scenarios.\n",
        "print(\"lets start the game\")\n",
        "ch=int(input(\"make a choice between 1 or 2 \"))\n",
        "if ch==1:\n",
        "  ch=input(\"you are presented two doors: BLUE and RED \\n make a choice \")\n",
        "  if ch=='BLUE':\n",
        "    print(\"you died in the fiery hell, you lost the game\")\n",
        "  else:\n",
        "    print(\"you move ahead to find a door which on being opened leads you to a treasure, congratulations you win \")\n",
        "elif ch==2:\n",
        "  ch= input(\"make a choice between left or right \")\n",
        "  if choice == \"left\":\n",
        "    print(\"follow the left path and discover a hidden castle, congratulations you win\")\n",
        "  else:\n",
        "    print(\"follow the right path, but you encounter a hungry bear!, You did not survive this adventure\")\n",
        "else:\n",
        "  print(\"wrong choice\")\n"
      ],
      "metadata": {
        "colab": {
          "base_uri": "https://localhost:8080/"
        },
        "id": "iJkTJWNFw-oL",
        "outputId": "1852bcdf-292b-475e-a0ed-72dc853dc0e8"
      },
      "execution_count": null,
      "outputs": [
        {
          "output_type": "stream",
          "name": "stdout",
          "text": [
            "lets start the game\n",
            "make a choice between 1 or 2 2\n",
            "make a choice between left or right left\n",
            "follow the right path, but you encounter a hungry bear!, You did not survive this adventure\n"
          ]
        }
      ]
    },
    {
      "cell_type": "code",
      "source": [
        "#25. Build a program that solves a linear equation for x, considering different cases.\n",
        "\n",
        "a = float(input(\"Enter the coefficient 'a': \"))\n",
        "b = float(input(\"Enter the coefficient 'b': \"))\n",
        "if a == 0:\n",
        "    if b == 0:\n",
        "        print(\"Infinite solutions: 0x = 0 (0 = 0)\")\n",
        "    else:\n",
        "        print(\"No solution: 0x = b (0 is not equal to 0)\")\n",
        "else:\n",
        "    x = -b / a\n",
        "    print(f\"Solution: {a}x + {b} = 0\\nx = {x}\")\n"
      ],
      "metadata": {
        "colab": {
          "base_uri": "https://localhost:8080/"
        },
        "id": "ZCEQcQqgw-0J",
        "outputId": "07da3a59-4a30-47a3-94a3-bfe60559a3e1"
      },
      "execution_count": null,
      "outputs": [
        {
          "output_type": "stream",
          "name": "stdout",
          "text": [
            "Enter the coefficient 'a': 6\n",
            "Enter the coefficient 'b': 13\n",
            "Solution: 6.0x + 13.0 = 0\n",
            "x = -2.1666666666666665\n"
          ]
        }
      ]
    },
    {
      "cell_type": "code",
      "source": [
        "#26. Write a program that simulates a basic quiz game with multiple-choice questions and scoring.\n",
        "q={\"What country has the highest life expectancy?\": \"Hong Kong\",\n",
        "\"Where would you be if you were standing on the Spanish Steps?\": \"Rome\",\n",
        "\"Which language has the more native speakers: English or Spanish?\":\"Spanish\",\n",
        "\"What is the most common surname in the United States?\": \"Smith\",\n",
        "\"What disease commonly spread on pirate ships?\": \"Scurvy\"}\n",
        "sc=0\n",
        "for que,ans in q.items():\n",
        "  print(\"your question is\",que)\n",
        "  a=input(\"enter your answer\").lower()\n",
        "  if a==ans.lower():\n",
        "    print(\"correct answer\")\n",
        "    sc=sc+1\n",
        "  else:\n",
        "    print(\"wrong answer\")\n",
        "    sc=sc-1\n",
        "print(\"your score for the quiz is\",sc)"
      ],
      "metadata": {
        "colab": {
          "base_uri": "https://localhost:8080/"
        },
        "id": "SegW-Qu_w_AT",
        "outputId": "2723cff0-96e0-4542-82aa-7a5297eb96b7"
      },
      "execution_count": null,
      "outputs": [
        {
          "output_type": "stream",
          "name": "stdout",
          "text": [
            "your question is What country has the highest life expectancy?\n",
            "enter your answerspanish\n",
            "wrong answer\n",
            "your question is Where would you be if you were standing on the Spanish Steps?\n",
            "enter your answerrome\n",
            "correct answer\n",
            "your question is Which language has the more native speakers: English or Spanish?\n",
            "enter your answerspanish\n",
            "correct answer\n",
            "your question is What is the most common surname in the United States?\n",
            "enter your answersmth\n",
            "wrong answer\n",
            "your question is What disease commonly spread on pirate ships?\n",
            "enter your answerscurvy\n",
            "correct answer\n",
            "your score for the quiz is 1\n"
          ]
        }
      ]
    },
    {
      "cell_type": "code",
      "source": [
        "#27. Develop a program that determines whether a given year is a prime number or not.\n",
        "def is_prime(year):\n",
        "    if year <= 1:\n",
        "        return False\n",
        "    if year == 2:\n",
        "        return True\n",
        "    for i in range(2, int(year ** 0.5) + 1):\n",
        "        if year % i == 0:\n",
        "            return False\n",
        "    return True\n",
        "\n",
        "year = int(input(\"Enter a year: \"))\n",
        "if is_prime(year):\n",
        "    print(f\"{year} is a prime year.\")\n",
        "else:\n",
        "    print(f\"{year} is not a prime year.\")\n"
      ],
      "metadata": {
        "colab": {
          "base_uri": "https://localhost:8080/"
        },
        "id": "AWiNLCJ1w_Lu",
        "outputId": "773d4a8e-ab02-4369-f008-dd1e7e15e413"
      },
      "execution_count": null,
      "outputs": [
        {
          "output_type": "stream",
          "name": "stdout",
          "text": [
            "Enter a year: 1989\n",
            "1989 is not a prime year.\n"
          ]
        }
      ]
    },
    {
      "cell_type": "code",
      "source": [
        "#28. Create a program that sorts three numbers in ascending order using conditional statements.\n",
        "n1 = float(input(\"Enter the first number: \"))\n",
        "n2 = float(input(\"Enter the second number: \"))\n",
        "n3 = float(input(\"Enter the third number: \"))\n",
        "\n",
        "if n1 <= n2 <= n3:\n",
        "    sorted= (n1, n2, n3)\n",
        "elif n1 <= n3 <= n2:\n",
        "    sorted = (n1, n3, n2)\n",
        "elif n2 <= n1 <= n3:\n",
        "    sorted= (n2, n1, n3)\n",
        "elif n2 <= n3 <= n1:\n",
        "    sorted= (n2, n3, n1)\n",
        "elif n3 <= n1 <= n2:\n",
        "    sorted = (n3, n1, n2)\n",
        "else:\n",
        "    sorted = (n3, n2, n1)\n",
        "print(\"Numbers in ascending order:\", sorted)\n"
      ],
      "metadata": {
        "colab": {
          "base_uri": "https://localhost:8080/"
        },
        "id": "gEl3Dct01iQO",
        "outputId": "a66d7bc4-3b59-4575-9031-328022801cc1"
      },
      "execution_count": null,
      "outputs": [
        {
          "output_type": "stream",
          "name": "stdout",
          "text": [
            "Enter the first number: 12\n",
            "Enter the second number: 78\n",
            "Enter the third number: 45\n",
            "Numbers in ascending order: (12.0, 45.0, 78.0)\n"
          ]
        }
      ]
    },
    {
      "cell_type": "code",
      "source": [
        "#29. Build a program that determines the roots of a quartic equation using numerical methods.\n",
        "a = int(input('Enter a number'))\n",
        "b = int(input('Enter a number'))\n",
        "c = int(input('Enter a number'))\n",
        "d = b * b - (4 * a * c )\n",
        "sqrt_val = d**(0.5)\n",
        "\n",
        "if d > 0:\n",
        "  print(\" real and different roots \")\n",
        "  print((-b + sqrt_val) / (2 * a))\n",
        "  print((-b - sqrt_val) / (2 * a))\n",
        "\n",
        "elif d == 0:\n",
        "  print(\" real and same roots\")\n",
        "  print(-b / (2 * a))\n",
        "\n",
        "else:\n",
        "  print(\"Complex Roots\")\n",
        "  print(- b / (2 * a), \" + i\", sqrt_val)\n",
        "  print(- b / (2 * a), \" - i\", sqrt_val)\n"
      ],
      "metadata": {
        "colab": {
          "base_uri": "https://localhost:8080/"
        },
        "id": "2Ro_ohB4w_XJ",
        "outputId": "699ec772-ecaa-4770-e7a1-36c6cddb5aea"
      },
      "execution_count": null,
      "outputs": [
        {
          "output_type": "stream",
          "name": "stdout",
          "text": [
            "Enter a number45\n",
            "Enter a number23\n",
            "Enter a number78\n",
            "Complex Roots\n",
            "-0.25555555555555554  + i (7.117452919328719e-15+116.23682721065643j)\n",
            "-0.25555555555555554  - i (7.117452919328719e-15+116.23682721065643j)\n"
          ]
        }
      ]
    },
    {
      "cell_type": "code",
      "source": [
        "#30. Write a program that calculates the BMI (Body Mass Index) and provides health recommendations based on the user's input.\n",
        "weight = float(input(\"Enter your weight (kg): \"))\n",
        "height = float(input(\"Enter your height (m): \"))\n",
        "bmi = weight / (height ** 2)\n",
        "if bmi<=18.5:\n",
        "  print(\"underweight, please eat more and gain more weight\")\n",
        "elif bmi>18.5 and bmi<=24.9:\n",
        "  print(\"normal, keep up the good work\")\n",
        "elif bmi>25.0 and bmi<=29.9:\n",
        "  print(\"overweight just a little over the normal weight please see a doctor\")\n",
        "else:\n",
        "  print(\"obese see a doctor\")"
      ],
      "metadata": {
        "colab": {
          "base_uri": "https://localhost:8080/"
        },
        "id": "NNl0dXwWw_jx",
        "outputId": "42561033-55ef-403d-a1e6-3c9867003ce1"
      },
      "execution_count": null,
      "outputs": [
        {
          "output_type": "stream",
          "name": "stdout",
          "text": [
            "Enter your weight (kg): 45\n",
            "Enter your height (m): 3.5\n",
            "underweight, please eat more and gain more weight\n"
          ]
        }
      ]
    },
    {
      "cell_type": "markdown",
      "source": [
        "Challenge Level:"
      ],
      "metadata": {
        "id": "OJ54PDH3YNNM"
      }
    },
    {
      "cell_type": "code",
      "source": [
        "#31. Create a program that validates a password based on complexity rules (length, characters, etc.).\n",
        "import re\n",
        "psw=input(\"enter a password \")\n",
        "if len(psw)>10:\n",
        "  if re.search(r'[A-Z]',psw):\n",
        "    if re.search(r'[a-z]',psw):\n",
        "      if re.search(r'\\d',psw):\n",
        "        if re.search(r'[!@#$%^&*_]',psw):\n",
        "          print(\"its a valid password\")\n",
        "      else:\n",
        "        print(\"no digit present\")\n",
        "    else:\n",
        "      print(\"no small letter present\")\n",
        "  else:\n",
        "    print(\"no capital letter present\")\n",
        "else:\n",
        "  print(\"length is less than 10\")\n",
        "\n"
      ],
      "metadata": {
        "colab": {
          "base_uri": "https://localhost:8080/"
        },
        "id": "izfBcVTKSCm0",
        "outputId": "9da0e049-7a6d-46f7-c316-fe57c52e612e"
      },
      "execution_count": null,
      "outputs": [
        {
          "output_type": "stream",
          "name": "stdout",
          "text": [
            "enter a password navyanair@123\n",
            "no capital letter present\n"
          ]
        }
      ]
    },
    {
      "cell_type": "code",
      "source": [
        "#32. Develop a program that performs matrix addition and subtraction based on user input.\n",
        "op=input(\"enter operation add or sub \")\n",
        "m1=[[1,23,41],[31,2,12],[10,7,51]]\n",
        "m2=[[21,7,12],[90,25,67],[34,79,32]]\n",
        "mx=[]\n",
        "if op==\"add\":\n",
        "  for i in range(len(m1)):\n",
        "    l=len(m1[0])\n",
        "    m=[]\n",
        "    a=0\n",
        "    for j in range(l):\n",
        "      a=m1[i][j]+m2[i][j]\n",
        "      m.append(a)\n",
        "    mx.append(m)\n",
        "  print(mx)\n",
        "elif op==\"sub\":\n",
        "  for i in range(len(m1)):\n",
        "    l=len(m1[0])\n",
        "    m=[]\n",
        "    s=0\n",
        "    for j in range(l):\n",
        "      s=m1[i][j]-m2[i][j]\n",
        "      m.append(s)\n",
        "    mx.append(m)\n",
        "  print(mx)\n",
        "else:\n",
        "  print(\"invalid operation\")"
      ],
      "metadata": {
        "colab": {
          "base_uri": "https://localhost:8080/"
        },
        "id": "guDcvt2ln5ur",
        "outputId": "9bd98ac4-ec13-410d-e497-ea0af94c0c81"
      },
      "execution_count": null,
      "outputs": [
        {
          "output_type": "stream",
          "name": "stdout",
          "text": [
            "enter operation add or sub add\n",
            "[[22, 30, 53], [121, 27, 79], [44, 86, 83]]\n"
          ]
        }
      ]
    },
    {
      "cell_type": "code",
      "source": [
        "#33. Write a program that calculates the greatest common divisor (GCD) of two numbers using the Euclidean algorithm.\n",
        "a=int(input(\"enter a number \"))\n",
        "b=int(input(\"enter a number \"))\n",
        "while b:\n",
        "  a,b=b,a%b\n",
        "print(a)\n"
      ],
      "metadata": {
        "colab": {
          "base_uri": "https://localhost:8080/"
        },
        "id": "Bo3hMb_fjYRA",
        "outputId": "c0089149-da43-48fd-fc5a-cf7cbc8e462d"
      },
      "execution_count": null,
      "outputs": [
        {
          "output_type": "stream",
          "name": "stdout",
          "text": [
            "enter a number 23\n",
            "enter a number 90\n",
            "1\n"
          ]
        }
      ]
    },
    {
      "cell_type": "code",
      "source": [
        "#34. Build a program that performs matrix multiplication using nested loops and conditional statements.\n",
        "m1=[[1,23,41],[31,2,12],[10,7,51]]\n",
        "m2=[[21,7,12],[90,25,67],[34,79,32]]\n",
        "m=[]\n",
        "l=len(m1[0])\n",
        "for i in range(len(m1)):\n",
        "  a=0\n",
        "  for j in range(l):\n",
        "    for k in range(len(m2)):\n",
        "      a+= m1[i][k] * m2[k][j]\n",
        "  m.append(a)\n",
        "print(m)"
      ],
      "metadata": {
        "colab": {
          "base_uri": "https://localhost:8080/"
        },
        "id": "685TJI4boP4r",
        "outputId": "6e36af00-fdeb-4cf3-c2f6-11881615e050"
      },
      "execution_count": null,
      "outputs": [
        {
          "output_type": "stream",
          "name": "stdout",
          "text": [
            "[10171, 3344, 9069]\n"
          ]
        }
      ]
    },
    {
      "cell_type": "code",
      "source": [
        "#35. Create a program that simulates a basic text-based tic-tac-toe game against the computer.\n",
        "import random\n",
        "board = [\" \" for _ in range(9)]\n",
        "def display_board():\n",
        "    for i in range(0, 9, 3):\n",
        "        print(\" | \".join(board[i:i+3]))\n",
        "        if i < 6:\n",
        "            print(\"---------\")\n",
        "\n",
        "def check_win(player):\n",
        "    for i in range(0, 9, 3):\n",
        "        if (board[i:i+3] == [player, player, player]):\n",
        "            return True\n",
        "    for i in range(3):\n",
        "        if (board[i::3] == [player, player, player]):\n",
        "            return True\n",
        "    if board[0] == board[4] == board[8] == player:\n",
        "        return True\n",
        "    if board[2] == board[4] == board[6] == player:\n",
        "        return True\n",
        "    return False\n",
        "\n",
        "while True:\n",
        "    display_board()\n",
        "    while True:\n",
        "        try:\n",
        "            move = int(input(\"Enter your move (1-9): \")) - 1\n",
        "            if 0 <= move <= 8 and board[move] == \" \":\n",
        "                board[move] = \"X\"\n",
        "                break\n",
        "            else:\n",
        "                print(\"Invalid move. Try again.\")\n",
        "        except ValueError:\n",
        "            print(\"Invalid input. Enter a number between 1 and 9.\")\n",
        "\n",
        "    if check_win(\"X\"):\n",
        "        display_board()\n",
        "        print(\"You win! Congrats!\")\n",
        "        break\n",
        "\n",
        "    if \" \" not in board:\n",
        "        display_board()\n",
        "        print(\"It's a draw!\")\n",
        "        break\n",
        "\n",
        "    while True:\n",
        "        comp_move = random.randint(0, 8)\n",
        "        if board[comp_move] == \" \":\n",
        "            board[comp_move] = \"O\"\n",
        "            break\n",
        "\n",
        "    if check_win(\"O\"):\n",
        "        display_board()\n",
        "        print(\"Computer wins! Try again.\")\n",
        "        break"
      ],
      "metadata": {
        "colab": {
          "base_uri": "https://localhost:8080/"
        },
        "id": "TqkcnVdA3Yg9",
        "outputId": "5aaefcb2-0ade-4976-ced2-b9b9375bdf7c"
      },
      "execution_count": null,
      "outputs": [
        {
          "output_type": "stream",
          "name": "stdout",
          "text": [
            "  |   |  \n",
            "---------\n",
            "  |   |  \n",
            "---------\n",
            "  |   |  \n",
            "Enter your move (1-9): 5\n",
            "  |   |  \n",
            "---------\n",
            "  | X |  \n",
            "---------\n",
            "  |   | O\n",
            "Enter your move (1-9): 8\n",
            "  | O |  \n",
            "---------\n",
            "  | X |  \n",
            "---------\n",
            "  | X | O\n",
            "Enter your move (1-9): 2\n",
            "Invalid move. Try again.\n",
            "Enter your move (1-9): 7\n",
            "  | O |  \n",
            "---------\n",
            "  | X | O\n",
            "---------\n",
            "X | X | O\n",
            "Enter your move (1-9): 3\n",
            "  | O | X\n",
            "---------\n",
            "  | X | O\n",
            "---------\n",
            "X | X | O\n",
            "You win! Congrats!\n"
          ]
        }
      ]
    },
    {
      "cell_type": "code",
      "source": [
        "#36. Write a program that generates Fibonacci numbers up to a specified term using iterative methods.\n",
        "n=int(input(\"enter a number \"))\n",
        "a=0\n",
        "b=1\n",
        "print(a,b,end=\" \")\n",
        "for i in range(n-1):\n",
        "  c=a+b\n",
        "  a,b=b,c\n",
        "  print(c,end=\" \")"
      ],
      "metadata": {
        "colab": {
          "base_uri": "https://localhost:8080/"
        },
        "id": "LYfIPqnx3Yj_",
        "outputId": "ef7a66a0-9f47-47a4-fbf1-bff3872ec8f9"
      },
      "execution_count": null,
      "outputs": [
        {
          "output_type": "stream",
          "name": "stdout",
          "text": [
            "enter a number 67\n",
            "0 1 1 2 3 5 8 13 21 34 55 89 144 233 377 610 987 1597 2584 4181 6765 10946 17711 28657 46368 75025 121393 196418 317811 514229 832040 1346269 2178309 3524578 5702887 9227465 14930352 24157817 39088169 63245986 102334155 165580141 267914296 433494437 701408733 1134903170 1836311903 2971215073 4807526976 7778742049 12586269025 20365011074 32951280099 53316291173 86267571272 139583862445 225851433717 365435296162 591286729879 956722026041 1548008755920 2504730781961 4052739537881 6557470319842 10610209857723 17167680177565 27777890035288 44945570212853 "
          ]
        }
      ]
    },
    {
      "cell_type": "code",
      "source": [
        "#37. Develop a program that calculates the nth term of the Fibonacci sequence using memoization.\n",
        "fib= {}\n",
        "n = int(input(\"Enter the nth term\"))\n",
        "if n in fib:\n",
        "  print(fib[n])\n",
        "elif n == 0:\n",
        "  print(0)\n",
        "elif n == 1:\n",
        "  print(1)\n",
        "else:\n",
        "  a=0\n",
        "  b=1\n",
        "  for i in range(n):\n",
        "    c=a+b\n",
        "    a,b=b,c\n",
        "    fib[i]=c\n",
        "print(fib)"
      ],
      "metadata": {
        "colab": {
          "base_uri": "https://localhost:8080/"
        },
        "id": "ruNQYPQj3YnQ",
        "outputId": "7dbb7f8d-76dc-4da5-e00d-1ef3d2f1ad8b"
      },
      "execution_count": null,
      "outputs": [
        {
          "output_type": "stream",
          "name": "stdout",
          "text": [
            "Enter the nth term4\n",
            "{0: 1, 1: 2, 2: 3, 3: 5}\n"
          ]
        }
      ]
    },
    {
      "cell_type": "code",
      "source": [
        "#38. Create a program that generates a calendar for a given month and year using conditional statements.\n",
        "import calendar\n",
        "\n",
        "year = int(input(\"Enter the year: \"))\n",
        "month = int(input(\"Enter the month (1-12): \"))\n",
        "\n",
        "if month < 1 or month > 12:\n",
        "    print(\"Invalid month input. Month should be between 1 and 12.\")\n",
        "else:\n",
        "    cal = calendar.month(year, month)\n",
        "    print(f\"Calendar for {calendar.month_name[month]} {year}:\\n\")\n",
        "    print(cal)\n"
      ],
      "metadata": {
        "colab": {
          "base_uri": "https://localhost:8080/"
        },
        "id": "3edg572K3YqJ",
        "outputId": "1ff8bc30-63d3-49f6-f211-09aba9559548"
      },
      "execution_count": null,
      "outputs": [
        {
          "output_type": "stream",
          "name": "stdout",
          "text": [
            "Enter the year: 2002\n",
            "Enter the month (1-12): 1\n",
            "Calendar for January 2002:\n",
            "\n",
            "    January 2002\n",
            "Mo Tu We Th Fr Sa Su\n",
            "    1  2  3  4  5  6\n",
            " 7  8  9 10 11 12 13\n",
            "14 15 16 17 18 19 20\n",
            "21 22 23 24 25 26 27\n",
            "28 29 30 31\n",
            "\n"
          ]
        }
      ]
    },
    {
      "cell_type": "code",
      "source": [
        "#39. Build a program that simulates a basic text-based blackjack game against the computer.\n",
        "import random\n",
        "\n",
        "suits = [\"Hearts\", \"Diamonds\", \"Clubs\", \"Spades\"]\n",
        "ranks = [\"2\", \"3\", \"4\", \"5\", \"6\", \"7\", \"8\", \"9\", \"10\", \"Jack\", \"Queen\", \"King\", \"Ace\"]\n",
        "deck = [{\"rank\": rank, \"suit\": suit} for rank in ranks for suit in suits]\n",
        "\n",
        "def hand_value(hand):\n",
        "    value = 0\n",
        "    num_aces = 0\n",
        "    for card in hand:\n",
        "        rank = card[\"rank\"]\n",
        "        if rank in [\"King\", \"Queen\", \"Jack\"]:\n",
        "            value += 10\n",
        "        elif rank == \"Ace\":\n",
        "            value += 11\n",
        "            num_aces += 1\n",
        "        else:\n",
        "            value += int(rank)\n",
        "\n",
        "    while value > 21 and num_aces > 0:\n",
        "        value -= 10\n",
        "        num_aces -= 1\n",
        "\n",
        "    return value\n",
        "player_hand = [deck.pop(random.randint(0, len(deck) - 1)), deck.pop(random.randint(0, len(deck) - 1))]\n",
        "computer_hand = [deck.pop(random.randint(0, len(deck) - 1)), deck.pop(random.randint(0, len(deck) - 1))]\n",
        "\n",
        "while True:\n",
        "    print(\"\\nPlayer's hand:\")\n",
        "    for card in player_hand:\n",
        "        print(f\"{card['rank']} of {card['suit']}\")\n",
        "\n",
        "    print(\"\\nComputer's hand:\")\n",
        "    print(f\"{computer_hand[0]['rank']} of {computer_hand[0]['suit']}\")\n",
        "    print(\"Face-down card\")\n",
        "\n",
        "    player_value = hand_value(player_hand)\n",
        "    print(f\"\\nPlayer's hand value: {player_value}\")\n",
        "\n",
        "    if player_value == 21:\n",
        "        print(\"Player wins with a Blackjack!\")\n",
        "        break\n",
        "    elif player_value > 21:\n",
        "        print(\"Player busts. Computer wins.\")\n",
        "        break\n",
        "\n",
        "    action = input(\"Do you want to hit or stand? \").lower()\n",
        "\n",
        "    if action == \"hit\":\n",
        "        player_hand.append(deck.pop(random.randint(0, len(deck) - 1)))\n",
        "    elif action == \"stand\":\n",
        "        while hand_value(computer_hand) < 17:\n",
        "            computer_hand.append(deck.pop(random.randint(0, len(deck) - 1)))\n",
        "\n",
        "        print(\"\\nComputer's hand:\")\n",
        "        for card in computer_hand:\n",
        "            print(f\"{card['rank']} of {card['suit']}\")\n",
        "\n",
        "        computer_value = hand_value(computer_hand)\n",
        "        print(f\"\\nComputer's hand value: {computer_value}\")\n",
        "\n",
        "        if computer_value > 21:\n",
        "            print(\"Computer busts. Player wins!\")\n",
        "        elif computer_value == player_value:\n",
        "            print(\"It's a tie.\")\n",
        "        elif computer_value > player_value:\n",
        "            print(\"Computer wins.\")\n",
        "        else:\n",
        "            print(\"Player wins!\")\n",
        "\n",
        "        break\n",
        "    else:\n",
        "        print(\"Invalid action. Please enter 'hit' or 'stand'.\")"
      ],
      "metadata": {
        "id": "z5IpwyQZ3YtL"
      },
      "execution_count": null,
      "outputs": []
    },
    {
      "cell_type": "code",
      "source": [
        "#40. Write a program that generates the prime factors of a given number using trial division.\n",
        "n = int(input(\"Enter a number\"))\n",
        "factors = []\n",
        "divisor = 2\n",
        "if n < 2:\n",
        "    print(\"Prime factors dont exist.\")\n",
        "else:\n",
        "  while n > 1:\n",
        "    while n % divisor == 0:\n",
        "      factors.append(divisor)\n",
        "      n //= divisor\n",
        "      divisor += 1\n",
        "  print(factors)"
      ],
      "metadata": {
        "id": "8XCiiyXB3Yv3"
      },
      "execution_count": null,
      "outputs": []
    }
  ]
}