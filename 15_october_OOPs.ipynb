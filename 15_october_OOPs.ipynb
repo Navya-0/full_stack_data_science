{
  "nbformat": 4,
  "nbformat_minor": 0,
  "metadata": {
    "colab": {
      "provenance": [],
      "authorship_tag": "ABX9TyMqC1XVfr01hRAkrcVkwuku",
      "include_colab_link": true
    },
    "kernelspec": {
      "name": "python3",
      "display_name": "Python 3"
    },
    "language_info": {
      "name": "python"
    }
  },
  "cells": [
    {
      "cell_type": "markdown",
      "metadata": {
        "id": "view-in-github",
        "colab_type": "text"
      },
      "source": [
        "<a href=\"https://colab.research.google.com/github/Navya-0/full_stack_data_science/blob/main/15_october_OOPs.ipynb\" target=\"_parent\"><img src=\"https://colab.research.google.com/assets/colab-badge.svg\" alt=\"Open In Colab\"/></a>"
      ]
    },
    {
      "cell_type": "code",
      "execution_count": null,
      "metadata": {
        "id": "28hImp5Ia_zu"
      },
      "outputs": [],
      "source": [
        "# polymorphism\n",
        "\n",
        "def test(a,b):\n",
        "  return a+b"
      ]
    },
    {
      "cell_type": "code",
      "source": [
        "test(3,4)"
      ],
      "metadata": {
        "colab": {
          "base_uri": "https://localhost:8080/"
        },
        "id": "IiR6KYpibAiu",
        "outputId": "69217fb4-ea3a-4ba9-cbfd-02ccaff575d8"
      },
      "execution_count": null,
      "outputs": [
        {
          "output_type": "execute_result",
          "data": {
            "text/plain": [
              "7"
            ]
          },
          "metadata": {},
          "execution_count": 2
        }
      ]
    },
    {
      "cell_type": "code",
      "source": [
        "test(\"navya\",\"nair\")"
      ],
      "metadata": {
        "colab": {
          "base_uri": "https://localhost:8080/",
          "height": 35
        },
        "id": "FSl7iVMRbAm5",
        "outputId": "97f75fa9-53e4-422a-e915-2db68c1783c7"
      },
      "execution_count": null,
      "outputs": [
        {
          "output_type": "execute_result",
          "data": {
            "text/plain": [
              "'navyanair'"
            ],
            "application/vnd.google.colaboratory.intrinsic+json": {
              "type": "string"
            }
          },
          "metadata": {},
          "execution_count": 3
        }
      ]
    },
    {
      "cell_type": "code",
      "source": [
        "class pwskills:\n",
        "  def student(self):\n",
        "    pass\n",
        "\n",
        "class datascience(pwskills):\n",
        "  def student(self):\n",
        "    print(\"this will give details about details data science student\")\n",
        "\n",
        "class bigdata(pwskills):\n",
        "  def student(self):\n",
        "    print(\"this will give details about big data\")\n",
        "\n",
        "yash=datascience()\n",
        "farhana=bigdata()\n",
        "yash.student()\n",
        "farhana.student()"
      ],
      "metadata": {
        "colab": {
          "base_uri": "https://localhost:8080/"
        },
        "id": "eSq3iqkObA-p",
        "outputId": "60e269f2-dee8-4685-c0de-c5655645c8a0"
      },
      "execution_count": null,
      "outputs": [
        {
          "output_type": "stream",
          "name": "stdout",
          "text": [
            "this will give details about details data science student\n",
            "this will give details about big data\n"
          ]
        }
      ]
    },
    {
      "cell_type": "code",
      "source": [
        "class bigdata:\n",
        "  def __init__(self,number_of_class,number_of_student):\n",
        "    self.number_of_class=number_of_class\n",
        "    self.number_of_student=number_of_student\n",
        "\n",
        "  def __add__(self,other):\n",
        "    return bigdata(self.number_of_class+other.number_of_class,self.number_of_student+other.number_of_student)\n",
        "\n",
        "c1= bigdata(1,10)\n",
        "c2= bigdata(2,12)\n",
        "result=c1+c2\n",
        "print(result.number_of_class,result.number_of_student)"
      ],
      "metadata": {
        "colab": {
          "base_uri": "https://localhost:8080/"
        },
        "id": "1XlF8nv8eiQN",
        "outputId": "1d7d0489-1c80-4a4b-90ad-2d7c48161e85"
      },
      "execution_count": null,
      "outputs": [
        {
          "output_type": "stream",
          "name": "stdout",
          "text": [
            "3 22\n"
          ]
        }
      ]
    },
    {
      "cell_type": "code",
      "source": [
        "# here its giving an error, we are not using method overloading in datasvience class\n",
        "o1= datascience()\n",
        "o2= datascience()\n",
        "o3= datascience()\n",
        "r=o1+o2+o3"
      ],
      "metadata": {
        "colab": {
          "base_uri": "https://localhost:8080/",
          "height": 211
        },
        "id": "oh_48oWweiTO",
        "outputId": "ecea285e-b52e-4243-cd99-0ce58591efbe"
      },
      "execution_count": null,
      "outputs": [
        {
          "output_type": "error",
          "ename": "TypeError",
          "evalue": "ignored",
          "traceback": [
            "\u001b[0;31m---------------------------------------------------------------------------\u001b[0m",
            "\u001b[0;31mTypeError\u001b[0m                                 Traceback (most recent call last)",
            "\u001b[0;32m<ipython-input-11-b90815ad2a2d>\u001b[0m in \u001b[0;36m<cell line: 4>\u001b[0;34m()\u001b[0m\n\u001b[1;32m      2\u001b[0m \u001b[0mo2\u001b[0m\u001b[0;34m=\u001b[0m \u001b[0mdatascience\u001b[0m\u001b[0;34m(\u001b[0m\u001b[0;34m)\u001b[0m\u001b[0;34m\u001b[0m\u001b[0;34m\u001b[0m\u001b[0m\n\u001b[1;32m      3\u001b[0m \u001b[0mo3\u001b[0m\u001b[0;34m=\u001b[0m \u001b[0mdatascience\u001b[0m\u001b[0;34m(\u001b[0m\u001b[0;34m)\u001b[0m\u001b[0;34m\u001b[0m\u001b[0;34m\u001b[0m\u001b[0m\n\u001b[0;32m----> 4\u001b[0;31m \u001b[0mr\u001b[0m\u001b[0;34m=\u001b[0m\u001b[0mo1\u001b[0m\u001b[0;34m+\u001b[0m\u001b[0mo2\u001b[0m\u001b[0;34m+\u001b[0m\u001b[0mo3\u001b[0m\u001b[0;34m\u001b[0m\u001b[0;34m\u001b[0m\u001b[0m\n\u001b[0m",
            "\u001b[0;31mTypeError\u001b[0m: unsupported operand type(s) for +: 'datascience' and 'datascience'"
          ]
        }
      ]
    },
    {
      "cell_type": "code",
      "source": [
        "# this is called duck typing polymorphism, they use same function that acts diffetrently for different objects\n",
        "class datascience:\n",
        "  def student(self):\n",
        "    print(\"this will give details about details data science student\")\n",
        "\n",
        "class bigdata:\n",
        "  def student(self):\n",
        "    print(\"this will give details about big data\")\n",
        "\n",
        "def output_class(class_obj):\n",
        "  return class_obj.student()\n",
        "\n",
        "yash=datascience()\n",
        "farhana=bigdata()\n",
        "output_class(yash)\n",
        "output_class(farhana)"
      ],
      "metadata": {
        "colab": {
          "base_uri": "https://localhost:8080/"
        },
        "id": "Q2kxfRMmeiXd",
        "outputId": "8a0fe008-83a8-46de-97fb-fa0fced19aca"
      },
      "execution_count": null,
      "outputs": [
        {
          "output_type": "stream",
          "name": "stdout",
          "text": [
            "this will give details about details data science student\n",
            "this will give details about big data\n"
          ]
        }
      ]
    },
    {
      "cell_type": "code",
      "source": [
        "class pwskills:\n",
        "  def student(self):\n",
        "    print(\"dpwskills\")\n",
        "\n",
        "class datascience(pwskills):\n",
        "  def student(self):\n",
        "    print(\"this will give details about details data science student\")\n",
        "\n",
        "ujwal= datascience()\n",
        "ujwal.student()"
      ],
      "metadata": {
        "colab": {
          "base_uri": "https://localhost:8080/"
        },
        "id": "kVrAut2beiZv",
        "outputId": "ee72773c-0af8-408b-dad4-c77d65dfebf9"
      },
      "execution_count": null,
      "outputs": [
        {
          "output_type": "stream",
          "name": "stdout",
          "text": [
            "this will give details about details data science student\n"
          ]
        }
      ]
    },
    {
      "cell_type": "markdown",
      "source": [
        "Encapsulation"
      ],
      "metadata": {
        "id": "2bFpwZFBmLLS"
      }
    },
    {
      "cell_type": "code",
      "source": [
        "class test:\n",
        "  def __init__(self):\n",
        "    self.__x =\"navya\"\n",
        "\n",
        "  def __testm(self): # this is a private function, it cant be accessed like that. it needs to use the class name to access it\n",
        "    return \"this is a test func\""
      ],
      "metadata": {
        "id": "gJQ5edKreieS"
      },
      "execution_count": null,
      "outputs": []
    },
    {
      "cell_type": "code",
      "source": [
        "t1= test()\n",
        "t1.__x"
      ],
      "metadata": {
        "colab": {
          "base_uri": "https://localhost:8080/",
          "height": 193
        },
        "id": "s7qJ7w2feigD",
        "outputId": "ad8a1cb0-4c2f-43ce-ebbc-30343387d03b"
      },
      "execution_count": null,
      "outputs": [
        {
          "output_type": "error",
          "ename": "AttributeError",
          "evalue": "ignored",
          "traceback": [
            "\u001b[0;31m---------------------------------------------------------------------------\u001b[0m",
            "\u001b[0;31mAttributeError\u001b[0m                            Traceback (most recent call last)",
            "\u001b[0;32m<ipython-input-28-fe9288719766>\u001b[0m in \u001b[0;36m<cell line: 2>\u001b[0;34m()\u001b[0m\n\u001b[1;32m      1\u001b[0m \u001b[0mt1\u001b[0m\u001b[0;34m=\u001b[0m \u001b[0mtest\u001b[0m\u001b[0;34m(\u001b[0m\u001b[0;34m)\u001b[0m\u001b[0;34m\u001b[0m\u001b[0;34m\u001b[0m\u001b[0m\n\u001b[0;32m----> 2\u001b[0;31m \u001b[0mt1\u001b[0m\u001b[0;34m.\u001b[0m\u001b[0m__x\u001b[0m\u001b[0;34m\u001b[0m\u001b[0;34m\u001b[0m\u001b[0m\n\u001b[0m",
            "\u001b[0;31mAttributeError\u001b[0m: 'test' object has no attribute '__x'"
          ]
        }
      ]
    },
    {
      "cell_type": "code",
      "source": [
        "t1._test__x"
      ],
      "metadata": {
        "colab": {
          "base_uri": "https://localhost:8080/",
          "height": 35
        },
        "id": "deDmsu4IbBCB",
        "outputId": "91d723bb-7d49-4cf5-f72a-98d28e48d394"
      },
      "execution_count": null,
      "outputs": [
        {
          "output_type": "execute_result",
          "data": {
            "text/plain": [
              "'navya'"
            ],
            "application/vnd.google.colaboratory.intrinsic+json": {
              "type": "string"
            }
          },
          "metadata": {},
          "execution_count": 22
        }
      ]
    },
    {
      "cell_type": "code",
      "source": [
        "t1.testm()"
      ],
      "metadata": {
        "colab": {
          "base_uri": "https://localhost:8080/",
          "height": 176
        },
        "id": "OOy_u3Rwnspn",
        "outputId": "dad27a30-f077-4b46-d258-62e2a8b89d3d"
      },
      "execution_count": null,
      "outputs": [
        {
          "output_type": "error",
          "ename": "AttributeError",
          "evalue": "ignored",
          "traceback": [
            "\u001b[0;31m---------------------------------------------------------------------------\u001b[0m",
            "\u001b[0;31mAttributeError\u001b[0m                            Traceback (most recent call last)",
            "\u001b[0;32m<ipython-input-29-5790a3a50ec0>\u001b[0m in \u001b[0;36m<cell line: 1>\u001b[0;34m()\u001b[0m\n\u001b[0;32m----> 1\u001b[0;31m \u001b[0mt1\u001b[0m\u001b[0;34m.\u001b[0m\u001b[0mtestm\u001b[0m\u001b[0;34m(\u001b[0m\u001b[0;34m)\u001b[0m\u001b[0;34m\u001b[0m\u001b[0;34m\u001b[0m\u001b[0m\n\u001b[0m",
            "\u001b[0;31mAttributeError\u001b[0m: 'test' object has no attribute 'testm'"
          ]
        }
      ]
    },
    {
      "cell_type": "code",
      "source": [
        "t1._test__testm()"
      ],
      "metadata": {
        "colab": {
          "base_uri": "https://localhost:8080/",
          "height": 35
        },
        "id": "gk0_SltSn_eK",
        "outputId": "17408cda-cbfe-4d57-9725-61ee7953a9cd"
      },
      "execution_count": null,
      "outputs": [
        {
          "output_type": "execute_result",
          "data": {
            "text/plain": [
              "'this is a test func'"
            ],
            "application/vnd.google.colaboratory.intrinsic+json": {
              "type": "string"
            }
          },
          "metadata": {},
          "execution_count": 30
        }
      ]
    },
    {
      "cell_type": "code",
      "source": [
        "class test:\n",
        "  def __init__(self):\n",
        "    self.__x =\"navya\"\n",
        "    self.y =\"nair\"\n",
        "    self.z =\"pwskills\"\n",
        "\n",
        "  def __testm(self): # this is a private function, it cant be accessed like that. it needs to use the class name to access it\n",
        "    return \"this is a test func\"\n",
        "\n",
        "  def access_var(self):\n",
        "    return self.__x\n",
        "\n",
        "  def update_var(self,data): # this doesnt show the user what variable is being used as variable is a private variable\n",
        "    self.__x= data"
      ],
      "metadata": {
        "id": "Lxk1wOYVoFK5"
      },
      "execution_count": null,
      "outputs": []
    },
    {
      "cell_type": "code",
      "source": [
        "t1=test()"
      ],
      "metadata": {
        "id": "qC_uk7ztplVo"
      },
      "execution_count": null,
      "outputs": []
    },
    {
      "cell_type": "code",
      "source": [
        "t1.update_var(465652547)\n",
        "t1.access_var()"
      ],
      "metadata": {
        "colab": {
          "base_uri": "https://localhost:8080/"
        },
        "id": "SOd-pRNapnL9",
        "outputId": "d3cd04c3-f9f7-4f0c-c635-986540dc1870"
      },
      "execution_count": null,
      "outputs": [
        {
          "output_type": "execute_result",
          "data": {
            "text/plain": [
              "465652547"
            ]
          },
          "metadata": {},
          "execution_count": 33
        }
      ]
    },
    {
      "cell_type": "code",
      "source": [
        "class bank:\n",
        "  def __init__(self,account_number,balance):\n",
        "    self.__account_number = account_number\n",
        "    self.__balance= balance\n",
        "\n",
        "  def check_balance(self,password):\n",
        "    if password==\"securebalance\":\n",
        "      return self.__balance\n",
        "\n",
        "    else:\n",
        "      return \"incorrect password\"\n",
        "\n",
        "navya= bank(23452,34556)\n",
        "navya.check_balance(\"navya\")\n"
      ],
      "metadata": {
        "colab": {
          "base_uri": "https://localhost:8080/",
          "height": 35
        },
        "id": "SYIxpVH6ptTL",
        "outputId": "3698586f-16dd-4b59-d635-49016af8cd04"
      },
      "execution_count": null,
      "outputs": [
        {
          "output_type": "execute_result",
          "data": {
            "text/plain": [
              "'incorrect password'"
            ],
            "application/vnd.google.colaboratory.intrinsic+json": {
              "type": "string"
            }
          },
          "metadata": {},
          "execution_count": 35
        }
      ]
    },
    {
      "cell_type": "code",
      "source": [
        "navya.check_balance(\"securebalance\")"
      ],
      "metadata": {
        "colab": {
          "base_uri": "https://localhost:8080/"
        },
        "id": "EPirtBz7uECi",
        "outputId": "56eaccd2-1869-476c-a0dc-9d69d323d600"
      },
      "execution_count": null,
      "outputs": [
        {
          "output_type": "execute_result",
          "data": {
            "text/plain": [
              "34556"
            ]
          },
          "metadata": {},
          "execution_count": 36
        }
      ]
    },
    {
      "cell_type": "code",
      "source": [
        "class queue:\n",
        "  def __init__(self):\n",
        "    self._queue=[]\n",
        "\n",
        "  def enqueue(self,data):\n",
        "    self._queue.append(data)\n",
        "\n",
        "  def dequeue(self):\n",
        "    return self._queue.pop(0)\n",
        "\n",
        "  def showdata(self):\n",
        "    return self._queue\n",
        "\n",
        "q=queue()\n",
        "q.enqueue(78)\n",
        "q.enqueue(63)\n",
        "q.enqueue(90)\n",
        "q.showdata()"
      ],
      "metadata": {
        "colab": {
          "base_uri": "https://localhost:8080/"
        },
        "id": "xW-LIl8muEFM",
        "outputId": "d0f623d6-2098-466c-90f5-9f7219857386"
      },
      "execution_count": null,
      "outputs": [
        {
          "output_type": "execute_result",
          "data": {
            "text/plain": [
              "[78, 63, 90]"
            ]
          },
          "metadata": {},
          "execution_count": 46
        }
      ]
    },
    {
      "cell_type": "code",
      "source": [
        "q.dequeue()\n"
      ],
      "metadata": {
        "colab": {
          "base_uri": "https://localhost:8080/"
        },
        "id": "8b-YnMuAuEJw",
        "outputId": "24cabc4f-323c-4940-f50b-117784619d0e"
      },
      "execution_count": null,
      "outputs": [
        {
          "output_type": "execute_result",
          "data": {
            "text/plain": [
              "78"
            ]
          },
          "metadata": {},
          "execution_count": 47
        }
      ]
    },
    {
      "cell_type": "markdown",
      "source": [
        "Abstraction\n"
      ],
      "metadata": {
        "id": "SUuSKqk-xDX3"
      }
    },
    {
      "cell_type": "code",
      "source": [
        "class calculation:\n",
        "  @staticmethod\n",
        "  def add(x,y):\n",
        "    return x+y\n",
        "\n",
        "  @staticmethod\n",
        "  def sub(a,b):\n",
        "    return a-b\n",
        "\n",
        "  def div(self,a,b):\n",
        "    return a//b\n",
        "\n"
      ],
      "metadata": {
        "id": "SbRWf4Tswvki"
      },
      "execution_count": null,
      "outputs": []
    },
    {
      "cell_type": "code",
      "source": [
        "class cal(calculation):\n",
        "  pass"
      ],
      "metadata": {
        "id": "ONBw4BqGxF5S"
      },
      "execution_count": null,
      "outputs": []
    },
    {
      "cell_type": "code",
      "source": [
        "c=cal()\n",
        "c.add(56,899)"
      ],
      "metadata": {
        "colab": {
          "base_uri": "https://localhost:8080/"
        },
        "id": "uuvA3_9dxF9O",
        "outputId": "ff12439a-3fb8-4ab0-c8f7-296427db297c"
      },
      "execution_count": null,
      "outputs": [
        {
          "output_type": "execute_result",
          "data": {
            "text/plain": [
              "955"
            ]
          },
          "metadata": {},
          "execution_count": 53
        }
      ]
    },
    {
      "cell_type": "code",
      "source": [
        "calculation.add(90,78)"
      ],
      "metadata": {
        "colab": {
          "base_uri": "https://localhost:8080/"
        },
        "id": "5QrDXKMWxF_j",
        "outputId": "d1033c05-d965-4eee-fb2f-bc6a78ff487e"
      },
      "execution_count": null,
      "outputs": [
        {
          "output_type": "execute_result",
          "data": {
            "text/plain": [
              "168"
            ]
          },
          "metadata": {},
          "execution_count": 55
        }
      ]
    },
    {
      "cell_type": "code",
      "source": [],
      "metadata": {
        "id": "CjAtWVwKxGC6"
      },
      "execution_count": null,
      "outputs": []
    },
    {
      "cell_type": "code",
      "source": [],
      "metadata": {
        "id": "eWEz_Wpi9L-V"
      },
      "execution_count": null,
      "outputs": []
    },
    {
      "cell_type": "code",
      "source": [],
      "metadata": {
        "id": "ixU6PWSn9MBe"
      },
      "execution_count": null,
      "outputs": []
    },
    {
      "cell_type": "code",
      "source": [],
      "metadata": {
        "id": "8yZyNgKF9MEL"
      },
      "execution_count": null,
      "outputs": []
    },
    {
      "cell_type": "code",
      "source": [
        "# composition when we combinem multiple objects\n",
        "class pwskills:\n",
        "  def student(self):\n",
        "    return \"student details\"\n",
        "\n",
        "class datascience:\n",
        "  def __init__(self):\n",
        "    self.student= pwskills() # as tgis is not inheriting so it wont be available by default, thats why we are calling the calss"
      ],
      "metadata": {
        "id": "jQ3-lyz_9MGs"
      },
      "execution_count": null,
      "outputs": []
    },
    {
      "cell_type": "code",
      "source": [
        "ds= datascience()\n",
        "ds.student.student()"
      ],
      "metadata": {
        "colab": {
          "base_uri": "https://localhost:8080/",
          "height": 35
        },
        "id": "ye3Plawd9xZa",
        "outputId": "08af979c-0088-49bc-9728-ac97e523e1b8"
      },
      "execution_count": null,
      "outputs": [
        {
          "output_type": "execute_result",
          "data": {
            "text/plain": [
              "'student details'"
            ],
            "application/vnd.google.colaboratory.intrinsic+json": {
              "type": "string"
            }
          },
          "metadata": {},
          "execution_count": 57
        }
      ]
    },
    {
      "cell_type": "code",
      "source": [
        "class data:\n",
        "  def __init__(self,mentor_name):\n",
        "    self.mentor_name = mentor_name\n",
        "\n",
        "class webdev:\n",
        "  def __init__(self,mentor,lecture_name):\n",
        "    self.mentor= mentor\n",
        "    self.lecture_name = lecture_name"
      ],
      "metadata": {
        "id": "94W52YkY96j3"
      },
      "execution_count": null,
      "outputs": []
    },
    {
      "cell_type": "code",
      "source": [
        "d = data(\"sudh\")\n",
        "w =  webdev(\"krish\",'css')"
      ],
      "metadata": {
        "id": "yy07kWH5-fUE"
      },
      "execution_count": null,
      "outputs": []
    },
    {
      "cell_type": "code",
      "source": [
        "d.mentor_name"
      ],
      "metadata": {
        "colab": {
          "base_uri": "https://localhost:8080/",
          "height": 35
        },
        "id": "i_dCHloP-mkP",
        "outputId": "fe89e530-83fd-4a94-80f9-e8e432c3f8f2"
      },
      "execution_count": null,
      "outputs": [
        {
          "output_type": "execute_result",
          "data": {
            "text/plain": [
              "'sudh'"
            ],
            "application/vnd.google.colaboratory.intrinsic+json": {
              "type": "string"
            }
          },
          "metadata": {},
          "execution_count": 61
        }
      ]
    },
    {
      "cell_type": "code",
      "source": [
        "w.mentor"
      ],
      "metadata": {
        "colab": {
          "base_uri": "https://localhost:8080/",
          "height": 35
        },
        "id": "cFhY7oQv-sYe",
        "outputId": "bb05c3f3-c47c-4526-a3cd-c8c47c92ea99"
      },
      "execution_count": null,
      "outputs": [
        {
          "output_type": "execute_result",
          "data": {
            "text/plain": [
              "'krish'"
            ],
            "application/vnd.google.colaboratory.intrinsic+json": {
              "type": "string"
            }
          },
          "metadata": {},
          "execution_count": 62
        }
      ]
    },
    {
      "cell_type": "code",
      "source": [
        "w =  webdev(d,'css')\n",
        "w.mentor.mentor_name"
      ],
      "metadata": {
        "colab": {
          "base_uri": "https://localhost:8080/",
          "height": 35
        },
        "id": "kT2XDxic-u4C",
        "outputId": "2f356355-7c37-48e0-c272-b70e443bf86e"
      },
      "execution_count": null,
      "outputs": [
        {
          "output_type": "execute_result",
          "data": {
            "text/plain": [
              "'sudh'"
            ],
            "application/vnd.google.colaboratory.intrinsic+json": {
              "type": "string"
            }
          },
          "metadata": {},
          "execution_count": 65
        }
      ]
    },
    {
      "cell_type": "code",
      "source": [
        "zip\n"
      ],
      "metadata": {
        "id": "0mjI1h53-zpe"
      },
      "execution_count": null,
      "outputs": []
    }
  ]
}