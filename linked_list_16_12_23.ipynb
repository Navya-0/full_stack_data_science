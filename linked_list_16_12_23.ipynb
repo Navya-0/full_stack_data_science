{
  "nbformat": 4,
  "nbformat_minor": 0,
  "metadata": {
    "colab": {
      "provenance": [],
      "authorship_tag": "ABX9TyMEMsc1csopvVKCsa2cMTsj",
      "include_colab_link": true
    },
    "kernelspec": {
      "name": "python3",
      "display_name": "Python 3"
    },
    "language_info": {
      "name": "python"
    }
  },
  "cells": [
    {
      "cell_type": "markdown",
      "metadata": {
        "id": "view-in-github",
        "colab_type": "text"
      },
      "source": [
        "<a href=\"https://colab.research.google.com/github/Navya-0/full_stack_data_science/blob/main/linked_list_16_12_23.ipynb\" target=\"_parent\"><img src=\"https://colab.research.google.com/assets/colab-badge.svg\" alt=\"Open In Colab\"/></a>"
      ]
    },
    {
      "cell_type": "code",
      "execution_count": 10,
      "metadata": {
        "id": "HFst9l8XAA05"
      },
      "outputs": [],
      "source": [
        "class Node:\n",
        "  # node creation\n",
        "  def __init__(self,data=None,next=None):\n",
        "    self.data= data\n",
        "    self.next= next\n",
        "\n",
        "  # method to set the data value\n",
        "  def setData(self,data):\n",
        "    self.data= data\n",
        "\n",
        "  #method to get the data value\n",
        "  def getData(self):\n",
        "    return self.data\n",
        "\n",
        "  #method of set the next(reference)\n",
        "  def setNext(self,next):\n",
        "    self.next=next\n",
        "\n",
        "  #method to get the next value\n",
        "  def getNext(self):\n",
        "    return self.next"
      ]
    },
    {
      "cell_type": "code",
      "source": [
        "head= Node(1)\n",
        "node2=Node(2)\n",
        "node3=Node(3)\n",
        "node4=Node(4)\n",
        "node5=Node(5)\n",
        "\n",
        "node5.getData()"
      ],
      "metadata": {
        "colab": {
          "base_uri": "https://localhost:8080/"
        },
        "id": "c7cEp4_HABri",
        "outputId": "be912cd7-690f-42d1-c9e9-294a680076ac"
      },
      "execution_count": 11,
      "outputs": [
        {
          "output_type": "execute_result",
          "data": {
            "text/plain": [
              "5"
            ]
          },
          "metadata": {},
          "execution_count": 11
        }
      ]
    },
    {
      "cell_type": "code",
      "source": [
        "head= Node(1)\n",
        "node2=Node(2)\n",
        "node3=Node(3)\n",
        "node4=Node(4)\n",
        "node5=Node(5)\n",
        "\n",
        "head.setNext(node2)\n",
        "node2.setNext(node3)\n",
        "node3.setNext(node4)\n",
        "node4.setNext(node5)\n",
        "\n",
        "\n",
        "def traverse(head):\n",
        "  temp=head\n",
        "  while(temp):\n",
        "    print(temp.getData(),end=\"-->\")\n",
        "    temp=temp.getNext()\n",
        "\n",
        "traverse(head)\n"
      ],
      "metadata": {
        "colab": {
          "base_uri": "https://localhost:8080/"
        },
        "id": "k1mx6yEyAByM",
        "outputId": "accbac29-f373-438d-abdc-33f197b59672"
      },
      "execution_count": 12,
      "outputs": [
        {
          "output_type": "stream",
          "name": "stdout",
          "text": [
            "1-->2-->3-->4-->5-->"
          ]
        }
      ]
    },
    {
      "cell_type": "code",
      "source": [
        "head= Node(1)\n",
        "node2=Node(2)\n",
        "node3=Node(3)\n",
        "node4=Node(4)\n",
        "node5=Node(5)\n",
        "\n",
        "head.setNext(node2)\n",
        "node2.setNext(node3)\n",
        "node3.setNext(node4)\n",
        "node4.setNext(node5)\n",
        "\n",
        "def traverse1(head):\n",
        "  if not head:\n",
        "    return \"\"\n",
        "  else:\n",
        "    print(head.getData(),end=\"-->\")\n",
        "    traverse1(head.getNext())\n",
        "traverse1(head)"
      ],
      "metadata": {
        "colab": {
          "base_uri": "https://localhost:8080/"
        },
        "id": "ui_fKKikAB1l",
        "outputId": "8bc6ee2b-7463-46de-ccc8-3cdeeeae670c"
      },
      "execution_count": 4,
      "outputs": [
        {
          "output_type": "stream",
          "name": "stdout",
          "text": [
            "1-->2-->3-->4-->5-->"
          ]
        }
      ]
    },
    {
      "cell_type": "code",
      "source": [
        "# doubt\n",
        "head= Node(1)\n",
        "node2=Node(2)\n",
        "node3=Node(3)\n",
        "node4=Node(4)\n",
        "node5=Node(5)\n",
        "\n",
        "head.setNext(node2)\n",
        "node2.setNext(node3)\n",
        "node3.setNext(node4)\n",
        "node4.setNext(node5)\n",
        "\n",
        "'''def traverse1(head):\n",
        "  if head==None:\n",
        "    return None\n",
        "  else:\n",
        "    print(head.getData(),end=\"-->\")\n",
        "    traverse1(head.getNext())\n",
        "traverse1(head)'''\n",
        "\n",
        "def traverse1(head):\n",
        "  if head==None:\n",
        "    return None\n",
        "  else:\n",
        "    print(head.getData(),end=\"-->\")\n",
        "    traverse1(head.getNext())\n",
        "traverse1(head)\n",
        "\n",
        "\n",
        "def length(head):\n",
        "  if not head:\n",
        "    return 0\n",
        "  else:\n",
        "    return 1 + length(head.getNext())\n",
        "length(head)"
      ],
      "metadata": {
        "colab": {
          "base_uri": "https://localhost:8080/"
        },
        "id": "B7-PKg9gAB4_",
        "outputId": "20504097-c4ba-427b-f052-8491286c04a6"
      },
      "execution_count": 29,
      "outputs": [
        {
          "output_type": "stream",
          "name": "stdout",
          "text": [
            "1-->2-->3-->4-->5-->"
          ]
        },
        {
          "output_type": "execute_result",
          "data": {
            "text/plain": [
              "5"
            ]
          },
          "metadata": {},
          "execution_count": 29
        }
      ]
    },
    {
      "cell_type": "code",
      "source": [
        "head= Node(1)\n",
        "node2=Node(2)\n",
        "node3=Node(3)\n",
        "node4=Node(4)\n",
        "node5=Node(5)\n",
        "\n",
        "head.setNext(node2)\n",
        "node2.setNext(node3)\n",
        "node3.setNext(node4)\n",
        "node4.setNext(node5)\n",
        "def count(head):\n",
        "  len=0\n",
        "  while(head):\n",
        "    len+=1\n",
        "    head=head.getNext()\n",
        "  return len\n",
        "\n",
        "count(head)"
      ],
      "metadata": {
        "colab": {
          "base_uri": "https://localhost:8080/"
        },
        "id": "-njzPspnI3kj",
        "outputId": "7ea4b06a-85b2-4c1b-b4fe-18c5a306e534"
      },
      "execution_count": 14,
      "outputs": [
        {
          "output_type": "execute_result",
          "data": {
            "text/plain": [
              "5"
            ]
          },
          "metadata": {},
          "execution_count": 14
        }
      ]
    },
    {
      "cell_type": "code",
      "source": [
        "# doubt\n",
        "def count(l):\n",
        "  if len(l)==1:\n",
        "    return 1\n",
        "  else:\n",
        "    return 1+count(l[1:]) #\n",
        "count([1,2,3,4,5])"
      ],
      "metadata": {
        "colab": {
          "base_uri": "https://localhost:8080/"
        },
        "id": "5tAx1K-VKkxe",
        "outputId": "0f27f81c-c58a-4489-bf83-8625a5ce563b"
      },
      "execution_count": 19,
      "outputs": [
        {
          "output_type": "execute_result",
          "data": {
            "text/plain": [
              "5"
            ]
          },
          "metadata": {},
          "execution_count": 19
        }
      ]
    },
    {
      "cell_type": "code",
      "source": [
        "def count(l,c):\n",
        "  if len(l)==0:\n",
        "    return c\n",
        "  else:\n",
        "    c+=1\n",
        "    return count(l[1:],c)\n",
        "count([1,2,3,4,5],0)"
      ],
      "metadata": {
        "colab": {
          "base_uri": "https://localhost:8080/"
        },
        "id": "9zwRzD1FNdop",
        "outputId": "f278c4fd-3aae-415a-a4ed-32563b10e1ed"
      },
      "execution_count": 14,
      "outputs": [
        {
          "output_type": "execute_result",
          "data": {
            "text/plain": [
              "5"
            ]
          },
          "metadata": {},
          "execution_count": 14
        }
      ]
    },
    {
      "cell_type": "code",
      "source": [
        "def insertNode(head,data,k):\n",
        "  #If the k is valid\n",
        "  if (k > length(head) or k <0):\n",
        "    print(\"Argument k passed is not valid\")\n",
        "    return head\n",
        "\n",
        "  #Create new node for data\n",
        "  newNode = Node(data) #Create the new node object\n",
        "\n",
        "  if( k==0):\n",
        "    #We need to insert at the begining\n",
        "    #We need to update the head\n",
        "    newNode.setNext(head)\n",
        "    head = newNode\n",
        "  else :\n",
        "    #When not in begining\n",
        "    # We need to jump to the prev node of the postion\n",
        "    prev = head\n",
        "    i=0\n",
        "    while(i<k-1):\n",
        "      prev = prev.getNext()\n",
        "      i+=1\n",
        "\n",
        "    #prev will be one position left of kth position\n",
        "    newNode.setNext(prev.getNext())\n",
        "    prev.setNext(newNode)\n",
        "  return head\n",
        "\n",
        "\n",
        "\n",
        "head = Node(1)\n",
        "node2 = Node(2)\n",
        "node3 = Node(3)\n",
        "node4 = Node(4)\n",
        "node5 = Node(5)\n",
        "\n",
        "#Creating the linkage\n",
        "head.setNext(node2)\n",
        "node2.setNext(node3)\n",
        "node3.setNext(node4)\n",
        "node4.setNext(node5)\n",
        "\n",
        "traverse(head)\n",
        "print()\n",
        "\n",
        "head = insertNode(head,8,3)\n",
        "\n",
        "traverse(head)"
      ],
      "metadata": {
        "id": "UIsIhbrgW4o7"
      },
      "execution_count": null,
      "outputs": []
    },
    {
      "cell_type": "code",
      "source": [
        "def show(l):\n",
        "  if len(l)==0:\n",
        "    return None\n",
        "  else:\n",
        "    print(l[0])\n",
        "    show(l[1:])\n",
        "show([1,2,3,4,5])"
      ],
      "metadata": {
        "colab": {
          "base_uri": "https://localhost:8080/"
        },
        "id": "iMs3g8b_Z-C8",
        "outputId": "85e2682e-090d-4a53-88fc-89187a1c4faf"
      },
      "execution_count": 27,
      "outputs": [
        {
          "output_type": "stream",
          "name": "stdout",
          "text": [
            "1\n",
            "2\n",
            "3\n",
            "4\n",
            "5\n"
          ]
        }
      ]
    },
    {
      "cell_type": "code",
      "source": [
        "print(1+2)"
      ],
      "metadata": {
        "colab": {
          "base_uri": "https://localhost:8080/"
        },
        "id": "qxxgzRnVZ-GS",
        "outputId": "30658626-9bfe-4245-d0cc-33f98543e840"
      },
      "execution_count": 28,
      "outputs": [
        {
          "output_type": "stream",
          "name": "stdout",
          "text": [
            "3\n"
          ]
        }
      ]
    },
    {
      "cell_type": "code",
      "source": [],
      "metadata": {
        "id": "-4_GZcB2adpa"
      },
      "execution_count": null,
      "outputs": []
    }
  ]
}