{
  "nbformat": 4,
  "nbformat_minor": 0,
  "metadata": {
    "colab": {
      "provenance": [],
      "authorship_tag": "ABX9TyMeI1hhcMw4G5fTfNGY/AaC",
      "include_colab_link": true
    },
    "kernelspec": {
      "name": "python3",
      "display_name": "Python 3"
    },
    "language_info": {
      "name": "python"
    }
  },
  "cells": [
    {
      "cell_type": "markdown",
      "metadata": {
        "id": "view-in-github",
        "colab_type": "text"
      },
      "source": [
        "<a href=\"https://colab.research.google.com/github/Navya-0/full_stack_data_science/blob/main/OOPs_assingmentipynb.ipynb\" target=\"_parent\"><img src=\"https://colab.research.google.com/assets/colab-badge.svg\" alt=\"Open In Colab\"/></a>"
      ]
    },
    {
      "cell_type": "code",
      "execution_count": 5,
      "metadata": {
        "colab": {
          "base_uri": "https://localhost:8080/"
        },
        "id": "3hQUvYZ7Z-2T",
        "outputId": "ea54820c-bb6d-40fe-e1d5-9663240863ed"
      },
      "outputs": [
        {
          "output_type": "stream",
          "name": "stdout",
          "text": [
            "Account no 123 Username navya Current balance 1000\n",
            "amount withdrawn, current balance is 0\n"
          ]
        }
      ],
      "source": [
        "# Problem 1: Bank Account Create a class representing a bank account with attributes like account number, account holder name, and balance. Implement methods to deposit and withdraw money from the account.\n",
        "class bank_account:\n",
        "\n",
        "  def __init__(self,acc_no,name,balance):\n",
        "    self.acc_no=acc_no\n",
        "    self.name=name\n",
        "    self.balance=balance\n",
        "\n",
        "  def acc_details(self):\n",
        "    print(\"Account no\",self.acc_no,\"Username\",self.name,\"Current balance\",self.balance)\n",
        "\n",
        "  def deposit(self,amt):\n",
        "    self.balance=self.balance+amt\n",
        "    print(\"amount successfuly deposited, current balance is\", self.balance)\n",
        "\n",
        "  def withdraw(self,amt):\n",
        "    if amt>self.balance:\n",
        "      print(\"insufficient balance\")\n",
        "    else:\n",
        "      self.balance=self.balance-amt\n",
        "      print(\"amount withdrawn, current balance is\",self.balance)\n",
        "\n",
        "\n",
        "acc=bank_account(123,\"navya\",1000)\n",
        "acc.acc_details()\n",
        "acc.deposit(500)\n",
        "acc.withdraw(1000)\n",
        "acc.withdraw(100)"
      ]
    },
    {
      "cell_type": "code",
      "source": [
        "# Problem 2: Employee Management Create a class representing an employee with attributes like employee ID, name, and salary. Implement methods to calculate the yearly bonus and display employee details.\n",
        "\n",
        "class employee:\n",
        "\n",
        "  def __init__(self,id,name,salary):\n",
        "    self.id=id\n",
        "    self.name=name\n",
        "    self.salary=salary\n",
        "\n",
        "  def details(self):\n",
        "    print(\"employee id\",self.id,\"name of the employee\",self.name,\"salary\",self.salary)\n",
        "\n",
        "  def yearly_bonus(self):\n",
        "    bonus=self.salary*(8.3/100)\n",
        "    print(\"yearly bonus of the employee\",bonus)\n",
        "\n",
        "emp=employee(1,\"bob\",1000000)\n",
        "emp.details()\n",
        "emp.yearly_bonus()\n",
        "\n"
      ],
      "metadata": {
        "colab": {
          "base_uri": "https://localhost:8080/"
        },
        "id": "zD72bKhVaKwT",
        "outputId": "fe5566b9-40ff-48db-dc64-718be7638262"
      },
      "execution_count": 6,
      "outputs": [
        {
          "output_type": "stream",
          "name": "stdout",
          "text": [
            "employee id 1 name of the employee bob salary 1000000\n",
            "yearly bonus of the employee 83000.0\n"
          ]
        }
      ]
    },
    {
      "cell_type": "code",
      "source": [
        "emp1=employee(1,\"marley\",700000)\n",
        "emp1.details()\n",
        "emp1.yearly_bonus()\n"
      ],
      "metadata": {
        "colab": {
          "base_uri": "https://localhost:8080/"
        },
        "id": "dcWP3sIAaKzP",
        "outputId": "68cadfac-fae1-4c70-e166-56d21c99115c"
      },
      "execution_count": 7,
      "outputs": [
        {
          "output_type": "stream",
          "name": "stdout",
          "text": [
            "employee id 1 name of the employee marley salary 700000\n",
            "yearly bonus of the employee 58100.0\n"
          ]
        }
      ]
    },
    {
      "cell_type": "code",
      "source": [
        "#Problem 3: Vehicle Rental Create a class representing a vehicle rental system. Implement methods to rent a vehicle, return a vehicle, and display available vehicles\n",
        "class rental:\n",
        "\n",
        "  def __init__(self,model,cust_name):\n",
        "    self.model= model\n",
        "    self.cust_name=cust_name\n",
        "    self.available_models=[\"bmw\",\"skoda\",\"suv\",\"traveller\",\"wagonar\",\"Xcent\"]\n",
        "\n",
        "  def details(self):\n",
        "    print(\"vehicle model\",self.model,\"name of the customer\",self.cust_name,\"available models\",self.available_models)\n",
        "\n",
        "  def rent(self):\n",
        "    if self.model in self.available_models:\n",
        "      self.available_models.remove(self.model)\n",
        "      print(\"vechicle available for renting\",\" more available options\",self.available_models)\n",
        "    else:\n",
        "      print(\"model not available for renting\")\n",
        "\n",
        "  def returning(self):\n",
        "    if self.model not in self.available_models:\n",
        "      self.available_models.append(self.model)\n",
        "      print(\"vechicle successfuly returned more available options\",self.available_models)\n",
        "\n",
        "\n",
        "rent=rental(\"wagon\",\"navya\")\n",
        "rent.details()\n",
        "rent.rent()\n",
        "rent.returning()\n",
        ""
      ],
      "metadata": {
        "colab": {
          "base_uri": "https://localhost:8080/"
        },
        "id": "ahKm6nmwaK2-",
        "outputId": "ffecde4d-e183-4689-88ee-e0889d05c830"
      },
      "execution_count": 18,
      "outputs": [
        {
          "output_type": "stream",
          "name": "stdout",
          "text": [
            "vehicle model wagon name of the customer navya available models ['bmw', 'skoda', 'suv', 'traveller', 'wagonar', 'Xcent']\n"
          ]
        }
      ]
    },
    {
      "cell_type": "code",
      "source": [
        "# Problem 4: Library Catalog Create classes representing a library and a book. Implement methods to add books to the library, borrow books, and display available books.\n",
        "class library:\n",
        "\n",
        "  def __init__(self,b_nm,aut_name,st_name):\n",
        "    self.book_name=b_nm\n",
        "    self.author_name=aut_name\n",
        "    self.student_name=st_name\n",
        "    self.avb_bks={\"a thousand splendid suns\":\"khaled hossain\",\"veronica\":\"paulo coelho\",\"who will cry when you die\":\"robin sharma\",\"kite runner\":\"khaled hossen\"}\n",
        "\n",
        "\n",
        "  def details(self,action):\n",
        "    print(f\"{self.student_name} is here to {action} {self.book_name} by {self.author_name}\")\n",
        "\n",
        "  def add(self,title,author):\n",
        "    self.avb_bks.update({title:author})\n",
        "    print(\"available books are:\",self.avb_bks)\n",
        "\n",
        "  def borrow(self):\n",
        "    if self.book_name in self.avb_bks:\n",
        "      self.avb_bks.pop(self.book_name)\n",
        "      print(\"book available\", \"other books here\",self.avb_bks)\n",
        "\n",
        "bk=library(\"a thousand splendid suns\",\"khaled hossain\",\"navya\")\n",
        "bk.details(\"borrow\")\n",
        "bk.add(\"alchemist\",\"paulo coelho\")\n",
        "bk.borrow()"
      ],
      "metadata": {
        "colab": {
          "base_uri": "https://localhost:8080/"
        },
        "id": "n6GNj99SaK58",
        "outputId": "82837f45-9c8a-4e1f-92f2-b5f89cdd96c1"
      },
      "execution_count": 20,
      "outputs": [
        {
          "output_type": "stream",
          "name": "stdout",
          "text": [
            "navya is here to borrow a thousand splendid suns by khaled hossain\n",
            "available books are: {'a thousand splendid suns': 'khaled hossain', 'veronica': 'paulo coelho', 'who will cry when you die': 'robin sharma', 'kite runner': 'khaled hossen', 'alchemist': 'paulo coelho'}\n",
            "book available other books here {'veronica': 'paulo coelho', 'who will cry when you die': 'robin sharma', 'kite runner': 'khaled hossen', 'alchemist': 'paulo coelho'}\n"
          ]
        }
      ]
    },
    {
      "cell_type": "code",
      "source": [
        "#Problem 5: Product Inventory Create classes representing a product and an inventory system. Implement methods to add products to the inventory, update product quantity, and display available products.\n",
        "\n",
        "class inventory:\n",
        "\n",
        "  def __init__(self):\n",
        "    self.avb_products={\"cereal\":100,\"detergent\":500,\"rugs\":20,\"brush\":1000,\"toothpaste\":750}\n",
        "\n",
        "  def details(self,action):\n",
        "    print(f\" To {action} products and its quantity, products in the inventory\",self.avb_products)\n",
        "\n",
        "  def add(self,product,quantity):\n",
        "    self.avb_products.update({product:quantity})\n",
        "    print(\"available products are:\",self.avb_products)\n",
        "\n",
        "  def update(self,product,quantity):\n",
        "    if product in self.avb_products:\n",
        "      c=self.avb_products[product]\n",
        "      self.avb_products.update({product:c+quantity})\n",
        "      print(\"inventory \",self.avb_products)\n",
        "\n",
        "inv=inventory()\n",
        "inv.details(\"add\")\n",
        "inv.add(\"chips\",500)\n",
        "inv.update(\"toothpaste\",200)"
      ],
      "metadata": {
        "colab": {
          "base_uri": "https://localhost:8080/"
        },
        "id": "woA7yFynaK_N",
        "outputId": "7b0279d4-abf4-4bef-bc94-7bbff244a3f5"
      },
      "execution_count": 1,
      "outputs": [
        {
          "output_type": "stream",
          "name": "stdout",
          "text": [
            " To add products and its quantity, products in the inventory {'cereal': 100, 'detergent': 500, 'rugs': 20, 'brush': 1000, 'toothpaste': 750}\n",
            "available products are: {'cereal': 100, 'detergent': 500, 'rugs': 20, 'brush': 1000, 'toothpaste': 750, 'chips': 500}\n",
            "inventory  {'cereal': 100, 'detergent': 500, 'rugs': 20, 'brush': 1000, 'toothpaste': 950, 'chips': 500}\n"
          ]
        }
      ]
    },
    {
      "cell_type": "code",
      "source": [
        "# Problem 6: Shape Calculation Create a class representing a shape with attributes like length, width, and height. Implement methods to calculate the area and perimeter of the shape.\n",
        "\n",
        "class shape:\n",
        "\n",
        "  def circle(self,r):\n",
        "    pr=2*3.14*r\n",
        "    ar=3.14*r*r\n",
        "    print(f\"perimeter of the circle is {pr} and area of the circle is {ar}\")\n",
        "\n",
        "  def rectangle(self,l,b):\n",
        "    pr=2*(l+b)\n",
        "    ar=l*b\n",
        "    print(f\"perimeter of the rectangle is {pr} and area of the rectangle is {ar}\")\n",
        "\n",
        "  def triangle(self,b,h,s):\n",
        "    pr=s+s+b\n",
        "    ar=0.5*b*h\n",
        "    print(f\"perimeter of the triangle is {pr} and area of the triangle is {ar}\")\n",
        "\n",
        "\n",
        "sh=shape()\n",
        "sh.circle(2)\n",
        "sh.rectangle(4,5)\n",
        "sh.triangle(3,5,4)\n",
        "\n"
      ],
      "metadata": {
        "colab": {
          "base_uri": "https://localhost:8080/"
        },
        "id": "pSHPFRR_YoHa",
        "outputId": "22b8cd25-cc6a-4b75-eec6-1d799cc501a0"
      },
      "execution_count": 2,
      "outputs": [
        {
          "output_type": "stream",
          "name": "stdout",
          "text": [
            "perimeter of the circle is 12.56 and area of the circle is 12.56\n",
            "perimeter of the rectangle is 18 and area of the rectangle is 20\n",
            "perimeter of the triangle is 11 and area of the triangle is 7.5\n"
          ]
        }
      ]
    },
    {
      "cell_type": "code",
      "source": [
        "# Problem 7: Student Management Create a class representing a student with attributes like student ID, name, and grades. Implement methods to calculate the average grade and display student details.\n",
        "\n",
        "class inventory:\n",
        "\n",
        "  def __init__(self):\n",
        "    self.avb_products={\"cereal\":100,\"detergent\":500,\"rugs\":20,\"brush\":1000,\"toothpaste\":750}\n",
        "\n",
        "  def details(self,action):\n",
        "    print(f\" To {action} products and its quantity, products in the inventory\",self.avb_products)\n",
        "\n",
        "  def add(self,product,quantity):\n",
        "    self.avb_products.update({product:quantity})\n",
        "    print(\"available products are:\",self.avb_products)\n",
        "\n",
        "  def update(self,product,quantity):\n",
        "    if product in self.avb_products:\n",
        "      c=self.avb_products[product]\n",
        "      self.avb_products.update({product:c+quantity})\n",
        "      print(\"inventory \",self.avb_products)\n",
        "\n",
        "inv=inventory()\n",
        "inv.details(\"add\")\n",
        "inv.add(\"chips\",500)\n",
        "inv.update(\"toothpaste\",200)\n",
        "\n",
        "\n",
        "\n"
      ],
      "metadata": {
        "id": "M9mbDdR6DCC8"
      },
      "execution_count": null,
      "outputs": []
    },
    {
      "cell_type": "code",
      "source": [
        "#Problem 8: Email Management Create a class representing an email with attributes like sender, recipient, and subject. Implement methods to send an email and display email detail\n",
        "class e_manage:\n",
        "\n",
        "  def __init__(self,sender,receiver,subject):\n",
        "    self.sender=sender\n",
        "    self.receiver=receiver\n",
        "    self.subject=subject\n",
        "\n",
        "  def details(self):\n",
        "    print(f\" this email is sent to {self.receiver} by {self.sender}, the subject of the mail is {self.subject}\")\n",
        "\n",
        "  def send(self,msg):\n",
        "    print(f\" sender: {self.sender} \\n receiver: {self.receiver} \\n subject: {self.subject} \\n message: {msg}\")\n",
        "\n",
        "mail=e_manage(\"navya\",\"bob\",\"hello friend\")\n",
        "mail.details()\n",
        "mail.send(\"nice to hear back from you, its good to know that you are in the pink of health\")\n"
      ],
      "metadata": {
        "colab": {
          "base_uri": "https://localhost:8080/"
        },
        "id": "HWRIr24lLHRm",
        "outputId": "3e360422-a572-498a-c7a9-0732dcd9f672"
      },
      "execution_count": 1,
      "outputs": [
        {
          "output_type": "stream",
          "name": "stdout",
          "text": [
            " this email is sent to bob by navya, the subject of the mail is hello friend\n",
            "sender: navya \n",
            " receiver: bob \n",
            " subject: hello friend \n",
            " message: nice to hear back from you, its good to know that you are in the pink of health\n"
          ]
        }
      ]
    },
    {
      "cell_type": "code",
      "source": [
        "#Problem 9:  Social Media Profile Create a class representing a social media profile with attributes like username and posts. Implement methods to add posts, display posts, and search for posts by keyword.\n",
        "class social:\n",
        "\n",
        "  def __init__(self,username):\n",
        "    self.username=username\n",
        "    self.dirc=[]\n",
        "\n",
        "  def add(self,post):\n",
        "    self.dirc.append(post)\n",
        "    print(\"new post added\")\n",
        "    print(f\"user {self.username} posted {post}\")\n",
        "\n",
        "  def display(self):\n",
        "    print(f\"all the posts made by user {self.username}: {self.dirc}\")\n",
        "\n",
        "  def search(self,keyword):\n",
        "    c=0\n",
        "    for i in self.dirc:\n",
        "      if keyword in i:\n",
        "        print(i)\n",
        "        c+=1\n",
        "    if c==0:\n",
        "      print(\"no such post\")\n",
        "\n",
        "\n",
        "sc=social(\"user123\")\n",
        "sc.add(\"hello insta fam\")\n",
        "sc.add(\"meet my pet dog, his name is Andy\")\n",
        "sc.display()\n",
        "sc.search(\"cat\")\n",
        "sc.search(\"Andy\")\n",
        "\n"
      ],
      "metadata": {
        "colab": {
          "base_uri": "https://localhost:8080/"
        },
        "id": "v_DIv6DmLHgv",
        "outputId": "5525f1f7-d220-4f48-f20d-1f431e8c7b4c"
      },
      "execution_count": 9,
      "outputs": [
        {
          "output_type": "stream",
          "name": "stdout",
          "text": [
            "new post added\n",
            "user user123 posted hello insta fam\n",
            "new post added\n",
            "user user123 posted meet my pet dog, his name is Andy\n",
            "all the posts made by user user123: ['hello insta fam', 'meet my pet dog, his name is Andy']\n",
            "no such post\n",
            "meet my pet dog, his name is Andy\n"
          ]
        }
      ]
    },
    {
      "cell_type": "code",
      "source": [
        "# 10. ToDo List Create a class representing a ToDo list with attributes like tasks and due dates. Implement methods to add tasks, mark tasks as completed, and display pending tasks.\n",
        "\n",
        "class ToDo:\n",
        "\n",
        "  def __init__(self):\n",
        "    self.dirc={}\n",
        "\n",
        "  def add(self,task,due_dt,status):\n",
        "    self.dirc.update({task:[due_dt,status]})\n",
        "    print(\"new task added\")\n",
        "\n",
        "  def display(self):\n",
        "    print(self.dirc)\n",
        "    for i in self.dirc:\n",
        "      if self.dirc[i][1] == \"pending\":\n",
        "        print(f\"task {i} is pending, due date {self.dirc[i][0]}\")\n",
        "\n",
        "  def mk_status(self,task,action):\n",
        "    for i in self.dirc:\n",
        "      if i== task:\n",
        "        self.dirc[i][1]=\"completed\"\n",
        "    print(self.dirc)\n",
        "\n",
        "\n",
        "td=ToDo()\n",
        "import datetime as dt\n",
        "td.add(\"HW1\",dt.date(2023,5,6),\"pending\")\n",
        "td.add(\"HW2\",dt.date(2023,5,14),\"pending\")\n",
        "td.add(\"HW3\",dt.date(2023,5,11),\"pending\")\n",
        "td.add(\"HW4\",dt.date(2023,5,7),\"pending\")\n",
        "\n",
        "td.display()\n",
        "\n",
        "td.mk_status(\"HW1\",\"completed\")\n",
        "\n"
      ],
      "metadata": {
        "colab": {
          "base_uri": "https://localhost:8080/"
        },
        "id": "wddS6VzpLHr3",
        "outputId": "ed241be5-d4dc-4776-8397-ad96d60e3e92"
      },
      "execution_count": 29,
      "outputs": [
        {
          "output_type": "stream",
          "name": "stdout",
          "text": [
            "new task added\n",
            "new task added\n",
            "new task added\n",
            "new task added\n",
            "{'HW1': [datetime.date(2023, 5, 6), 'completed'], 'HW2': [datetime.date(2023, 5, 14), 'pending'], 'HW3': [datetime.date(2023, 5, 11), 'pending'], 'HW4': [datetime.date(2023, 5, 7), 'pending']}\n"
          ]
        }
      ]
    }
  ]
}