{
  "nbformat": 4,
  "nbformat_minor": 0,
  "metadata": {
    "colab": {
      "provenance": [],
      "authorship_tag": "ABX9TyPMEzYBTsIjYGxmNNJibo+y",
      "include_colab_link": true
    },
    "kernelspec": {
      "name": "python3",
      "display_name": "Python 3"
    },
    "language_info": {
      "name": "python"
    }
  },
  "cells": [
    {
      "cell_type": "markdown",
      "metadata": {
        "id": "view-in-github",
        "colab_type": "text"
      },
      "source": [
        "<a href=\"https://colab.research.google.com/github/Navya-0/full_stack_data_science/blob/main/arrays_assignment.ipynb\" target=\"_parent\"><img src=\"https://colab.research.google.com/assets/colab-badge.svg\" alt=\"Open In Colab\"/></a>"
      ]
    },
    {
      "cell_type": "code",
      "execution_count": 2,
      "metadata": {
        "colab": {
          "base_uri": "https://localhost:8080/"
        },
        "id": "noVwAIau-U-c",
        "outputId": "36222141-30e9-4cad-9596-ff0b07317237"
      },
      "outputs": [
        {
          "output_type": "stream",
          "name": "stdout",
          "text": [
            "2 True\n"
          ]
        }
      ],
      "source": [
        "\"\"\" 1. Given an array, check if it contains any duplicates or not.\n",
        "arr = [1, 2, 4, 2, 5, 9]\n",
        "Output = True\"\"\"\n",
        "arr = [1, 2, 4, 2, 5, 9]\n",
        "dup=[] # list for storing all the duplicates so that it doesnt check again and again for the same element\n",
        "for i in arr:\n",
        "  c=0\n",
        "  if i not in dup:\n",
        "    for j in arr:\n",
        "      if i==j:\n",
        "        c+=1\n",
        "    if c>1:\n",
        "      dup.append(i)\n",
        "      print(i,True)\n"
      ]
    },
    {
      "cell_type": "code",
      "source": [
        "\"\"\"2. Given an array and an integer k, rotate the array to the right by k steps.\n",
        "arr = [1, 2, 3, 4, 5, 6, 7] k = 3\n",
        "Output = [5, 6, 7, 1, 2, 3, 4]\"\"\"\n",
        "arr = [1, 2, 3, 4, 5, 6, 7]\n",
        "k = 3\n",
        "l=len(arr)\n",
        "arr1=[0]*l\n",
        "for i in range(l):\n",
        "  if (i+k)>=l:\n",
        "    arr1[i+k-l]=arr[i]\n",
        "  else:\n",
        "    arr1[i+k]=arr[i]\n",
        "arr1"
      ],
      "metadata": {
        "colab": {
          "base_uri": "https://localhost:8080/"
        },
        "id": "FDEebzAS-b2G",
        "outputId": "d4ed2e4f-eb59-4f1e-f8fa-570b692e859a"
      },
      "execution_count": 4,
      "outputs": [
        {
          "output_type": "execute_result",
          "data": {
            "text/plain": [
              "[5, 6, 7, 1, 2, 3, 4]"
            ]
          },
          "metadata": {},
          "execution_count": 4
        }
      ]
    },
    {
      "cell_type": "code",
      "source": [
        "\"\"\"3. Reverse the given array in-place, means without using any extra data structure.\n",
        "arr = [2, 4, 5, 7, 9, 12]\n",
        "Output = [12, 9, 7, 5, 4, 2]\"\"\"\n",
        "arr = [2, 4, 5, 7, 9, 12]\n",
        "i=0\n",
        "j=len(arr)-1\n",
        "while(i<=j):\n",
        "  arr[i],arr[j]=arr[j],arr[i]\n",
        "  i+=1\n",
        "  j-=1\n",
        "arr"
      ],
      "metadata": {
        "colab": {
          "base_uri": "https://localhost:8080/"
        },
        "id": "tVimsMCF-b5T",
        "outputId": "99eb8b14-732c-4423-cb87-b10597c0de36"
      },
      "execution_count": 6,
      "outputs": [
        {
          "output_type": "execute_result",
          "data": {
            "text/plain": [
              "[12, 9, 7, 5, 4, 2]"
            ]
          },
          "metadata": {},
          "execution_count": 6
        }
      ]
    },
    {
      "cell_type": "code",
      "source": [
        "\"\"\"4. Given an array of integers, find the maximum element in an array\n",
        "arr = [10, 5, 20, 8, 15]\n",
        "Output = 20\"\"\"\n",
        "arr = [10, 5, 20, 8, 15]\n",
        "max=0\n",
        "for i in arr:\n",
        "  if i>max:\n",
        "    max=i\n",
        "max"
      ],
      "metadata": {
        "colab": {
          "base_uri": "https://localhost:8080/"
        },
        "id": "aAVTeECh-b8b",
        "outputId": "680e8a90-68c7-42f8-a0b4-af6148b5efaf"
      },
      "execution_count": 7,
      "outputs": [
        {
          "output_type": "execute_result",
          "data": {
            "text/plain": [
              "20"
            ]
          },
          "metadata": {},
          "execution_count": 7
        }
      ]
    },
    {
      "cell_type": "code",
      "source": [
        "\"\"\"5. Given a sorted array, remove the duplicate element without using any extra data structure.\n",
        "arr = [1, 1, 2, 2, 2, 3, 3, 4, 4, 4, 5, 5]\n",
        "Output = [1, 2, 3, 4, 5]\"\"\"\n",
        "arr = [1, 1, 2, 2, 2, 3, 3, 4, 4, 4, 5, 5]\n",
        "arr=list(set(arr))\n",
        "arr"
      ],
      "metadata": {
        "colab": {
          "base_uri": "https://localhost:8080/"
        },
        "id": "lkEMPxcP-b_z",
        "outputId": "7867b2f8-ca32-4f52-ae47-db9d948b8f69"
      },
      "execution_count": 10,
      "outputs": [
        {
          "output_type": "execute_result",
          "data": {
            "text/plain": [
              "[1, 2, 3, 4, 5]"
            ]
          },
          "metadata": {},
          "execution_count": 10
        }
      ]
    }
  ]
}