{
  "nbformat": 4,
  "nbformat_minor": 0,
  "metadata": {
    "colab": {
      "provenance": [],
      "authorship_tag": "ABX9TyMnNOjFVjEP7t55BETqKkUs",
      "include_colab_link": true
    },
    "kernelspec": {
      "name": "python3",
      "display_name": "Python 3"
    },
    "language_info": {
      "name": "python"
    }
  },
  "cells": [
    {
      "cell_type": "markdown",
      "metadata": {
        "id": "view-in-github",
        "colab_type": "text"
      },
      "source": [
        "<a href=\"https://colab.research.google.com/github/Navya-0/full_stack_data_science/blob/main/14th_october_decoraters.ipynb\" target=\"_parent\"><img src=\"https://colab.research.google.com/assets/colab-badge.svg\" alt=\"Open In Colab\"/></a>"
      ]
    },
    {
      "cell_type": "code",
      "execution_count": null,
      "metadata": {
        "colab": {
          "base_uri": "https://localhost:8080/"
        },
        "id": "4KKmcNoS6tKQ",
        "outputId": "222be2b6-2d9e-432f-af2c-208f117f5664"
      },
      "outputs": [
        {
          "output_type": "stream",
          "name": "stdout",
          "text": [
            "navya navya@gmail.com\n",
            "navya\n"
          ]
        }
      ],
      "source": [
        "class pwskills:\n",
        "  def __init__(self,mentor):\n",
        "    self.mentor=mentor\n",
        "\n",
        "  def mentor_name(self):\n",
        "    print(self.mentor)\n",
        "\n",
        "class datascience(pwskills):\n",
        "\n",
        "  def __init__(self,mentor,mentor_mail):\n",
        "    self.mentor=mentor\n",
        "    self.mentor_mail= mentor_mail\n",
        "\n",
        "  def show_info(self):\n",
        "    print(self.mentor,self.mentor_mail)\n",
        "\n",
        "pb= datascience(\"navya\",\"navya@gmail.com\")\n",
        "pb.show_info()\n",
        "pb.mentor_name()"
      ]
    },
    {
      "cell_type": "code",
      "source": [
        "class pwskills:\n",
        "  def __init__(self,mentor):\n",
        "    self.mentor=mentor\n",
        "\n",
        "  def mentor_name(self):\n",
        "    print(self.mentor)\n",
        "\n",
        "class datascience(pwskills):\n",
        "\n",
        "  def __init__(self,mentor,mentor_mail):\n",
        "    #self.mentor=mentor\n",
        "    super().__init__(mentor)\n",
        "    self.mentor_mail= mentor_mail\n",
        "\n",
        "  def show_info(self):\n",
        "    print(self.mentor,self.mentor_mail)\n",
        "\n",
        "pb= datascience(\"navya\",\"navya@gmail.com\")\n",
        "pb.show_info()\n",
        "pb.mentor_name()"
      ],
      "metadata": {
        "colab": {
          "base_uri": "https://localhost:8080/"
        },
        "id": "F97oXOUW6t4I",
        "outputId": "a30dd125-1333-4b74-ae73-5450e0dc6de0"
      },
      "execution_count": null,
      "outputs": [
        {
          "output_type": "stream",
          "name": "stdout",
          "text": [
            "navya navya@gmail.com\n",
            "navya\n"
          ]
        }
      ]
    },
    {
      "cell_type": "code",
      "source": [
        "class pwskills:\n",
        "  def __init__(self,mentor):\n",
        "    self.mentor=mentor\n",
        "\n",
        "  def mentor_name(self):\n",
        "    print(self.mentor)\n",
        "\n",
        "class datascience(pwskills):\n",
        "\n",
        "  def __init__(self,mentor,mentor_mail):\n",
        "    #self.mentor=mentor\n",
        "    super().__init__(mentor)\n",
        "    self.mentor_mail= mentor_mail\n",
        "\n",
        "  def show_info(self):\n",
        "    super().mentor_name()\n",
        "    print(self.mentor,self.mentor_mail)\n",
        "\n",
        "pb= datascience(\"navya\",\"navya@gmail.com\")\n",
        "pb.show_info()\n",
        "#pb.mentor_name()"
      ],
      "metadata": {
        "colab": {
          "base_uri": "https://localhost:8080/"
        },
        "id": "0Vvks42aAxHs",
        "outputId": "955c3ad6-9bc5-4c8f-fb8a-b889954a2bea"
      },
      "execution_count": null,
      "outputs": [
        {
          "output_type": "stream",
          "name": "stdout",
          "text": [
            "navya\n",
            "navya navya@gmail.com\n"
          ]
        }
      ]
    },
    {
      "cell_type": "code",
      "source": [
        "class human:\n",
        "  def __init__(self):\n",
        "    pass\n",
        "\n",
        "  def eat(self):\n",
        "    pass\n",
        "\n",
        "class male(human):\n",
        "\n",
        "  def __init__(self,name):\n",
        "    self.name=name\n",
        "\n",
        "  def eat(self):\n",
        "    print(self.name)\n",
        "\n",
        "bob=male(\"bob\")\n",
        "bob.eat()"
      ],
      "metadata": {
        "colab": {
          "base_uri": "https://localhost:8080/"
        },
        "id": "jkp_5Bww6t7l",
        "outputId": "e46afb4b-0ede-463b-c911-60da8b7989d0"
      },
      "execution_count": null,
      "outputs": [
        {
          "output_type": "stream",
          "name": "stdout",
          "text": [
            "bob\n"
          ]
        }
      ]
    },
    {
      "cell_type": "code",
      "source": [
        "class human:\n",
        "  def __init__(self):\n",
        "    pass\n",
        "\n",
        "  def eat(self):\n",
        "    print(\"eat the bread\")\n",
        "\n",
        "class male(human):\n",
        "\n",
        "  def __init__(self,name):\n",
        "    self.name=name\n",
        "\n",
        "  def eat(self): # this is called as method overriding\n",
        "    super().eat()\n",
        "    print(self.name)\n",
        "\n",
        "bob=male(\"bob\")\n",
        "bob.eat()"
      ],
      "metadata": {
        "colab": {
          "base_uri": "https://localhost:8080/"
        },
        "id": "YJpwXgy96t_C",
        "outputId": "a8ce3ef6-90c6-485f-8eb3-b6b20abe3882"
      },
      "execution_count": null,
      "outputs": [
        {
          "output_type": "stream",
          "name": "stdout",
          "text": [
            "eat the bread\n",
            "bob\n"
          ]
        }
      ]
    },
    {
      "cell_type": "code",
      "source": [
        "class fileopener:\n",
        "\n",
        "  def __init__(self,filename):\n",
        "    self.filename=filename\n",
        "\n",
        "  def open_file(self):\n",
        "    print(\"this will open the file \", self.filename)\n",
        "\n",
        "  def __del__(self): # this is a destructor and it will delete the object, its self calling\n",
        "    print(\"close my file\")\n",
        "\n",
        "fn= fileopener(\"f1.txt\")\n",
        "fn.open_file()"
      ],
      "metadata": {
        "colab": {
          "base_uri": "https://localhost:8080/"
        },
        "id": "e6V5WP006uC6",
        "outputId": "3672e2ba-0214-4ab6-b7aa-c899e8836918"
      },
      "execution_count": null,
      "outputs": [
        {
          "output_type": "stream",
          "name": "stdout",
          "text": [
            "this will open the file  f1.txt\n"
          ]
        }
      ]
    },
    {
      "cell_type": "code",
      "source": [
        "import time\n",
        "\n",
        "class timer:\n",
        "\n",
        "  def __init__(self):\n",
        "    self.start_time=time.time()\n",
        "\n",
        "  def total_time(self):\n",
        "    time_spent= time.time()-self.start_time\n",
        "    print(time_spent)\n",
        "\n",
        "  def __del__(self):\n",
        "    return \"this is a destructor\"\n",
        "\n",
        "  def __str__(self):\n",
        "    return \"this is my class\""
      ],
      "metadata": {
        "id": "diJ70sde6uHi"
      },
      "execution_count": null,
      "outputs": []
    },
    {
      "cell_type": "code",
      "source": [
        "t= timer()\n",
        "t.total_time()\n",
        "print(t)"
      ],
      "metadata": {
        "colab": {
          "base_uri": "https://localhost:8080/"
        },
        "id": "TXMncRHe6uJ5",
        "outputId": "4bc61702-e944-4383-b401-9bffe4298198"
      },
      "execution_count": null,
      "outputs": [
        {
          "output_type": "stream",
          "name": "stdout",
          "text": [
            "4.57763671875e-05\n",
            "this is my class\n"
          ]
        }
      ]
    },
    {
      "cell_type": "code",
      "source": [
        "def test(func):\n",
        "  def inner_test():\n",
        "    print(\"start of the inner func\")\n",
        "    func()\n",
        "    print(\"end of the inner func\")\n",
        "  return inner_test\n",
        "\n",
        "@test\n",
        "def test1():\n",
        "  print(\"this is the function to be decorated\")\n",
        "\n",
        "test1()\n",
        "\n"
      ],
      "metadata": {
        "colab": {
          "base_uri": "https://localhost:8080/"
        },
        "id": "2JOqOWGy6uNv",
        "outputId": "ecdcf3cc-a0f7-4089-a5b5-b3eca962eb82"
      },
      "execution_count": null,
      "outputs": [
        {
          "output_type": "stream",
          "name": "stdout",
          "text": [
            "start of the inner func\n",
            "this is the function to be decorated\n",
            "end of the inner func\n"
          ]
        }
      ]
    },
    {
      "cell_type": "code",
      "source": [
        "# for every executions print the time stamp, use a decorater function\n",
        "import time\n",
        "def print_list(l):\n",
        "  start= time.time()\n",
        "  for i in l:\n",
        "    print(i)\n",
        "  end=time.time()\n",
        "  print(end-start)\n",
        "\n",
        "\n",
        "def print_key(d):\n",
        "  print(d.keys())\n"
      ],
      "metadata": {
        "id": "-MfzYIRZVEWh"
      },
      "execution_count": null,
      "outputs": []
    },
    {
      "cell_type": "code",
      "source": [
        "import time\n",
        "def time_stamp(func):# this is the whole decorator function\n",
        "  def inner_func(*args):# this is a wrapper function\n",
        "    start=time.time()\n",
        "    func(*args)\n",
        "    end=time.time()\n",
        "    print(end-start)\n",
        "  return inner_func\n",
        "\n",
        "@time_stamp\n",
        "def print_list(l):\n",
        "  for i in l:\n",
        "    print(i)\n",
        "\n",
        "print_list([1,2,3,4,5])"
      ],
      "metadata": {
        "colab": {
          "base_uri": "https://localhost:8080/"
        },
        "id": "PT1H643QVNd8",
        "outputId": "3754b0fa-4d4d-44e4-c5f3-afaa43aba74c"
      },
      "execution_count": null,
      "outputs": [
        {
          "output_type": "stream",
          "name": "stdout",
          "text": [
            "1\n",
            "2\n",
            "3\n",
            "4\n",
            "5\n",
            "0.010143756866455078\n"
          ]
        }
      ]
    },
    {
      "cell_type": "code",
      "source": [
        "@time_stamp\n",
        "def print_key(d):\n",
        "  print(d.keys())\n",
        "print_key({1:\"a\",2:\"b\"})"
      ],
      "metadata": {
        "colab": {
          "base_uri": "https://localhost:8080/"
        },
        "id": "ZdMhgXjHVNgv",
        "outputId": "58295ad9-8465-4909-b08e-91475099bd72"
      },
      "execution_count": null,
      "outputs": [
        {
          "output_type": "stream",
          "name": "stdout",
          "text": [
            "dict_keys([1, 2])\n",
            "0.0010423660278320312\n"
          ]
        }
      ]
    },
    {
      "cell_type": "code",
      "source": [
        "import logging\n",
        "def log(func):\n",
        "  def inner_func(*args):\n",
        "    logging.basicConfig(filename=\"test.log\",level=logging.INFO)\n",
        "    logging.info(\"this is the start of my func\")\n",
        "    func(*args)\n",
        "    logging.info(\"this is the end of my func \")\n",
        "  return inner_func\n",
        "\n",
        "@log\n",
        "def print_key(d):\n",
        "  print(d.keys())\n",
        "print_key({1:\"a\",2:\"b\"})"
      ],
      "metadata": {
        "colab": {
          "base_uri": "https://localhost:8080/"
        },
        "id": "yh5dCVj4VNkc",
        "outputId": "3afaa7df-b572-4795-978d-625d4de32b80"
      },
      "execution_count": 30,
      "outputs": [
        {
          "output_type": "stream",
          "name": "stdout",
          "text": [
            "dict_keys([1, 2])\n"
          ]
        }
      ]
    },
    {
      "cell_type": "code",
      "source": [
        "import logging\n",
        "def log(func):\n",
        "  def inner_func(*args):\n",
        "    logging.basicConfig(filename=\"test.log\",level=logging.INFO)\n",
        "    logging.info(\"this is the start of my func\")\n",
        "    func(*args)\n",
        "    logging.info(\"this is the end of my func \")\n",
        "  return inner_func\n",
        "\n",
        "@time_stamp\n",
        "@log\n",
        "def print_key(d):\n",
        "  print(d.keys())\n",
        "print_key({1:\"a\",2:\"b\"})"
      ],
      "metadata": {
        "id": "JjsHLv24fwAC",
        "colab": {
          "base_uri": "https://localhost:8080/"
        },
        "outputId": "c4797bd8-db1e-47fd-a62b-8669527d3be3"
      },
      "execution_count": 33,
      "outputs": [
        {
          "output_type": "stream",
          "name": "stdout",
          "text": [
            "dict_keys([1, 2])\n",
            "0.0020933151245117188\n"
          ]
        }
      ]
    },
    {
      "cell_type": "code",
      "source": [
        "class sudh:\n",
        "  def __init__(self,subject):\n",
        "    self._subject = subject\n"
      ],
      "metadata": {
        "id": "tQZVpDpGi5hP"
      },
      "execution_count": 38,
      "outputs": []
    },
    {
      "cell_type": "code",
      "source": [
        "s1= sudh(\"data science\")"
      ],
      "metadata": {
        "id": "f5fbJsDFi5x-"
      },
      "execution_count": 39,
      "outputs": []
    },
    {
      "cell_type": "code",
      "source": [
        "s1.subject"
      ],
      "metadata": {
        "colab": {
          "base_uri": "https://localhost:8080/",
          "height": 176
        },
        "id": "mX2IUZjui51Y",
        "outputId": "46619443-72be-4727-97af-e26330e2402a"
      },
      "execution_count": 40,
      "outputs": [
        {
          "output_type": "error",
          "ename": "AttributeError",
          "evalue": "ignored",
          "traceback": [
            "\u001b[0;31m---------------------------------------------------------------------------\u001b[0m",
            "\u001b[0;31mAttributeError\u001b[0m                            Traceback (most recent call last)",
            "\u001b[0;32m<ipython-input-40-67b92231b451>\u001b[0m in \u001b[0;36m<cell line: 1>\u001b[0;34m()\u001b[0m\n\u001b[0;32m----> 1\u001b[0;31m \u001b[0ms1\u001b[0m\u001b[0;34m.\u001b[0m\u001b[0msubject\u001b[0m\u001b[0;34m\u001b[0m\u001b[0;34m\u001b[0m\u001b[0m\n\u001b[0m",
            "\u001b[0;31mAttributeError\u001b[0m: 'sudh' object has no attribute 'subject'"
          ]
        }
      ]
    },
    {
      "cell_type": "code",
      "source": [
        "s1._subject"
      ],
      "metadata": {
        "colab": {
          "base_uri": "https://localhost:8080/",
          "height": 35
        },
        "id": "6b1rBn90i562",
        "outputId": "132577d8-b45a-439c-e905-89ca084d4bda"
      },
      "execution_count": 41,
      "outputs": [
        {
          "output_type": "execute_result",
          "data": {
            "text/plain": [
              "'data science'"
            ],
            "application/vnd.google.colaboratory.intrinsic+json": {
              "type": "string"
            }
          },
          "metadata": {},
          "execution_count": 41
        }
      ]
    },
    {
      "cell_type": "code",
      "source": [
        "class sudh:\n",
        "  def __init__(self,subject):\n",
        "    self.__subject = subject\n",
        "\n",
        "s1= sudh(\"data science\")\n",
        "s1.__subject()"
      ],
      "metadata": {
        "colab": {
          "base_uri": "https://localhost:8080/",
          "height": 211
        },
        "id": "4b0WXuKdjc5q",
        "outputId": "5c22ecaa-9172-4eca-e776-a1b1b2fee5b3"
      },
      "execution_count": 42,
      "outputs": [
        {
          "output_type": "error",
          "ename": "AttributeError",
          "evalue": "ignored",
          "traceback": [
            "\u001b[0;31m---------------------------------------------------------------------------\u001b[0m",
            "\u001b[0;31mAttributeError\u001b[0m                            Traceback (most recent call last)",
            "\u001b[0;32m<ipython-input-42-324e05b49fe9>\u001b[0m in \u001b[0;36m<cell line: 6>\u001b[0;34m()\u001b[0m\n\u001b[1;32m      4\u001b[0m \u001b[0;34m\u001b[0m\u001b[0m\n\u001b[1;32m      5\u001b[0m \u001b[0ms1\u001b[0m\u001b[0;34m=\u001b[0m \u001b[0msudh\u001b[0m\u001b[0;34m(\u001b[0m\u001b[0;34m\"data science\"\u001b[0m\u001b[0;34m)\u001b[0m\u001b[0;34m\u001b[0m\u001b[0;34m\u001b[0m\u001b[0m\n\u001b[0;32m----> 6\u001b[0;31m \u001b[0ms1\u001b[0m\u001b[0;34m.\u001b[0m\u001b[0m__subject\u001b[0m\u001b[0;34m(\u001b[0m\u001b[0;34m)\u001b[0m\u001b[0;34m\u001b[0m\u001b[0;34m\u001b[0m\u001b[0m\n\u001b[0m",
            "\u001b[0;31mAttributeError\u001b[0m: 'sudh' object has no attribute '__subject'"
          ]
        }
      ]
    },
    {
      "cell_type": "code",
      "source": [
        "s1._sudh__subject"
      ],
      "metadata": {
        "colab": {
          "base_uri": "https://localhost:8080/",
          "height": 35
        },
        "id": "hksgkicvi586",
        "outputId": "2414f058-f2c5-4eb4-adf4-1a130bcadda0"
      },
      "execution_count": 45,
      "outputs": [
        {
          "output_type": "execute_result",
          "data": {
            "text/plain": [
              "'data science'"
            ],
            "application/vnd.google.colaboratory.intrinsic+json": {
              "type": "string"
            }
          },
          "metadata": {},
          "execution_count": 45
        }
      ]
    },
    {
      "cell_type": "code",
      "source": [
        "class sudh:\n",
        "  def __init__(self,subject):\n",
        "    self.__subject = subject\n",
        "\n",
        "  def name(self):\n",
        "    print(self.__subject)\n",
        "\n",
        "s2= sudh(\"ml\")\n",
        "s2.name()"
      ],
      "metadata": {
        "colab": {
          "base_uri": "https://localhost:8080/"
        },
        "id": "mAmdjxzVjwW3",
        "outputId": "02252836-ab61-4b31-d922-aad36b536ad1"
      },
      "execution_count": 46,
      "outputs": [
        {
          "output_type": "stream",
          "name": "stdout",
          "text": [
            "ml\n"
          ]
        }
      ]
    },
    {
      "cell_type": "code",
      "source": [
        "s2._sudh__subject=\"dsa\"\n",
        "s2.name()"
      ],
      "metadata": {
        "colab": {
          "base_uri": "https://localhost:8080/"
        },
        "id": "2C3qAU8HkX0k",
        "outputId": "a52772ab-c11d-45c2-c1ed-7874d39ff1af"
      },
      "execution_count": 47,
      "outputs": [
        {
          "output_type": "stream",
          "name": "stdout",
          "text": [
            "dsa\n"
          ]
        }
      ]
    },
    {
      "cell_type": "code",
      "source": [
        "class sudh:\n",
        "  def __init__(self,subject):\n",
        "    self.__subject = subject\n",
        "\n",
        "  @property\n",
        "  def subject1(self):\n",
        "    return self.__subject\n",
        "\n",
        "  @subject1.setter\n",
        "  def subject1(self,subject):\n",
        "    self.__subject=subject\n",
        "\n",
        "  @subject1.getter\n",
        "  def subject1(self):\n",
        "    return self.__subject"
      ],
      "metadata": {
        "id": "aKnP3k36kk5h"
      },
      "execution_count": 50,
      "outputs": []
    },
    {
      "cell_type": "code",
      "source": [
        "s3= sudh(\"data analytics\")\n",
        "s3.subject1"
      ],
      "metadata": {
        "colab": {
          "base_uri": "https://localhost:8080/",
          "height": 35
        },
        "id": "19GwlNq6leAq",
        "outputId": "fef67add-9623-4c38-fe39-79938eb126dd"
      },
      "execution_count": 51,
      "outputs": [
        {
          "output_type": "execute_result",
          "data": {
            "text/plain": [
              "'data analytics'"
            ],
            "application/vnd.google.colaboratory.intrinsic+json": {
              "type": "string"
            }
          },
          "metadata": {},
          "execution_count": 51
        }
      ]
    },
    {
      "cell_type": "code",
      "source": [
        "s3.subject1=\"blockchain\"\n",
        "s3.subject1"
      ],
      "metadata": {
        "colab": {
          "base_uri": "https://localhost:8080/",
          "height": 35
        },
        "id": "yqaqQqiElkxa",
        "outputId": "5478810b-333f-49e6-bf5f-e63ce542faca"
      },
      "execution_count": 52,
      "outputs": [
        {
          "output_type": "execute_result",
          "data": {
            "text/plain": [
              "'blockchain'"
            ],
            "application/vnd.google.colaboratory.intrinsic+json": {
              "type": "string"
            }
          },
          "metadata": {},
          "execution_count": 52
        }
      ]
    }
  ]
}