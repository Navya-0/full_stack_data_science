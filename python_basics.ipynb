{
 "cells": [
  {
   "cell_type": "code",
   "execution_count": 1,
   "id": "3414ec49-e46d-45c8-8c24-7703684b09c8",
   "metadata": {},
   "outputs": [
    {
     "data": {
      "text/plain": [
       "3"
      ]
     },
     "execution_count": 1,
     "metadata": {},
     "output_type": "execute_result"
    }
   ],
   "source": [
    "1+2"
   ]
  },
  {
   "cell_type": "code",
   "execution_count": 2,
   "id": "324d6ed5-421c-4381-9786-5a92347b560a",
   "metadata": {},
   "outputs": [],
   "source": [
    "a=10"
   ]
  },
  {
   "cell_type": "code",
   "execution_count": 3,
   "id": "494b9346-6dde-46b5-aef8-8963c1029280",
   "metadata": {},
   "outputs": [
    {
     "data": {
      "text/plain": [
       "10"
      ]
     },
     "execution_count": 3,
     "metadata": {},
     "output_type": "execute_result"
    }
   ],
   "source": [
    "a"
   ]
  },
  {
   "cell_type": "code",
   "execution_count": 4,
   "id": "a0e50c2a-f35f-41ec-8fe6-1d7861bc24ea",
   "metadata": {},
   "outputs": [],
   "source": [
    "s=\"pwskills\""
   ]
  },
  {
   "cell_type": "code",
   "execution_count": 5,
   "id": "2d58c293-414f-4b40-9cc7-5975fe50feda",
   "metadata": {},
   "outputs": [
    {
     "data": {
      "text/plain": [
       "'pwskills'"
      ]
     },
     "execution_count": 5,
     "metadata": {},
     "output_type": "execute_result"
    }
   ],
   "source": [
    "s"
   ]
  },
  {
   "cell_type": "code",
   "execution_count": 6,
   "id": "da0eda28-b9b8-4d92-92e6-78421fd5def3",
   "metadata": {},
   "outputs": [],
   "source": [
    "s1=\" i love python\""
   ]
  },
  {
   "cell_type": "code",
   "execution_count": 7,
   "id": "83d155aa-82f2-4b38-a60d-c486be37eb84",
   "metadata": {},
   "outputs": [
    {
     "data": {
      "text/plain": [
       "' i love python'"
      ]
     },
     "execution_count": 7,
     "metadata": {},
     "output_type": "execute_result"
    }
   ],
   "source": [
    "s1"
   ]
  },
  {
   "cell_type": "markdown",
   "id": "f545d94f-5aad-491f-b6a1-7502eaa415a3",
   "metadata": {},
   "source": []
  },
  {
   "cell_type": "code",
   "execution_count": 8,
   "id": "e18dcfda-9e37-4559-bbe5-2ed3d5241947",
   "metadata": {},
   "outputs": [],
   "source": [
    "f=456.676"
   ]
  },
  {
   "cell_type": "code",
   "execution_count": 9,
   "id": "57165f48-e373-4431-968f-f0f530ea0435",
   "metadata": {},
   "outputs": [
    {
     "data": {
      "text/plain": [
       "456.676"
      ]
     },
     "execution_count": 9,
     "metadata": {},
     "output_type": "execute_result"
    }
   ],
   "source": [
    "f"
   ]
  },
  {
   "cell_type": "code",
   "execution_count": 10,
   "id": "894098b0-af3f-4001-9147-cd5decad0caf",
   "metadata": {},
   "outputs": [],
   "source": [
    "c=5+6j"
   ]
  },
  {
   "cell_type": "code",
   "execution_count": 11,
   "id": "8b83bd41-1c4f-44b0-a0a2-9a51cf5d2c34",
   "metadata": {},
   "outputs": [
    {
     "data": {
      "text/plain": [
       "(5+6j)"
      ]
     },
     "execution_count": 11,
     "metadata": {},
     "output_type": "execute_result"
    }
   ],
   "source": [
    "c"
   ]
  },
  {
   "cell_type": "code",
   "execution_count": 12,
   "id": "72bc2bfd-1c24-47c5-bc18-d9387ef5a5c2",
   "metadata": {},
   "outputs": [
    {
     "data": {
      "text/plain": [
       "complex"
      ]
     },
     "execution_count": 12,
     "metadata": {},
     "output_type": "execute_result"
    }
   ],
   "source": [
    "type(c)"
   ]
  },
  {
   "cell_type": "code",
   "execution_count": 13,
   "id": "3367b4a5-77d3-4c50-9b22-71c86ef4d326",
   "metadata": {},
   "outputs": [
    {
     "data": {
      "text/plain": [
       "5.0"
      ]
     },
     "execution_count": 13,
     "metadata": {},
     "output_type": "execute_result"
    }
   ],
   "source": [
    "c.real\n"
   ]
  },
  {
   "cell_type": "code",
   "execution_count": 14,
   "id": "8b59dab8-9b2f-4bcc-a8c1-b7c9650c65ae",
   "metadata": {},
   "outputs": [
    {
     "data": {
      "text/plain": [
       "6.0"
      ]
     },
     "execution_count": 14,
     "metadata": {},
     "output_type": "execute_result"
    }
   ],
   "source": [
    "c.imag"
   ]
  },
  {
   "cell_type": "code",
   "execution_count": 15,
   "id": "b136f093-4013-4b8e-8019-9e0356ba32d9",
   "metadata": {},
   "outputs": [],
   "source": [
    "b= True"
   ]
  },
  {
   "cell_type": "code",
   "execution_count": 16,
   "id": "6060bd73-a551-423a-80c8-6283e58e72b7",
   "metadata": {},
   "outputs": [
    {
     "data": {
      "text/plain": [
       "bool"
      ]
     },
     "execution_count": 16,
     "metadata": {},
     "output_type": "execute_result"
    }
   ],
   "source": [
    "type(b)"
   ]
  },
  {
   "cell_type": "code",
   "execution_count": 17,
   "id": "37d86876-465f-4555-8e52-a1ec2c48a204",
   "metadata": {},
   "outputs": [],
   "source": [
    "b1 = False"
   ]
  },
  {
   "cell_type": "code",
   "execution_count": 18,
   "id": "ae4d8def-227f-4f17-a747-4b30e1067324",
   "metadata": {},
   "outputs": [
    {
     "data": {
      "text/plain": [
       "bool"
      ]
     },
     "execution_count": 18,
     "metadata": {},
     "output_type": "execute_result"
    }
   ],
   "source": [
    "type(b1)"
   ]
  },
  {
   "cell_type": "code",
   "execution_count": 19,
   "id": "c1978cdd-17b8-4337-a4e0-55922adf88a2",
   "metadata": {},
   "outputs": [
    {
     "data": {
      "text/plain": [
       "79"
      ]
     },
     "execution_count": 19,
     "metadata": {},
     "output_type": "execute_result"
    }
   ],
   "source": [
    "a1=45\n",
    "a2=34\n",
    "a1+a2"
   ]
  },
  {
   "cell_type": "code",
   "execution_count": 20,
   "id": "ea27a80c-b346-4ce5-9131-a0710390766f",
   "metadata": {},
   "outputs": [
    {
     "data": {
      "text/plain": [
       "1530"
      ]
     },
     "execution_count": 20,
     "metadata": {},
     "output_type": "execute_result"
    }
   ],
   "source": [
    "a1*a2"
   ]
  },
  {
   "cell_type": "code",
   "execution_count": 21,
   "id": "afa4917d-896e-4e52-9f7e-de61a23c62f4",
   "metadata": {},
   "outputs": [
    {
     "data": {
      "text/plain": [
       "1"
      ]
     },
     "execution_count": 21,
     "metadata": {},
     "output_type": "execute_result"
    }
   ],
   "source": [
    "a1//a2"
   ]
  },
  {
   "cell_type": "code",
   "execution_count": 22,
   "id": "981456b0-2efe-49ca-806c-031479c9e930",
   "metadata": {},
   "outputs": [
    {
     "data": {
      "text/plain": [
       "11"
      ]
     },
     "execution_count": 22,
     "metadata": {},
     "output_type": "execute_result"
    }
   ],
   "source": [
    "a1-a2"
   ]
  },
  {
   "cell_type": "code",
   "execution_count": 23,
   "id": "bd375ee3-fe7e-48fb-8960-dab19f0dfcaa",
   "metadata": {},
   "outputs": [],
   "source": [
    "a1,a2=34,45"
   ]
  },
  {
   "cell_type": "code",
   "execution_count": 24,
   "id": "e2ffb3cc-2185-4d80-ac47-530ce3c8c389",
   "metadata": {},
   "outputs": [],
   "source": [
    "A,B,C,D=354,\"NAVYA\",34.34,True"
   ]
  },
  {
   "cell_type": "code",
   "execution_count": 25,
   "id": "144717ef-a446-4e29-88e3-22ff7c5f6a0e",
   "metadata": {},
   "outputs": [
    {
     "data": {
      "text/plain": [
       "354"
      ]
     },
     "execution_count": 25,
     "metadata": {},
     "output_type": "execute_result"
    }
   ],
   "source": [
    "A"
   ]
  },
  {
   "cell_type": "code",
   "execution_count": 26,
   "id": "35f09f8b-281a-46eb-9a60-73337c7d74e0",
   "metadata": {},
   "outputs": [
    {
     "data": {
      "text/plain": [
       "'NAVYA'"
      ]
     },
     "execution_count": 26,
     "metadata": {},
     "output_type": "execute_result"
    }
   ],
   "source": [
    "B"
   ]
  },
  {
   "cell_type": "code",
   "execution_count": 27,
   "id": "db063b60-28f5-46c0-a2a7-668c2b655d2c",
   "metadata": {},
   "outputs": [
    {
     "data": {
      "text/plain": [
       "34.34"
      ]
     },
     "execution_count": 27,
     "metadata": {},
     "output_type": "execute_result"
    }
   ],
   "source": [
    "C"
   ]
  },
  {
   "cell_type": "code",
   "execution_count": 28,
   "id": "cf6d9eb6-4616-493e-9770-1d6548c1a224",
   "metadata": {},
   "outputs": [
    {
     "data": {
      "text/plain": [
       "True"
      ]
     },
     "execution_count": 28,
     "metadata": {},
     "output_type": "execute_result"
    }
   ],
   "source": [
    "D"
   ]
  },
  {
   "cell_type": "code",
   "execution_count": 29,
   "id": "4dbb573d-ce73-42b0-b7e5-78e3b67d4bb3",
   "metadata": {},
   "outputs": [],
   "source": [
    "b1=True"
   ]
  },
  {
   "cell_type": "code",
   "execution_count": 30,
   "id": "96253c3b-2133-4d8d-800a-eec80849e42a",
   "metadata": {},
   "outputs": [],
   "source": [
    "b2=False"
   ]
  },
  {
   "cell_type": "code",
   "execution_count": 31,
   "id": "e19722b6-3432-4019-a687-059664195e4c",
   "metadata": {},
   "outputs": [
    {
     "data": {
      "text/plain": [
       "1"
      ]
     },
     "execution_count": 31,
     "metadata": {},
     "output_type": "execute_result"
    }
   ],
   "source": [
    "b1-b2"
   ]
  },
  {
   "cell_type": "code",
   "execution_count": 32,
   "id": "74b154a0-c03d-491e-82a7-6b66726dcf88",
   "metadata": {},
   "outputs": [
    {
     "ename": "ZeroDivisionError",
     "evalue": "integer division or modulo by zero",
     "output_type": "error",
     "traceback": [
      "\u001b[0;31m---------------------------------------------------------------------------\u001b[0m",
      "\u001b[0;31mZeroDivisionError\u001b[0m                         Traceback (most recent call last)",
      "Cell \u001b[0;32mIn[32], line 1\u001b[0m\n\u001b[0;32m----> 1\u001b[0m \u001b[43mb1\u001b[49m\u001b[38;5;241;43m/\u001b[39;49m\u001b[38;5;241;43m/\u001b[39;49m\u001b[43mb2\u001b[49m\n",
      "\u001b[0;31mZeroDivisionError\u001b[0m: integer division or modulo by zero"
     ]
    }
   ],
   "source": [
    "b1//b2"
   ]
  },
  {
   "cell_type": "code",
   "execution_count": 33,
   "id": "3c057050-cf82-409d-8cda-5d55e42e4a94",
   "metadata": {},
   "outputs": [],
   "source": [
    "s1=\"my name is navya\""
   ]
  },
  {
   "cell_type": "code",
   "execution_count": 34,
   "id": "e35a3343-68f4-4140-81bc-08db3a9c0c46",
   "metadata": {},
   "outputs": [
    {
     "data": {
      "text/plain": [
       "str"
      ]
     },
     "execution_count": 34,
     "metadata": {},
     "output_type": "execute_result"
    }
   ],
   "source": [
    "type(s1)"
   ]
  },
  {
   "cell_type": "code",
   "execution_count": 35,
   "id": "1b35a3f3-2a67-48ed-820c-937c3eae62c8",
   "metadata": {},
   "outputs": [],
   "source": [
    "s2=\"this is my first class for data science'g\""
   ]
  },
  {
   "cell_type": "code",
   "execution_count": 36,
   "id": "d4dfe270-a296-4bcc-80de-398c4cc902b1",
   "metadata": {},
   "outputs": [],
   "source": [
    "a=10"
   ]
  },
  {
   "cell_type": "code",
   "execution_count": 37,
   "id": "1352cffd-e13f-45a0-9daf-6a9ddb9ce053",
   "metadata": {},
   "outputs": [
    {
     "ename": "TypeError",
     "evalue": "can only concatenate str (not \"int\") to str",
     "output_type": "error",
     "traceback": [
      "\u001b[0;31m---------------------------------------------------------------------------\u001b[0m",
      "\u001b[0;31mTypeError\u001b[0m                                 Traceback (most recent call last)",
      "Cell \u001b[0;32mIn[37], line 1\u001b[0m\n\u001b[0;32m----> 1\u001b[0m \u001b[43ms1\u001b[49m\u001b[38;5;241;43m+\u001b[39;49m\u001b[43ma\u001b[49m\n",
      "\u001b[0;31mTypeError\u001b[0m: can only concatenate str (not \"int\") to str"
     ]
    }
   ],
   "source": [
    "s1+a"
   ]
  },
  {
   "cell_type": "code",
   "execution_count": 38,
   "id": "b65a65d3-bf9a-4f43-928c-e4daa004e995",
   "metadata": {},
   "outputs": [
    {
     "data": {
      "text/plain": [
       "'10'"
      ]
     },
     "execution_count": 38,
     "metadata": {},
     "output_type": "execute_result"
    }
   ],
   "source": [
    "str(a)"
   ]
  },
  {
   "cell_type": "code",
   "execution_count": 39,
   "id": "201db55d-9cf4-41cc-9255-8a3c23feba5f",
   "metadata": {},
   "outputs": [
    {
     "data": {
      "text/plain": [
       "'my name is navya10'"
      ]
     },
     "execution_count": 39,
     "metadata": {},
     "output_type": "execute_result"
    }
   ],
   "source": [
    "s1+str(a)"
   ]
  },
  {
   "cell_type": "code",
   "execution_count": 41,
   "id": "ade5e505-5a02-45f6-8f06-858224d1de7c",
   "metadata": {},
   "outputs": [
    {
     "name": "stdin",
     "output_type": "stream",
     "text": [
      "enter a number 90\n"
     ]
    }
   ],
   "source": [
    "# taking input from a data\n",
    "n= int(input(\"enter a number\"))"
   ]
  },
  {
   "cell_type": "code",
   "execution_count": 42,
   "id": "c8ad1a1c-26e6-4bf5-8086-6aac5db6bdf4",
   "metadata": {},
   "outputs": [
    {
     "data": {
      "text/plain": [
       "90"
      ]
     },
     "execution_count": 42,
     "metadata": {},
     "output_type": "execute_result"
    }
   ],
   "source": [
    "n"
   ]
  },
  {
   "cell_type": "code",
   "execution_count": 43,
   "id": "ca83202e-0081-4974-8012-dcebf6a85e66",
   "metadata": {},
   "outputs": [],
   "source": [
    "s=\"navya\""
   ]
  },
  {
   "cell_type": "code",
   "execution_count": 44,
   "id": "cfa2a612-15ee-4d24-88f1-2aa45808e657",
   "metadata": {},
   "outputs": [
    {
     "data": {
      "text/plain": [
       "'a'"
      ]
     },
     "execution_count": 44,
     "metadata": {},
     "output_type": "execute_result"
    }
   ],
   "source": [
    "s[1]"
   ]
  },
  {
   "cell_type": "code",
   "execution_count": 45,
   "id": "0ec1b02d-0d3b-41ca-a1f8-18b80cbc6e99",
   "metadata": {},
   "outputs": [
    {
     "data": {
      "text/plain": [
       "'v'"
      ]
     },
     "execution_count": 45,
     "metadata": {},
     "output_type": "execute_result"
    }
   ],
   "source": [
    "s[-3]"
   ]
  },
  {
   "cell_type": "code",
   "execution_count": 46,
   "id": "f774fffc-d07b-4edf-a5d2-485a2631522d",
   "metadata": {},
   "outputs": [
    {
     "ename": "IndexError",
     "evalue": "string index out of range",
     "output_type": "error",
     "traceback": [
      "\u001b[0;31m---------------------------------------------------------------------------\u001b[0m",
      "\u001b[0;31mIndexError\u001b[0m                                Traceback (most recent call last)",
      "Cell \u001b[0;32mIn[46], line 1\u001b[0m\n\u001b[0;32m----> 1\u001b[0m \u001b[43ms\u001b[49m\u001b[43m[\u001b[49m\u001b[38;5;241;43m100\u001b[39;49m\u001b[43m]\u001b[49m\n",
      "\u001b[0;31mIndexError\u001b[0m: string index out of range"
     ]
    }
   ],
   "source": [
    "s[100]"
   ]
  },
  {
   "cell_type": "code",
   "execution_count": 47,
   "id": "9b490d27-70c4-4060-aeb7-23712dc528c9",
   "metadata": {},
   "outputs": [],
   "source": [
    "s1=\"pwskills\""
   ]
  },
  {
   "cell_type": "code",
   "execution_count": 49,
   "id": "9e3e5740-0d9e-44ba-a60f-435c0164896d",
   "metadata": {},
   "outputs": [
    {
     "data": {
      "text/plain": [
       "'pw'"
      ]
     },
     "execution_count": 49,
     "metadata": {},
     "output_type": "execute_result"
    }
   ],
   "source": [
    "s1[0:2]"
   ]
  },
  {
   "cell_type": "code",
   "execution_count": 52,
   "id": "f41fc48d-35f1-450d-a9ce-2c6c4a83e9b8",
   "metadata": {},
   "outputs": [
    {
     "data": {
      "text/plain": [
       "'skills'"
      ]
     },
     "execution_count": 52,
     "metadata": {},
     "output_type": "execute_result"
    }
   ],
   "source": [
    "s1[2:8]"
   ]
  },
  {
   "cell_type": "code",
   "execution_count": 50,
   "id": "880d8b20-7fb8-4024-8885-887ffb962c8d",
   "metadata": {},
   "outputs": [
    {
     "data": {
      "text/plain": [
       "'skills'"
      ]
     },
     "execution_count": 50,
     "metadata": {},
     "output_type": "execute_result"
    }
   ],
   "source": [
    "s1[2:]"
   ]
  },
  {
   "cell_type": "code",
   "execution_count": 51,
   "id": "d52015c3-22c9-4d33-ba24-51dbdab9be83",
   "metadata": {},
   "outputs": [
    {
     "data": {
      "text/plain": [
       "'pw'"
      ]
     },
     "execution_count": 51,
     "metadata": {},
     "output_type": "execute_result"
    }
   ],
   "source": [
    "s1[:2]"
   ]
  },
  {
   "cell_type": "code",
   "execution_count": 53,
   "id": "b425a5ef-e342-4bff-8a01-0c06a9c002f8",
   "metadata": {},
   "outputs": [
    {
     "data": {
      "text/plain": [
       "'skills'"
      ]
     },
     "execution_count": 53,
     "metadata": {},
     "output_type": "execute_result"
    }
   ],
   "source": [
    "s1[2:800]"
   ]
  },
  {
   "cell_type": "code",
   "execution_count": 55,
   "id": "66ae7175-debd-4792-9649-a9b6bd7d6ff6",
   "metadata": {},
   "outputs": [
    {
     "data": {
      "text/plain": [
       "'psil'"
      ]
     },
     "execution_count": 55,
     "metadata": {},
     "output_type": "execute_result"
    }
   ],
   "source": [
    "s1[0:7:2]"
   ]
  },
  {
   "cell_type": "code",
   "execution_count": 58,
   "id": "281b30ca-045f-4d77-9b67-254ad23e23df",
   "metadata": {},
   "outputs": [
    {
     "data": {
      "text/plain": [
       "'slli'"
      ]
     },
     "execution_count": 58,
     "metadata": {},
     "output_type": "execute_result"
    }
   ],
   "source": [
    "s1[7:3:-1]"
   ]
  },
  {
   "cell_type": "code",
   "execution_count": 62,
   "id": "e89f9f7b-4d16-4fdd-a377-5074cf473cd2",
   "metadata": {},
   "outputs": [
    {
     "data": {
      "text/plain": [
       "'slli'"
      ]
     },
     "execution_count": 62,
     "metadata": {},
     "output_type": "execute_result"
    }
   ],
   "source": [
    "s1[-1:-5:-1]"
   ]
  },
  {
   "cell_type": "code",
   "execution_count": 64,
   "id": "874aec78-ad4d-484a-b249-91d661a265e9",
   "metadata": {},
   "outputs": [
    {
     "data": {
      "text/plain": [
       "'sllikswp'"
      ]
     },
     "execution_count": 64,
     "metadata": {},
     "output_type": "execute_result"
    }
   ],
   "source": [
    "s1[::-1]"
   ]
  },
  {
   "cell_type": "code",
   "execution_count": 65,
   "id": "e71d6a98-0f2a-484e-9da6-b817ad74a321",
   "metadata": {},
   "outputs": [
    {
     "data": {
      "text/plain": [
       "'sllikswp'"
      ]
     },
     "execution_count": 65,
     "metadata": {},
     "output_type": "execute_result"
    }
   ],
   "source": [
    "s1[7:-9:-1]"
   ]
  },
  {
   "cell_type": "code",
   "execution_count": 66,
   "id": "b7107b0e-f730-4722-9824-7c3591767e5a",
   "metadata": {},
   "outputs": [
    {
     "ename": "TypeError",
     "evalue": "'str' object does not support item assignment",
     "output_type": "error",
     "traceback": [
      "\u001b[0;31m---------------------------------------------------------------------------\u001b[0m",
      "\u001b[0;31mTypeError\u001b[0m                                 Traceback (most recent call last)",
      "Cell \u001b[0;32mIn[66], line 1\u001b[0m\n\u001b[0;32m----> 1\u001b[0m \u001b[43ms1\u001b[49m\u001b[43m[\u001b[49m\u001b[38;5;241;43m0\u001b[39;49m\u001b[43m]\u001b[49m\u001b[38;5;241m=\u001b[39m\u001b[38;5;124m\"\u001b[39m\u001b[38;5;124ms\u001b[39m\u001b[38;5;124m\"\u001b[39m\n",
      "\u001b[0;31mTypeError\u001b[0m: 'str' object does not support item assignment"
     ]
    }
   ],
   "source": [
    "s1[0]=\"s\""
   ]
  },
  {
   "cell_type": "code",
   "execution_count": 67,
   "id": "d4995c1f-e218-4d3d-bb9e-c36af39339f1",
   "metadata": {},
   "outputs": [
    {
     "data": {
      "text/plain": [
       "'pwskills'"
      ]
     },
     "execution_count": 67,
     "metadata": {},
     "output_type": "execute_result"
    }
   ],
   "source": [
    "s1"
   ]
  },
  {
   "cell_type": "code",
   "execution_count": 68,
   "id": "7f2611ed-d684-4330-bf58-de0643448f56",
   "metadata": {},
   "outputs": [
    {
     "data": {
      "text/plain": [
       "'swskills'"
      ]
     },
     "execution_count": 68,
     "metadata": {},
     "output_type": "execute_result"
    }
   ],
   "source": [
    "s1.replace(\"p\",\"s\")"
   ]
  },
  {
   "cell_type": "code",
   "execution_count": 69,
   "id": "dec1c952-1a33-4b49-9347-b7983ca8a048",
   "metadata": {},
   "outputs": [
    {
     "name": "stdin",
     "output_type": "stream",
     "text": [
      " False\n"
     ]
    }
   ],
   "source": [
    "d=bool(input())"
   ]
  },
  {
   "cell_type": "code",
   "execution_count": 71,
   "id": "b63b9e01-2857-4cd0-a9f5-741068eb3dd8",
   "metadata": {},
   "outputs": [
    {
     "data": {
      "text/plain": [
       "True"
      ]
     },
     "execution_count": 71,
     "metadata": {},
     "output_type": "execute_result"
    }
   ],
   "source": [
    "d # it just shows if its a boolean value or not, as its a boolean value therfore its giving true"
   ]
  },
  {
   "cell_type": "code",
   "execution_count": null,
   "id": "902728b5-f1f0-42a0-b7de-8b3788031ab0",
   "metadata": {},
   "outputs": [],
   "source": []
  }
 ],
 "metadata": {
  "kernelspec": {
   "display_name": "Python 3 (ipykernel)",
   "language": "python",
   "name": "python3"
  },
  "language_info": {
   "codemirror_mode": {
    "name": "ipython",
    "version": 3
   },
   "file_extension": ".py",
   "mimetype": "text/x-python",
   "name": "python",
   "nbconvert_exporter": "python",
   "pygments_lexer": "ipython3",
   "version": "3.10.8"
  }
 },
 "nbformat": 4,
 "nbformat_minor": 5
}
