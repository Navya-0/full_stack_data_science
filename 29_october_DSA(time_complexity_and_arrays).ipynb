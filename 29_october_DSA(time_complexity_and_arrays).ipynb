{
  "nbformat": 4,
  "nbformat_minor": 0,
  "metadata": {
    "colab": {
      "provenance": [],
      "authorship_tag": "ABX9TyNTExN37Qh/+hSzxDZz1tgH",
      "include_colab_link": true
    },
    "kernelspec": {
      "name": "python3",
      "display_name": "Python 3"
    },
    "language_info": {
      "name": "python"
    }
  },
  "cells": [
    {
      "cell_type": "markdown",
      "metadata": {
        "id": "view-in-github",
        "colab_type": "text"
      },
      "source": [
        "<a href=\"https://colab.research.google.com/github/Navya-0/full_stack_data_science/blob/main/29_october_DSA(time_complexity_and_arrays).ipynb\" target=\"_parent\"><img src=\"https://colab.research.google.com/assets/colab-badge.svg\" alt=\"Open In Colab\"/></a>"
      ]
    },
    {
      "cell_type": "code",
      "source": [
        "def sm(a):\n",
        "  s=0\n",
        "  for i in a:\n",
        "    s=s+i\n",
        "  return s\n",
        "print(sm([1,2,3,4,5]))"
      ],
      "metadata": {
        "colab": {
          "base_uri": "https://localhost:8080/"
        },
        "id": "cQnjMqmd4sqp",
        "outputId": "4e122bd2-5d9c-400d-90be-ef4c578a6c65"
      },
      "execution_count": 2,
      "outputs": [
        {
          "output_type": "stream",
          "name": "stdout",
          "text": [
            "15\n"
          ]
        }
      ]
    },
    {
      "cell_type": "code",
      "source": [
        "arr=[12,13,14,16,18,22,26,29]\n",
        "target=12\n",
        "# if element is present print 1 if not print-1\n",
        "x=0\n",
        "for i in arr:\n",
        "  if target==i:\n",
        "    print(\"elemnt present(1) at index\",arr.index(i))\n",
        "    break\n",
        "if x==len(arr):\n",
        "  print(\"element not found(-1)\")\n",
        "  # here time complexity is O(n)"
      ],
      "metadata": {
        "colab": {
          "base_uri": "https://localhost:8080/"
        },
        "id": "06PThAFI5EvK",
        "outputId": "fd806454-ecf4-455f-a463-0a574ba04dc5"
      },
      "execution_count": 7,
      "outputs": [
        {
          "output_type": "stream",
          "name": "stdout",
          "text": [
            "elemnt present(1) at index 0\n",
            "element not found(-1)\n"
          ]
        }
      ]
    },
    {
      "cell_type": "code",
      "source": [
        "def find(arr,target):\n",
        "  for i in arr:\n",
        "    if i==target:\n",
        "      return 1\n",
        "  return -1\n",
        "find([12,13,14,16,18,22,26,29],16)\n",
        "# here time complexity is O(n)"
      ],
      "metadata": {
        "colab": {
          "base_uri": "https://localhost:8080/"
        },
        "id": "khw_Adw38Oh_",
        "outputId": "18e73aec-ad9f-4061-aafe-e92bb1233b5c"
      },
      "execution_count": 10,
      "outputs": [
        {
          "output_type": "execute_result",
          "data": {
            "text/plain": [
              "1"
            ]
          },
          "metadata": {},
          "execution_count": 10
        }
      ]
    },
    {
      "cell_type": "code",
      "source": [
        "# in merge sort space complexity is O(n)\n"
      ],
      "metadata": {
        "id": "RzUdKWYl87eR"
      },
      "execution_count": null,
      "outputs": []
    },
    {
      "cell_type": "code",
      "source": [
        "# take an array and segregate its element as even and odd in seperate array\n",
        "def evenodd(arr):\n",
        "  ea=[i for i in arr if i%2==0 ]\n",
        "  od=[i for i in arr if i%2!=0]\n",
        "  return ea,od\n",
        "evenodd([1,2,3,4,5,56])"
      ],
      "metadata": {
        "colab": {
          "base_uri": "https://localhost:8080/"
        },
        "id": "SU-ObekL_iit",
        "outputId": "6ddfece8-72e8-4ece-c2a3-ecfa5c35d6e7"
      },
      "execution_count": 11,
      "outputs": [
        {
          "output_type": "execute_result",
          "data": {
            "text/plain": [
              "([2, 4, 56], [1, 3, 5])"
            ]
          },
          "metadata": {},
          "execution_count": 11
        }
      ]
    },
    {
      "cell_type": "code",
      "source": [
        "\"\"\" space complexity is O(n) as extra space that is two arrays,its notO(n+1) because two arrays are taken because its sam eas O(n)\n",
        ", whereas time complexity is O(n)\"\"\"\n",
        "def evenodd(arr):\n",
        "  ea=[]\n",
        "  od=[]\n",
        "  for i in arr:\n",
        "     if i%2==0:\n",
        "      ea.append(i)\n",
        "     else:\n",
        "      od.append(i)\n",
        "  return ea,od\n",
        "evenodd([1,2,3,4,5,56])"
      ],
      "metadata": {
        "id": "6UEfcUJD_7_Z"
      },
      "execution_count": null,
      "outputs": []
    },
    {
      "cell_type": "code",
      "source": [
        "#sum of secondary diagonal, spacecomplexity O(1) and time complexity is O(n^2)\n",
        "arr=[[21, 4, 56], [1, 36, 75], [90, 23, 5]]\n",
        "s=0\n",
        "l=len(arr)-1\n",
        "for i in range(len(arr)):\n",
        "  for j in range(len(arr)):\n",
        "    if i+j==l:\n",
        "      s=s+arr[i][j]\n",
        "print(s)\n"
      ],
      "metadata": {
        "colab": {
          "base_uri": "https://localhost:8080/"
        },
        "id": "t4VMng4XKAA5",
        "outputId": "5867dfb1-55be-4eed-ba87-7a63e74a9c3a"
      },
      "execution_count": 12,
      "outputs": [
        {
          "output_type": "stream",
          "name": "stdout",
          "text": [
            "182\n"
          ]
        }
      ]
    }
  ]
}