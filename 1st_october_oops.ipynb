{
  "nbformat": 4,
  "nbformat_minor": 0,
  "metadata": {
    "colab": {
      "provenance": [],
      "authorship_tag": "ABX9TyOfPS1j+aAaQKReE/jafG6t",
      "include_colab_link": true
    },
    "kernelspec": {
      "name": "python3",
      "display_name": "Python 3"
    },
    "language_info": {
      "name": "python"
    }
  },
  "cells": [
    {
      "cell_type": "markdown",
      "metadata": {
        "id": "view-in-github",
        "colab_type": "text"
      },
      "source": [
        "<a href=\"https://colab.research.google.com/github/Navya-0/full_stack_data_science/blob/main/1st_october_oops.ipynb\" target=\"_parent\"><img src=\"https://colab.research.google.com/assets/colab-badge.svg\" alt=\"Open In Colab\"/></a>"
      ]
    },
    {
      "cell_type": "code",
      "execution_count": null,
      "metadata": {
        "id": "w692f5O2V85Y"
      },
      "outputs": [],
      "source": [
        "                                                                                                                                                                                                                                                                                                                                                                                                                                                                                                                                                                                                                                                                                                                                                   a=10\n"
      ]
    },
    {
      "cell_type": "code",
      "source": [
        "# these(a,b,c)are all objects/instances/variables of int class\n",
        "a=10\n",
        "b=20\n",
        "c=50"
      ],
      "metadata": {
        "id": "kpk1T9zFWB2i"
      },
      "execution_count": null,
      "outputs": []
    },
    {
      "cell_type": "code",
      "source": [
        "# this is an instance of a string class which has multiple functions in it to help us perform some operations on it\n",
        "st=\"navya\""
      ],
      "metadata": {
        "id": "F61VcHP-WB5_"
      },
      "execution_count": null,
      "outputs": []
    },
    {
      "cell_type": "code",
      "source": [
        "class bankaccount:\n",
        "\n",
        "  def open_acc(self,name,e_id):\n",
        "    print(\"open an account by taking name and email id \")\n",
        "    return name+e_id\n",
        "\n",
        "  def deposit(self,amount):\n",
        "    print(\"amount to deposit \")\n",
        "\n",
        "  def withdraw(self,amt_wtd):\n",
        "    print(f\"{amt_wtd} is the amount to withdraw \")\n",
        "\n",
        "  def update_details(self,name_upd,e_upd):\n",
        "    print(\"to update name and email id \")\n"
      ],
      "metadata": {
        "id": "fM6UHI2KWB9N"
      },
      "execution_count": null,
      "outputs": []
    },
    {
      "cell_type": "code",
      "source": [
        "bacc= bankaccount() # bacc is a variable/object of class bankaccount\n",
        "bacc.open_acc(\"navya\",\"acb.gmail.com\")"
      ],
      "metadata": {
        "colab": {
          "base_uri": "https://localhost:8080/",
          "height": 52
        },
        "id": "0u1OTKDEWCA3",
        "outputId": "9970b6b0-4598-48a6-b422-7e444e2a5c99"
      },
      "execution_count": null,
      "outputs": [
        {
          "output_type": "stream",
          "name": "stdout",
          "text": [
            "open an account by taking name and email id \n"
          ]
        },
        {
          "output_type": "execute_result",
          "data": {
            "text/plain": [
              "'navyaacb.gmail.com'"
            ],
            "application/vnd.google.colaboratory.intrinsic+json": {
              "type": "string"
            }
          },
          "metadata": {},
          "execution_count": 5
        }
      ]
    },
    {
      "cell_type": "code",
      "source": [
        "bacc.withdraw(1000)"
      ],
      "metadata": {
        "colab": {
          "base_uri": "https://localhost:8080/"
        },
        "id": "ilvMwboNWCDO",
        "outputId": "42dc509c-0ecf-4efa-d2ec-f7fb25d37fb1"
      },
      "execution_count": null,
      "outputs": [
        {
          "output_type": "stream",
          "name": "stdout",
          "text": [
            "1000 is the amount to withdraw \n"
          ]
        }
      ]
    },
    {
      "cell_type": "code",
      "source": [
        "class list_ops:\n",
        "  a=10 # these will be the same for all objects, whereas __init__ allows us to have flexibility to have specific values for specific object\n",
        "  l=[1,34,56,2]\n",
        "  def extractfromindex(self,l,i):\n",
        "    return l[i]\n",
        "\n",
        "  def extractrange(self,l,start,end):\n",
        "    return l[start:end]\n",
        "\n",
        "  def extractevenindex(self,l):\n",
        "    l1=[]\n",
        "    for i in l:\n",
        "      if i%2==0:\n",
        "        l1.append(i)\n",
        "    return l1\n",
        "\n",
        "obj= list_ops()\n",
        "obj.l\n",
        "obj.extractfromindex([23,45,6,89,0],3)\n",
        "obj.extractfromindex(obj.l,3)"
      ],
      "metadata": {
        "colab": {
          "base_uri": "https://localhost:8080/"
        },
        "id": "VLEt5WnmWCGo",
        "outputId": "d25c1cc6-fe33-4dff-d596-fc644a3c0846"
      },
      "execution_count": null,
      "outputs": [
        {
          "output_type": "execute_result",
          "data": {
            "text/plain": [
              "2"
            ]
          },
          "metadata": {},
          "execution_count": 13
        }
      ]
    },
    {
      "cell_type": "code",
      "source": [
        "obj.extractrange([23,45,6,89,0],1,3)"
      ],
      "metadata": {
        "colab": {
          "base_uri": "https://localhost:8080/"
        },
        "id": "Zvtz8poFWCI0",
        "outputId": "20a110a9-3f04-4eba-f49f-1815b6ebfc67"
      },
      "execution_count": null,
      "outputs": [
        {
          "output_type": "execute_result",
          "data": {
            "text/plain": [
              "[45, 6]"
            ]
          },
          "metadata": {},
          "execution_count": 8
        }
      ]
    },
    {
      "cell_type": "code",
      "source": [
        "obj.extractevenindex([23,45,6,89,0])"
      ],
      "metadata": {
        "colab": {
          "base_uri": "https://localhost:8080/"
        },
        "id": "GvP3wuWhWCNv",
        "outputId": "4bd1aecb-6e09-4ff3-9f9c-2ac34ace5805"
      },
      "execution_count": null,
      "outputs": [
        {
          "output_type": "execute_result",
          "data": {
            "text/plain": [
              "[6, 0]"
            ]
          },
          "metadata": {},
          "execution_count": 10
        }
      ]
    },
    {
      "cell_type": "code",
      "source": [
        "class list_ops:\n",
        "  def __init__(self,l):\n",
        "    self.l1=l\n",
        "    self.l2=\"navya\"\n",
        "    self.l3=(1,34,5,True)\n",
        "    self.l4={1:\"a\",2:\"b\"}\n",
        "\n",
        "  def extractfromindex(self,l,i):\n",
        "    return l[i]\n",
        "\n",
        "  def extractrange(self,l,start,end):\n",
        "    return l[start:end]\n",
        "\n",
        "  def extractevenindex(self,l):\n",
        "    l1=[]\n",
        "    for i in l:\n",
        "      if i%2==0:\n",
        "        l1.append(i)\n",
        "    return l1\n",
        "\n",
        "obj1= list_ops([67,89,34,5])\n",
        "obj2=list_ops([8,79,67,4])\n"
      ],
      "metadata": {
        "id": "yaLWNZWfWCPw"
      },
      "execution_count": null,
      "outputs": []
    },
    {
      "cell_type": "code",
      "source": [
        "obj3=list_ops([8,79,67,43])\n",
        "obj3.l1"
      ],
      "metadata": {
        "colab": {
          "base_uri": "https://localhost:8080/"
        },
        "id": "2fgEB0aJuS2K",
        "outputId": "5c2e82c5-4c0b-493e-87b6-644c6755e113"
      },
      "execution_count": null,
      "outputs": [
        {
          "output_type": "execute_result",
          "data": {
            "text/plain": [
              "[8, 79, 67, 43]"
            ]
          },
          "metadata": {},
          "execution_count": 26
        }
      ]
    },
    {
      "cell_type": "code",
      "source": [
        "class books:\n",
        "  def __init__(self,name,title,pageno):\n",
        "    self.book_name=name\n",
        "    self.book_title=title\n",
        "    self.book_pageno=pageno\n",
        "\n",
        "  def extract_details(self):\n",
        "    print(f\"name of the book is {self.book_name} and title of the book is {self.book_title}\")\n",
        "\n",
        "  def page_no(self):\n",
        "    print(\"number of pages\",self.book_pageno)"
      ],
      "metadata": {
        "id": "yRq80OFGucsy"
      },
      "execution_count": null,
      "outputs": []
    },
    {
      "cell_type": "code",
      "source": [
        "navya = books(\"Dsa\",\"complete dsa\",150)\n",
        "navya.extract_details()\n",
        "navya.page_no()"
      ],
      "metadata": {
        "colab": {
          "base_uri": "https://localhost:8080/"
        },
        "id": "CZEoZ8p8uemf",
        "outputId": "ee9e8d4c-f686-46d0-d1fb-056282fb85b1"
      },
      "execution_count": null,
      "outputs": [
        {
          "output_type": "stream",
          "name": "stdout",
          "text": [
            "name of the book is Dsa and title of the book is complete dsa\n",
            "number of pages 150\n"
          ]
        }
      ]
    },
    {
      "cell_type": "code",
      "source": [
        "bob = books(\"oops\",\"complete oops\",550)\n",
        "bob.extract_details()\n",
        "bob.page_no()"
      ],
      "metadata": {
        "colab": {
          "base_uri": "https://localhost:8080/"
        },
        "id": "jgqgKARy1nYO",
        "outputId": "b78c2783-1bcf-4559-af0b-39cef246e391"
      },
      "execution_count": null,
      "outputs": [
        {
          "output_type": "stream",
          "name": "stdout",
          "text": [
            "name of the book is oops and title of the book is complete oops\n",
            "number of pages 550\n"
          ]
        }
      ]
    },
    {
      "cell_type": "code",
      "source": [
        "class books:\n",
        "  def __init__(self):\n",
        "    self.book_name=\"dsa\"\n",
        "    self.book_title=\"dsa advance\"\n",
        "    self.book_pageno= 350\n",
        "\n",
        "  def extract_details(self):\n",
        "    print(f\"name of the book is {self.book_name} and title of the book is {self.book_title}\")\n",
        "\n",
        "  def page_no(self):\n",
        "    print(\"number of pages\",self.book_pageno)"
      ],
      "metadata": {
        "id": "whLrmWeo10qq"
      },
      "execution_count": null,
      "outputs": []
    },
    {
      "cell_type": "code",
      "source": [
        "obj1=books()\n",
        "obj1.extract_details()"
      ],
      "metadata": {
        "colab": {
          "base_uri": "https://localhost:8080/"
        },
        "id": "-hrabXH23sNU",
        "outputId": "91b89fe0-2717-4e15-b1e9-9c9416d28519"
      },
      "execution_count": null,
      "outputs": [
        {
          "output_type": "stream",
          "name": "stdout",
          "text": [
            "name of the book is dsa and title of the book is dsa advance\n"
          ]
        }
      ]
    },
    {
      "cell_type": "code",
      "source": [
        "class gmail_ops:\n",
        "  def __init__(self,user_id,password):\n",
        "    self.username=user_id # value specific to object\n",
        "    self.user_pass=password # value specific to object\n",
        "    self.url=\"https://mail.google.com/mail\" # default value for every object\n",
        "\n",
        "  def login(self):\n",
        "    print(\"user id\",self.username,\"password\",self.user_pass,\"url\",self.url)"
      ],
      "metadata": {
        "id": "rjeGJYD_3z3a"
      },
      "execution_count": null,
      "outputs": []
    },
    {
      "cell_type": "code",
      "source": [
        "obj= gmail_ops(\"navya\",\"123abc\")\n",
        "obj.login()\n"
      ],
      "metadata": {
        "colab": {
          "base_uri": "https://localhost:8080/"
        },
        "id": "baiZQksX5kVn",
        "outputId": "7476cbe4-7c83-40cd-c6e6-14bed97f3bd4"
      },
      "execution_count": null,
      "outputs": [
        {
          "output_type": "stream",
          "name": "stdout",
          "text": [
            "user id navya password 123abc url https://mail.google.com/mail\n"
          ]
        }
      ]
    },
    {
      "cell_type": "code",
      "source": [
        "obj1= gmail_ops(\"kavya\",\"343abc\")\n",
        "obj1.login()"
      ],
      "metadata": {
        "colab": {
          "base_uri": "https://localhost:8080/"
        },
        "id": "TcwRyY_65xgn",
        "outputId": "fe2f9613-b794-49e8-d389-b25e62801179"
      },
      "execution_count": null,
      "outputs": [
        {
          "output_type": "stream",
          "name": "stdout",
          "text": [
            "user id kavya password 343abc url https://mail.google.com/mail\n"
          ]
        }
      ]
    },
    {
      "cell_type": "code",
      "source": [
        "class calculator:\n",
        "\n",
        "  def add(self,*args):\n",
        "    s=0\n",
        "    for i in args:\n",
        "      s=s+i\n",
        "    return s\n",
        "\n",
        "  def sub(self,*args):\n",
        "    su=0\n",
        "    for i in args:\n",
        "      su-=i\n",
        "    return su\n",
        "\n",
        "  def multiply(self,*args):\n",
        "    p=1\n",
        "    for i in args:\n",
        "      p*=i\n",
        "    return p\n",
        "\n",
        "  def div(self,*args):\n",
        "    from functools import reduce\n",
        "    return reduce(lambda a,b:a//b,args)\n"
      ],
      "metadata": {
        "id": "wODPeiMr8NMO"
      },
      "execution_count": null,
      "outputs": []
    },
    {
      "cell_type": "code",
      "source": [
        "obj1=calculator()\n",
        "obj1.div(3,4,5,6,7,8)"
      ],
      "metadata": {
        "colab": {
          "base_uri": "https://localhost:8080/"
        },
        "id": "UOcpiBNW94kX",
        "outputId": "71a38351-ab8a-403a-8dce-a51d86b4a0e2"
      },
      "execution_count": null,
      "outputs": [
        {
          "output_type": "execute_result",
          "data": {
            "text/plain": [
              "0"
            ]
          },
          "metadata": {},
          "execution_count": 42
        }
      ]
    },
    {
      "cell_type": "code",
      "source": [
        "obj1.multiply(3,4,5,6,7,8)"
      ],
      "metadata": {
        "colab": {
          "base_uri": "https://localhost:8080/"
        },
        "id": "YSSHcy3Y-Dfe",
        "outputId": "163fec22-c697-4249-e1ac-8656d4c0b606"
      },
      "execution_count": null,
      "outputs": [
        {
          "output_type": "execute_result",
          "data": {
            "text/plain": [
              "20160"
            ]
          },
          "metadata": {},
          "execution_count": 43
        }
      ]
    },
    {
      "cell_type": "code",
      "source": [],
      "metadata": {
        "id": "m8rj6R20-QH5"
      },
      "execution_count": null,
      "outputs": []
    }
  ]
}