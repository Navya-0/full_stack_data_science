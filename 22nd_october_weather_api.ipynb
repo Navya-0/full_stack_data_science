{
  "nbformat": 4,
  "nbformat_minor": 0,
  "metadata": {
    "colab": {
      "provenance": [],
      "authorship_tag": "ABX9TyMjSEXmP9cL6EZzrqTX2TFC",
      "include_colab_link": true
    },
    "kernelspec": {
      "name": "python3",
      "display_name": "Python 3"
    },
    "language_info": {
      "name": "python"
    }
  },
  "cells": [
    {
      "cell_type": "markdown",
      "metadata": {
        "id": "view-in-github",
        "colab_type": "text"
      },
      "source": [
        "<a href=\"https://colab.research.google.com/github/Navya-0/full_stack_data_science/blob/main/22nd_october_weather_api.ipynb\" target=\"_parent\"><img src=\"https://colab.research.google.com/assets/colab-badge.svg\" alt=\"Open In Colab\"/></a>"
      ]
    },
    {
      "cell_type": "code",
      "source": [
        "apikey=\"b2f7276693524dc1283929277faa0eae\"\n",
        "url=\"https://api.openweathermap.org/data/2.5/weather\""
      ],
      "metadata": {
        "id": "tyiZiQwTfRwU"
      },
      "execution_count": 2,
      "outputs": []
    },
    {
      "cell_type": "code",
      "source": [
        "params={\"q\":\"delhi\",\"appid\":apikey,\"units\":\"metric\"}"
      ],
      "metadata": {
        "id": "WuNAuiYFfRzu"
      },
      "execution_count": 3,
      "outputs": []
    },
    {
      "cell_type": "code",
      "source": [
        "import requests"
      ],
      "metadata": {
        "id": "41EMeyHKfR2N"
      },
      "execution_count": 4,
      "outputs": []
    },
    {
      "cell_type": "code",
      "source": [
        "data= requests.get(url,params=params)"
      ],
      "metadata": {
        "id": "5ARcv8cCfR5y"
      },
      "execution_count": 5,
      "outputs": []
    },
    {
      "cell_type": "code",
      "source": [
        "data.json()"
      ],
      "metadata": {
        "colab": {
          "base_uri": "https://localhost:8080/"
        },
        "id": "z8PjF7IroQ2O",
        "outputId": "33495062-6931-4525-847e-b5db153fe014"
      },
      "execution_count": 6,
      "outputs": [
        {
          "output_type": "execute_result",
          "data": {
            "text/plain": [
              "{'coord': {'lon': 77.2167, 'lat': 28.6667},\n",
              " 'weather': [{'id': 711,\n",
              "   'main': 'Smoke',\n",
              "   'description': 'smoke',\n",
              "   'icon': '50d'}],\n",
              " 'base': 'stations',\n",
              " 'main': {'temp': 23.05,\n",
              "  'feels_like': 23.08,\n",
              "  'temp_min': 23.05,\n",
              "  'temp_max': 23.05,\n",
              "  'pressure': 1020,\n",
              "  'humidity': 64},\n",
              " 'visibility': 1100,\n",
              " 'wind': {'speed': 0, 'deg': 0},\n",
              " 'clouds': {'all': 17},\n",
              " 'dt': 1697947925,\n",
              " 'sys': {'type': 1,\n",
              "  'id': 9165,\n",
              "  'country': 'IN',\n",
              "  'sunrise': 1697936145,\n",
              "  'sunset': 1697976919},\n",
              " 'timezone': 19800,\n",
              " 'id': 1273294,\n",
              " 'name': 'Delhi',\n",
              " 'cod': 200}"
            ]
          },
          "metadata": {},
          "execution_count": 6
        }
      ]
    },
    {
      "cell_type": "markdown",
      "source": [
        "1. build this app\n",
        "2. push this on git\n",
        "3. deploy on cloud\n",
        "4.test it"
      ],
      "metadata": {
        "id": "M0-klbIXvzpv"
      }
    }
  ]
}