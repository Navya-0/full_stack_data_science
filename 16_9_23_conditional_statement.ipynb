{
  "nbformat": 4,
  "nbformat_minor": 0,
  "metadata": {
    "colab": {
      "provenance": [],
      "authorship_tag": "ABX9TyNxGBZFVLXvHbGPLqooJSA0",
      "include_colab_link": true
    },
    "kernelspec": {
      "name": "python3",
      "display_name": "Python 3"
    },
    "language_info": {
      "name": "python"
    }
  },
  "cells": [
    {
      "cell_type": "markdown",
      "metadata": {
        "id": "view-in-github",
        "colab_type": "text"
      },
      "source": [
        "<a href=\"https://colab.research.google.com/github/Navya-0/full_stack_data_science/blob/main/16_9_23_conditional_statement.ipynb\" target=\"_parent\"><img src=\"https://colab.research.google.com/assets/colab-badge.svg\" alt=\"Open In Colab\"/></a>"
      ]
    },
    {
      "cell_type": "code",
      "execution_count": null,
      "metadata": {
        "id": "h6GwOj5eFITX"
      },
      "outputs": [],
      "source": [
        "a=500\n",
        "price=450\n",
        "if price<=500:\n",
        "  pass"
      ]
    },
    {
      "cell_type": "code",
      "source": [
        "price<=500"
      ],
      "metadata": {
        "colab": {
          "base_uri": "https://localhost:8080/"
        },
        "id": "WJmd7fk4FNoy",
        "outputId": "34863f2b-3f34-4aec-90d4-c7e99582ce04"
      },
      "execution_count": null,
      "outputs": [
        {
          "output_type": "execute_result",
          "data": {
            "text/plain": [
              "True"
            ]
          },
          "metadata": {},
          "execution_count": 3
        }
      ]
    },
    {
      "cell_type": "code",
      "source": [
        "a=500\n",
        "price=850\n",
        "if price<=500:\n",
        "  print(\"yes i'll buy it.\")"
      ],
      "metadata": {
        "id": "tUkjpsRvFNre"
      },
      "execution_count": null,
      "outputs": []
    },
    {
      "cell_type": "code",
      "source": [
        "price=850\n",
        "price<=500"
      ],
      "metadata": {
        "colab": {
          "base_uri": "https://localhost:8080/"
        },
        "id": "CGWDcnyJFNu3",
        "outputId": "077ec79e-3130-4528-957f-ef79fc9be9e5"
      },
      "execution_count": null,
      "outputs": [
        {
          "output_type": "execute_result",
          "data": {
            "text/plain": [
              "False"
            ]
          },
          "metadata": {},
          "execution_count": 6
        }
      ]
    },
    {
      "cell_type": "code",
      "source": [
        "a=500\n",
        "price=850\n",
        "if price<=500:\n",
        "  print(\"yes i'll buy it.\")\n",
        "else:\n",
        "  print(\"i wont buy it\")"
      ],
      "metadata": {
        "colab": {
          "base_uri": "https://localhost:8080/"
        },
        "id": "_EQm7xxEFNx3",
        "outputId": "029daeb5-f2bc-4bdd-c854-425e6091f52f"
      },
      "execution_count": null,
      "outputs": [
        {
          "output_type": "stream",
          "name": "stdout",
          "text": [
            "i wont buy it\n"
          ]
        }
      ]
    },
    {
      "cell_type": "code",
      "source": [
        "a=500\n",
        "shirt_price=200\n",
        "pant_price=500\n",
        "coat_price=800\n",
        "\n",
        "if shirt_price<=a:\n",
        "  print(\"yes i'll buy the shirt.\")\n",
        "elif pant_price <=500:\n",
        "  print(\"yes i'll buy the pant\")\n",
        "elif coat_price <500:\n",
        "  print(\"yes i'll buy the coat\")\n",
        "else:\n",
        "  print(\"i wont buy it\")"
      ],
      "metadata": {
        "colab": {
          "base_uri": "https://localhost:8080/"
        },
        "id": "FD1cUhJ6FN0f",
        "outputId": "f2e5169b-5df5-4d4d-f068-9aeb4ec794e8"
      },
      "execution_count": null,
      "outputs": [
        {
          "output_type": "stream",
          "name": "stdout",
          "text": [
            "yes i'll buy the shirt.\n"
          ]
        }
      ]
    },
    {
      "cell_type": "code",
      "source": [
        "a=500\n",
        "shirt_price=200\n",
        "pant_price=500\n",
        "coat_price=800\n",
        "\n",
        "if shirt_price<=a:\n",
        "  print(\"yes i'll buy the shirt.\")\n",
        "if pant_price <=500:\n",
        "  print(\"yes i'll buy the pant\")\n",
        "if coat_price <500:\n",
        "  print(\"yes i'll buy the coat\")\n",
        "else:\n",
        "  print(\"i wont buy it\")"
      ],
      "metadata": {
        "colab": {
          "base_uri": "https://localhost:8080/"
        },
        "id": "ym_yPNfNFN4h",
        "outputId": "6b66b48d-1cbb-4a8a-86f7-21bb757f3065"
      },
      "execution_count": null,
      "outputs": [
        {
          "output_type": "stream",
          "name": "stdout",
          "text": [
            "yes i'll buy the shirt.\n",
            "yes i'll buy the pant\n",
            "i wont buy it\n"
          ]
        }
      ]
    },
    {
      "cell_type": "code",
      "source": [
        "a=500\n",
        "shirt_price=800\n",
        "pant_price=500\n",
        "coat_price=200\n",
        "my_size=\"M\"\n",
        "size=[\"S\",\"L\",\"XL\",\"XXL\"]\n",
        "my_colour=\"white\"\n",
        "colour=[\"white\",\"red\",\"green\",\"blue\"]\n",
        "if shirt_price<=a:\n",
        "  print(\"yes i'll buy the shirt.\")\n",
        "if pant_price <500:\n",
        "  print(\"yes i'll buy the pant\")\n",
        "elif coat_price <500:\n",
        "  print(\"yes its under budget\")\n",
        "  if my_colour in colour:\n",
        "    print(\"ill check if its in my size\")\n",
        "    if my_size in size:\n",
        "      print(\"ill buy it\")\n",
        "    else:\n",
        "      print(\"its not available in my size\")\n",
        "  else:\n",
        "    print(\"its not in my favourite colour\")\n",
        "else:\n",
        "  print(\"i wont buy it\")\n"
      ],
      "metadata": {
        "colab": {
          "base_uri": "https://localhost:8080/"
        },
        "id": "RxJD9kG5FN6R",
        "outputId": "1689b7bf-297d-4161-ecb6-e378f1db2d1f"
      },
      "execution_count": null,
      "outputs": [
        {
          "output_type": "stream",
          "name": "stdout",
          "text": [
            "yes its under budget\n",
            "ill check if its in my size\n",
            "its not available in my size\n"
          ]
        }
      ]
    },
    {
      "cell_type": "code",
      "source": [
        "course=[\"DSM\",\"DSA\",\"java\",\"big data\",\"DA\"]\n",
        "price=20000\n",
        "mentor=\"sudhamshu kumar\"\n",
        "if(\"DSM\" in course and price == 1000 and \"sudhanshu kumar\"== mentor):\n",
        "  print(\"ill buy the course\")\n",
        "else:\n",
        "  print(\"i wont buy the code\")"
      ],
      "metadata": {
        "colab": {
          "base_uri": "https://localhost:8080/"
        },
        "id": "OyWEYVlZFN-j",
        "outputId": "5077e093-9a5c-417b-e807-27b7d0f9574b"
      },
      "execution_count": null,
      "outputs": [
        {
          "output_type": "stream",
          "name": "stdout",
          "text": [
            "i wont buy the code\n"
          ]
        }
      ]
    },
    {
      "cell_type": "code",
      "source": [
        "course_price=20000\n",
        "if(10000<=course_price<=15000):\n",
        "  print(\"ill buy it\")\n",
        "else:\n",
        "  print(\"i wont buy it\")"
      ],
      "metadata": {
        "colab": {
          "base_uri": "https://localhost:8080/"
        },
        "id": "UzyIf3c5QyWt",
        "outputId": "e4097128-7ac3-45a1-914a-235038f0618f"
      },
      "execution_count": null,
      "outputs": [
        {
          "output_type": "stream",
          "name": "stdout",
          "text": [
            "i wont buy it\n"
          ]
        }
      ]
    },
    {
      "cell_type": "code",
      "source": [
        "user_name=\"navya\"\n",
        "password=\"navya@123\"\n",
        "if user_name== input(\"enter name \") and password == input(\"enter password \"):\n",
        "  print(\"you are logged in successfully\")\n",
        "else:\n",
        "  print(\"incorrect credentials\")"
      ],
      "metadata": {
        "colab": {
          "base_uri": "https://localhost:8080/"
        },
        "id": "h0xFNjuiQyZ7",
        "outputId": "aae0e948-a4b6-4ae7-8715-019a80ec4f45"
      },
      "execution_count": null,
      "outputs": [
        {
          "output_type": "stream",
          "name": "stdout",
          "text": [
            "enter name navy\n",
            "incorrect credentials\n"
          ]
        }
      ]
    },
    {
      "cell_type": "code",
      "source": [
        "mobile_no= 123456\n",
        "otp= 1234\n",
        "if mobile_no == input(\"enter mobile number\"):\n",
        "  print(\"yes its \")\n",
        "  if  otp == int(input(\"eneter opt\")):\n",
        "    print(\"good to go\")\n",
        "  else:\n",
        "    print(\"wrong otp\")\n",
        "else:\n",
        "  print(\"you have entered wrong number\")"
      ],
      "metadata": {
        "colab": {
          "base_uri": "https://localhost:8080/"
        },
        "id": "c4B_hNazQyfH",
        "outputId": "d0038ccb-87aa-4c23-e070-d135a3bd863f"
      },
      "execution_count": null,
      "outputs": [
        {
          "output_type": "stream",
          "name": "stdout",
          "text": [
            "enter mobile number1223345\n",
            "you have entered wrong number\n"
          ]
        }
      ]
    },
    {
      "cell_type": "code",
      "source": [
        "l=[12,3,3,4,56,6]\n",
        "for i in l:\n",
        "  print(i)"
      ],
      "metadata": {
        "colab": {
          "base_uri": "https://localhost:8080/"
        },
        "id": "m60D3GnjFOAC",
        "outputId": "cbf8c6bb-04c5-41a3-b8c1-05bbdcd44d77"
      },
      "execution_count": null,
      "outputs": [
        {
          "output_type": "stream",
          "name": "stdout",
          "text": [
            "12\n",
            "3\n",
            "3\n",
            "4\n",
            "56\n",
            "6\n"
          ]
        }
      ]
    },
    {
      "cell_type": "code",
      "source": [
        "mobile_no=[234,876,987,698,345,456]\n",
        "stud_no=234\n",
        "stud_details={\"mobile_no\":234,\"course\":[\"dsa\",\"dsm\",\"big data\"]}\n",
        "for i in mobile_no:\n",
        "  print(i)\n",
        "  if i == stud_no:\n",
        "    print(\"yes user is registered\")\n",
        "    if i == stud_details['mobile_no']:\n",
        "      print(\"yes student detail is available\")\n",
        "      print(\"course access \", stud_details[\"course\"])"
      ],
      "metadata": {
        "colab": {
          "base_uri": "https://localhost:8080/"
        },
        "id": "fhNH_lQRf9zE",
        "outputId": "ccd122ca-bc34-4432-9109-db01a2993f50"
      },
      "execution_count": null,
      "outputs": [
        {
          "output_type": "stream",
          "name": "stdout",
          "text": [
            "234\n",
            "yes user is registered\n",
            "yes student detail is available\n",
            "course access  ['dsa', 'dsm', 'big data']\n",
            "876\n",
            "987\n",
            "698\n",
            "345\n",
            "456\n"
          ]
        }
      ]
    },
    {
      "cell_type": "code",
      "source": [
        "t=(2,4,56,7,\"navya\",\"nair\")\n",
        "for i in t:\n",
        "  if type(i)== str:\n",
        "    print(i)"
      ],
      "metadata": {
        "colab": {
          "base_uri": "https://localhost:8080/"
        },
        "id": "LbyQirFVf91o",
        "outputId": "349eeffe-daab-4d0a-d6a8-ee892840afbb"
      },
      "execution_count": null,
      "outputs": [
        {
          "output_type": "stream",
          "name": "stdout",
          "text": [
            "navya\n",
            "nair\n"
          ]
        }
      ]
    },
    {
      "cell_type": "code",
      "source": [
        "t=(1,3,4,5,6,7,\"navya\",\"nair\",\"a\")\n",
        "i=[]\n",
        "st=[]\n",
        "for j in t:\n",
        "  if type(j)==int:\n",
        "    i.append(j)\n",
        "  else:\n",
        "    st.append(j)\n",
        "print(i)\n",
        "print(st)\n"
      ],
      "metadata": {
        "colab": {
          "base_uri": "https://localhost:8080/"
        },
        "id": "iqLedElyf95Q",
        "outputId": "94cd621f-14b9-499b-ffe8-de5e8d91c372"
      },
      "execution_count": null,
      "outputs": [
        {
          "output_type": "stream",
          "name": "stdout",
          "text": [
            "[1, 3, 4, 5, 6, 7]\n",
            "['navya', 'nair', 'a']\n"
          ]
        }
      ]
    },
    {
      "cell_type": "code",
      "source": [
        "d={}"
      ],
      "metadata": {
        "id": "ohvDrLdFFODH"
      },
      "execution_count": null,
      "outputs": []
    },
    {
      "cell_type": "code",
      "source": [],
      "metadata": {
        "id": "DIJxl-hx_8oh"
      },
      "execution_count": null,
      "outputs": []
    },
    {
      "cell_type": "code",
      "source": [],
      "metadata": {
        "id": "g69nkQU3_8r2"
      },
      "execution_count": null,
      "outputs": []
    },
    {
      "cell_type": "code",
      "source": [],
      "metadata": {
        "id": "HCFjpD8A_8uP"
      },
      "execution_count": null,
      "outputs": []
    },
    {
      "cell_type": "code",
      "source": [],
      "metadata": {
        "id": "CK5zzXJX_8zN"
      },
      "execution_count": null,
      "outputs": []
    },
    {
      "cell_type": "code",
      "source": [],
      "metadata": {
        "id": "W9bFttXVFOI1"
      },
      "execution_count": null,
      "outputs": []
    }
  ]
}