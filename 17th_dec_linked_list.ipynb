{
  "nbformat": 4,
  "nbformat_minor": 0,
  "metadata": {
    "colab": {
      "provenance": [],
      "authorship_tag": "ABX9TyNDSXqGt44FGyWXWT3tGiaE",
      "include_colab_link": true
    },
    "kernelspec": {
      "name": "python3",
      "display_name": "Python 3"
    },
    "language_info": {
      "name": "python"
    }
  },
  "cells": [
    {
      "cell_type": "markdown",
      "metadata": {
        "id": "view-in-github",
        "colab_type": "text"
      },
      "source": [
        "<a href=\"https://colab.research.google.com/github/Navya-0/full_stack_data_science/blob/main/17th_dec_linked_list.ipynb\" target=\"_parent\"><img src=\"https://colab.research.google.com/assets/colab-badge.svg\" alt=\"Open In Colab\"/></a>"
      ]
    },
    {
      "cell_type": "code",
      "execution_count": 18,
      "metadata": {
        "colab": {
          "base_uri": "https://localhost:8080/"
        },
        "id": "WulDbVAxBfiF",
        "outputId": "d1c969eb-0eaf-4093-e69f-fd3801084db6"
      },
      "outputs": [
        {
          "output_type": "stream",
          "name": "stdout",
          "text": [
            "1-->2-->3-->4-->5-->"
          ]
        }
      ],
      "source": [
        "class Node:\n",
        "  def __init__(self,data=None,next=None):\n",
        "    self.data=data\n",
        "    self.next=next\n",
        "\n",
        "  def addData(self,data):\n",
        "    self.data=data\n",
        "\n",
        "  def addNext(self,next):\n",
        "    self.next=next\n",
        "\n",
        "def length(head):\n",
        "  temp=0\n",
        "  while(head):\n",
        "    temp+=1\n",
        "    head=head.next\n",
        "  return temp\n",
        "\n",
        "def traverse(head):\n",
        "  while(head):\n",
        "    print(head.data,end=\"-->\")\n",
        "    head=head.next\n",
        "\n",
        "head=Node(1)\n",
        "node1=Node(2)\n",
        "node2=Node(3)\n",
        "node3=Node(4)\n",
        "node4=Node(5)\n",
        "node5=\n",
        "head.addNext(node1)\n",
        "node1.addNext(node2)\n",
        "node2.addNext(node3)\n",
        "node3.addNext(node4)\n",
        "\n",
        "length(head)\n",
        "traverse(head)"
      ]
    },
    {
      "cell_type": "code",
      "source": [
        "def remove(head,rn):\n",
        "  if rn>length(head) or rn<0 and rn !=head:\n",
        "    print(\"node index is invalid \")\n",
        "\n",
        "  if rn==0:\n",
        "    head=head.next\n",
        "\n",
        "  else:\n",
        "    prev=head\n",
        "    i=0\n",
        "    while(i<rn-1):\n",
        "      prev=prev.next\n",
        "      i+=1\n",
        "    prev.addNext(prev.next.next)\n",
        "\n",
        "  return head.data\n",
        "\n",
        "remove(head,2)\n",
        "traverse(head)\n",
        "\n",
        "#traverse(head)\n",
        "\n",
        "\n"
      ],
      "metadata": {
        "colab": {
          "base_uri": "https://localhost:8080/"
        },
        "id": "RorTmMs_Bmi2",
        "outputId": "742bd828-e718-4924-ebd0-f8f0a471cb53"
      },
      "execution_count": 19,
      "outputs": [
        {
          "output_type": "stream",
          "name": "stdout",
          "text": [
            "1-->2-->4-->5-->"
          ]
        }
      ]
    },
    {
      "cell_type": "code",
      "source": [
        "# find the middle node of the linked list using 2 pointers\n",
        "\n",
        "def middle(head):\n",
        "  slow=head\n",
        "  fast=head\n",
        "  while(fast!=None and fast.next!=None):\n",
        "    fast=fast.next.next\n",
        "    slow=slow.next\n",
        "  return slow.data\n",
        "\n",
        "\n",
        "head=Node(1)\n",
        "node1=Node(2)\n",
        "node2=Node(3)\n",
        "node3=Node(4)\n",
        "node4=Node(5)\n",
        "node5=Node(6)\n",
        "\n",
        "head.addNext(node1)\n",
        "node1.addNext(node2)\n",
        "node2.addNext(node3)\n",
        "node3.addNext(node4)\n",
        "node4.addNext(node5)\n",
        "\n",
        "middle(head)\n"
      ],
      "metadata": {
        "colab": {
          "base_uri": "https://localhost:8080/"
        },
        "id": "OUu2hTeFBmpE",
        "outputId": "b8756c39-a2b8-4b0a-d85d-e4df5a555814"
      },
      "execution_count": 22,
      "outputs": [
        {
          "output_type": "execute_result",
          "data": {
            "text/plain": [
              "4"
            ]
          },
          "metadata": {},
          "execution_count": 22
        }
      ]
    },
    {
      "cell_type": "code",
      "source": [
        "# cycle detection algorithm using extra unique data structure( this code is not space optimized)\n",
        "def cycle(head):\n",
        "  s=set()\n",
        "  while(head):\n",
        "    if head not in s:\n",
        "      s.add(head)\n",
        "      head=head.next\n",
        "    else:\n",
        "      print(\"cycle found \", head.data)\n",
        "      break\n",
        "\n",
        "head=Node(1)\n",
        "node1=Node(2)\n",
        "node2=Node(3)\n",
        "node3=Node(4)\n",
        "node4=Node(5)\n",
        "node5=Node(6)\n",
        "\n",
        "head.addNext(node1)\n",
        "node1.addNext(node2)\n",
        "node2.addNext(node3)\n",
        "node3.addNext(node4)\n",
        "node4.addNext(node5)\n",
        "node5.addNext(node3)\n",
        "#traverse(head)\n",
        "cycle(head)"
      ],
      "metadata": {
        "colab": {
          "base_uri": "https://localhost:8080/"
        },
        "id": "Dm60CqzESyC7",
        "outputId": "23a3167c-29ac-4ea7-c0a1-3fc60d5869d8"
      },
      "execution_count": 26,
      "outputs": [
        {
          "output_type": "stream",
          "name": "stdout",
          "text": [
            "cycle found  4\n"
          ]
        }
      ]
    },
    {
      "cell_type": "code",
      "source": [
        "# cycle finding using 2 pointers fast and slow only works for the non duplicate data as we are not checking the address\n",
        "def middle(head):\n",
        "  fast=head\n",
        "  slow=head\n",
        "  while(fast and fast.next):# tgis condition is for linear data structure as cycle linked list has no none\n",
        "    fast=fast.next.next\n",
        "    slow=slow.next\n",
        "    if fast and fast.data==slow.data:\n",
        "      return \"the cycle present at\",slow.data\n",
        "\n",
        "  return \"cycle not found\" # if there is a linear data structure\n",
        "\n",
        "head=Node(1)\n",
        "node1=Node(2)\n",
        "node2=Node(3)\n",
        "node3=Node(4)\n",
        "node4=Node(5)\n",
        "node5=Node(6)\n",
        "\n",
        "head.addNext(node1)\n",
        "node1.addNext(node2)\n",
        "node2.addNext(node3)\n",
        "node3.addNext(node4)\n",
        "node4.addNext(node5)\n",
        "node5.addNext(node3)\n",
        "\n",
        "middle(head)"
      ],
      "metadata": {
        "colab": {
          "base_uri": "https://localhost:8080/"
        },
        "id": "nDUrNN5nWxgc",
        "outputId": "44ecf7fe-bc7c-4146-af14-9f3da2f740c2"
      },
      "execution_count": 30,
      "outputs": [
        {
          "output_type": "execute_result",
          "data": {
            "text/plain": [
              "('the cycle present at', 4)"
            ]
          },
          "metadata": {},
          "execution_count": 30
        }
      ]
    },
    {
      "cell_type": "code",
      "source": [
        "# find the starting point of the cycle\n",
        "def startingpoint(head):\n",
        "  slow=head\n",
        "  fast=head\n",
        "  cycle=False\n",
        "  while(fast and fast.next):\n",
        "    slow=slow.next\n",
        "    fast=fast.next.next\n",
        "\n",
        "    if slow.data== fast.data and fast:\n",
        "      cycle=True\n",
        "      break\n",
        "\n",
        "  if not cycle:\n",
        "    return None\n",
        "  else:\n",
        "    temp=head\n",
        "    while( temp.next and temp):\n",
        "      temp=temp.next\n",
        "      slow=slow.next\n",
        "\n",
        "      if slow.data==temp.data:\n",
        "        return \"starting point is\",temp.data\n",
        "\n",
        "\n",
        "head = Node(1)\n",
        "node2 = Node(2)\n",
        "node3 = Node(3)\n",
        "node4 = Node(4)\n",
        "node5 = Node(5)\n",
        "node6 = Node(6)\n",
        "\n",
        "head.addNext(node2)\n",
        "node2.addNext(node3)\n",
        "node3.addNext(node4)\n",
        "node4.addNext(node5)\n",
        "node5.addNext(node6)\n",
        "node6.addNext(node3)\n",
        "\n",
        "startingpoint(head)\n"
      ],
      "metadata": {
        "colab": {
          "base_uri": "https://localhost:8080/"
        },
        "id": "SPvYzGpgYTpa",
        "outputId": "2522f593-f8d4-4634-ac4b-b93e09dc7e33"
      },
      "execution_count": 32,
      "outputs": [
        {
          "output_type": "execute_result",
          "data": {
            "text/plain": [
              "('starting point is', 3)"
            ]
          },
          "metadata": {},
          "execution_count": 32
        }
      ]
    },
    {
      "cell_type": "code",
      "source": [],
      "metadata": {
        "id": "aNpU_W8AiDOR"
      },
      "execution_count": null,
      "outputs": []
    }
  ]
}