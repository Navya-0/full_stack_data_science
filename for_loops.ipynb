{
  "nbformat": 4,
  "nbformat_minor": 0,
  "metadata": {
    "colab": {
      "provenance": [],
      "authorship_tag": "ABX9TyPSg7g3FWepnwQhQVDllZuW",
      "include_colab_link": true
    },
    "kernelspec": {
      "name": "python3",
      "display_name": "Python 3"
    },
    "language_info": {
      "name": "python"
    }
  },
  "cells": [
    {
      "cell_type": "markdown",
      "metadata": {
        "id": "view-in-github",
        "colab_type": "text"
      },
      "source": [
        "<a href=\"https://colab.research.google.com/github/Navya-0/full_stack_data_science/blob/main/for_loops.ipynb\" target=\"_parent\"><img src=\"https://colab.research.google.com/assets/colab-badge.svg\" alt=\"Open In Colab\"/></a>"
      ]
    },
    {
      "cell_type": "code",
      "source": [
        "#1. Write a Python program to print the numbers from 1 to 10 using a `for` loop.\n",
        "for i in range(1,11):\n",
        "  print(i)"
      ],
      "metadata": {
        "colab": {
          "base_uri": "https://localhost:8080/"
        },
        "id": "sbLIP6qG6nwh",
        "outputId": "6762da8b-42ae-4645-f499-249453af649e"
      },
      "execution_count": 23,
      "outputs": [
        {
          "output_type": "stream",
          "name": "stdout",
          "text": [
            "1\n",
            "2\n",
            "3\n",
            "4\n",
            "5\n",
            "6\n",
            "7\n",
            "8\n",
            "9\n",
            "10\n"
          ]
        }
      ]
    },
    {
      "cell_type": "code",
      "source": [
        "#Create a program that calculates the sum of all numbers in a list using a `for` loop.\n",
        "l=[67,89,12,34,90]\n",
        "s=0\n",
        "for i in l:\n",
        "  s=s+i\n",
        "print(s)\n"
      ],
      "metadata": {
        "colab": {
          "base_uri": "https://localhost:8080/"
        },
        "id": "JYX31xBo6njq",
        "outputId": "a5ac36cb-e36c-4d80-bd1d-ea0a23cd5693"
      },
      "execution_count": 24,
      "outputs": [
        {
          "output_type": "stream",
          "name": "stdout",
          "text": [
            "292\n"
          ]
        }
      ]
    },
    {
      "cell_type": "code",
      "source": [
        "# 3. Write a program to print the characters of a string in reverse order using a `for` loop.\n",
        "st=input(\"enter a string \")\n",
        "st1=\"\"\n",
        "for i in st:\n",
        "  st1=i+st1\n",
        "print(st1)"
      ],
      "metadata": {
        "colab": {
          "base_uri": "https://localhost:8080/"
        },
        "id": "BHJl2u3W6nWU",
        "outputId": "864c95d0-7d11-44a5-8cc0-22c167cf3369"
      },
      "execution_count": 25,
      "outputs": [
        {
          "output_type": "stream",
          "name": "stdout",
          "text": [
            "enter a string hsahjvjfyrstyd\n",
            "dytsryfjvjhash\n"
          ]
        }
      ]
    },
    {
      "cell_type": "code",
      "source": [
        "# 4. Develop a program that finds the factorial of a given number using a `for` loop.\n",
        "n=int(input(\"enter a number \"))\n",
        "f=1\n",
        "for i in range(1,n+1):\n",
        "  f=f*i\n",
        "print(f)"
      ],
      "metadata": {
        "colab": {
          "base_uri": "https://localhost:8080/"
        },
        "id": "OEIVVtKa6nKM",
        "outputId": "54b66a15-ebf4-41b5-cdb0-4e0f975418d6"
      },
      "execution_count": 26,
      "outputs": [
        {
          "output_type": "stream",
          "name": "stdout",
          "text": [
            "enter a number 7\n",
            "5040\n"
          ]
        }
      ]
    },
    {
      "cell_type": "code",
      "source": [
        "# 5. Create a program to print the multiplication table of a given number using a `for` loop.\n",
        "n=int(input(\"enter a number \"))\n",
        "for i in range(0,13):\n",
        "  print(f\"{i} * {n} =\",i*n)"
      ],
      "metadata": {
        "colab": {
          "base_uri": "https://localhost:8080/"
        },
        "id": "E5_gued76m9g",
        "outputId": "cb92bdf9-a4c4-41a3-f940-8dddaa9e0c17"
      },
      "execution_count": 27,
      "outputs": [
        {
          "output_type": "stream",
          "name": "stdout",
          "text": [
            "enter a number 5\n",
            "0 * 5 = 0\n",
            "1 * 5 = 5\n",
            "2 * 5 = 10\n",
            "3 * 5 = 15\n",
            "4 * 5 = 20\n",
            "5 * 5 = 25\n",
            "6 * 5 = 30\n",
            "7 * 5 = 35\n",
            "8 * 5 = 40\n",
            "9 * 5 = 45\n",
            "10 * 5 = 50\n",
            "11 * 5 = 55\n",
            "12 * 5 = 60\n"
          ]
        }
      ]
    },
    {
      "cell_type": "code",
      "source": [
        "# 6. Write a program that counts the number of even and odd numbers in a list using a `for` loop.\n",
        "l=[13,451,80,42,67,56,89]\n",
        "c_o=0\n",
        "c_e=0\n",
        "for i in l:\n",
        "  if(i%2==0):\n",
        "    c_e+=1\n",
        "  else:\n",
        "    c_o+=1\n",
        "print(\"number of even number is =\",c_e)\n",
        "print(\"number of odd number is =\",c_o)\n",
        "\n"
      ],
      "metadata": {
        "colab": {
          "base_uri": "https://localhost:8080/"
        },
        "id": "iKZ3VE8Z6mv_",
        "outputId": "f7dcf96e-3017-4149-c591-63d626cb2569"
      },
      "execution_count": 28,
      "outputs": [
        {
          "output_type": "stream",
          "name": "stdout",
          "text": [
            "number of even number is = 3\n",
            "number of odd number is = 4\n"
          ]
        }
      ]
    },
    {
      "cell_type": "code",
      "source": [
        "# 7. Develop a program that prints the squares of numbers from 1 to 5 using a `for` loop.\n",
        "for i in range(1,6):\n",
        "  print(f\" square of {i} is =\",i*i)"
      ],
      "metadata": {
        "colab": {
          "base_uri": "https://localhost:8080/"
        },
        "id": "gEVo-XR16mgT",
        "outputId": "00a30d97-2815-49e9-bb0f-d627855ca831"
      },
      "execution_count": 29,
      "outputs": [
        {
          "output_type": "stream",
          "name": "stdout",
          "text": [
            " square of 1 is = 1\n",
            " square of 2 is = 4\n",
            " square of 3 is = 9\n",
            " square of 4 is = 16\n",
            " square of 5 is = 25\n"
          ]
        }
      ]
    },
    {
      "cell_type": "code",
      "source": [
        "# 8. Create a program to find the length of a string without using the `len()` function.\n",
        "l=[78,\"navya\",\"hello\",True,56.789,8]\n",
        "length=0\n",
        "for i in l:\n",
        "  length+=1\n",
        "print(\"length of a list is =\", length)"
      ],
      "metadata": {
        "colab": {
          "base_uri": "https://localhost:8080/"
        },
        "id": "zTXGXb0Y6mWA",
        "outputId": "63068f23-05b3-47e8-8adc-0b587792c41e"
      },
      "execution_count": 30,
      "outputs": [
        {
          "output_type": "stream",
          "name": "stdout",
          "text": [
            "length of a list is = 6\n"
          ]
        }
      ]
    },
    {
      "cell_type": "code",
      "source": [
        "# 9. Write a program that calculates the average of a list of numbers using a `for` loop.\n",
        "l=[9,0,78.9,67,32,1.43]\n",
        "s=0\n",
        "ln=len(l)\n",
        "for i in l:\n",
        "  s+=i\n",
        "print(\"average of the values in a list is =\",s/ln)\n"
      ],
      "metadata": {
        "colab": {
          "base_uri": "https://localhost:8080/"
        },
        "id": "wEyfLxI06mSo",
        "outputId": "7cd55c79-a191-4277-c355-2efdaa911fef"
      },
      "execution_count": 31,
      "outputs": [
        {
          "output_type": "stream",
          "name": "stdout",
          "text": [
            "average of the values in a list is = 31.388333333333335\n"
          ]
        }
      ]
    },
    {
      "cell_type": "code",
      "source": [
        "# 10. Develop a program that prints the first `n` Fibonacci numbers using a `for` loop.\n",
        "a=0\n",
        "b=1\n",
        "c=0\n",
        "n=int(input(\"enter a number \"))\n",
        "print(a,b,end=\" \")\n",
        "for i in range(1,n+1):\n",
        "  c=a+b\n",
        "  a,b=b,c\n",
        "  print(c,end=\" \")"
      ],
      "metadata": {
        "colab": {
          "base_uri": "https://localhost:8080/"
        },
        "id": "_MrBAERr6mEu",
        "outputId": "88c174df-3196-4ff1-ea2c-230ef84d78ff"
      },
      "execution_count": 32,
      "outputs": [
        {
          "output_type": "stream",
          "name": "stdout",
          "text": [
            "enter a number 12\n",
            "0 1 1 2 3 5 8 13 21 34 55 89 144 233 "
          ]
        }
      ]
    },
    {
      "cell_type": "markdown",
      "source": [
        "Intermediate Level:"
      ],
      "metadata": {
        "id": "x-yXqsGKSbE2"
      }
    },
    {
      "cell_type": "code",
      "source": [
        "# 11. Write a program to check if a given list contains any duplicates using a `for` loop.\n",
        "l=[1,2,13,423,57,1,92747,2,92740]\n",
        "for i in l:\n",
        "  if(l.count(i)>1):\n",
        "    print(i,\"this value has a duplicate\")\n"
      ],
      "metadata": {
        "colab": {
          "base_uri": "https://localhost:8080/"
        },
        "id": "NuFlvTV_MGYq",
        "outputId": "4f7668ca-0131-41e5-cd24-e6c0dcac8c6d"
      },
      "execution_count": 33,
      "outputs": [
        {
          "output_type": "stream",
          "name": "stdout",
          "text": [
            "1 this value has a duplicate\n",
            "2 this value has a duplicate\n",
            "1 this value has a duplicate\n",
            "2 this value has a duplicate\n"
          ]
        }
      ]
    },
    {
      "cell_type": "code",
      "source": [
        "# 12. Create a program that prints the prime numbers in a given range using a `for` loop.\n",
        "n=int(input(\"enter a number \"))\n",
        "for i in range(2,n):\n",
        "  if(i==2):\n",
        "    print(i)\n",
        "  c=0\n",
        "  for j in range(2,i):\n",
        "    if i%j==0:\n",
        "      c+=1\n",
        "      break\n",
        "  if c==0:\n",
        "    print(i)"
      ],
      "metadata": {
        "colab": {
          "base_uri": "https://localhost:8080/"
        },
        "id": "HDjqIgnWSX7d",
        "outputId": "25713d12-95d6-4ab9-b040-d1213fc3e8f3"
      },
      "execution_count": 34,
      "outputs": [
        {
          "output_type": "stream",
          "name": "stdout",
          "text": [
            "enter a number 7\n",
            "2\n",
            "2\n",
            "3\n",
            "5\n"
          ]
        }
      ]
    },
    {
      "cell_type": "code",
      "source": [
        "# 13. Develop a program that counts the number of vowels in a string using a `for` loop.\n",
        "v=\"aeiouAEIOU\"\n",
        "st=\"Hello Im navya nair, i like coding\"\n",
        "c=0\n",
        "for i in st:\n",
        "  if i in v:\n",
        "    c+=1\n",
        "print(c)"
      ],
      "metadata": {
        "colab": {
          "base_uri": "https://localhost:8080/"
        },
        "id": "hUeNaFw1SYLV",
        "outputId": "20b232a3-bdb5-4a8d-912d-9ffd9a03dd89"
      },
      "execution_count": 35,
      "outputs": [
        {
          "output_type": "stream",
          "name": "stdout",
          "text": [
            "12\n"
          ]
        }
      ]
    },
    {
      "cell_type": "code",
      "source": [
        "# 14. Write a program to find the maximum element in a 2D list using a nested `for` loop.\n",
        "l=[[1,2,34],[819,45,10],[93,7,20]]\n",
        "max=0\n",
        "for i in l:\n",
        "  for j in i:\n",
        "    if max<j:\n",
        "      max=j\n",
        "print(max)"
      ],
      "metadata": {
        "colab": {
          "base_uri": "https://localhost:8080/"
        },
        "id": "m2jikdzqSYWI",
        "outputId": "ff763160-1f07-4873-bcc7-b56641dc258d"
      },
      "execution_count": 36,
      "outputs": [
        {
          "output_type": "stream",
          "name": "stdout",
          "text": [
            "819\n"
          ]
        }
      ]
    },
    {
      "cell_type": "code",
      "source": [
        "# 15. Create a program that removes all occurrences of a specific element from a list using a `for` loop.\n",
        "l=[1,23,45,26,87,91,1,10,31,62,110,1]\n",
        "n=int(input(\"enter a number \"))\n",
        "l1=[]\n",
        "for i in l:\n",
        "  if i!= n:\n",
        "    l1.append(i)\n",
        "l1\n"
      ],
      "metadata": {
        "colab": {
          "base_uri": "https://localhost:8080/"
        },
        "id": "d4l5m99JSYiH",
        "outputId": "b570ca94-b551-4668-a8b2-8b6bcecc103c"
      },
      "execution_count": 37,
      "outputs": [
        {
          "name": "stdout",
          "output_type": "stream",
          "text": [
            "enter a number 8\n"
          ]
        },
        {
          "output_type": "execute_result",
          "data": {
            "text/plain": [
              "[1, 23, 45, 26, 87, 91, 1, 10, 31, 62, 110, 1]"
            ]
          },
          "metadata": {},
          "execution_count": 37
        }
      ]
    },
    {
      "cell_type": "code",
      "source": [
        "# 16. Develop a program that generates a multiplication table for numbers from 1 to 5 using a nested `for` loop.\n",
        "for i in range(1,6):\n",
        "  print(f\"table of {i}\")\n",
        "  for j in range(0,13):\n",
        "    print(f\"{i} * {j} =\",i*j)\n",
        "  print()"
      ],
      "metadata": {
        "colab": {
          "base_uri": "https://localhost:8080/"
        },
        "id": "zOa4pRhgSYsX",
        "outputId": "8baf17da-b03b-48c3-a835-4a03865476c7"
      },
      "execution_count": 38,
      "outputs": [
        {
          "output_type": "stream",
          "name": "stdout",
          "text": [
            "table of 1\n",
            "1 * 0 = 0\n",
            "1 * 1 = 1\n",
            "1 * 2 = 2\n",
            "1 * 3 = 3\n",
            "1 * 4 = 4\n",
            "1 * 5 = 5\n",
            "1 * 6 = 6\n",
            "1 * 7 = 7\n",
            "1 * 8 = 8\n",
            "1 * 9 = 9\n",
            "1 * 10 = 10\n",
            "1 * 11 = 11\n",
            "1 * 12 = 12\n",
            "\n",
            "table of 2\n",
            "2 * 0 = 0\n",
            "2 * 1 = 2\n",
            "2 * 2 = 4\n",
            "2 * 3 = 6\n",
            "2 * 4 = 8\n",
            "2 * 5 = 10\n",
            "2 * 6 = 12\n",
            "2 * 7 = 14\n",
            "2 * 8 = 16\n",
            "2 * 9 = 18\n",
            "2 * 10 = 20\n",
            "2 * 11 = 22\n",
            "2 * 12 = 24\n",
            "\n",
            "table of 3\n",
            "3 * 0 = 0\n",
            "3 * 1 = 3\n",
            "3 * 2 = 6\n",
            "3 * 3 = 9\n",
            "3 * 4 = 12\n",
            "3 * 5 = 15\n",
            "3 * 6 = 18\n",
            "3 * 7 = 21\n",
            "3 * 8 = 24\n",
            "3 * 9 = 27\n",
            "3 * 10 = 30\n",
            "3 * 11 = 33\n",
            "3 * 12 = 36\n",
            "\n",
            "table of 4\n",
            "4 * 0 = 0\n",
            "4 * 1 = 4\n",
            "4 * 2 = 8\n",
            "4 * 3 = 12\n",
            "4 * 4 = 16\n",
            "4 * 5 = 20\n",
            "4 * 6 = 24\n",
            "4 * 7 = 28\n",
            "4 * 8 = 32\n",
            "4 * 9 = 36\n",
            "4 * 10 = 40\n",
            "4 * 11 = 44\n",
            "4 * 12 = 48\n",
            "\n",
            "table of 5\n",
            "5 * 0 = 0\n",
            "5 * 1 = 5\n",
            "5 * 2 = 10\n",
            "5 * 3 = 15\n",
            "5 * 4 = 20\n",
            "5 * 5 = 25\n",
            "5 * 6 = 30\n",
            "5 * 7 = 35\n",
            "5 * 8 = 40\n",
            "5 * 9 = 45\n",
            "5 * 10 = 50\n",
            "5 * 11 = 55\n",
            "5 * 12 = 60\n",
            "\n"
          ]
        }
      ]
    },
    {
      "cell_type": "code",
      "source": [
        "# 17. Write a program that converts a list of Fahrenheit temperatures to Celsius using a `for` loop.\n",
        "l=[56,76,89,102,65,95]\n",
        "c=0\n",
        "for i in l:\n",
        "  c=(i - 32)*(5/9)\n",
        "  print(f\"celsius equivalent of {i} is\",c)"
      ],
      "metadata": {
        "colab": {
          "base_uri": "https://localhost:8080/"
        },
        "id": "aLHjK5aUSY3P",
        "outputId": "a30363f0-1f61-4b72-8ae9-707149f40c90"
      },
      "execution_count": 39,
      "outputs": [
        {
          "output_type": "stream",
          "name": "stdout",
          "text": [
            "celsius equivalent of 56 is 13.333333333333334\n",
            "celsius equivalent of 76 is 24.444444444444446\n",
            "celsius equivalent of 89 is 31.666666666666668\n",
            "celsius equivalent of 102 is 38.88888888888889\n",
            "celsius equivalent of 65 is 18.333333333333336\n",
            "celsius equivalent of 95 is 35.0\n"
          ]
        }
      ]
    },
    {
      "cell_type": "code",
      "source": [
        "# 18. Create a program to print the common elements from two lists using a `for` loop.\n",
        "l1=[1,58,97,46,9,11,32]\n",
        "l2=[9,87,54,26,64,11,89,97]\n",
        "for i in l1:\n",
        "  if i in l2:\n",
        "    print(f\"{i} is the common element in the two list\")"
      ],
      "metadata": {
        "colab": {
          "base_uri": "https://localhost:8080/"
        },
        "id": "9EPRlbyLSZCQ",
        "outputId": "a856957a-a09d-4fe2-a87f-52a4447ada01"
      },
      "execution_count": 40,
      "outputs": [
        {
          "output_type": "stream",
          "name": "stdout",
          "text": [
            "97 is the common element in the two list\n",
            "9 is the common element in the two list\n",
            "11 is the common element in the two list\n"
          ]
        }
      ]
    },
    {
      "cell_type": "code",
      "source": [
        "# 19. Develop a program that prints the pattern of right-angled triangles using a `for` loop. Use ‘*’ to draw the pattern\n",
        "n=int(input(\"enter number of elements\"))\n",
        "for i in range(1,n+1):\n",
        "  print()\n",
        "  for j in range(0,i):\n",
        "    print(\"*\", end=\" \")"
      ],
      "metadata": {
        "colab": {
          "base_uri": "https://localhost:8080/"
        },
        "id": "1YxAL2qLSZN3",
        "outputId": "be346271-c846-4eff-c8b8-9d64cb8b0969"
      },
      "execution_count": 41,
      "outputs": [
        {
          "output_type": "stream",
          "name": "stdout",
          "text": [
            "enter number of elements8\n",
            "\n",
            "* \n",
            "* * \n",
            "* * * \n",
            "* * * * \n",
            "* * * * * \n",
            "* * * * * * \n",
            "* * * * * * * \n",
            "* * * * * * * * "
          ]
        }
      ]
    },
    {
      "cell_type": "code",
      "source": [
        "# 20. Write a program to find the greatest common divisor (GCD) of two numbers using a `for` loop.\n",
        "a=int(input(\"enter a number \"))\n",
        "b=int(input(\"enter a number \"))\n",
        "mi=min(a,b)\n",
        "mx=0\n",
        "for i in range(1,mi+1):\n",
        "  if a%i==0 and b%i==0:\n",
        "    if mx<i:\n",
        "      mx=i\n",
        "print(f\"gcd of {a} and {b} is\",mx)"
      ],
      "metadata": {
        "colab": {
          "base_uri": "https://localhost:8080/"
        },
        "id": "42tK0d78SZZk",
        "outputId": "cdbcf8b0-2c9b-44b4-ce7d-0cc5ac48a4d4"
      },
      "execution_count": 42,
      "outputs": [
        {
          "output_type": "stream",
          "name": "stdout",
          "text": [
            "enter a number 78\n",
            "enter a number 98\n",
            "gcd of 78 and 98 is 2\n"
          ]
        }
      ]
    },
    {
      "cell_type": "markdown",
      "source": [
        "advanced level\n"
      ],
      "metadata": {
        "id": "-ZdKoA7wMJyU"
      }
    },
    {
      "cell_type": "code",
      "source": [
        "# 21. Create a program that calculates the sum of the digits of numbers in a list using a list comprehension.\n",
        "def sum_dig(n):\n",
        "  s=0\n",
        "  d=0\n",
        "  while(n>0):\n",
        "    d=n%10\n",
        "    s=s+d\n",
        "    n=n//10\n",
        "  return s\n",
        "l=[sum_dig(i) for i in [65,890,234,1,60]]\n",
        "l"
      ],
      "metadata": {
        "colab": {
          "base_uri": "https://localhost:8080/"
        },
        "id": "B_WAzR4kMGUA",
        "outputId": "3e6283a9-7de3-4d67-a616-17ee28d71fbc"
      },
      "execution_count": 43,
      "outputs": [
        {
          "output_type": "execute_result",
          "data": {
            "text/plain": [
              "[11, 17, 9, 1, 6]"
            ]
          },
          "metadata": {},
          "execution_count": 43
        }
      ]
    },
    {
      "cell_type": "code",
      "source": [
        "#22.Write a program to find the prime factors of a given number using a `for` loop and list comprehension.\n",
        "n=int(input(\"enter a number \"))\n",
        "fact=[i for i in range(1,n+1) if n%i==0]\n",
        "def is_prime(i):\n",
        "  if(i==2):\n",
        "    return i\n",
        "  c=0\n",
        "  for j in range(2,i):\n",
        "    if i%j==0:\n",
        "      c+=1\n",
        "      break\n",
        "  if c==0:\n",
        "    return i\n",
        "x=[i for i in fact if is_prime(i)]\n",
        "x"
      ],
      "metadata": {
        "colab": {
          "base_uri": "https://localhost:8080/"
        },
        "id": "o_Bup4VyMGQW",
        "outputId": "1d3eea10-a3ad-493b-d5cf-42952d57f4cf"
      },
      "execution_count": 44,
      "outputs": [
        {
          "name": "stdout",
          "output_type": "stream",
          "text": [
            "enter a number 23\n"
          ]
        },
        {
          "output_type": "execute_result",
          "data": {
            "text/plain": [
              "[1, 23]"
            ]
          },
          "metadata": {},
          "execution_count": 44
        }
      ]
    },
    {
      "cell_type": "code",
      "source": [
        "#23. Develop a program that extracts unique elements from a list and stores them in a new list using a list comprehension.\n",
        "l=[11,2,42,2,56,1,78,90,78,1,90]\n",
        "x=lambda i:l.count(i)\n",
        "u=[i for i in l if x(i)==1]\n",
        "u"
      ],
      "metadata": {
        "colab": {
          "base_uri": "https://localhost:8080/"
        },
        "id": "I3NAaMSXMGOC",
        "outputId": "7e493e7b-7669-4dd9-a5de-4d8ad1034be6"
      },
      "execution_count": 45,
      "outputs": [
        {
          "output_type": "execute_result",
          "data": {
            "text/plain": [
              "[11, 42, 56]"
            ]
          },
          "metadata": {},
          "execution_count": 45
        }
      ]
    },
    {
      "cell_type": "code",
      "source": [
        "#24. Create a program that generates a list of all palindromic numbers up to a specified limit using a list comprehension.\n",
        "n=int(input(\"enter a number \"))\n",
        "x=[i for i in range(1,n) if str(i)==str(i)[::-1]]\n",
        "x"
      ],
      "metadata": {
        "id": "2mqaVDuGMGI5"
      },
      "execution_count": null,
      "outputs": []
    },
    {
      "cell_type": "code",
      "source": [
        "# 25. Write a program to flatten a nested list using list comprehension.\n",
        "l=[[1,2,3],[4,5,6],[7,8,9]]\n",
        "x=[i for s in l for i in s ]\n",
        "x"
      ],
      "metadata": {
        "id": "OWxxHl0sMGF3"
      },
      "execution_count": null,
      "outputs": []
    },
    {
      "cell_type": "code",
      "source": [
        "# 26. Develop a program that computes the sum of even and odd numbers in a list separately using list comprehension.\n",
        "l=[1, 2, 3, 4, 5, 6, 7, 8, 9, 11, 22, 33, 44, 55, 66, 77, 88, 99]\n",
        "e=sum([i for i in l if i%2==0])\n",
        "o=sum([i for i in l if i%2!=0])\n",
        "e,o"
      ],
      "metadata": {
        "id": "4l3wS3C3MGDr"
      },
      "execution_count": null,
      "outputs": []
    },
    {
      "cell_type": "code",
      "source": [
        "# 27. Create a program that generates a list of squares of odd numbers between 1 and 10 using list comprehension.\n",
        "x=[i**2 for i in range(1,11) if i%2!=0]\n",
        "x"
      ],
      "metadata": {
        "id": "rgukDwX5MGBl"
      },
      "execution_count": null,
      "outputs": []
    },
    {
      "cell_type": "code",
      "source": [
        "# 28. Write a program that combines two lists into a dictionary using list comprehension.\n",
        "l1=[1,2,3,4]\n",
        "l2=[\"a\",\"b\",\"c\",\"d\"]\n",
        "l=[]\n",
        "for i in range(len(l1)):\n",
        "  l.append(l1[i])\n",
        "  l.append(l2[i])\n",
        "d={l[i]:l[i+1] for i in range(0,len(l),2)}\n",
        "d"
      ],
      "metadata": {
        "id": "_wri2-P9MF8b"
      },
      "execution_count": null,
      "outputs": []
    },
    {
      "cell_type": "code",
      "source": [
        "#29.Develop a program that extracts the vowels from a string and stores them in a list using list comprehension.\n",
        "v=\"aeiouAEIOU\"\n",
        "st=\"Hello Im navya nair, i like coding\"\n",
        "l=[i for i in st if i in v]\n",
        "l"
      ],
      "metadata": {
        "id": "Ib_ssyoiMF5c"
      },
      "execution_count": null,
      "outputs": []
    },
    {
      "cell_type": "code",
      "source": [
        "# 30. create a program that removes all non-numeric characters from a list of strings using list comprehension.\n",
        "st=\"1Hell#3o12 34Im56 78navy/a nair 101, i like coding 20\"\n",
        "num=\"01234567879\"\n",
        "l=[i for i in st if i in num]\n",
        "l"
      ],
      "metadata": {
        "id": "yBgs7G-SMF1p"
      },
      "execution_count": null,
      "outputs": []
    },
    {
      "cell_type": "code",
      "execution_count": null,
      "metadata": {
        "id": "8P7uGZKuDgEv"
      },
      "outputs": [],
      "source": [
        "# 31. Write a program to generate a list of prime numbers using the Sieve of Eratosthenes algorithm and list comprehension.\n",
        "def SieveOfEratosthenes(num):\n",
        "    prime = [True for i in range(num+1)]\n",
        "    p = 2\n",
        "    while (p * p <= num):\n",
        "        if (prime[p] == True):\n",
        "            for i in range(p * p, num+1, p):\n",
        "                prime[i] = False\n",
        "        p += 1\n",
        "    for p in range(2, num+1):\n",
        "        if prime[p]:\n",
        "            print(p)\n",
        "SieveOfEratosthenes(30)"
      ]
    },
    {
      "cell_type": "code",
      "source": [
        "#32. Create a program that generates a list of all Pythagorean triplets up to a specified limit using list comprehension.\n",
        "n=int(input(\"enter a range \"))\n",
        "a=0\n",
        "b=0\n",
        "c=0\n",
        "m=2\n",
        "pyt=[]\n",
        "while c<n:\n",
        "  for i in range(1,m):\n",
        "    a=m*m-i*i\n",
        "    b=2*m*i\n",
        "    c=m*m+i*i\n",
        "    if c>n:\n",
        "      break\n",
        "    pyt.append([a,b,c])\n",
        "  m+=1\n",
        "pyt"
      ],
      "metadata": {
        "id": "RO9xH-mTD3az"
      },
      "execution_count": null,
      "outputs": []
    },
    {
      "cell_type": "code",
      "source": [
        "#33. Develop a program that generates a list of all possible combinations of two lists using list comprehension.\n",
        "l1=[1,2,3,4,5]\n",
        "l2=[6,7,8,9]\n",
        "def combination(l1,j):\n",
        "  l=[]\n",
        "  for i in l1:\n",
        "    l.append([i,j])\n",
        "  return(l)\n",
        "x=[combination(l2,j) for j in l1]\n",
        "x"
      ],
      "metadata": {
        "id": "NHyQJD3iD3eo"
      },
      "execution_count": null,
      "outputs": []
    },
    {
      "cell_type": "code",
      "source": [
        "#34. Write a program that calculates the mean, median, and mode of a list of numbers using list comprehension.\n",
        "l=[1,2,5,3,4,78,45,321]\n",
        "import numpy as np\n",
        "np.mean(l)\n",
        "np.median(l)\n",
        "def mode(l):\n",
        "  max=0\n",
        "  ele=0\n",
        "  for i in l:\n",
        "    x=l.count(i)\n",
        "    if max<x:\n",
        "      max=x\n",
        "      ele=i\n",
        "  if max==1:\n",
        "    return \"there's no\"\n",
        "  else:\n",
        "    return ele"
      ],
      "metadata": {
        "id": "78bKWTm5D3kr"
      },
      "execution_count": null,
      "outputs": []
    },
    {
      "cell_type": "code",
      "source": [
        "l=[[\"*\" for j in range(i)] for i in range(1,5) ]\n",
        "l"
      ],
      "metadata": {
        "id": "LwSOHeajD3l8"
      },
      "execution_count": null,
      "outputs": []
    },
    {
      "cell_type": "code",
      "source": [
        "#36 Develop a program that calculates the sum of the digits of a factorial of numbers from 1 to 5 using list comprehension.\n",
        "def fact_sum(n):\n",
        "  f=1\n",
        "  while(n>0):\n",
        "    f=f*n\n",
        "    n=n-1\n",
        "  if n==0:\n",
        "    f=f*1\n",
        "  x=list(str(f))\n",
        "  x1=sum([int(i) for i in x])\n",
        "  return x1\n",
        "l=[1,2,3,4,5]\n",
        "l1=[fact_sum(i) for i in l]\n",
        "l1"
      ],
      "metadata": {
        "id": "4-UQVcHxD3pK"
      },
      "execution_count": null,
      "outputs": []
    },
    {
      "cell_type": "code",
      "source": [
        "# 37.Write a program that finds the longest word in a sentence using list comprehension.\n",
        "st=\"helloooo im Navya, nice to meet you\"\n",
        "l=st.split()\n",
        "max=\"\"\n",
        "x=[len(i) for i in l]\n",
        "i=x.index(max(x))\n",
        "print(\"longest word in the string is\",l[i])"
      ],
      "metadata": {
        "id": "8fRULpmQD3sl"
      },
      "execution_count": null,
      "outputs": []
    },
    {
      "cell_type": "code",
      "source": [
        "#38. Create a program that filters a list of strings to include only those with more than three vowels using list comprehension.\n",
        "st=\"helloooo im Navya, nice to meeeet you\"\n",
        "l=st.split()\n",
        "def vow_count(i):\n",
        "  c=0\n",
        "  for j in i:\n",
        "    if j in 'aeiouAEIOU':\n",
        "      c+=1\n",
        "  return c\n",
        "l1=[i for i in l if vow_count(i)>3]\n",
        "l1"
      ],
      "metadata": {
        "id": "iz72ISvLD3wK"
      },
      "execution_count": null,
      "outputs": []
    },
    {
      "cell_type": "code",
      "source": [
        "# 39.Develop a program that calculates the sum of the digits of numbers from 1 to 1000 using list comprehension.\n",
        "def sum_dig(n):\n",
        "  s=0\n",
        "  d=0\n",
        "  while(n>0):\n",
        "    d=n%10\n",
        "    s=s+d\n",
        "    n=n//10\n",
        "  return s\n",
        "l=[sum_dig(i) for i in range(1,1001)]\n",
        "l"
      ],
      "metadata": {
        "id": "JoYq4LfND30D"
      },
      "execution_count": null,
      "outputs": []
    },
    {
      "cell_type": "code",
      "source": [
        "#40. Write a program that generates a list of prime palindromic numbers using list comprehension.\n",
        "def prime_palindromic(n):\n",
        "  s=str(n)\n",
        "  if(s==s[::-1]):\n",
        "    if(n==2):\n",
        "      return n\n",
        "    c=0\n",
        "    for i in range(2,n):\n",
        "      if n%i==0:\n",
        "        c+=1\n",
        "        break\n",
        "    if c==0:\n",
        "      return n\n",
        "l=[i for i in [2,4,10,56,98 ,3, 76,29,5, 7,11, 111, 131, 141, 171] if prime_palindromic(i)]\n",
        "l"
      ],
      "metadata": {
        "id": "DhAQ5qpYzRFQ"
      },
      "execution_count": null,
      "outputs": []
    }
  ]
}