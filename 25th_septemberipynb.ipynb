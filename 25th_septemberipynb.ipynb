{
  "nbformat": 4,
  "nbformat_minor": 0,
  "metadata": {
    "colab": {
      "provenance": [],
      "authorship_tag": "ABX9TyNChnlO0NrMBQGytEeiWa3m",
      "include_colab_link": true
    },
    "kernelspec": {
      "name": "python3",
      "display_name": "Python 3"
    },
    "language_info": {
      "name": "python"
    }
  },
  "cells": [
    {
      "cell_type": "markdown",
      "metadata": {
        "id": "view-in-github",
        "colab_type": "text"
      },
      "source": [
        "<a href=\"https://colab.research.google.com/github/Navya-0/full_stack_data_science/blob/main/25th_septemberipynb.ipynb\" target=\"_parent\"><img src=\"https://colab.research.google.com/assets/colab-badge.svg\" alt=\"Open In Colab\"/></a>"
      ]
    },
    {
      "cell_type": "code",
      "execution_count": 4,
      "metadata": {
        "colab": {
          "base_uri": "https://localhost:8080/"
        },
        "id": "KtI7wVjXPYZW",
        "outputId": "1c5cec5e-ea34-4631-a5d0-fb7f01021c7d"
      },
      "outputs": [
        {
          "output_type": "execute_result",
          "data": {
            "text/plain": [
              "12"
            ]
          },
          "metadata": {},
          "execution_count": 4
        }
      ],
      "source": [
        "def find_length(s):\n",
        "  if s==\"\":\n",
        "    return 0\n",
        "  else:\n",
        "    return 1+find_length(s[1:])\n",
        "find_length(\"navya j nair\")"
      ]
    },
    {
      "cell_type": "code",
      "source": [
        "s=\"navya j nair\"\n",
        "print(s[1:])"
      ],
      "metadata": {
        "colab": {
          "base_uri": "https://localhost:8080/"
        },
        "id": "x5fCDFaXRI6V",
        "outputId": "06c65855-ed4a-4398-9e98-91eca676d386"
      },
      "execution_count": 5,
      "outputs": [
        {
          "output_type": "stream",
          "name": "stdout",
          "text": [
            "avya j nair\n"
          ]
        }
      ]
    },
    {
      "cell_type": "code",
      "source": [
        "def reverse(s):\n",
        "  if s==\"\":\n",
        "    return \"\"\n",
        "  else:\n",
        "    return reverse(s[1:])+s[0]\n",
        "reverse(\"navya\")"
      ],
      "metadata": {
        "colab": {
          "base_uri": "https://localhost:8080/",
          "height": 35
        },
        "id": "ZlR1quuBRI9t",
        "outputId": "3cd5a7e7-deca-480c-c3db-4ec46c05817d"
      },
      "execution_count": 8,
      "outputs": [
        {
          "output_type": "execute_result",
          "data": {
            "text/plain": [
              "'ayvan'"
            ],
            "application/vnd.google.colaboratory.intrinsic+json": {
              "type": "string"
            }
          },
          "metadata": {},
          "execution_count": 8
        }
      ]
    },
    {
      "cell_type": "code",
      "source": [
        "def frequency(s,c):\n",
        "  if s==\"\":\n",
        "    return 0\n",
        "  if c==s[0]:\n",
        "    return 1+frequency(s[1:],c)\n",
        "  else:\n",
        "    return 0+frequency(s[1:],c)\n",
        "frequency(\"abracadaba\",\"a\")"
      ],
      "metadata": {
        "colab": {
          "base_uri": "https://localhost:8080/"
        },
        "id": "Ec5lVxZXRJA4",
        "outputId": "7f899001-ccc3-463a-c2df-973cfcbeee64"
      },
      "execution_count": 10,
      "outputs": [
        {
          "output_type": "execute_result",
          "data": {
            "text/plain": [
              "5"
            ]
          },
          "metadata": {},
          "execution_count": 10
        }
      ]
    },
    {
      "cell_type": "code",
      "source": [
        "True*True"
      ],
      "metadata": {
        "colab": {
          "base_uri": "https://localhost:8080/"
        },
        "id": "CSUfQzKgRJER",
        "outputId": "74511556-d1fb-4fe4-ed74-5e79d2fb8214"
      },
      "execution_count": 11,
      "outputs": [
        {
          "output_type": "execute_result",
          "data": {
            "text/plain": [
              "1"
            ]
          },
          "metadata": {},
          "execution_count": 11
        }
      ]
    },
    {
      "cell_type": "code",
      "source": [
        "def sort(l):\n",
        "  if l==[] or len(l)==1:\n",
        "    return True\n",
        "  if l[0]<l[1]:\n",
        "    return True*sort(l[1:])\n",
        "  else:\n",
        "    return False\n",
        "bool(sort([1,4,5,7]))"
      ],
      "metadata": {
        "colab": {
          "base_uri": "https://localhost:8080/"
        },
        "id": "dsQGvI3ARJK3",
        "outputId": "f35f37a0-c6ce-471e-8190-2e5dbaa3802f"
      },
      "execution_count": 15,
      "outputs": [
        {
          "output_type": "execute_result",
          "data": {
            "text/plain": [
              "True"
            ]
          },
          "metadata": {},
          "execution_count": 15
        }
      ]
    },
    {
      "cell_type": "code",
      "source": [
        "def perf_square(n,start=1):\n",
        "  if n== start *start:\n",
        "    return True\n",
        "  elif n< start*start:\n",
        "    return False\n",
        "  else:\n",
        "    return perf_square(n,start+1)\n",
        "perf_square(5)"
      ],
      "metadata": {
        "colab": {
          "base_uri": "https://localhost:8080/"
        },
        "id": "u2u9N1cJRJNI",
        "outputId": "4cfe4413-e839-4263-ee85-0448956cf858"
      },
      "execution_count": 17,
      "outputs": [
        {
          "output_type": "execute_result",
          "data": {
            "text/plain": [
              "False"
            ]
          },
          "metadata": {},
          "execution_count": 17
        }
      ]
    },
    {
      "cell_type": "code",
      "source": [
        "for i in (1,3,8):\n",
        "  print(i)"
      ],
      "metadata": {
        "colab": {
          "base_uri": "https://localhost:8080/"
        },
        "id": "U1mnl8aHRJQy",
        "outputId": "7e0df4e2-830d-463a-ad87-59889d215111"
      },
      "execution_count": 19,
      "outputs": [
        {
          "output_type": "stream",
          "name": "stdout",
          "text": [
            "1\n",
            "3\n",
            "8\n"
          ]
        }
      ]
    },
    {
      "cell_type": "code",
      "source": [
        "pwd\n"
      ],
      "metadata": {
        "colab": {
          "base_uri": "https://localhost:8080/",
          "height": 35
        },
        "id": "ljabq7m3nVEd",
        "outputId": "e2b842d4-8283-4245-9e7b-fbe37c086ec9"
      },
      "execution_count": 21,
      "outputs": [
        {
          "output_type": "execute_result",
          "data": {
            "text/plain": [
              "'/content'"
            ],
            "application/vnd.google.colaboratory.intrinsic+json": {
              "type": "string"
            }
          },
          "metadata": {},
          "execution_count": 21
        }
      ]
    },
    {
      "cell_type": "code",
      "source": [
        "ls=open(\"/content/The cat (Felis catus) is a domestic.txt\")"
      ],
      "metadata": {
        "id": "kIlgXN3hnVQL"
      },
      "execution_count": 23,
      "outputs": []
    },
    {
      "cell_type": "code",
      "source": [
        "for i in ls:\n",
        "  print(i)"
      ],
      "metadata": {
        "id": "cqlPQjAknVfd"
      },
      "execution_count": null,
      "outputs": []
    },
    {
      "cell_type": "code",
      "source": [
        "ls"
      ],
      "metadata": {
        "colab": {
          "base_uri": "https://localhost:8080/"
        },
        "id": "0rt-Xs5gRJoP",
        "outputId": "6a01c5fa-a892-4c88-c439-e26876a66b6c"
      },
      "execution_count": 24,
      "outputs": [
        {
          "output_type": "execute_result",
          "data": {
            "text/plain": [
              "<_io.TextIOWrapper name='/content/The cat (Felis catus) is a domestic.txt' mode='r' encoding='UTF-8'>"
            ]
          },
          "metadata": {},
          "execution_count": 24
        }
      ]
    },
    {
      "cell_type": "code",
      "source": [
        "def read_file(file_name):\n",
        "  with open (file_name) as file:\n",
        "    for i in file:\n",
        "      yield i\n"
      ],
      "metadata": {
        "id": "IU15Ksdu3XuT"
      },
      "execution_count": 27,
      "outputs": []
    },
    {
      "cell_type": "code",
      "source": [
        "read_file(\"/content/The cat (Felis catus) is a domestic.txt\")\n"
      ],
      "metadata": {
        "colab": {
          "base_uri": "https://localhost:8080/"
        },
        "id": "e5oJCxbP4jW-",
        "outputId": "996ff8aa-3a44-47d3-ce50-621cd17524ca"
      },
      "execution_count": 28,
      "outputs": [
        {
          "output_type": "execute_result",
          "data": {
            "text/plain": [
              "<generator object read_file at 0x7f93fb2a6960>"
            ]
          },
          "metadata": {},
          "execution_count": 28
        }
      ]
    },
    {
      "cell_type": "code",
      "source": [
        "for i in read_file(\"/content/The cat (Felis catus) is a domestic.txt\"):\n",
        "  print(i)"
      ],
      "metadata": {
        "colab": {
          "base_uri": "https://localhost:8080/"
        },
        "id": "u0OxDjkv4qx-",
        "outputId": "40244e82-3ee5-4c61-85bc-6e958ff2f738"
      },
      "execution_count": 29,
      "outputs": [
        {
          "output_type": "stream",
          "name": "stdout",
          "text": [
            "The cat (Felis catus) is a domestic species of small carnivorous mammal.[1][2] It is the only domesticated species in the family Felidae and is commonly referred to as the domestic cat or house cat to distinguish it from the wild members of the family.[4] Cats are commonly kept as house pets but can also be farm cats or feral cats; the feral cat ranges freely and avoids human contact.[5] Domestic cats are valued by humans for companionship and their ability to kill vermin. About 60 cat breeds are recognized by various cat registries.[6]\n",
            "\n",
            "\n",
            "\n",
            "The cat is similar in anatomy to the other felid species: it has a strong flexible body, quick reflexes, sharp teeth, and retractable claws adapted to killing small prey like mice and rats. Its night vision and sense of smell are well developed. Cat communication includes vocalizations like meowing, purring, trilling, hissing, growling, and grunting as well as cat-specific body language. Although the cat is a social species, it is a solitary hunter. As a predator, it is crepuscular, i.e. most active at dawn and dusk. It can hear sounds too faint or too high in frequency for human ears, such as those made by mice and other small mammals.[7] It also secretes and perceives pheromones.[8]\n",
            "\n",
            "\n",
            "\n",
            "Female domestic cats can have kittens from spring to late autumn in temperate zones and throughout the year in equatorial regions, with litter sizes often ranging from two to five kittens.[9][10] Domestic cats are bred and shown at events as registered pedigreed cats, a hobby known as cat fancy. Population control of cats may be achieved by spaying and neutering, but their proliferation and the abandonment of pets has resulted in large numbers of feral cats worldwide, contributing to the extinction of entire bird, mammal, and reptile species.[11]\n",
            "\n",
            "\n",
            "\n",
            "It was long thought that cat domestication began in ancient Egypt, where cats were venerated from around 3100 BC,[12][13] but recent advances in archaeology and genetics have shown that their domestication occurred in the Near East around 7500 BC.[14]\n",
            "\n",
            "\n",
            "\n",
            "As of 2021, there were an estimated 220 million owned and 480 million stray cats in the world.[15][16] As of 2017, the domestic cat was the second most popular pet in the United States, with 95.6 million cats owned[17][18] and around 42 million households owning at least one cat.[19] In the United Kingdom, 26% of adults have a cat, with an estimated population of 10.9 million pet cats as of 2020.[20]\n",
            "\n",
            "\n",
            "\n",
            "Etymology and naming\n",
            "\n",
            "The origin of the English word cat, Old English catt, is thought to be the Late Latin word cattus, which was first used at the beginning of the 6th century.[21] The Late Latin word may be derived from an unidentified African language.[22] The Nubian word kaddîska 'wildcat' and Nobiin kadīs are possible sources or cognates.[23] The Nubian word may be a loan from Arabic قَطّ‎ qaṭṭ ~ قِطّ qiṭṭ.[citation needed]\n",
            "\n",
            "\n",
            "\n",
            "However, it is \"equally likely that the forms might derive from an ancient Germanic word, imported into Latin and thence to Greek and to Syriac and Arabic\".[24] The word may be derived from Germanic and Northern European languages, and ultimately be borrowed from Uralic, cf. Northern Sami gáđfi, 'female stoat', and Hungarian hölgy, 'lady, female stoat'; from Proto-Uralic *käďwä, 'female (of a furred animal)'.[25]\n",
            "\n",
            "\n",
            "\n",
            "The English puss, extended as pussy and pussycat, is attested from the 16th century and may have been introduced from Dutch poes or from Low German puuskatte, related to Swedish kattepus, or Norwegian pus, pusekatt. Similar forms exist in Lithuanian puižė and Irish puisín or puiscín. The etymology of this word is unknown, but it may have arisen from a sound used to attract a cat.[26][27]\n",
            "\n",
            "\n",
            "\n",
            "A male cat is called a tom or tomcat[28] (or a gib,[29] if neutered). A female is called a queen[30] (or a molly,[31][user-generated source?] if spayed), especially in a cat-breeding context. A juvenile cat is referred to as a kitten. In Early Modern English, the word kitten was interchangeable with the now-obsolete word catling.[32] A group of cats can be referred to as a clowder or a glaring.[33]\n",
            "\n",
            "\n",
            "\n",
            "Taxonomy\n",
            "\n",
            "The scientific name Felis catus was proposed by Carl Linnaeus in 1758 for a domestic cat.[1][2] Felis catus domesticus was proposed by Johann Christian Polycarp Erxleben in 1777.[3] Felis daemon proposed by Konstantin Satunin in 1904 was a black cat from the Transcaucasus, later identified as a domestic cat.[34][35]\n",
            "\n",
            "\n",
            "\n",
            "In 2003, the International Commission on Zoological Nomenclature ruled that the domestic cat is a distinct species, namely Felis catus.[36][37] In 2007, it was considered a subspecies, F. silvestris catus, of the European wildcat (F. silvestris) following results of phylogenetic research.[38][39] In 2017, the IUCN Cat Classification Taskforce followed the recommendation of the ICZN in regarding the domestic cat as a distinct species, Felis catus.[40]\n",
            "\n",
            "\n",
            "\n",
            "Evolution\n",
            "\n",
            "Main article: Cat evolution\n",
            "\n",
            "\n",
            "\n",
            "Skulls of a wildcat (top left), a housecat (top right), and a hybrid between the two. (bottom center)\n",
            "\n",
            "The domestic cat is a member of the Felidae, a family that had a common ancestor about 10–15 million years ago.[41] The genus Felis diverged from other Felidae around 6–7 million years ago.[42] Results of phylogenetic research confirm that the wild Felis species evolved through sympatric or parapatric speciation, whereas the domestic cat evolved through artificial selection.[43] The domesticated cat and its closest wild ancestor are diploid and both possess 38 chromosomes[44] and roughly 20,000 genes.[45] The leopard cat (Prionailurus bengalensis) was tamed independently in China around 5500 BC. This line of partially domesticated cats leaves no trace in the domestic cat populations of today.[46]\n",
            "\n",
            "\n",
            "\n",
            "Domestication\n",
            "\n",
            "See also: Domestication of the cat\n",
            "\n",
            "\n",
            "\n",
            "A cat eating a fish under a chair, a mural in an Egyptian tomb dating to the 15th century BC\n",
            "\n",
            "The earliest known indication for the taming of an African wildcat (F. lybica) was excavated close by a human Neolithic grave in Shillourokambos, southern Cyprus, dating to about 7500–7200 BC. Since there is no evidence of native mammalian fauna on Cyprus, the inhabitants of this Neolithic village most likely brought the cat and other wild mammals to the island from the Middle Eastern mainland.[47] Scientists therefore assume that African wildcats were attracted to early human settlements in the Fertile Crescent by rodents, in particular the house mouse (Mus musculus), and were tamed by Neolithic farmers. This mutual relationship between early farmers and tamed cats lasted thousands of years. As agricultural practices spread, so did tame and domesticated cats.[14][6] Wildcats of Egypt contributed to the maternal gene pool of the domestic cat at a later time.[48]\n",
            "\n",
            "\n",
            "\n",
            "The earliest known evidence for the occurrence of the domestic cat in Greece dates to around 1200 BC. Greek, Phoenician, Carthaginian and Etruscan traders introduced domestic cats to southern Europe.[49] During the Roman Empire they were introduced to Corsica and Sardinia before the beginning of the 1st millennium.[50] By the 5th century BC, they were familiar animals around settlements in Magna Graecia and Etruria.[51] By the end of the Western Roman Empire in the 5th century, the Egyptian domestic cat lineage had arrived in a Baltic Sea port in northern Germany.[48]\n",
            "\n",
            "\n",
            "\n",
            "During domestication, cats have undergone only minor changes in anatomy and behavior, and they are still capable of surviving in the wild. Several natural behaviors and characteristics of wildcats may have pre-adapted them for domestication as pets. These traits include their small size, social nature, obvious body language, love of play, and high intelligence. Captive Leopardus cats may also display affectionate behavior toward humans but were not domesticated.[52] House cats often mate with feral cats.[53] Hybridisation between domestic and other Felinae species is also possible, producing hybrids such as the Kellas cat in Scotland.[54][55]\n",
            "\n",
            "\n",
            "\n",
            "Development of cat breeds started in the mid 19th century.[56] An analysis of the domestic cat genome revealed that the ancestral wildcat genome was significantly altered in the process of domestication, as specific mutations were selected to develop cat breeds.[57] Most breeds are founded on random-bred domestic cats. Genetic diversity of these breeds varies between regions, and is lowest in purebred populations, which show more than 20 deleterious genetic disorders.[58]\n",
            "\n",
            "\n",
            "\n",
            "Characteristics\n",
            "\n",
            "Main article: Cat anatomy\n",
            "\n",
            "Size\n",
            "\n",
            "\n",
            "\n",
            "Diagram of the general anatomy of a male domestic cat\n",
            "\n",
            "The domestic cat has a smaller skull and shorter bones than the European wildcat.[59] It averages about 46 cm (18 in) in head-to-body length and 23–25 cm (9–10 in) in height, with about 30 cm (12 in) long tails. Males are larger than females.[60] Adult domestic cats typically weigh between 4 and 5 kg (9 and 11 lb).[43]\n",
            "\n",
            "\n",
            "\n",
            "Skeleton\n",
            "\n",
            "Cats have seven cervical vertebrae (as do most mammals); 13 thoracic vertebrae (humans have 12); seven lumbar vertebrae (humans have five); three sacral vertebrae (as do most mammals, but humans have five); and a variable number of caudal vertebrae in the tail (humans have only three to five vestigial caudal vertebrae, fused into an internal coccyx).[61]: 11  The extra lumbar and thoracic vertebrae account for the cat's spinal mobility and flexibility. Attached to the spine are 13 ribs, the shoulder, and the pelvis.[61]: 16  Unlike human arms, cat forelimbs are attached to the shoulder by free-floating clavicle bones which allow them to pass their body through any space into which they can fit their head.[62]\n",
            "\n",
            "\n",
            "\n",
            "Skull\n",
            "\n",
            "\n",
            "\n",
            "Cat skull\n",
            "\n",
            "\n",
            "\n",
            "A cat with exposed teeth and claws\n",
            "\n",
            "The cat skull is unusual among mammals in having very large eye sockets and a powerful specialized jaw.[63]: 35  Within the jaw, cats have teeth adapted for killing prey and tearing meat. When it overpowers its prey, a cat delivers a lethal neck bite with its two long canine teeth, inserting them between two of the prey's vertebrae and severing its spinal cord, causing irreversible paralysis and death.[64] Compared to other felines, domestic cats have narrowly spaced canine teeth relative to the size of their jaw, which is an adaptation to their preferred prey of small rodents, which have small vertebrae.[64]\n",
            "\n",
            "\n",
            "\n",
            "The premolar and first molar together compose the carnassial pair on each side of the mouth, which efficiently shears meat into small pieces, like a pair of scissors. These are vital in feeding, since cats' small molars cannot chew food effectively, and cats are largely incapable of mastication.[63]: 37  Cats tend to have better teeth than most humans, with decay generally less likely because of a thicker protective layer of enamel, a less damaging saliva, less retention of food particles between teeth, and a diet mostly devoid of sugar. Nonetheless they are subject to occasional tooth loss and infection.[65]\n",
            "\n",
            "\n",
            "\n",
            "Claws\n",
            "\n",
            "\n",
            "\n",
            "Shed claw sheaths\n",
            "\n",
            "Cats have protractible and retractable claws.[66] In their normal, relaxed position, the claws are sheathed with the skin and fur around the paw's toe pads. This keeps the claws sharp by preventing wear from contact with the ground and allows for the silent stalking of prey. The claws on the forefeet are typically sharper than those on the hindfeet.[67] Cats can voluntarily extend their claws on one or more paws. They may extend their claws in hunting or self-defense, climbing, kneading, or for extra traction on soft surfaces. Cats shed the outside layer of their claw sheaths when scratching rough surfaces.[68]\n",
            "\n",
            "\n",
            "\n",
            "Most cats have five claws on their front paws and four on their rear paws. The dewclaw is proximal to the other claws. More proximally is a protrusion which appears to be a sixth \"finger\". This special feature of the front paws on the inside of the wrists has no function in normal walking but is thought to be an antiskidding device used while jumping. Some cat breeds are prone to having extra digits (\"polydactyly\").[69] Polydactylous cats occur along North America's northeast coast and in Great Britain.[70]\n",
            "\n",
            "\n",
            "\n",
            "Ambulation\n",
            "\n",
            "The cat is digitigrade. It walks on the toes, with the bones of the feet making up the lower part of the visible leg.[71] Unlike most mammals, it uses a \"pacing\" gait and moves both legs on one side of the body before the legs on the other side. It registers directly by placing each hind paw close to the track of the corresponding fore paw, minimizing noise and visible tracks. This also provides sure footing for hind paws when navigating rough terrain. As it speeds up from walking to trotting, its gait changes to a \"diagonal\" gait: The diagonally opposite hind and fore legs move simultaneously.[72]\n",
            "\n",
            "\n",
            "\n",
            "Balance\n",
            "\n",
            "Comparison of cat righting reflexes in gravity and zero gravity\n",
            "\n",
            "Most breeds of cat are notably fond of sitting in high places, or perching. A higher place may serve as a concealed site from which to hunt; domestic cats strike prey by pouncing from a perch such as a tree branch. Another possible explanation is that height gives the cat a better observation point, allowing it to survey its territory. A cat falling from heights of up to 3 meters (9.8 ft) can right itself and land on its paws.[73]\n",
            "\n",
            "\n",
            "\n",
            "During a fall from a high place, a cat reflexively twists its body and rights itself to land on its feet using its acute sense of balance and flexibility. This reflex is known as the cat righting reflex.[74] A cat always rights itself in the same way during a fall, if it has enough time to do so, which is the case in falls of 90 cm (2 ft 11 in) or more.[75] How cats are able to right themselves when falling has been investigated as the \"falling cat problem\".[76]\n",
            "\n",
            "\n",
            "\n",
            "Coats\n",
            "\n",
            "Main article: Cat coat genetics\n",
            "\n",
            "The cat family (Felidae) can pass down many colors and patterns to their offsprings. The domestic cat genes MC1R and ASIP allow for the variety of color in coats. The feline ASIP gene consists of three coding exons.[77] Three novel microsatellite markers linked to ASIP were isolated from a domestic cat BAC clone containing this gene and were used to perform linkage analysis in a pedigree of 89 domestic cats that segregated for melanism.[78]\n",
            "\n",
            "\n",
            "\n",
            "Senses\n",
            "\n",
            "Main article: Cat senses\n",
            "\n",
            "Vision\n",
            "\n",
            "\n",
            "\n",
            "Reflection of camera flash from the tapetum lucidum\n",
            "\n",
            "A tabby cat with a third, translucent eyelid covering part of either eye\n",
            "\n",
            "A cat's nictitating membrane shown as it blinks\n",
            "\n",
            "Cats have excellent night vision and can see at only one-sixth the light level required for human vision.[63]: 43  This is partly the result of cat eyes having a tapetum lucidum, which reflects any light that passes through the retina back into the eye, thereby increasing the eye's sensitivity to dim light.[79] Large pupils are an adaptation to dim light. The domestic cat has slit pupils, which allow it to focus bright light without chromatic aberration.[80] At low light, a cat's pupils expand to cover most of the exposed surface of its eyes.[81] The domestic cat has rather poor color vision and only two types of cone cells, optimized for sensitivity to blue and yellowish green; its ability to distinguish between red and green is limited.[82] A response to middle wavelengths from a system other than the rod cells might be due to a third type of cone. This appears to be an adaptation to low light levels rather than representing true trichromatic vision.[83] Cats also have a nictitating membrane, allowing them to blink without hindering their vision.\n",
            "\n",
            "\n",
            "\n",
            "Hearing\n",
            "\n",
            "The domestic cat's hearing is most acute in the range of 500 Hz to 32 kHz.[84] It can detect an extremely broad range of frequencies ranging from 55 Hz to 79 kHz, whereas humans can only detect frequencies between 20 Hz and 20 kHz. It can hear a range of 10.5 octaves, while humans and dogs can hear ranges of about 9 octaves.[85][86] Its hearing sensitivity is enhanced by its large movable outer ears, the pinnae, which amplify sounds and help detect the location of a noise. It can detect ultrasound, which enables it to detect ultrasonic calls made by rodent prey.[87][88] Recent research has shown that cats have socio-spatial cognitive abilities to create mental maps of owners' locations based on hearing owners' voices.[89]\n",
            "\n",
            "\n",
            "\n",
            "Smell\n",
            "\n",
            "Cats have an acute sense of smell, due in part to their well-developed olfactory bulb and a large surface of olfactory mucosa, about 5.8 square centimetres (29⁄32 square inch) in area, which is about twice that of humans.[90] Cats and many other animals have a Jacobson's organ in their mouths that is used in the behavioral process of flehmening. It allows them to sense certain aromas in a way that humans cannot. Cats are sensitive to pheromones such as 3-mercapto-3-methylbutan-1-ol,[91] which they use to communicate through urine spraying and marking with scent glands.[92] Many cats also respond strongly to plants that contain nepetalactone, especially catnip, as they can detect that substance at less than one part per billion.[93] About 70–80% of cats are affected by nepetalactone.[94] This response is also produced by other plants, such as silver vine (Actinidia polygama) and the herb valerian; it may be caused by the smell of these plants mimicking a pheromone and stimulating cats' social or sexual behaviors.[95]\n",
            "\n",
            "\n",
            "\n",
            "Taste\n",
            "\n",
            "Cats have relatively few taste buds compared to humans (470 or so versus more than 9,000 on the human tongue).[96] Domestic and wild cats share a taste receptor gene mutation that keeps their sweet taste buds from binding to sugary molecules, leaving them with no ability to taste sweetness.[97] They, however, possess taste bud receptors specialized for acids, amino acids like protein, and bitter tastes.[98] Their taste buds possess the receptors needed to detect umami. However, these receptors contain molecular changes that make the cat taste of umami different from that of humans. In humans, they detect the amino acids of glutamic acid and aspartic acid, but in cats they instead detect nucleotides, in this case inosine monophosphate and l-Histidine.[99] These nucleotides are particularly enriched in tuna.[99] This has been argued is why cats find tuna so palatable: as put by researchers into cat taste, \"the specific combination of the high IMP and free l-Histidine contents of tuna\" .. \"produces a strong umami taste synergy that is highly preferred by cats\".[99] One of the researchers involved in this research has further claimed, \"I think umami is as important for cats as sweet is for humans\".[100]\n",
            "\n",
            "\n",
            "\n",
            "Cats also have a distinct temperature preference for their food, preferring food with a temperature around 38 °C (100 °F) which is similar to that of a fresh kill and routinely rejecting food presented cold or refrigerated (which would signal to the cat that the \"prey\" item is long dead and therefore possibly toxic or decomposing).[96]\n",
            "\n",
            "\n",
            "\n",
            "Whiskers\n",
            "\n",
            "\n",
            "\n",
            "The whiskers of a cat are highly sensitive to touch.\n",
            "\n",
            "To aid with navigation and sensation, cats have dozens of movable whiskers (vibrissae) over their body, especially their faces. These provide information on the width of gaps and on the location of objects in the dark, both by touching objects directly and by sensing air currents; they also trigger protective blink reflexes to protect the eyes from damage.[63]: 47 \n",
            "\n",
            "\n",
            "\n",
            "Behavior\n",
            "\n",
            "See also: Cat behavior\n",
            "\n",
            "Outdoor cats are active both day and night, although they tend to be slightly more active at night.[101] Domestic cats spend the majority of their time in the vicinity of their homes but can range many hundreds of meters from this central point. They establish territories that vary considerably in size, in one study ranging from 7 to 28 hectares (17–69 acres).[102] The timing of cats' activity is quite flexible and varied but being low-light predators, they are generally crepuscular, which means they tend to be more active in the morning and evening. However, house cats' behaviour is also influenced by human activity and they may adapt to their owners' sleeping patterns to some extent.[103][104]\n",
            "\n",
            "\n",
            "\n",
            "Cats conserve energy by sleeping more than most animals, especially as they grow older. The daily duration of sleep varies, usually between 12 and 16 hours, with 13 and 14 being the average. Some cats can sleep as much as 20 hours. The term \"cat nap\" for a short rest refers to the cat's tendency to fall asleep (lightly) for a brief period. While asleep, cats experience short periods of rapid eye movement sleep often accompanied by muscle twitches, which suggests they are dreaming.[105]\n"
          ]
        }
      ]
    },
    {
      "cell_type": "code",
      "source": [],
      "metadata": {
        "id": "x9Iw42xs4vEi"
      },
      "execution_count": null,
      "outputs": []
    }
  ]
}